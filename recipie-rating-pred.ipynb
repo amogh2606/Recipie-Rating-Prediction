{
 "cells": [
  {
   "cell_type": "code",
   "outputs": [],
   "source": [],
   "metadata": {
    "collapsed": false
   },
   "id": "1dd6ffdf54befc97"
  },
  {
   "cell_type": "code",
   "execution_count": 2,
   "id": "initial_id",
   "metadata": {
    "collapsed": true,
    "ExecuteTime": {
     "end_time": "2024-02-18T15:17:24.954948Z",
     "start_time": "2024-02-18T15:17:23.709670Z"
    }
   },
   "outputs": [],
   "source": [
    "import pandas as pd\n",
    "import numpy as np"
   ]
  },
  {
   "cell_type": "code",
   "outputs": [],
   "source": [
    "data = pd.read_csv('train.csv')\n",
    "test = pd.read_csv('test.csv')"
   ],
   "metadata": {
    "collapsed": false,
    "ExecuteTime": {
     "end_time": "2024-02-18T15:17:25.774900Z",
     "start_time": "2024-02-18T15:17:25.700939Z"
    }
   },
   "id": "4dd89c10dc471ffa",
   "execution_count": 3
  },
  {
   "cell_type": "code",
   "outputs": [
    {
     "name": "stdout",
     "output_type": "stream",
     "text": [
      "<class 'pandas.core.frame.DataFrame'>\n",
      "RangeIndex: 13636 entries, 0 to 13635\n",
      "Data columns (total 15 columns):\n",
      " #   Column             Non-Null Count  Dtype \n",
      "---  ------             --------------  ----- \n",
      " 0   ID                 13636 non-null  int64 \n",
      " 1   RecipeNumber       13636 non-null  int64 \n",
      " 2   RecipeCode         13636 non-null  int64 \n",
      " 3   RecipeName         13636 non-null  object\n",
      " 4   CommentID          13636 non-null  object\n",
      " 5   UserID             13636 non-null  object\n",
      " 6   UserName           13636 non-null  object\n",
      " 7   UserReputation     13636 non-null  int64 \n",
      " 8   CreationTimestamp  13636 non-null  int64 \n",
      " 9   ReplyCount         13636 non-null  int64 \n",
      " 10  ThumbsUpCount      13636 non-null  int64 \n",
      " 11  ThumbsDownCount    13636 non-null  int64 \n",
      " 12  Rating             13636 non-null  int64 \n",
      " 13  BestScore          13636 non-null  int64 \n",
      " 14  Recipe_Review      13634 non-null  object\n",
      "dtypes: int64(10), object(5)\n",
      "memory usage: 1.6+ MB\n"
     ]
    }
   ],
   "source": [
    "data.info()"
   ],
   "metadata": {
    "collapsed": false,
    "ExecuteTime": {
     "end_time": "2024-02-18T15:17:26.421783Z",
     "start_time": "2024-02-18T15:17:26.413225Z"
    }
   },
   "id": "1ffe9f2f4c4d86b",
   "execution_count": 4
  },
  {
   "cell_type": "code",
   "outputs": [
    {
     "data": {
      "text/plain": "ID                   0\nRecipeNumber         0\nRecipeCode           0\nRecipeName           0\nCommentID            0\nUserID               0\nUserName             0\nUserReputation       0\nCreationTimestamp    0\nReplyCount           0\nThumbsUpCount        0\nThumbsDownCount      0\nRating               0\nBestScore            0\nRecipe_Review        2\ndtype: int64"
     },
     "execution_count": 5,
     "metadata": {},
     "output_type": "execute_result"
    }
   ],
   "source": [
    "data.isnull().sum()"
   ],
   "metadata": {
    "collapsed": false,
    "ExecuteTime": {
     "end_time": "2024-02-18T15:17:28.105608Z",
     "start_time": "2024-02-18T15:17:28.098337Z"
    }
   },
   "id": "a3fbba55357bce9e",
   "execution_count": 5
  },
  {
   "cell_type": "code",
   "outputs": [
    {
     "data": {
      "text/plain": "    ID  RecipeNumber  RecipeCode                              RecipeName  \\\n0   70            71       12259  Banana Bars with Cream Cheese Frosting   \n1   72            88        8202                        Simple Taco Soup   \n2  458             3        2832                       Cheeseburger Soup   \n3    7            50      100276               Grilled Huli Huli Chicken   \n4   60            12       19731                        Cauliflower Soup   \n\n                     CommentID                         UserID        UserName  \\\n0   sp_aUSaElGf_12259_c_149978  u_1oKVaBmiEKwAFyiHrDLoWpbel0J   misscoffeepot   \n1    sp_aUSaElGf_8202_c_310332  u_1oKZeRIXYzGNhGW8OMR3O4lX1ih  MichelleMalone   \n2    sp_aUSaElGf_2832_c_206522  u_1oKYHUtdaD48KJCDYq5wfpAUxWz       jeannem32   \n3  sp_aUSaElGf_100276_c_434088  u_1oKZCQcKQZdQhDVBS7oISc216VA           ds422   \n4   sp_aUSaElGf_19731_c_387011  u_1oKd4sudZQPgu6YALiC7bW7mKMs     SusanHoward   \n\n   UserReputation  CreationTimestamp  ReplyCount  ThumbsUpCount  \\\n0              20         1622717078           0              0   \n1               1         1622717852           0              0   \n2               1         1622717357           0              0   \n3               1         1622648899           0              0   \n4               1         1622718260           0              0   \n\n   ThumbsDownCount  Rating  BestScore  \\\n0                0       5        100   \n1                1       5        100   \n2                0       3        100   \n3                0       5        100   \n4                0       4        100   \n\n                                       Recipe_Review  \n0  great recipe! I have made them just as written...  \n1  This is an easy and quick recipe that is great...  \n2  I think I was looking for something extra spec...  \n3  This is our favorite grilled chicken recipe.  ...  \n4  Great basic recipe. I added 2 teaspoons Tuscan...  ",
      "text/html": "<div>\n<style scoped>\n    .dataframe tbody tr th:only-of-type {\n        vertical-align: middle;\n    }\n\n    .dataframe tbody tr th {\n        vertical-align: top;\n    }\n\n    .dataframe thead th {\n        text-align: right;\n    }\n</style>\n<table border=\"1\" class=\"dataframe\">\n  <thead>\n    <tr style=\"text-align: right;\">\n      <th></th>\n      <th>ID</th>\n      <th>RecipeNumber</th>\n      <th>RecipeCode</th>\n      <th>RecipeName</th>\n      <th>CommentID</th>\n      <th>UserID</th>\n      <th>UserName</th>\n      <th>UserReputation</th>\n      <th>CreationTimestamp</th>\n      <th>ReplyCount</th>\n      <th>ThumbsUpCount</th>\n      <th>ThumbsDownCount</th>\n      <th>Rating</th>\n      <th>BestScore</th>\n      <th>Recipe_Review</th>\n    </tr>\n  </thead>\n  <tbody>\n    <tr>\n      <th>0</th>\n      <td>70</td>\n      <td>71</td>\n      <td>12259</td>\n      <td>Banana Bars with Cream Cheese Frosting</td>\n      <td>sp_aUSaElGf_12259_c_149978</td>\n      <td>u_1oKVaBmiEKwAFyiHrDLoWpbel0J</td>\n      <td>misscoffeepot</td>\n      <td>20</td>\n      <td>1622717078</td>\n      <td>0</td>\n      <td>0</td>\n      <td>0</td>\n      <td>5</td>\n      <td>100</td>\n      <td>great recipe! I have made them just as written...</td>\n    </tr>\n    <tr>\n      <th>1</th>\n      <td>72</td>\n      <td>88</td>\n      <td>8202</td>\n      <td>Simple Taco Soup</td>\n      <td>sp_aUSaElGf_8202_c_310332</td>\n      <td>u_1oKZeRIXYzGNhGW8OMR3O4lX1ih</td>\n      <td>MichelleMalone</td>\n      <td>1</td>\n      <td>1622717852</td>\n      <td>0</td>\n      <td>0</td>\n      <td>1</td>\n      <td>5</td>\n      <td>100</td>\n      <td>This is an easy and quick recipe that is great...</td>\n    </tr>\n    <tr>\n      <th>2</th>\n      <td>458</td>\n      <td>3</td>\n      <td>2832</td>\n      <td>Cheeseburger Soup</td>\n      <td>sp_aUSaElGf_2832_c_206522</td>\n      <td>u_1oKYHUtdaD48KJCDYq5wfpAUxWz</td>\n      <td>jeannem32</td>\n      <td>1</td>\n      <td>1622717357</td>\n      <td>0</td>\n      <td>0</td>\n      <td>0</td>\n      <td>3</td>\n      <td>100</td>\n      <td>I think I was looking for something extra spec...</td>\n    </tr>\n    <tr>\n      <th>3</th>\n      <td>7</td>\n      <td>50</td>\n      <td>100276</td>\n      <td>Grilled Huli Huli Chicken</td>\n      <td>sp_aUSaElGf_100276_c_434088</td>\n      <td>u_1oKZCQcKQZdQhDVBS7oISc216VA</td>\n      <td>ds422</td>\n      <td>1</td>\n      <td>1622648899</td>\n      <td>0</td>\n      <td>0</td>\n      <td>0</td>\n      <td>5</td>\n      <td>100</td>\n      <td>This is our favorite grilled chicken recipe.  ...</td>\n    </tr>\n    <tr>\n      <th>4</th>\n      <td>60</td>\n      <td>12</td>\n      <td>19731</td>\n      <td>Cauliflower Soup</td>\n      <td>sp_aUSaElGf_19731_c_387011</td>\n      <td>u_1oKd4sudZQPgu6YALiC7bW7mKMs</td>\n      <td>SusanHoward</td>\n      <td>1</td>\n      <td>1622718260</td>\n      <td>0</td>\n      <td>0</td>\n      <td>0</td>\n      <td>4</td>\n      <td>100</td>\n      <td>Great basic recipe. I added 2 teaspoons Tuscan...</td>\n    </tr>\n  </tbody>\n</table>\n</div>"
     },
     "execution_count": 6,
     "metadata": {},
     "output_type": "execute_result"
    }
   ],
   "source": [
    "data.head()"
   ],
   "metadata": {
    "collapsed": false,
    "ExecuteTime": {
     "end_time": "2024-02-18T15:17:29.007620Z",
     "start_time": "2024-02-18T15:17:29.001406Z"
    }
   },
   "id": "15cf225a530adb3d",
   "execution_count": 6
  },
  {
   "cell_type": "code",
   "outputs": [
    {
     "data": {
      "text/plain": "UserName\nmjlouk               21\n2124arizona          20\nNo_Time_To_Cook      20\ngrandmascooking22    19\njustmbeth            18\n                     ..\nMelinda174            1\nmanncw408             1\ngrandmaomaha          1\ngeojac                1\nmorgantowndan         1\nName: count, Length: 10620, dtype: int64"
     },
     "execution_count": 7,
     "metadata": {},
     "output_type": "execute_result"
    }
   ],
   "source": [
    "data['UserName'].value_counts()"
   ],
   "metadata": {
    "collapsed": false,
    "ExecuteTime": {
     "end_time": "2024-02-18T15:17:30.676705Z",
     "start_time": "2024-02-18T15:17:30.669759Z"
    }
   },
   "id": "d82e69c99d3dd60",
   "execution_count": 7
  },
  {
   "cell_type": "code",
   "outputs": [
    {
     "data": {
      "text/plain": "10620"
     },
     "execution_count": 8,
     "metadata": {},
     "output_type": "execute_result"
    }
   ],
   "source": [
    "len(data['UserName'].unique())"
   ],
   "metadata": {
    "collapsed": false,
    "ExecuteTime": {
     "end_time": "2024-02-18T15:17:34.188201Z",
     "start_time": "2024-02-18T15:17:34.184543Z"
    }
   },
   "id": "b83a1c2a32e8687f",
   "execution_count": 8
  },
  {
   "cell_type": "code",
   "outputs": [],
   "source": [
    "from sklearn.preprocessing import LabelEncoder\n",
    "le = LabelEncoder()\n",
    "data['UserID'] = le.fit_transform(data['UserName'])"
   ],
   "metadata": {
    "collapsed": false,
    "ExecuteTime": {
     "end_time": "2024-02-18T15:17:34.758454Z",
     "start_time": "2024-02-18T15:17:34.740658Z"
    }
   },
   "id": "297f055ac4b02ca2",
   "execution_count": 9
  },
  {
   "cell_type": "code",
   "outputs": [],
   "source": [
    "data.drop(['UserName','CommentID'],axis=1,inplace=True)"
   ],
   "metadata": {
    "collapsed": false,
    "ExecuteTime": {
     "end_time": "2024-02-18T15:17:35.678665Z",
     "start_time": "2024-02-18T15:17:35.675084Z"
    }
   },
   "id": "994a976a7443991c",
   "execution_count": 10
  },
  {
   "cell_type": "code",
   "outputs": [],
   "source": [
    "import textblob\n",
    "from textblob import TextBlob"
   ],
   "metadata": {
    "collapsed": false,
    "ExecuteTime": {
     "end_time": "2024-02-18T15:17:36.905357Z",
     "start_time": "2024-02-18T15:17:36.182601Z"
    }
   },
   "id": "b3c607d07effd565",
   "execution_count": 11
  },
  {
   "cell_type": "code",
   "outputs": [
    {
     "data": {
      "text/plain": "0.8"
     },
     "execution_count": 12,
     "metadata": {},
     "output_type": "execute_result"
    }
   ],
   "source": [
    "TextBlob('I am happy').sentiment.polarity"
   ],
   "metadata": {
    "collapsed": false,
    "ExecuteTime": {
     "end_time": "2024-02-18T15:17:37.552144Z",
     "start_time": "2024-02-18T15:17:37.528885Z"
    }
   },
   "id": "91b27ca7b0af75f7",
   "execution_count": 12
  },
  {
   "cell_type": "code",
   "outputs": [
    {
     "ename": "TypeError",
     "evalue": "The `text` argument passed to `__init__(text)` must be a string, not <class 'float'>",
     "output_type": "error",
     "traceback": [
      "\u001B[0;31m---------------------------------------------------------------------------\u001B[0m",
      "\u001B[0;31mTypeError\u001B[0m                                 Traceback (most recent call last)",
      "Cell \u001B[0;32mIn[13], line 1\u001B[0m\n\u001B[0;32m----> 1\u001B[0m data[\u001B[38;5;124m'\u001B[39m\u001B[38;5;124mpolarity\u001B[39m\u001B[38;5;124m'\u001B[39m] \u001B[38;5;241m=\u001B[39m \u001B[43mdata\u001B[49m\u001B[43m[\u001B[49m\u001B[38;5;124;43m'\u001B[39;49m\u001B[38;5;124;43mRecipe_Review\u001B[39;49m\u001B[38;5;124;43m'\u001B[39;49m\u001B[43m]\u001B[49m\u001B[38;5;241;43m.\u001B[39;49m\u001B[43mapply\u001B[49m\u001B[43m(\u001B[49m\u001B[38;5;28;43;01mlambda\u001B[39;49;00m\u001B[43m \u001B[49m\u001B[43mx\u001B[49m\u001B[43m:\u001B[49m\u001B[43m \u001B[49m\u001B[43mTextBlob\u001B[49m\u001B[43m(\u001B[49m\u001B[43mx\u001B[49m\u001B[43m)\u001B[49m\u001B[38;5;241;43m.\u001B[39;49m\u001B[43msentiment\u001B[49m\u001B[38;5;241;43m.\u001B[39;49m\u001B[43mpolarity\u001B[49m\u001B[43m)\u001B[49m\n",
      "File \u001B[0;32m~/DataspellProjects/rating/venv/lib/python3.9/site-packages/pandas/core/series.py:4892\u001B[0m, in \u001B[0;36mSeries.apply\u001B[0;34m(self, func, convert_dtype, args, by_row, **kwargs)\u001B[0m\n\u001B[1;32m   4764\u001B[0m \u001B[38;5;28;01mdef\u001B[39;00m \u001B[38;5;21mapply\u001B[39m(\n\u001B[1;32m   4765\u001B[0m     \u001B[38;5;28mself\u001B[39m,\n\u001B[1;32m   4766\u001B[0m     func: AggFuncType,\n\u001B[0;32m   (...)\u001B[0m\n\u001B[1;32m   4771\u001B[0m     \u001B[38;5;241m*\u001B[39m\u001B[38;5;241m*\u001B[39mkwargs,\n\u001B[1;32m   4772\u001B[0m ) \u001B[38;5;241m-\u001B[39m\u001B[38;5;241m>\u001B[39m DataFrame \u001B[38;5;241m|\u001B[39m Series:\n\u001B[1;32m   4773\u001B[0m \u001B[38;5;250m    \u001B[39m\u001B[38;5;124;03m\"\"\"\u001B[39;00m\n\u001B[1;32m   4774\u001B[0m \u001B[38;5;124;03m    Invoke function on values of Series.\u001B[39;00m\n\u001B[1;32m   4775\u001B[0m \n\u001B[0;32m   (...)\u001B[0m\n\u001B[1;32m   4890\u001B[0m \u001B[38;5;124;03m    dtype: float64\u001B[39;00m\n\u001B[1;32m   4891\u001B[0m \u001B[38;5;124;03m    \"\"\"\u001B[39;00m\n\u001B[0;32m-> 4892\u001B[0m     \u001B[38;5;28;01mreturn\u001B[39;00m \u001B[43mSeriesApply\u001B[49m\u001B[43m(\u001B[49m\n\u001B[1;32m   4893\u001B[0m \u001B[43m        \u001B[49m\u001B[38;5;28;43mself\u001B[39;49m\u001B[43m,\u001B[49m\n\u001B[1;32m   4894\u001B[0m \u001B[43m        \u001B[49m\u001B[43mfunc\u001B[49m\u001B[43m,\u001B[49m\n\u001B[1;32m   4895\u001B[0m \u001B[43m        \u001B[49m\u001B[43mconvert_dtype\u001B[49m\u001B[38;5;241;43m=\u001B[39;49m\u001B[43mconvert_dtype\u001B[49m\u001B[43m,\u001B[49m\n\u001B[1;32m   4896\u001B[0m \u001B[43m        \u001B[49m\u001B[43mby_row\u001B[49m\u001B[38;5;241;43m=\u001B[39;49m\u001B[43mby_row\u001B[49m\u001B[43m,\u001B[49m\n\u001B[1;32m   4897\u001B[0m \u001B[43m        \u001B[49m\u001B[43margs\u001B[49m\u001B[38;5;241;43m=\u001B[39;49m\u001B[43margs\u001B[49m\u001B[43m,\u001B[49m\n\u001B[1;32m   4898\u001B[0m \u001B[43m        \u001B[49m\u001B[43mkwargs\u001B[49m\u001B[38;5;241;43m=\u001B[39;49m\u001B[43mkwargs\u001B[49m\u001B[43m,\u001B[49m\n\u001B[1;32m   4899\u001B[0m \u001B[43m    \u001B[49m\u001B[43m)\u001B[49m\u001B[38;5;241;43m.\u001B[39;49m\u001B[43mapply\u001B[49m\u001B[43m(\u001B[49m\u001B[43m)\u001B[49m\n",
      "File \u001B[0;32m~/DataspellProjects/rating/venv/lib/python3.9/site-packages/pandas/core/apply.py:1427\u001B[0m, in \u001B[0;36mSeriesApply.apply\u001B[0;34m(self)\u001B[0m\n\u001B[1;32m   1424\u001B[0m     \u001B[38;5;28;01mreturn\u001B[39;00m \u001B[38;5;28mself\u001B[39m\u001B[38;5;241m.\u001B[39mapply_compat()\n\u001B[1;32m   1426\u001B[0m \u001B[38;5;66;03m# self.func is Callable\u001B[39;00m\n\u001B[0;32m-> 1427\u001B[0m \u001B[38;5;28;01mreturn\u001B[39;00m \u001B[38;5;28;43mself\u001B[39;49m\u001B[38;5;241;43m.\u001B[39;49m\u001B[43mapply_standard\u001B[49m\u001B[43m(\u001B[49m\u001B[43m)\u001B[49m\n",
      "File \u001B[0;32m~/DataspellProjects/rating/venv/lib/python3.9/site-packages/pandas/core/apply.py:1507\u001B[0m, in \u001B[0;36mSeriesApply.apply_standard\u001B[0;34m(self)\u001B[0m\n\u001B[1;32m   1501\u001B[0m \u001B[38;5;66;03m# row-wise access\u001B[39;00m\n\u001B[1;32m   1502\u001B[0m \u001B[38;5;66;03m# apply doesn't have a `na_action` keyword and for backward compat reasons\u001B[39;00m\n\u001B[1;32m   1503\u001B[0m \u001B[38;5;66;03m# we need to give `na_action=\"ignore\"` for categorical data.\u001B[39;00m\n\u001B[1;32m   1504\u001B[0m \u001B[38;5;66;03m# TODO: remove the `na_action=\"ignore\"` when that default has been changed in\u001B[39;00m\n\u001B[1;32m   1505\u001B[0m \u001B[38;5;66;03m#  Categorical (GH51645).\u001B[39;00m\n\u001B[1;32m   1506\u001B[0m action \u001B[38;5;241m=\u001B[39m \u001B[38;5;124m\"\u001B[39m\u001B[38;5;124mignore\u001B[39m\u001B[38;5;124m\"\u001B[39m \u001B[38;5;28;01mif\u001B[39;00m \u001B[38;5;28misinstance\u001B[39m(obj\u001B[38;5;241m.\u001B[39mdtype, CategoricalDtype) \u001B[38;5;28;01melse\u001B[39;00m \u001B[38;5;28;01mNone\u001B[39;00m\n\u001B[0;32m-> 1507\u001B[0m mapped \u001B[38;5;241m=\u001B[39m \u001B[43mobj\u001B[49m\u001B[38;5;241;43m.\u001B[39;49m\u001B[43m_map_values\u001B[49m\u001B[43m(\u001B[49m\n\u001B[1;32m   1508\u001B[0m \u001B[43m    \u001B[49m\u001B[43mmapper\u001B[49m\u001B[38;5;241;43m=\u001B[39;49m\u001B[43mcurried\u001B[49m\u001B[43m,\u001B[49m\u001B[43m \u001B[49m\u001B[43mna_action\u001B[49m\u001B[38;5;241;43m=\u001B[39;49m\u001B[43maction\u001B[49m\u001B[43m,\u001B[49m\u001B[43m \u001B[49m\u001B[43mconvert\u001B[49m\u001B[38;5;241;43m=\u001B[39;49m\u001B[38;5;28;43mself\u001B[39;49m\u001B[38;5;241;43m.\u001B[39;49m\u001B[43mconvert_dtype\u001B[49m\n\u001B[1;32m   1509\u001B[0m \u001B[43m\u001B[49m\u001B[43m)\u001B[49m\n\u001B[1;32m   1511\u001B[0m \u001B[38;5;28;01mif\u001B[39;00m \u001B[38;5;28mlen\u001B[39m(mapped) \u001B[38;5;129;01mand\u001B[39;00m \u001B[38;5;28misinstance\u001B[39m(mapped[\u001B[38;5;241m0\u001B[39m], ABCSeries):\n\u001B[1;32m   1512\u001B[0m     \u001B[38;5;66;03m# GH#43986 Need to do list(mapped) in order to get treated as nested\u001B[39;00m\n\u001B[1;32m   1513\u001B[0m     \u001B[38;5;66;03m#  See also GH#25959 regarding EA support\u001B[39;00m\n\u001B[1;32m   1514\u001B[0m     \u001B[38;5;28;01mreturn\u001B[39;00m obj\u001B[38;5;241m.\u001B[39m_constructor_expanddim(\u001B[38;5;28mlist\u001B[39m(mapped), index\u001B[38;5;241m=\u001B[39mobj\u001B[38;5;241m.\u001B[39mindex)\n",
      "File \u001B[0;32m~/DataspellProjects/rating/venv/lib/python3.9/site-packages/pandas/core/base.py:921\u001B[0m, in \u001B[0;36mIndexOpsMixin._map_values\u001B[0;34m(self, mapper, na_action, convert)\u001B[0m\n\u001B[1;32m    918\u001B[0m \u001B[38;5;28;01mif\u001B[39;00m \u001B[38;5;28misinstance\u001B[39m(arr, ExtensionArray):\n\u001B[1;32m    919\u001B[0m     \u001B[38;5;28;01mreturn\u001B[39;00m arr\u001B[38;5;241m.\u001B[39mmap(mapper, na_action\u001B[38;5;241m=\u001B[39mna_action)\n\u001B[0;32m--> 921\u001B[0m \u001B[38;5;28;01mreturn\u001B[39;00m \u001B[43malgorithms\u001B[49m\u001B[38;5;241;43m.\u001B[39;49m\u001B[43mmap_array\u001B[49m\u001B[43m(\u001B[49m\u001B[43marr\u001B[49m\u001B[43m,\u001B[49m\u001B[43m \u001B[49m\u001B[43mmapper\u001B[49m\u001B[43m,\u001B[49m\u001B[43m \u001B[49m\u001B[43mna_action\u001B[49m\u001B[38;5;241;43m=\u001B[39;49m\u001B[43mna_action\u001B[49m\u001B[43m,\u001B[49m\u001B[43m \u001B[49m\u001B[43mconvert\u001B[49m\u001B[38;5;241;43m=\u001B[39;49m\u001B[43mconvert\u001B[49m\u001B[43m)\u001B[49m\n",
      "File \u001B[0;32m~/DataspellProjects/rating/venv/lib/python3.9/site-packages/pandas/core/algorithms.py:1743\u001B[0m, in \u001B[0;36mmap_array\u001B[0;34m(arr, mapper, na_action, convert)\u001B[0m\n\u001B[1;32m   1741\u001B[0m values \u001B[38;5;241m=\u001B[39m arr\u001B[38;5;241m.\u001B[39mastype(\u001B[38;5;28mobject\u001B[39m, copy\u001B[38;5;241m=\u001B[39m\u001B[38;5;28;01mFalse\u001B[39;00m)\n\u001B[1;32m   1742\u001B[0m \u001B[38;5;28;01mif\u001B[39;00m na_action \u001B[38;5;129;01mis\u001B[39;00m \u001B[38;5;28;01mNone\u001B[39;00m:\n\u001B[0;32m-> 1743\u001B[0m     \u001B[38;5;28;01mreturn\u001B[39;00m \u001B[43mlib\u001B[49m\u001B[38;5;241;43m.\u001B[39;49m\u001B[43mmap_infer\u001B[49m\u001B[43m(\u001B[49m\u001B[43mvalues\u001B[49m\u001B[43m,\u001B[49m\u001B[43m \u001B[49m\u001B[43mmapper\u001B[49m\u001B[43m,\u001B[49m\u001B[43m \u001B[49m\u001B[43mconvert\u001B[49m\u001B[38;5;241;43m=\u001B[39;49m\u001B[43mconvert\u001B[49m\u001B[43m)\u001B[49m\n\u001B[1;32m   1744\u001B[0m \u001B[38;5;28;01melse\u001B[39;00m:\n\u001B[1;32m   1745\u001B[0m     \u001B[38;5;28;01mreturn\u001B[39;00m lib\u001B[38;5;241m.\u001B[39mmap_infer_mask(\n\u001B[1;32m   1746\u001B[0m         values, mapper, mask\u001B[38;5;241m=\u001B[39misna(values)\u001B[38;5;241m.\u001B[39mview(np\u001B[38;5;241m.\u001B[39muint8), convert\u001B[38;5;241m=\u001B[39mconvert\n\u001B[1;32m   1747\u001B[0m     )\n",
      "File \u001B[0;32mlib.pyx:2972\u001B[0m, in \u001B[0;36mpandas._libs.lib.map_infer\u001B[0;34m()\u001B[0m\n",
      "Cell \u001B[0;32mIn[13], line 1\u001B[0m, in \u001B[0;36m<lambda>\u001B[0;34m(x)\u001B[0m\n\u001B[0;32m----> 1\u001B[0m data[\u001B[38;5;124m'\u001B[39m\u001B[38;5;124mpolarity\u001B[39m\u001B[38;5;124m'\u001B[39m] \u001B[38;5;241m=\u001B[39m data[\u001B[38;5;124m'\u001B[39m\u001B[38;5;124mRecipe_Review\u001B[39m\u001B[38;5;124m'\u001B[39m]\u001B[38;5;241m.\u001B[39mapply(\u001B[38;5;28;01mlambda\u001B[39;00m x: \u001B[43mTextBlob\u001B[49m\u001B[43m(\u001B[49m\u001B[43mx\u001B[49m\u001B[43m)\u001B[49m\u001B[38;5;241m.\u001B[39msentiment\u001B[38;5;241m.\u001B[39mpolarity)\n",
      "File \u001B[0;32m~/DataspellProjects/rating/venv/lib/python3.9/site-packages/textblob/blob.py:384\u001B[0m, in \u001B[0;36mBaseBlob.__init__\u001B[0;34m(self, text, tokenizer, pos_tagger, np_extractor, analyzer, parser, classifier, clean_html)\u001B[0m\n\u001B[1;32m    380\u001B[0m \u001B[38;5;28;01mdef\u001B[39;00m \u001B[38;5;21m__init__\u001B[39m(\u001B[38;5;28mself\u001B[39m, text, tokenizer\u001B[38;5;241m=\u001B[39m\u001B[38;5;28;01mNone\u001B[39;00m,\n\u001B[1;32m    381\u001B[0m             pos_tagger\u001B[38;5;241m=\u001B[39m\u001B[38;5;28;01mNone\u001B[39;00m, np_extractor\u001B[38;5;241m=\u001B[39m\u001B[38;5;28;01mNone\u001B[39;00m, analyzer\u001B[38;5;241m=\u001B[39m\u001B[38;5;28;01mNone\u001B[39;00m,\n\u001B[1;32m    382\u001B[0m             parser\u001B[38;5;241m=\u001B[39m\u001B[38;5;28;01mNone\u001B[39;00m, classifier\u001B[38;5;241m=\u001B[39m\u001B[38;5;28;01mNone\u001B[39;00m, clean_html\u001B[38;5;241m=\u001B[39m\u001B[38;5;28;01mFalse\u001B[39;00m):\n\u001B[1;32m    383\u001B[0m     \u001B[38;5;28;01mif\u001B[39;00m \u001B[38;5;129;01mnot\u001B[39;00m \u001B[38;5;28misinstance\u001B[39m(text, basestring):\n\u001B[0;32m--> 384\u001B[0m         \u001B[38;5;28;01mraise\u001B[39;00m \u001B[38;5;167;01mTypeError\u001B[39;00m(\u001B[38;5;124m'\u001B[39m\u001B[38;5;124mThe `text` argument passed to `__init__(text)` \u001B[39m\u001B[38;5;124m'\u001B[39m\n\u001B[1;32m    385\u001B[0m                         \u001B[38;5;124m'\u001B[39m\u001B[38;5;124mmust be a string, not \u001B[39m\u001B[38;5;132;01m{0}\u001B[39;00m\u001B[38;5;124m'\u001B[39m\u001B[38;5;241m.\u001B[39mformat(\u001B[38;5;28mtype\u001B[39m(text)))\n\u001B[1;32m    386\u001B[0m     \u001B[38;5;28;01mif\u001B[39;00m clean_html:\n\u001B[1;32m    387\u001B[0m         \u001B[38;5;28;01mraise\u001B[39;00m \u001B[38;5;167;01mNotImplementedError\u001B[39;00m(\u001B[38;5;124m\"\u001B[39m\u001B[38;5;124mclean_html has been deprecated. \u001B[39m\u001B[38;5;124m\"\u001B[39m\n\u001B[1;32m    388\u001B[0m                                 \u001B[38;5;124m\"\u001B[39m\u001B[38;5;124mTo remove HTML markup, use BeautifulSoup\u001B[39m\u001B[38;5;124m'\u001B[39m\u001B[38;5;124ms \u001B[39m\u001B[38;5;124m\"\u001B[39m\n\u001B[1;32m    389\u001B[0m                                 \u001B[38;5;124m\"\u001B[39m\u001B[38;5;124mget_text() function\u001B[39m\u001B[38;5;124m\"\u001B[39m)\n",
      "\u001B[0;31mTypeError\u001B[0m: The `text` argument passed to `__init__(text)` must be a string, not <class 'float'>"
     ]
    }
   ],
   "source": [
    "data['polarity'] = data['Recipe_Review'].apply(lambda x: TextBlob(x).sentiment.polarity)"
   ],
   "metadata": {
    "collapsed": false,
    "ExecuteTime": {
     "end_time": "2024-02-18T15:17:39.491382Z",
     "start_time": "2024-02-18T15:17:38.293299Z"
    }
   },
   "id": "758a239d50cf6987",
   "execution_count": 13
  },
  {
   "cell_type": "code",
   "outputs": [
    {
     "data": {
      "text/plain": "ID                    int64\nRecipeNumber          int64\nRecipeCode            int64\nRecipeName           object\nUserID                int64\nUserReputation        int64\nCreationTimestamp     int64\nReplyCount            int64\nThumbsUpCount         int64\nThumbsDownCount       int64\nRating                int64\nBestScore             int64\nRecipe_Review        object\ndtype: object"
     },
     "execution_count": 14,
     "metadata": {},
     "output_type": "execute_result"
    }
   ],
   "source": [
    "data.dtypes"
   ],
   "metadata": {
    "collapsed": false,
    "ExecuteTime": {
     "end_time": "2024-02-18T15:17:40.178117Z",
     "start_time": "2024-02-18T15:17:40.174439Z"
    }
   },
   "id": "124ae4b49b9acdd5",
   "execution_count": 14
  },
  {
   "cell_type": "code",
   "outputs": [
    {
     "data": {
      "text/plain": "str"
     },
     "execution_count": 15,
     "metadata": {},
     "output_type": "execute_result"
    }
   ],
   "source": [
    "type(data['Recipe_Review'][1])"
   ],
   "metadata": {
    "collapsed": false,
    "ExecuteTime": {
     "end_time": "2024-02-18T15:17:41.145894Z",
     "start_time": "2024-02-18T15:17:41.136643Z"
    }
   },
   "id": "a70808ce3c6095c1",
   "execution_count": 15
  },
  {
   "cell_type": "code",
   "outputs": [
    {
     "name": "stdout",
     "output_type": "stream",
     "text": [
      "great recipe! I have made them just as written, wonderfull, moist, delicate flavor...then the next time, I did not have sour cream so used vanilla yogurt and added toffee pieces- still good.  I have made them as cupcakes and they rise very nicely and stay moist.\n",
      "This is an easy and quick recipe that is great for the fall cool weather. I only made substitutions for things I did not have on hand such as making my own ranch dressing mix, replacing stewed tomatoes with diced tomatoes with onion powder, and using chili hot beans instead of the drained pinto beans and can of green chilies. If I had all of the ingredients on hand, I wouldn&#39;t have changed anything.\n",
      "I think I was looking for something extra special in this soup, but it wasn&#39;t there--quite a bit of work for something that tasted merely average.\n",
      "This is our favorite grilled chicken recipe.  Great flavor!!\n",
      "Great basic recipe. I added 2 teaspoons Tuscan seasoning, onion, more celery, more carrot, minced garlic, and more chopped celery. Yum!\n",
      "Absolutely delicious!   Easy, tasty and filling!\n",
      "Very good and summer good.\n",
      "I also did some minor changes as I did not have the scallops on hand. I used twice the imitation crab, used 2 cans of crab meat drained. And medium sized tail on shrimp, It was work intensive but it turned out amazing, I will make this again and again!!!!! \n",
      "Great tasting. Followed directions exactly and will definitely be making again!\n",
      "This is an very inexpensive soup to make... It is wonderful !!!! Very filling... !!\n",
      "I made this. ..something wrong with this recipe. I didn&#39;t adjust. I prefer the Eagle brand milk recipe\n",
      "great bars.  I also use sliced canned or fresh peaches and sprinkle chopped nuts on top.  I don&#39;t frost mine.\n",
      "I fixed these for a Mexican themed meal and they received rave reviews. They&#39;re my son&#39;s favorite enchiladas.\n",
      "Made this tonight but since 2 of us most nights I made about 1/2 the receipt...This and green salad and my hubby was very happy and I was too.\n",
      "A good friend made this lasagna &amp; it&#39;s been on my mind since then! It is DELICIOUS! I asked her for the recipe &amp; she sent it (from this website). This lasagna was just delicious. I&#39;d never had a seafood lasagna and it was any &amp; everything I could imagine...seasoned well (she made a few changes to the recipe)! I will be making this delightful dish soon &amp; for company &amp; holidays. :0)\n",
      "This recipe was a major hit! Have already made several of them!\n",
      "this is the ONLY meatloaf recipe I use.Since 1999 it is still the best.Make it into one meatloaf or 4 minisadd Worcestershire &amp; Siracha  to the sauceall I can say is YUMMY\n",
      "I&#39;m going to try this, bet it is good. Lived in East Bethel, MN 10 years. As I read through the recipe I thought &#34;Where is the cream of mushroom soup???&#34; Then I saw it.\n",
      "I ended up making this two nights in a row because everyone loved it so much! The first night, I forgot to add the paprika to the marinade so I added to the chicken right before cooking it. I thought it was more flavorful doing it that way. I might try not marinading at all next time.\n",
      "Wonderful! I added fresh chopped green onion to the top.\n",
      "I omitted the green chilis, and I loved it.  Added some cheese and oyster crackers to my bowl and was delicious.  I am going to make this again and again.  Finally a chicken chili recipe that I can use.\n",
      "The brown sugar adds just the right amount of sweetness.  Excellent soup!\n",
      "Awesome! I&#39;ve been looking for lots of recipes with lemons in them, and stumbled upon this one yesterday after I received an abundance of fresh lemons and grapefruits from someone in Arizona. I decided to make this and it turned out really nice and looked so pretty -- just make sure you grease/flour your pan well! Some of the bottom got stuck, but I was able to piece it back together. My boyfriend really liked this bread and said &#34;This loaf will get eaten in no time!&#34; It has a nice heavy pound cake consistency, and the glaze on top tastes great.\n",
      "At end of instructions, I felt it necessary to add 2 TBSP of cornstarch mixed in with some cooled broth, in order to make it a little thicker. I also added 1/4 tsp more of the poultry seasoning. The dish is tasty and quick to prepare.\n",
      "I make them all the time only I have been taught to make them with tomato soup and just salt and pepper in my meatballs. Delicious\n",
      "dollargirl, how did it go making for 100 people?   Very curios, I was thinking about trying it.\n",
      "I have made this bread several times over the past month and this is what I can tell you.  (1) the first time I made it, I used all purpose flour, as the recipe called for.  The bread came out really good.  (2) the second time I made it, I used bread flour.  The bread came out really good.  In both, the texture was good, but just  a bit different from each other.  Then came (3) and this time, I used a combination of 1/2 all purpose and 1/2 bread flour.  Results?  Perfect phenomenal bread.  This had a great texture and taste and this will be the way I make it from now on.Ok, now, I like a few others, have found that 5 cups of flour proves to be enough flour.When I made bread tonight, I made 2 small loaves and a pan of cinnamon rolls.  My husband and grandson loved them.   They said the taste and texture were perfect.\n",
      "re: zucchini cupcakes---these are so moist and full of flavor--if you don&#39;t want to frost em just have them with cool whip!!\n",
      "Made this for dinner. Family loved it.  Will make again.  Will probably and a little more hot sauce.\n",
      "I discovered this recipe while on vacation in HI and knew I would want to try it. I used 4 large boneless skinless chicken breast halves and 3 filet type smaller ones and halved the sauce recipe. Subbed ground ginger and garlic powder for the fresh ginger and garlic since that was what I had on hand. Marinaded in 1 c. sauce and basted with 1/4 c. reserved sauce. Moist, juicy, and delicious. Definite keeper here.\n",
      "Quick and so good,  I kicked it up a notch, starting with a meat sauce, then the cheese ravioli, topped with Land of lakes New 4 cheese blend american style slices, grated mozzarela, sauce,a layer of italian sausage crumbled and cooked, sprinkled with italian seasoning, then a layer of beef ravioli. Topped with the same cheese layeres as above, then another layer of cheese raviloi.Another layer of sauce, grated parm then more italian cheese blend.  I also added a extra cup of water to the sauce to ensure that the pasta cooks well.  It really doesn&#39;t look like it is too thin of a sauce, but it does hlp.  This filled my lasagna pan which is larger than a 9x13.  Feeds an army.. I put this together the day before I wanted it. and took it out of the fridge about an hour before putting it in my 400 degree oven.  I covered it for the first 30 mins with foil sprayed with pam olive oil.  Uncovered it and let it brown a little.  PLEASE LET IT SIT FOR 15 MINS OR SO TO SET UP.  MANGA MANGA!\n",
      "To Pickup2....I almost fainted when she asked if she whould add Tomatoes to make it &#34;Boston&#34; Clam Chowda.....as a Bostonion we would NEVER add tomatoes....that is known as Manhattan Clam Chowder with a tomato base!\n",
      "My husband made this the other night for a crowd and it was delicious!  He did not add the jalapeno because we didn&#39;t know if all the people could handle or enjoy that.  Agree with the reviewers about it being thin, but you can add crackers at the table or just tweak with cornstarch, sour cream, or cream cheese.\n",
      "Very good muffin. I will definitely make these again.\n",
      "I saw this on Food Network yesterday. Was very impressed. I will be making it soon.\n",
      "LOVE this recipe. For Picky eaters &amp; kiddos plus Mommies trying to watch their waistline. FINALLY, one meal for EVERYONE! I used canned chicken and added some ground fresh spinach leaves- getting in the greens is never easy with toddlers.\n",
      "I took this to a family soup potluck.  It was a real hit.  All I took home was the empty crockpot.\n",
      "So yummy with a cup of tea.  Nice and spicy, better the next day.\n",
      "Yes I will make this for my family again. I would add a little more hot sauce. It&#39;s a keeper.\n",
      "Super easy to make. I took them to work and they were a hit!! Devoured in less than 2 hours. I will definitely make again. I added a little milk and decreased the oil to 1/4 cup. Thank you for my new muffin recipe.\n",
      "Worth the work!I used homemade pumpkin puree (1 3/4 cup) instead of the canned pumpkin, made my own pumpkin pie spice, and used soured milk instead of the buttermilk.I think the recipe needed a little less liquid on the day I made it, but I went against my better judgement and used all the recipe called for. Thus, the cupcakes didn&#39;t set fast enough in the oven and had &#34;hat brims&#34; of batter that cooked over the top of the liners instead of rising in a nice dome.I also made half of the frosting (as suggested by previous reviewers) and it covered all 30 (not 24 as the recipe claims) cupcakes nicely. The frosting tasted very good despite the fact that it calls for (what I think is) a lot of cinnamon.As to why frosting might not be setting up (as mentioned by Alie0717): If you make cream cheese frosting with low-fat (Neufchatel cheese) or fat-free cream cheese, it doesn&#39;t have the fat required to whip up and set the frosting. Soupy cream cheese frosting can be fixed by using only full-fat or regular cream cheese. Remember, the cream cheese is replacing butter in quick buttercream frosting to make cream cheese frosting.\n",
      "Delicious! Easy to prepare, flavorful, and loved by everyone. Just as a side note, if you are serving this with pasta, there is not a lot of liquid, so you may want to add some for your pasta. I used a splash of olive oil, but some white wine or broth might taste good, too.\n",
      "I made this for my sister&#39;s birthday, and it was a very big hit.  Would definitely recommend it.\n",
      "This is just White Chicken Chili with I first experinced eating at at local restaurant in Indianapolis which was recommended to me by the waiter. It&#39;s delicious! But that is what it is called - White Chicken Chili.\n",
      "Double this, you won&#39;t regret it.  I did make modifications when doubling.  Tripled the clam juice and omitted the water.  Then, used heavy cream instead of the ff half &amp; half.  I used just a little water at the end to get the right consistency, but not nearly the doubled 2 cups--just a cup to clean out that heavy cream in the measuring cup.  I only had mini potatoes so I didn&#39;t peel, just cut them in quarters.  The skins remained on and added a color to the mix.  I also used Better Than Bouillon, Chicken Flavor which I think beats out granules any day.   A hit at euchre night!\n",
      "I had seen this recipe and then lost it so was going from memort.  I used 2 pks of yeast instead of 1- it was fantastic!!  Chewy, soft, and that yeadty flavor I love.  This makes a wonderful  base for cinnamon rolls- hint hint!\n",
      "This was great and the whole family enjoyed!  The pickiest grandson asked for seconds . . . a first for him!  Thanks so much, will make again soon.\n",
      "Too sweet for me.  Not enough peanut butter taste.\n",
      "Added cinnamon &amp; nutmeg like others.  A little water because batter was so thick too.  But it is nice to eat a substantial pancake and not one that is tasteless.  Have made it twice.  So hearty and good!\n",
      "I didn&#39;t change a thing and it was delicious!  Perfect for fall and winter.\n",
      "After I submitted my review I saw it was for the Pumpkin Cupcakes and not the Pumpkin cookies!!!! So sorry!  I did make these cupcakes also and they are scrumptious!\n",
      "Super fast and easy way to get a hearty meal on the table. This tastes like it has been simmering all day. I will be making this recipe many, many times.  It&#39;s a keeper.\n",
      "So delicious.  It came out with the perfect balance of crispy and gooey.\n",
      "My husband works evenings so I cook on the weekend for the whole week.  This was so easy and sooo delicious!  I got to have a small bowl before he took the WHOLE  POT to work to share with his co-workers!  He gave me the message they want more!!\n",
      "Basic coleslaw recipe at it&#39;s best. Simple assembly, perfect balance of sweetness.\n",
      "Oh my my my this was soooooo good all I changed was I used regular onions and spenich h and it was so good I will make this again sooner than later\n",
      "Everyone in our family loves this recipe and it has been become a regular for us. I have made is per the recipe and also made a version where I changed the sour cream for Non-fat plain greek yogurt and it tastes the same. LOVE this!\n",
      "I can&#39;t find frozen strawberries that are sweetened anymore.  How much sugar needs to be added to the unsweetened strawberries &amp; should they set awhile to bring out the juice?\n",
      "I have attempted porcupine meatballs before and they always fall apart and or the rice doesn&#39;t cook I used this recipe and it worked like a charm.  I opted to bake the meatballs- followed recipe but instead of using a pot, placed in un greased  baking dish and then covered in sauce.  Baked at 350 for 30 minutes COVERED.  Then uncovered and baked 35 more minutes.  Flipped balls to other side and splashed some sauce on top   after 15 minutes uncovered.    Served with mashed potatoes and &#34;butter peas&#34;.  My one year old and husband loved this meal.  Keeper!\n",
      "OMg, I just made this for our &#34;First Night of Patriots Football Celebration&#34; and it is to DIE for!!! I can&#39;t wait to share it with our guests...that is IF there&#39;s any left by the time they get here!!! :)\n",
      "I&#39;ve been making a variation of this for years.  My husband loves it.Tip:  it&#39;s way easier to add the extra butter and then the flour to the celery and onion mixture than it is to make a separate roux.  You have more control over how thick your soup will be and you don&#39;t have to mess up an extra pan.  It&#39;s an extra step that&#39;s very unnecessary.\n",
      "This came out beautiful and fluffy and moist and delicious. I am not a professional baker just a hobby from home and had no problems with the recipe and directions. I will have to make this over and over again.\n",
      "Fantastic flavorful chicken!  Hubby and I both loved it. I halved the marinade and made 4 boneless breasts.  I forgot to marinate it the night before, and it was still amazing.  A definite easy keeper.\n",
      "These were very easy to make and very tasty.  I increased marshmallows to 3 cups as 2 barely covered the crackers.  I brought them to work and got excellent review.  Quick to assemble.\n",
      "This soup has been a top favorite of our family of 8 since the first time I made it back in Oct. 1996.  Many of our kids choose it for their birthday meal entrée.  It&#39;s wonderful with a hearty bread that&#39;s good for dunking in the soup.  Also good with chopped up dill pickles--my personal favorite touch. :)\n",
      "I tried this recipe today. It turned out good &amp; was very Delish!!\n",
      "This was amazing. I made it for my boyfriends birthday and then for Christmas Eve. Everyone loved it.One of the complaints was that it was too sweet. I made it with sugar free cool whip and chocolate pudding, and light PB. It was not to rich. Just do not use light or reduced fat cream cheese because it changes the consistency.\n",
      "This was so good and easy.  The only changes I made were to use a whole roasted chicken cut up and instead of whipping cream I used fat free half and half.  It turned out great.\n",
      "Chicken was very good.  Easy to prepare.\n",
      "Very good.\n",
      "This is absolutely a FAVORITE in my house.  Something guest request... I don&#39;t do the mushrooms- cause of family preference- Trust me it&#39;s just the BEST.\n",
      "My review didn&#39;t show the 5 stars I gave this recipe, so resubmitting.\n",
      "This bread is super easy to make! Made it for my family and friends and they said it was the best bread they ever had!\n",
      "I&#39;ve been looking for this recipe for 11 years!!  It was a staple in my home and I lost my recipe folder in a move.  Thank You, thank you!!\n",
      "I made this for a family get together and everyone loved it!!  Will definitely make again.\n",
      "This is THE best white chili I have ever made.  My guys at work request this all the time during the winter.\n",
      "I was really disappointed with this, particularly after reading all the rave reviews.  I won&#39;t make the filling again because it was tasteless even after adding spices and didn&#39;t set right, but I will be using the crust recipe (a 3/4 recipe) for the next pie I make.  Perhaps that will turn out better.Reserving just a cup for topping left the crust really thick, so I reserved about 1 3/4 cup, which turned out nicely.  I used 2 different kinds of apples to get a flavor blend and sprinkled some cinnamon and nutmeg on the bottom crust before putting the apple mixture in.  Unfortunately, this still didn&#39;t really give the filling any flavor.  I was amazed at how thick the water/cornstarch/sugar mixture got after boiling, but it was really jelly-like when I took it out of the oven.  I was worried that it wouldn&#39;t set as it cooled, and it didn&#39;t really.I will say though, that EVERY TOH pie recipe I read calls for a 9&#34; pie dish, but EVERY ONE I make NEEDS a 9.5&#34; Deep Dish pan.  Don&#39;t believe what you read in the recipe; it doesn&#39;t fit in the smaller dish.\n",
      "My husband liked the recipe. I used ham slices that I had. It was good.\n",
      "This was really good! I divided it up between two 8x8 pans so I could freeze one and I used turkey instead of chicken and a little extra enchilada sauce because I had some.  I love that this used ingredients that I had on hand so I didn&#39;t have to buy a whole bunch of extra stuff.\n",
      "Smells as amazing as it tastes!!!\n",
      "This is a great recipe, I used one teaspoon of pumpkin pie spice in place of the other seasonings and probably should have used a little more but it is really good.\n",
      "just made these tonight and was very impressed.  I didnt double the icing recipe but did increase it a bit..  It made enough to ice 1 1/2 dozen cupcakes and then some!  Yes, the icing was to die for.  I increased the shredded zucchini alittle cause I wanted more vegies in them. I will definitely be making these again!\n",
      "My mother in law introduce the original version of this cake to me in 1974. And I have loved it every since I tasted it. I am only going to rate the original because I haven&#39;t tried the non reduce version yet.\n",
      "This is absolutely the BEST dessert!!!! Since I have found the recipe, just a month or so ago, I have made it 3 times!!!! Everyone just went crazy over it. So simple to make. This is my new dessert to make and take to anywhere!!!  Just FYI, I made it in an 11 x 9 pan, next time, I will double the crust. Wouldn&#39;t hurt to double the crust anyway!!!\n",
      "I made this for lunch today and I have to say it is one of the most delicious soups I have ever made. Creamy, cheesy, potatoes and beef - heaven in a bowl!\n",
      "I used this recipe exactly as is and we loved this side dish for the 4th of July Stay-at-Home celebration. I bought pre-packaged cabbage/carrot mix but this homemade coleslaw dressing really put it over the top. I will definitely make this a summer family staple dish.\n",
      "This was a hit. I left the sugar the same but used about 9 cups of sliced apples-we like our pie deep dish.\n",
      "I made this Clam Chowder and I will make it again, the chowder was just delicious.\n",
      "Did not care for this recipe.  Lasagna was very juicy. Also to much salt.  Prefer a baked version.\n",
      "Made this last night.  My husband isn&#39;t a big fish eater, but he loved it.  Will make again.\n",
      "Loved this!  I would like to try adding fresh spinach to this next time.  I used Italian seasoned gr. turkey.  I also sauteed the chopped onion with the gr. pepper I also added some fresh basil to the turkey, onion and gr pepper mix.  I used a nice marinar sauce from Trade Joes and did put black olives in under the top layer of cheese.\n",
      "First time making this. I used a can of cheddar cheese soup and 2% milk and just used a dollop of sour cream in the bowl if anyone wanted it. It didn’t take long to make, was easy and we loved it.\n",
      "I made this yesterday, it&#39;s gone today. It definitely has the right name. It was absolutely THE BEST BANANA BREAD EVER. The second time I made it today I changed one thing, I halved the amount of nuts and added dark chocolate chips for the other half. It also was exceptionally delicious. The original recipe is so moist and light, not oily and mushy like a lot of recipes. Thank you so much for another of your recipes. All I have tried have become big hits with my family.\n",
      "Ok.. I make banana bread at least twice a month with the OLD bananas...as we never manage to eat a full bunch.  So yes this is a good basic recipe, and yes I changed a bunch.  I added butter instead of canola oil, one stick, added a 1/4 teaspoon of nutmeg, yes and three bananas instead of two, did not have butter milk but used a 1/4 cup of Almond milk, how did it taste?   Lol.  I will let you know.\n",
      "I&#39;ve tried a wide variety of corn pudding recipes and this is the best I&#39;ve found.  Made it at Thanksgiving and everyone loved it.  This will now be my go-to recipe!\n",
      "Absolutely the best chowder I have made. The only thing I didn&#39;t have was thyme. But it was perfect anyway 5 stars!!!!\n",
      "I have made this several times, my whole family love them, I double everything using 2 lbs of burger, I do not put the sauce on to bake as directed, it all runs off into the grease, they like to put it on afterwards &amp; on their potaotes. A family favorite, Enjoy !\n",
      "Easy to make and yummy! Will definately be making this again soon!\n",
      "I found that a little of this goes a long way as it is somewhat on the sweet side.\n",
      "These are yummy!  I agree w/ teadrinkinlady and will use more enchilada sauce next time.  Definately going to make for friends and family if I am able to share ;0)\n",
      "This soup is amazing. I will definitely make this again. The ideas in the other reviews are something I will try. You won&#39;t be dissappointed.\n",
      "<p>New at gluten-free. Most does not taste good.  This is great and moist! I used pumpkin in place of the applesauce. Super!</p>\n",
      "I&#39;ve made this a number of times.  L cut the shrimp up to the size of the scallops.  I do it in Pyrex so it can go out right in the dish.  Everyone loves it.  Nice salad, white wine and crusty bread.  Great!  Janet\n",
      "These cookies were simple to make.  I omitted the nuts (food allergy) but otherwise followed the recipe exactly.  They were delicious!  This recipe makes plenty of cookies so I froze half.   This just might be my &#34;go to&#34; chocolate chip cookie recipe from now on!\n",
      "OUTSTANDING. I used frozen rhubarb that I had thoroughly squeezed out. It came out so great that I don&#39;t think I&#39;d want to take a chance using &#34;raw&#34; rhubarb...would it set as well? Would it release too much liquid?I&#39;m already thinking of other things to sub in...can you imagine this with plump, rum-soaked raisins? Oh, my goodness.I wouldn&#39;t change anything else about this recipe. It&#39;s simply perfect. And it comes together very easily.\n",
      "Best pumpkin bread I ever had. Add 2-3 tbsp extra flour. I also added walnuts and pecans....yum\n",
      "I  recently made this following the instructions.  The soup was creamy, thick and full of chicken flavor.  For the two of us, this made enough for a nice dinner, and with the left over, lunch for a another day or two.  After reading other variations on this recipe, I will be trying them as well.  This is an easy soup and with substance for the person who needs &#34;more than just soup&#34;.\n",
      "I have made this dish soooo many times over the past couple of years. It always turns out so great. Personally I put the marinade in the skillet with the chicken. Probably the best chicken recipe I&#39;ve ever made and it&#39;s pretty easy!\n",
      "Everyone loves this!! All 4 of my boys and husband devour these pies! We&#39;ve often had guests over and they have always raved about it!\n",
      "I cut up the chicken in cubes and sauteed it in some olive oil and sprinkled a little Adobo on it. Once I added the broth to the recipe I also added about a teaspoon full of chicken base to the sauce (Better Than Bouillon). Also I did have to add a little bit extra broth to help thin the filling out a little bit.  My family and friends loved this!!!\n",
      "I love this bread ... even people who say they dont like pumpkin, love this bread . I dont put in raisins.\n",
      "everyone looks forward to this recipe - and it goes well with a picnic or a more elegant meal\n",
      "This was good... not great\n",
      "This recipe is like the Hershey chocolate cake recipe except for sour cream. I&#39;ve made the Hershey numerous times and it&#39;s wonderful so I&#39;m sure this one is too\n",
      "My husband and I love bruschetta so trying this recipe was a no-brainer for me.  We absolutely LOVED it. I used a whole egg as I didn&#39;t have egg substitute. I also added some chopped fresh chives to the fresh tomatoes and just prior to serving also sprinkled with freshly shaved parmesan cheese. This is easy and fast to make but tastes like a million dollars.\n",
      "This is tasty. I sliced my zucchini very thin instead of shredding it. I mixed it with the eggs, parm cheese, and half the other cheeses but didn&#39;t bake it until I added the remaining ingredients as listed.\n",
      "I forgot to mention that I used 2- 28 oz cans of Hunt&#39;s diced tomatoes for my double batch.\n",
      "I just made this dish tonight and WOW....this is a keeper! Like others I also added the sour cream in the meat mixture.\n",
      "so yummy will make many more times before the weather warms\n",
      "How many cups of wild rice per 3 cups of cooked wild rice? I am guessing 1.\n",
      "I have enjoyed this recipe, as written and it was delicious.  I have now added my own additions and use hot sausage in place of the beef.  I have also used pizza sauce to make it more like pizza and added traditional pizza toppings.  Great taste anyway you decide to make it and it is a great recipe for those that are doing keto or low carb diets.\n",
      "this recipe is awesome!!! I had some chicken already cooked up, so ommited step one and added all the ingredients together and cooked in the crockpot till it was all heated throughly. I will deffintly fix this again....\n",
      "I have made potatoe soup for years. this is by far the best\n",
      "The best ever ,not dry at all  had company over they said it was the best they ever had  some even did not like corn bread said it is always dry but all asked for recipe\n",
      "It was my first time to bake bread, the recipe was easy to follow had great results. The bread was perfect my family loved it.\n",
      "I followed what the reviewer Wintere suggested and OMG - will make these again.  They were fantastic.  But I cut the entire recipe down for 2 since there is only me.  Thanks again.\n",
      "I left the lemon juice and paprika out when I marinated, and I marinated the chicken overnight.  I did not use peppers, because we are allergic to them.  I did the rest of the recipe as written.  It was very delicious and tasted just like the fajitas you get at a restaurant.  I served it with Mexican rice and refried beans.  I will be making this recipe again.\n",
      "This is my favorite banana bread recipe. It turned out really great, I made 12 muffins and one loaf of bread. It was perfect the muffins were better than the bread because of the cooking time I think. I did add cinnamon sugar mix to the batter and sprinkled it on top with the pecans, I reduced the pecans by 1/2 cup though. And it was fabulous!!! For the glaze I just added milk instead of the orange juice to the glaze.\n",
      "<p>Delicious! Extremely easy to make and the cream cheese frosting is divine.</p>\n",
      "This is a wonderfully easy, tasty &amp; healthy dessert! My only comment is that the amount of gelatin is incorrect -- since it says &#34;one packet&#34;, I used the smallest size, which is 3.0 oz., Not 0.3 oz. -- just a typo when it was posted, I&#39;m sure.  I used the full 3 Oz. packet and it came out fine :)\n",
      "I have made this chili quite a few times. It is the best. I just entered it in a &#34;souper&#34; bowl cookoff and got first place. Thanks for such an awesome recipe.                           Ginger Stille, Goodell, Ia\n",
      "Delicious! I made this for my boyfriend last night, he loved it.  He took the leftovers to work for lunch too!  I cut the onions in half and used ground turkey instead, it tasted fantastic.  For the other reviewers who said theirs was soupy/runny... make sure to drain the black beans before adding.  Also, the type of salsa will make a difference too.  I used a thick and chunky type.  Very yummy!\n",
      "This is a great recipe. Like others I increased the spices by using the spice amounts in Tartine&#39;s ginger cookies: 4 t. giniger, 1+1/2 t. cloves, 2 t. cinnamon, and 1 t. black pepper. Also 3/4 t. salt and slightly less sugar than a cup.  They are incredible and a real keeper recipe I will use again and again. They also ship well\n",
      "Very tasty dish. I added a 4.5 ounce can of mild green chiles to the recipe and it added just the right amount of zip for my families tastes. I also used a combination of red and Yukon gold potatoes, kept the peels on just scrubbed them well and sliced. With the addition of the peels and the chiles it amped up the flavors and the visual appeal as well.\n",
      "I chose this cheesecake as my very first baked cheesecake for Thanksgiving last year. It turned out perfect and it is very good! I didn&#39;t add the chocolate on top; one, I didn&#39;t want to cover up the swirl design, and two, it really didn&#39;t need anyhing else. The cheesecake is creamy and rich...just the way a cheesecake should be. You definitely do not need a large slice of this!\n",
      "This has become my family&#39;s go-to recipe for banana bread! We all love the tremendous flavor!\n",
      "Very good &amp; easy.\n",
      "My husband loved this recipe!  It&#39;s a keeper. Thanks for sharing.\n",
      "I substituted the tomato sauce with a can of cracked black pepper and roasted garlic crushed tomatoes\n",
      "These cookies are a favorite of my husband’s and I’ve been making them for years.  I freeze the dough balls before baking so they don’t spread excessively.  Sometimes I use dried ginger along with the ground.  They’re always so soft and don’t last long at our house!\n",
      "Delicious! Worth the time put into it.\n",
      "Quick, easy and delicious.  I added some peanut butter and milk chocolate chips.\n",
      "my kids love this recipe . It&#39;s a huge hit at our dinner table.\n",
      "This was delicious the fist time so I had to do it again.Thank you\n",
      "Delicious!  Everyone gave this chicken recipe a thumbs up.  Followed the recipe as written, except to give the cheese topped masterpiece time to melt.   Great recipe!\n",
      "My wife and I made this bread tonight....AMAZING!  Unbelievably awesome. First time making it, is and our three kids are hooked! Thank you!\n",
      "Replaced the lemon juice with white wine.  I followed all of the other ingredients though.  Came out great.\n",
      "This is the best recipe I have tried. My kids love it too! 5 stars ! I used 1/2 marshmallow cream and 1/2 regular marshmallows. My fudge set just fine.\n",
      "I used spaghetti sauce instead of the tomato sauce and it worked great! Also, I omited the cheddar cheese and it was still delicious.\n",
      "Love that the recipe makes two pies, one to bake and one to freeze!  I did substitute rosemary for thyme: it smelled Heavenly while baking.\n",
      "This is one of those recipes that have become a staple at family get togethers, everyone loves it.  I always substitute Neufchâtel cheese and fat free sour cream and no one knows the difference.\n",
      "Was just ok for us. We felt like it was missing flavor. Just needed something. Probably won’t make again,\n",
      "Love this soup.  I have doubled or tripled the mushrooms, added sausage or chopped chicken and used heavy cream.  I make it at least twice to three times a month.\n",
      "Had no issue with flour as others have had.  It was the perfect consistency.  Very tasty!  Teenage daughter said it was &#34;the bomb&#34;......The prep work took a lot longer than 40 min as recipe stated.\n",
      "Excellent recipe. I wouldn&#39;t call it pizza per se, reminded me more of carb-less lasagna. I cut the amount of  ground beef in half, doubled the onions and added about as much mushrooms. I used jarred Barilla traditional pasta sauce. Next time I&#39;m thinking of using only half the cheese in the zucchini mix and replacing that amount with more zucchini, and double the salt. I&#39;ll also add garlic as many commenters have suggested. It holds up well as leftovers.\n",
      "Even more delish if you add chocolate chips! I&#39;ve made this several times and everyone always raves over it!\n",
      "These are the best!  Just had them last night for dinner.  The only change (because of preference) is using a small can of tomato paste instead of ketchup.  Started making these in 2000 when they were in the annual TOH book.  My son would say if he was ever on death row and had to choose his last meal, it would be these.  I promised him I would make them whenever he wanted so he wouldn&#39;t have to commit a crime to have them for dinner!\n",
      "My 16 year old daughter decided to go vegetarian,, so I try to incorporate some vegetarian meals into the meal line-up.  This turned outd out great. I used Shredded Italian cheese mixture instead of the other two cheese..\n",
      "We LOVE this chili recipe! I always have to double it, so we can have leftovers\n",
      "This was so easy and so good!  I used an 11x7 casserole, 8 oz mozzarella cheese and non-frozen cheese ravioli.  I did cook the ravioli for about 7 minutes before combining in the casserole.  This made six servings, so I had two meals to freeze for later.  Am anxious to serve this to guests.\n",
      "This is my go to recipe for beef enchiladas. Great everytime.\n",
      "My family devoured this chicken.  The sauce is excellent and goes great over rice.  I could not find boneless skinless chicken thighs at the grocery store so I used bone-in chicken thighs that I took the skin off of.  I tried boneless skinless chicken breasts once but have to say the bone-in thighs gave it more flavor.  However, both are good.\n",
      "Best cornbread ever! Love the sweet taste. I make giant muffins with the mix. Make this every time we want cornbread/corn muffins.\n",
      "Absolutely delicious!!! Perfect snow day recipe.\n",
      "Amazing! I don&#39;t have five spice so I used a little ginger, cinnamon &amp; allspice. The sauce thickened while simmering so there was no need for cornstarch. So good!\n",
      "This was a HUGE hit.  This is the best lasagna recipe.\n",
      "It was okay.  A lot of oatmeal flavor and not enough cinnamon.  I like my recipe for Apple Betty much better.\n",
      "my this meatloaf is one my whole family loves. I made some gravy from the pan drippings for the mashed potatoes. yummy!\n",
      "I&#39;ve been making this recipe for years, I found the recipe in a newspaper grocery circular and shared it with family and friends, many times and we all love it.\n",
      "So delicious. My husband loved it. I didn&#39;t have egg substitute so I just used a single egg. The fresh basil is really what makes the flavor amazing in the tomato mixture...I don&#39;t think it would taste the same with dried! So glad I bought  some fresh because I almost just used what was in my cabinet. Would make this dish for company!\n",
      "As a member of our local American Legion, I often donate baked goods to our monthly steak nights. What says America more than homemade apple pie! This recipe is super easy and delicious! Will definitely make again and again!\n",
      "This is an excellent soup.   The only changes I made was fresh celery in place of the seeds &amp; sharp cheese in place of Velveeta, my family loved it.  Thank you Coleen.\n",
      "Just made these banana bars for Easter. They were delicious, I added a half banana to the icing. I wasn&#39;t sure if the banana would turn the icing a weird color or texture but it turned out great. Next time I will add an entire banana. My icing was a little sticky (meaning it came off a little on the cellophane when transporting it), I&#39;m guessing I could have added more confectioners sugar, but it just seemed like a &#34;ton&#34; of sugar. Regardless, it was great! Next time I will also add the 2 T. of whipping cream as mentioned below. Thanks for the recipe!\n",
      "Could I use tomato sauce instead of diced tomatoes?  Cant&#39;s wait to try the recipe.\n",
      "I made this for our Thanksgiving and was SO good made it again two days later to take to a second dinner invitation. Will permanently be on our Thanksgiving menu!!\n",
      "Great recipe! Family loved it. Will make again.\n",
      "Made this soup today and it is delicious.  It has lots of flavor and a nice consistency.  It is not a thick creamy soup but is full of veggies, chicken and rice.  I did make the flour and butter into a rue; cooked for 2 minutes then added chicken broth;  cooked another 2 minutes then I added the canned soup to this mixture to heat in order to ensure no flour taste and got a real nice cream texture to add to the soup.  The only change I made was to use cream of chicken soup but mushroom would be equally nice.  This recipe is time consuming so do the prep work ahead as Virginia suggested or just be prepared that it will definitely take longer than 10 minutes to prepare.  Will definitely be making again.  Thanks Virginia.\n",
      "I went out on a limb with this one because the guys in my family are all about the red chili and don&#39;t like to try something new.  When planning menu for next week, the white chili was first on their list!!\n",
      "No adjustments needed on this one!  Absolutely delicious!\n",
      "So let me start off by saying that the enchilada filling itself is 5 stars, very very good. Definitly different than what my mom made growing up (chicana) but SOOO GOOD. I rated 4 because using flour tortillas just isn&#39;t a good idea if you want nice crispy enchiladas, I would consider using flour tortillas more of a wet burrito type dish. They get soggy. I used corn tortillas instead (and a bit of advice that makes a world of difference is lightly frying your corn tortillas in oil on each side before placing filling in and rolling, makes them more durable and much more crispy to hold up against the sauce) and for the sauce (if you like it a bit spicy, even if not they have regular sauce) I recommend &#34;El Pato&#34; you can usally find in the mexican section of any store. I use the yellow or green cans both delcious. Also, I chopped up white onion and put on top of the enchiladas before spreading cheese. I also baked uncovered for an extra 5-10 mins to get the edges extra crispy ( mi familia loves it this way!) . Served with a simple red rice my mom used to make and it was delicious! Also, I did use cubed chicken because I used some left over breasts from the night prior but I will definitly be shredding it next time, my family didn&#39;t really dig that. All in all I love the filling recipe, very very good. Will be keeping this one! Thank you :)\n",
      "This recipe is outstandingly good--and easy! For the health conscious, you can substitute 2% milk for cream and it is still delicious. The addition of thyme, marjoram, and oregano spices it up a little. The use of multiple mushroom types adds a mix of textures and flavors. This is an outstanding recipe that could be built on in many ways (next time I will try adding chicken). Thank you for sharing it!\n",
      "wanderful  blueberry bread made this today\n",
      "Wonderful recipe for a quick and easy dessert!  I only had canned peaches, so I used two cans of peaches in their own juice.  I drained the juice and saved it.  It made one cup exactly, so I used that to replace most of the water called for in the sauce you pour over the top.  It came together so fast and it was absolutely scrumptious!\n",
      "My sister made this and shared with us.  If you like rich desert this is the desert for you!  We loved it and I definitely added it to my favorite desert recipes!\n",
      "I started making this recipe in 2010 when I was it in the magazine and haven&#39;t stopped!  It is very rich so I only use a single layer at a time. The cake (minus frosting) also freezes very well.  Then I can thaw the cake and frost it for an easy item to bring.  I make 1/3 of the butter frosting recipe for the single layer, but keep the ganache the same.  I top with a variety of fruits including strawberries, raspberries, blue berries &amp; kiwi. Each single layer piece is still packed with flavor and allows for more servings with a large party.\n",
      "I normally eat healthy, but every once in a while I will treat myself to some good &#39;ole fashion home cooking.  This cornbread recipe I awesome!  I made a pot of greens usi5n this cornbread recipe and felt like 8 was eating corncread cake!  Yummmmmyyyyyy!\n",
      "The potatoes were AMAZING, but the chops were a bit dry. Next time I may try adding a lemon or lime flavor to it to spice it up a bit.\n",
      "Can you make this cheeseburger soup in a crockpot ?\n",
      "Absolutely wonderful!!! I substituted pizza sauce for the tomato sauce since this is a pizza recipe. I also added the onion along with the green pepper as pizza is normally made. I gave the recipe to 6 people the first day I made it for work.\n",
      "Love, love love this recipe!!  I have been making it for over a decade, and everytime I do, my family can&#39;t wait for them to come out of the oven.  Easy and delicious!!!\n",
      "little dry, added pasta water.Husband loves it.\n",
      "Wow!!! Great taste.  Too many ingredients but totally worth it.  :)\n",
      "I use some petite diced tomatoes too. As for Velveeta subs, no not a good idea but I do add some grated sharp cheddar in addition to but stir in at the end.  I skipped the dried herbs as well.\n",
      "Very good!\n",
      "THE best lasagna I&#39;ve ever made or eaten! A perfect 10 from the whole family :)\n",
      "These are really good.  I took they to work for our Halloween Party and everyone wanted the recipe.  Maybe I didn&#39;t fill the cups as much as recommended, because it made more than 2 dozen.\n",
      "This was simple and easy to fix, my whole family loved it.  I will be making this a lot.  Thanks for a great recipe.\n",
      "We simply love this recipe. I cook it as written and find it is just right! I make 2 pies so we can share with my sister&#39;s family. I have never found it pasty or gummy and have made it numerous times.\n",
      "My friends and I agree that by far this is the best lasagna we have ever had.  I double the recipe and make them two at a time.  They freeze well uncooked.\n",
      "This was really yummy!  I didn&#39;t have walnuts so instead I chopped up some almonds that I had on hand.  My husband loved it!\n",
      "Easy peasy!  I  made another 1/2 batch so I was expecting to get  44 peanut butter cups.  I ended up with 8 1/2 dozen.  I had to melt some more chocolate.  Maybe I wasn&#39;t using enough peanut butter mixture in each one?  At any rate  they were a hit.  I can&#39;t eat them but my kids &amp; hubby said  they were awesome :)\n",
      "Great cake!! I did toss the apples in some butter and cinnamon sugar before adding them to the cake mix.\n",
      "I made this with lite cool whip, sugar free,fat free pudding, and reduced sugar cake mix. It turned out great, and lower sugar and fat content.\n",
      "Made it for Canada Day - my guests loved it!\n",
      "This was everything and more that was in the promo.  Great recipe!\n",
      "Was sooo cheesy.  Wonderful, no more instant box macaroni and cheese.\n",
      "This recipe was excellent thank you !  For the ones that mention the butter for the glaze obviously  didnt read the recipe properly ! It says glaze ingredient :sugar and lemon juice!  If you going to complaint when a chef kindly share their work then maybe you need to remove yourself from their following !\n",
      "This was easy to make and made a hit at our party on Sat.  I also like that you can change the flavor.\n",
      "Where do I start..... Way to sweet, the corn &amp; sweet peas DO NOT make good lovers. This isn&#39;t any 30 minute meal by a VERY long shot. Maybe a few peas and carrots. I used tomato paste instead of ketchup. I can only imagine how sweet it would&#39;ve been with the ketchup. I used beef broth( I never like the granules or cubes). The after taste makes me want to hurl right now. I hate throwing food in the garbage but another meal of this wasn&#39;t going to happen. I even added some fresh ground pepper to cut the sweetness. Thank the heavens for pepper. I looked forward to eating this recipe and I am very bummed about throwing $$$$ down the drain. Fellow culinary participants...Stay away from this recipe. Very sad right now. If I could give no stars I would.\n",
      "RE: Enchilda Casser-Ole!!I made this for 2 of my daughters one evenig for dinner.  We all enjoyed it very much.  They have now taken the recipe and made it for their families and taken leftovers to work to share with co-workers.\n",
      "Excellent and so easy and quick. Perfect and will share and make again. Thank you\n",
      "I substitute sliced cranberries instead of blueberries in the fall!!\n",
      "I used refried beans on bottom of pan then added the enchiladas. This has o be the best recipe for enchiladas. YUMMY\n",
      "I added chopped red onions &amp; fresh minced gingerroot. So yummy!  Would have liked more sauce for rice though.\n",
      "Made two batches, one with 1 cup of sugar and one with 1 1/2 cups, both were excellent.Baked for 60 min. Will make again.\n",
      "Since I didn&#39;t check my pantry before starting the recipe, I used both Crisco and butter in place of the latter; one packet of Dream Whip in place of the instant vanilla pudding; only one cup of chocolate chips (since that&#39;s all I had); and one cup of toffee bits (to make up for the missing mix-ins). Despite ALL of these changes, the cookies were chewy, moist, and *very* tasty. I&#39;ve added it to my recipe box!\n",
      "This was sooo good. Will make it again.\n",
      "This mini meatloaf recipe is a staple in my household!!  Very delicious!!\n",
      "My husband loved this! He asked me to make again next week. I did add a little Chinese 5 Spice to it for a little kick.\n",
      "Kind of gooey, but really good and super easy to make. My family loves &#39;em.  I cut the recipe in 1/2.  The full recipe makes a &#39;ginormous&#39; amount. But, almost all of ours from the 1/2-recipe are eaten already.  Also, made mine with only vanilla extract, as I&#39;m allergic to the almond.  Still came out very good.\n",
      "My family has been making this recipe for probably 15 years but in the version I have all the ingredients for the sauce are halved (water, sugar cornstarch). That’s what is making this version of the recipe way too sweet!\n",
      "This was awesome.  My entire family loves it.  I usually use sausage, pizza sauce and add green peppers, and fresh mushrooms.  This is a keeper.\n",
      "I made this exact recipe and it was too grainy and falling apart and too sweet. It wasn&#39;t horrible but it&#39;s not great corn bread either.\n",
      "My family loves corn so I knew I had to try this recipe.  We all liked it, but thought it was sweeter than it needed to be.  Next time I&#39;ll decrease the sugar by half.\n",
      "Practically the same recipe as ours. I wonder why she put in extra flour and sugar.   We don&#39;t.  Also I use 4 eggs.\n",
      "I made these for a Memorial Day get together, everyone loved these bars, but I used 8 ounces of cream cheese .\n",
      "I made this for Thanksgiving and my whole family loved it and there were no left-overs!!!\n",
      "I made this cake 3 times already since march 21,2010. Husband loves it, coworkers went crazy for it and I made it for the family for Easter and they loved it and all asked for recipe. Great lite cake\n",
      "This is a delicious cake - moist with a rich chocolate  taste and a lovely  icing.  I followed the directions and the frosting frothed to wonderful  consistency.  Thanks to Ms. Kreitz for sharing it-  It&#39;s absolutely a keeper!!!\n",
      "This recipe is not only delicious but also versatile!  Follow the basics but you can vary the veggies. Tonight I added diced zucchini! I cut back a bit on the bacon &amp; cheese but it&#39;s still great. What a wonderful recipe for a chilly night!\n",
      "This was delicious! I made it just as the recipe said and I did put in a tiny amount of hot pepper sauce. We loved it\n",
      "This soup is quite good, but time consuming for preparation.  I followed the recipe to a &#34;T&#34;..with the exception of slicing the carrots. I gave it a 4 star rating as the amount of flour/butter did not thicken the soup.  1/3 cup flour    6 T butter would probably be much better. Unfortunately the soup was watery\n",
      " Ask where you buy your apples. They will be glad to hep you. I like to use gala. \n",
      "We liked it.\n",
      "I added 1/2 cup soaked raisins.  Mmmm\n",
      "Easy to make. One of my families favorites!\n",
      "I used warmed corn tortillas for improved flavor.  Ended up using tomatillo salsa which was what I had on hand. This is a very easy and versatile recipe. Family loved it!\n",
      "This is now my favorite pumpkin bread recipe. So quick and easy too! Love it.\n",
      "Quick and delicious\n",
      "My family all loved this I added a 1lb hamburger but my 6 year old said it needed more.  Next time I will add more but it was very good.\n",
      "Have made this twice now, and it is yummy! I used a pound of ground turkey breast, browned instead of cubed turkey. My kids even liked it. You don&#39;t taste the pumpkin, and it makes it more nutritious!\n",
      "I tried this recipe tonight and it is delicious!  I didn&#39;t have celery, didn&#39;t use the hot pepper sauce, but added some cayenne pepper because I like that better, and used 4 cheese Mexican style cheese because that&#39;s what I had on hand.  I used canned carrots (collective gasp)This will definitely be making repeat appearances in my house.  My nephew even commented on how good it was.  Thanks for sharing this one.\n",
      "Love Love Love the zucchini crust.  I&#39;ve made the recipe several times, similar to as written, I substituted pizza sauce.  Also, I take the grated zucchini and place on a clean dishtowel and wring out the moisture, no salt no colander.  This last time, I made it like a real pizza.  DELICIOUS\n",
      "This grape salad was fabulous!  It is fast, uses few ingredients and a great taste.  I made it the night before and it held up well.  I used sour cream and it gave it a tangy flavor.   I will make it again.\n",
      "Everyone likes this casserole who&#39;ve tried it!  I use pizza sauce and add pizza toppings that we like: mushrooms, turkey pepperoni, pineapple, etc.  I make it very often year round.\n",
      "I have made this so many times!  It is a favorite of ours. Freezes in cut pieces very well. I usually add about 1/2 c  ground walnuts just because we love them!\n",
      "Made these and boy did they get raves!  The caramel frosting was fabulous as well.\n",
      "I would suggest trying a piping bag with a star tip if it seems too soft put in freezer for a few mins to harden it some and that may help  Hope this works for you\n",
      "Really delicious, probably the best cupcakes I&#39;ve ever made.  The frosting is perfect and a great recipe alone.  It&#39;s a wonderful blend of a branny taste with a sweet one.\n",
      "This a fantastic salad. It makes a large amount so it&#39;s good to take to a cookout party!\n",
      "Very good, only thing I would do different is add a tad more OJ for more orange flavor and instead of scallions on top I added toasted sesame seeds\n",
      "Simple and good.  (However, I didn&#39;t do the lo-cal, lo-fat, no-yolk method. w/o guilt.)  Next time I will use mandarin oranges instead of pineapple in the topping as well as in the cake.  The pineapple overpowers the orange flavor, which I love, to almost non-existent.\n",
      "YUM!\n",
      "A family favorite!! My son asks over and over to make this. Wonderful flavor!\n",
      "This is a very good recipe, my husband loved it!!!! It was a little too spicy for me so I think I will use a milder salsa next time. Couldn&#39;t tell the difference with the Italian dressing in it at all but will use it again. I did use regular sour cream and cheese instead of lite.\n",
      "I made this without the shrimp. Wow, it is very good! I like the fact that it is a crock pot recipe, love those! I will be making this again!!\n",
      "I msde this minus canola oil, using 1 cup of homemade applesauce. It is moist and delicious beyond belief!\n",
      "I absolutely love this recipe, it has fantastic flavor, and it&#39;s very appealing to look at! Two changes I made from the original recipe, is to use plain ground pork over sausage, and I add some cubed butternut squash. Also not bad if you happen to not have the tortellini (because you ran out of the store without grabbing it) to use some other type of pasta, like farfalle.\n",
      "This is a quick &amp; tasty recipe.  Not sure where the other reader&#39;s saltiness was from unless it was from too salty a salsa or from the cheese as there is no added salt here.\n",
      "I made this recipe about two weeks ago and my husband raved about it.  It makes quite a bit, so we refridged the remainder, reheated it next day at lunch and took the rest to our pastor and wife who were travelling.  Everyone was delighted with it.  Tonight,  I am making it again for family that is coming to dinner.I did do one extra item for this meal though.  I added a CAN of Hunt&#39;s spaghetti sauce with the tomatoes and about a 1/4 of a teaspoon of thyme to boot.  MMMMM good stuff, this.\n",
      "I used All purpose Gluten Free baking mix from Arrowhead Mills.  I found that if you use two disposable bread tins they do come out doughy in the center. They come out perfect and both loafs were consumed in one day. I making this again now.\n",
      "Theses were fabulous. I picked my rhubarb in the morning. I made the 1/2 recipe more tart version and they were liked by all. I agree that people who think they don’t like rhubarb would love these. So different!!\n",
      "This was really good.  It does boil over and thank you to the person who suggested setting it in a larger pan to catch the drips.   I think I will use a 9&#34; pan next time.  Do serve it warm with the cream - yummy!!!!  To those readers who didn&#39;t know what to do with the cream, you pour it over the pudding before you eat it.  Would be good with ice cream too.\n",
      "I have already made this  recipe for a long time.   I don&#39;t like to add as much sugar and I like to use fresh corn when I can.  I have made it more like a main coarse and added green chilies and cooked hamburger, ham or sausage and then then added choice of cheese.  I have also seen people keep in the sugar and serve  it as a desert with ice cream.  I also cook mine at 350 degrees for at least 50 minutes.  I like it to be a little bit brown on the top.  That way you know it is done all the way through.\n",
      "Delicious! Be careful not to overcook the shrimp though. With sauteing and a quick broil, it&#39;s easy to do. I will make again and will add a little white wine. We did enjoy the added crunch from Panko breadcrumbs!\n",
      "I&#39;ve made this a quite a few times and my family loves it!  I sometimes throw on an extra layer which is nice and is something  you can&#39;t do in a baking pan.\n",
      "This was superb!  I was really easy to make too.  I highly recommend it.\n",
      "This was tasty and the house smelled wonderful as it cooked.  We really liked it but didn&#39;t love it.  It took a fair amount of prep too.\n",
      "It was very good.. Just a little to sweet. I even added an extra banana but the sweetness took over it. I will however make again bur reduce sugar...\n",
      "GREAT soup!! Let alone from my Mom in laws hometown!!!! AWESOME!\n",
      "This was not a big hit with my family.  I think it tries to be three different breads and doesn&#39;t  succeed with any of them.\n",
      "I&#39;ve made this many times and even made it for a party. I used kielbasa sausage and had the shrimp to add on the side.  I loved that the veggies were still crunchy and sometimes the times on slow cooker recipes are too long and the food is cooked too much.  This one is right.Thanks.\n",
      "this cake was yummy awesome !   0:-)\n",
      "I followed the recipe exactly as written and the cake turned out beautifully.  It was light and tasty.  It&#39;s not a strong flavored cake, but a great light snack or a wonderful dessert with some fruit added to it.  My husband said that in the words of the Great British Baking Show, &#34;it&#39;s a beautiful sponge&#34;!  I will definitely make this cake again.  Sometimes I&#39;ll make it as is and sometimes I&#39;ll play around and add flavors to it or a topping of some kind.  This is a great cake recipe.\n",
      "I’am 79. We had this cake all the time when I was little. Don’ to know where my mother got this. I still make this now and my kids and grandkids love it. The only differents I use 2cups flour, 2teaspoon baking soda, 1teaspoon salt mix together, 2 cups sugar and 2 eggs mix this together, 1 cup milk 1tablespoon crisco shortening, melt crisco in milk. Alternate flour mixture and milk. Do not beat, mix well. 375 oven, 25mins. Test at 20 mins. Test with toothpick. Now we only made a layer cake. Always this chocolate frosting. 4 Tablespoon butter, 4 ounces unsweetened Hershey’s chocolate, melt together. 3cups sifted confectioners sugar, 1teaspoon vanilla, 1/8 teaspoon salt. 1/3 cup warm milk. Add not all milk at once to sugar and chocolate mix now add rest of milk. Frost cake, serve warm. My mom always put 4 toothpicks to hold cake together, who ever gat a toothpick got another piece of cake. This tradition still goes own. ENJOY! Sandra\n",
      "This was a delicious recipe, I used soy milk instead of normal milk and it was a good substitution! I also used canned peaches instead of fresh or frozen and it was still delicious - though I would say to reduce the amount of water in the topping by about 1/2 cup, and honestly I might suggest doing that anyways, it was a lot of liquid leftover.\n",
      "Best and easiest chocolate cake EVER!  However it is NOT light and airy but rather very dense and heavy; fabulous.  Also - the icing listed here is extremely heavy and if refrigerated is very thick and almost solid.  It is better using a different lighter icing\n",
      "this was really easy and good my kids and husband loved it, i DID NOT use reduced chicken broth or fat free milk and biscuit/baking mix it turned out fine, i will be making again!!\n",
      "Can&#39;t wait to try this! I&#39;m going to add bacon pieces to it :o)\n",
      "For some reason, it wouldn&#39;t let me rate this recipe 5 stars. (Only would let me rate 4.5, but it is a five star)  This is a delicious, moist and tasty recipe as is.  Very difficult to find a gluten free banana bread recipe that creates a very moist, tasty outcome. Easy to make and very flavorful.  I love that it makes two loaves and you don&#39;t need to put butter on the finished product for more moisture.  I would like to try some other alterations like coconut oil, yogurt option, brown sugar or honey, (less sugar) options as healthier choices.  But, it&#39;s a must try recipe. You won&#39;t be disappointed especially if you use 5 &#34;overripe&#34; bananas and follow recipe as is.   Thank you for sharing.\n",
      "I&#39;ve baked bread all my life. This is a very good basic recipe for bread and it spin-offs like cinnamon rolls. Some people I notice complain of the bread not rising either you got your yeast too hot with the water and killed it, or did not take into account rising tempuratures or altitude do just make sure your yeast does not get too hot or cold and you should be fine.\n",
      "Had this cake for St. Pat&#39;s day and it was so moist and the chocolate flavor was great!! Will be making this again and not just for St. Pat&#39;s!! Big hit!\n",
      "This chili is really good. I add milk instead of whipping cream (I think the whipping cream is too sweet), only one can of chilies, and 1 cup grated cheddar cheese right before serving. My husband said it tasted amazing!\n",
      "Great recipe Added a few jalepenoes for heat. !\n",
      "Wow!  This banana bread really IS the best I&#39;ve ever had!  I&#39;m not a big nut eater, so I changed those out for milk chocolate toffee bits.  My family is doing backflips! ??  Just go ahead and double the recipe.  You will definitely want an extra loaf, if just to share with another lucky family!  Enjoy!\n",
      "Amazing!  I did cut the sugar to 1/2 C - just personal preference. It was so moist and tasty!  Thanks for sharing!\n",
      "This is truly the best ever banana bread.  Very crunchy crust.Lori\n",
      "Had to try this after seeing them in the magazine and floating around the net.  My family was very hesitant to try it because of the mustard in the glaze.  I&#39;ve made it 3 times now, everywhere I go they are gone very quickly.  I have been making them by using a 24 ct pack of rolls.  I slice the top off, put the bottom half in the 9x13, layer on the toppings and put the top back on.  We don&#39;t use the horseradish or butter or anything inside of the sandwiches.  I use a large knife to cut through everything after they are done cooking.  We use 1/4 tsp. Onion Powder because we don&#39;t like onions.  I&#39;ve let it sit over night and I&#39;ve made them an hour after making them.  They are best when left to sit over night but still good if made sooner than that as well.  I haven&#39;t had so many people ask for my recipe in a long time, they are so unique and SO GOOD, YUM!\n",
      "I have never been one to like horseradish or mustard. That said, I blended sour cream and added horseradish to taste. The zip of the horseradish is part of what makes these so good! The dressing made to pour over the sandwiches, even with the dijon, rounds these out perfectly. I was SO glad I tried this and the family devours them! The convenience of making them several hours in advance, going to run errands or work in the yard/house, then poppin them in the oven when we get hungry is great too. A keeper of a recipe!!\n",
      "Great recipe! Definitely a keeper!\n",
      "This recipe is one of my family&#39;s favorites! Wheat tortillas work great too and make the dish even healthier.\n",
      "Very Moist and rich, a little heavy-as mine did not raise well, they seem to spread out over the top of the muffin tin, I would use non stick spray on the top before I put my cupcake liners in.  I also put frosting in ziploc bag, snipped corner and squeezed out the frosting on each cupcake.  This cut my frosting time in half.\n",
      "I add a few more seasonings, but this is excellent!\n",
      "This soup is WONDERFUL.  I don&#39;t like stewed tomatoes so I just used a can of diced.  I didn&#39;t add the extra chiles either.  Some may like a little more zing but I didn&#39;t want it to be too spicy.  Serve with a little cheese and corn chips.\n",
      "Made this for dinner tonight....loved it!!! Will definitely be making this again! Thanks for the recipe.\n",
      "I have found out a few things making this recipe.  1) use ice cream topping (I used Smuckers) and NOT SYRUP.  The syrup doesn’t set up.  2) it needs to cook about 15 minutes longer than the recipe says.  Always delicious and a new favorite.\n",
      "i made this for mother&#39;s day and a baby shower yummm best chocolate i have even made kids loved it\n",
      "I love this recipe.  Thank you for posting it.  I turn mine into seafood chowder by adding 2 cans of escargot and tiger shrimp.  I also use my home made bone broths either chicken or turkey as I can control the sodium levels this way.  I  don&#39;t have to add any extra chicken bouillon.  If I need extra salt I add 1/4 tsp of celery salt.  I always have reserve bacon grease so if I don&#39;t have any bacon on hand it has the flavour in the soup already.  It is nice to change it up once in a while.  I also use this recipe for loaded baked potato soup because it so much easier.  Enjoy!\n",
      "This really is the best banana bread I&#39;ve ever tasted!\n",
      "very tasty! not hard to make. I used the kind of noodles you dont need to boil before baking. good for one less step :)\n",
      "Almost all meatloaf recipes lack one thing that will take it to the next level. That is one medium grated carrot.\n",
      "Would this work as well with Chicken Breasts?\n",
      "This has been a hit with everyone who has tried it from family, friends and coworkers.  Many have asked me for the recipe.\n",
      "This is delicious.  I will  definitely be making this often.  The only problem I had was the cheese melting and clumping together when I mixed it into the vegies and linguine.  The next time I make it I will add the basil to the vegies and linguine mixture and toss. Then only sprinkle the cheeses on top to serve.  Thanks for a great tasting recipe.\n",
      "This is delicious and incredibly easy! Definitely adding this to the rotation. Followed the recipe exactly, except we didn&#39;t have any celery seed so I omitted that. Still turned out fab!\n",
      "My husband and I loved it and I would make it again for us, but the kids did not care for it.  Too many beans for their taste.  I followed another reviewers suggestion to cook it in the crock-pot on low and stirred in the sour cream and cream about 30 minutes before serving.\n",
      "Hubby made this for a company Healthy Living Salads contest and I was lucky to get a cup to try! He used full-fat Miracle Whip and packaged pre-cooked rigatoni that he chopped up which was a little chewier than homemade. He cut the onion to one and used a mild onion. The chopping is a chore to say the least but he likes doing putzy stuff like that. Using sliced water chestnuts would trim some of the time off. Since he made it the night before, the dressing and onions had time to mellow.Exchanges I&#39;d make in the future would be half Miracle Whip and half yogurt, trying plain and then lemon. For salad meal, I&#39;d add add cheese cubes, ham, chicken, summer sausage, that lonely hotdog and sunflower or pumpkin seeds. Maybe whole grain pasta. Fresh or frozen peas, maybe pineapple tidbits or tomatoes.This was good as is but can be used as a base to expand ingredients.\n",
      "This is a wonderful recipe, very full of flavor and texture. It has become a new family favorite. Thanks for sharing!\n",
      "Good basic cake. But I don&#39;t care for oily foods. So I added another 3/4cup of pumpkin and only a 1/4 cup of butter.. as we all knoweverything is better with butter!  I also added  a tsp of vanilla, 1/4 tspnutmeg, dash of ground cloves.  If you use a 15x10 pan it&#39;s a bar andmight want to check prior to the bake time stated.  9x13 pan is a cake&amp; will take longer to bake since it&#39;s thicker. Remember you shouldonly take bake times stated as a estimate of time needed. Rule ofthumb... EVERY OVEN IS DIFFERENT....AND TOOTH PICKS NEVER LIE.Always check it a little earlier then time called for- say 5 to 8 minutes.And lastly think about what ratio is called for in a recipe before youstart mixing it. You can catch misprints etc. before it&#39;s in the ovenand to late to fix if you think about what you&#39;re mixing.\n",
      "Before I made this I read all the reviews.  Based on those I added 3 large potatoes and cut the quantity of sour cream in half. The dish was perfect with those changes.\n",
      "It was very tasty but hard to cut into portions. My husband said he’d prefer it if I made the filling and gave him the tortillas and cheese so he could make tacos with it. That would solve the cutting problem. It is really just a big taco in a dish.\n",
      "I made this recipe when we went to visit our kids and grandkids.  I browned the meat and took along with the other ingredients.  I made this for our supper the night we arrived.  So easy.  Everything was open and add and the taste was incredible.  Would totally prefer this over chili anyday.  Add cornchips and sour cream and cheese.  So good.\n",
      "Huge success in my house of 3 kids and a husband.\n",
      "These were very good! I used whole wheat flour and old-fashioned oats. This recipe is a keeper.\n",
      "Tasty &#34;mistake&#34; we loved.  I made 1/2 batch for the 2 of us and accidently used diced tomatoes and green chilies 14.5 oz can  in my pantry right next to diced tomatoes on shelf.  It gave it just  a  little more &#34;kick&#34;.  I didn&#39;t add salt and I stir fried about 1/2 cup of chopped onions with the ground beef.  It was delicious and my husband really liked it.\n",
      "I have made this often!! It&#39;s amazing!\n",
      "This soup is awesome!!!  Using some of the chicken broth from boiling the chicken worked perfectly too!! It&#39;s hearty and tastes wonderful!\n",
      "Absolutely delicious!  We served it with Deluxe Corn Muffins, also in the Recipe Finder. ~ Theresa\n",
      "Have been using this recipe for years and I love it! Always consistently good bread!\n",
      "<p>I liked this recipe quite a bit. The one thing I would change is the amount of brown sugar. I have a real sweet tooth, but this seemed like a bit too much sugar to me (especially for an entree). Next time, I will likely reduce the amount of brown sugar by half. But overall - a very good meal loaf! </p>\n",
      "~LOVED IT~ I thought the recipe called for too many seasonings with the taco saeasoning,italian dressing, and cumin so I discarded the cumin, and italian seasoning and thought to add only ONE Tbsp of taco seasoning.My husband hates beans and he loved this recipe. I thought it was very, very good and would deffinately make it again! Even better hours after baking.\n",
      "This soup was so good!! So rich and creamy. A quick meal that gives an all day comfort food feel! We were licking our bowls clean.\n",
      "This recipe came with my very first Taste of Home magazine. I had looked and looked at that cake and thought to myself that that cake couldn&#39;t tastes as good as it looked. Oh, Mother of Pearl I was wrong. Over the top it is. I didn&#39;t think my husband would eat it because he can&#39;t stand coffee and it has coffee in it, but I was wrong. This is the only chocolate cake they ever ask for. Suits me. It is out of this world fantastic. I have made it over and over again. It is soooooo wonderful. Thanks for this recipe.\n",
      "This soup is excellent!  Everyone loved it, I also added some chopped onion because I had some handy from making another soup\n",
      "I added more cheese and italian sausage with the groundbeef. It was very easy to make and all my kids said it was &#34;good to eat&#34;.\n",
      "Just made this tonight on Thanksgiving and wow the family and I really loved it this was my first time cooking Thanksgiving dinner thanks big home run with this Mac &amp; cheese\n",
      "Very good and simple to prepare.  The only change I made was not adding the cream corn and instead 2 cans of whole corn.  I would take the advice from others and increase the temperature to 350.  At 325 the center was not done.\n",
      "fantastic  I added 1/2 cup baby oatmeal to it\n",
      "This is an extremely delicious recipe !!!  My  husband ate an entire pie to himself in one day for breakfast lunch and dinner ! I am currently going to the market now to gather the ingredients to make more!  A major hit in my household!\n",
      "My family loves this recipe!\n",
      "OMG, this was an amazing pie. I have made so many things for my family and me, and this was by far their favorite thing I&#39;ve ever made. I read the reviews before and used heaping tablespoons and it worked out great. I didn&#39;t measure out my lemon juice. I honestly just poured whatever the apples needed :D I actually really liked a little bit of that lemon flavor. I would recommend some more some cinnamon, but I really love cinnamon so that&#39;s your choice lol. I used a pre-made frozen pie crust, and as you can see, it worked out great. Ovbiously, I had to buy some more to get the top covered. I recommend to not be shy with the egg whites! I brushed all the egg white on the top, and I&#39;m glad I did. I thought about not using all of it, but I did, and got a great pie. All in all, this was the most awesome pie ever! SO glad I found this recipe. &lt;3\n",
      "Excellent, will make again.  I doubled the recipe and it made exactly 10 pancakes  with 1/3 cup of batter each.  These are a hearty, stick-to-your-ribs kind of pancake because of the oatmeal...\n",
      "I made this recipe using tortilla chips instead of the flour tortillas.  It was delicious!  I will definitely make it again.\n",
      "I made these today. They were easy to make and the recipe was easy to follow. I am taking them to a party and I&#39;m sure everyone will love them. I&#39;m sure I will be making them year round. (We love pumpkin)\n",
      "I opted for a  9x13 pan and totally happy with the result. I used a few more cookies for bottom crust to insure coverage. All finished, the dessert fills the pan to within 1/4&#34; of top edge.\n",
      "This is delicious! I&#39;ve made half a dozen loaves in the past month; I have a houseful of pumpkin anything fans. Better than Starbucks! Don&#39;t get the bad review, something was off, maybe the oven? Mine&#39;s turned out perfectly every time.\n",
      "This is the main meatloaf that I make.  I have made changes, though--I&#39;ll top it with barbecue sauce and I also sometimes cook it in my slow cooker (high for about 3 hours).  It is absolutely wonderful!\n",
      "I have made this cake in one form or another for years and it is always a big hit with family, friends and co- workers.\n",
      "I found that 2/3rd full was a little to much, next time I&#39;ll use less.  Tastes like spice cake, very moist and everyone loved them.\n",
      "This recipe has everything a person with a sweet tooth probably loves - peanut butter cups, pudding, whipped topping, and oreos.  I don&#39;t usually like peanut butter in things except a sandwich but for this delectable dessert I changed my mind!\n",
      "These are really easy and so delicious. I only had a half sheet pan. They were thinner than usual but still turned out great. Highly recommended!\n",
      "Delicious. I added a bit of corn starch to thicken it. A hit with my husband too. Thanks for sharing!\n",
      "The BEST salad ever.  People who don&#39;t like Coleslaw liked this one.  I did not use water chestnuts, and substituted Splenda for the sugar.  Delicious.\n",
      "this pie looks marvellously delicious.\n",
      "VERY easy to make; great taste! I used shredded rotisserie chicken and I spread refried beans on the burrito style shells rather than using pinto beans. I think that chopped onion would be good in the chicken mixture as well.\n",
      "This is the best chicken fajita recipe that I&#39;ve tried. I sub 1 teaspoon salt for the seasoned salt and I use olive oil instead of canola oil. Everyone that has tried these raves about them.\n",
      "Love that the recipe makes two pies, one to bake and one to freeze!\n",
      "Great cookies! A tip: they are best after 2 or 3 days (you&#39;ll have to hide them though!)\n",
      "I make this a lot … my kids and there friends come over and ask me to make this all the time ..\n",
      "This is my second review and it is still thee best banana bar recipe.  You can use a 13&#34; x 9&#34; greased pan.  Increase baking time to 35 minutes or until done.  You only need half of the frosting recipe and it is the perfect amount for the 13&#34; x9&#34;.\n",
      "These are soooo yummy!\n",
      "This soup is awesome! I did not have any ground beef but had some pot roast left over so I cut in small chunks and added instead. Delicious warm and hearty soup. (a few chopped jalepenos added would be a good addition too)\n",
      "This is an excellent cake.  Made it just as recipe instructed.  You need to have oven preheated when making this cake.  It needs to go into the oven as quickly as possible, while the batter is still warm. I think it rises better that way.\n",
      "It really looked delicious! I can’t wait to try it !!!Thank you!\n",
      "My husband and I both loved this, I wouldn&#39;t say it&#39;s a simple recipe but it is very tasty and uses up tomatoes from the garden it a wonderful way. I did&#39;t have fresh basil so substituted 1 tablespoon of dried, very yummy\n",
      "Good. Used pumkpkin spice Country Crock spread on top. No need for syrup. Thought they would be good as an egg sandwich w/ fried egg between two pancakes.\n",
      "Wife and I enjoyed the dish.  Good mix of sweet and savory, crispy and tender.    Changes I made to the recipe include frying chicken in bacon grease prior to sauteing onions in bacon grease.  Also used Beasley&#39;s Smokehouse Rub Poultry Powder, https://www.BeasleysSmokehouseRub.com/shop, to season the chicken.\n",
      "This sounds amazing.  Does anyone know how long to cook it for two pork chops?\n",
      "This is absolutely delicious. Only change I did was use half cottage cheese and half ricotta of the total 32 ounces of both.\n",
      "Do You know what the calorie count and the fat count would be? I am on Weight Watchers diet, but this sounds really awesome.\n",
      "I made this bread for a church function and it went together so fast that I decided to make another one for my family. It is so good. I&#39;m not even a big fan of lemon and I loved it. With the fresh lemon peel and juice it is such a great quick bread. Will be making this again.\n",
      "When I have to tweak a recipe I automatically take a star away.  With that being said, this recipe was good and we enjoyed it but it does need the additional brown sugar for me.  I added a fourth of a cup and everyone loved it!  I will make it again.\n",
      "My 12 year old son loves this delicious dish. He likes the honey grilled shrimp better though.\n",
      "Delicious!\n",
      "Just made this.... delicious! I double the recipe &amp; did 1:1 with chicken broth &amp; chicken stock. My family isn’t fond of mushrooms per se, so when it was all done, I puréed it in the blender. Easy &amp; so good!\n",
      "this is a perfect fudge to make with my 12 year old son he loves peanut butter,and loves fudge.Go peanut butter lovers!\n",
      "This is Great and requested lots by family members. I do not make the glaze when I make it, the bread does not need it! This bread is so moist! Only recipe I use!\n",
      "WOW! Love these cookies! They are soft and chewy and the flavor is fantastic! I also added a cup of raisins, and only had French vanilla instant pudding, but it worked just as well. I had to bake them for 15 minutes, but I may have made mine a little larger. Instead of butter I used Smart Balance. These cookies could not have been better and I will make them again and again.\n",
      "Remove from oven top with shredded cheddar cheese or shredded swiss cheese and return to oven until cheese is melted.\n",
      "I have made these many times for family and meals to take to friends. Everyone loves them! I make them exactly as the recipe calls!! They are fabulous!!\n",
      "I tried this pie last night.  I was a huge hit. I did, however, use an Oreo crust. Looked pretty and tasted wonderful.  Everyone liked it and the people with health problems were not afraid to eat a big piece!  It is so easy and hits the spot after a big meal.  This recipe is a definite keeper!!   lilbit2\n",
      "I treated just like a pizza and added to the top mushrooms, onions, the green pepper and turkey pepperoni.  It was great!!  I took it to a dog show and came home with an empty dish.  To make it healthy I used Turkey pepperoni and turkey sausage and pizza sauce instead of tomato sauce.\n",
      "Best chocolate cake ever.  Printed it and taped it inside my kitchen cupboard.\n",
      "This recipe is easier than making the whole thing from scratch, which my sister does, but tastes equally as delicious! My family is over the top so I adjusted the recipe, added an extra cup of sugar and an extra can of corn kernels. Yummy! More like a dessert though. No more ridiculous than candied yams I guess. Funny how we can turn perfectly healthy foods in to either candy or a heart attack! Happy thanksgiving!\n",
      "Excellent but I think ?? half 2% and half heavy cream would of been better along with a bit of salt or some type of seasoning. But overall fantastic\n",
      "Mine was a total disaster, raw in the middle and so dense. I cut the crust thinly off and they were yum. I think the recipe  is confusing  as i read it 2 1/4 cups of water and   3 cups flour  then it asked me to add . Mix till smooth well it was dough at that point  couldnt add in any more flour\n",
      "I&#39;ve made these more times than I can count for my family &amp; for company.  Everyone loves them.\n",
      "My whole family loved this.  Sometimes we put mini dark chocolate chips in as a treat too!\n",
      "I was looking for a quick and easy yet delicious macaroon recipe and I found it.  My husband loved it!  I followed the recipe to the letter and all I can say is I will have to double the recipe next time, just not enough with 1 batch!\n",
      "Four stars because I made so many substitutions, but this is an easy recipe that adapts well to different tastes. I went the savory route: used only 1 T. sugar, added 1/2 c. chopped onion and 1 chopped jalapeno, sprinkled cheddar cheese on top the last few minutes of baking. Wow - was it good!\n",
      "This was really good! I tweaked it a little to make it my own. First, I cooked this in my crockpot on low for 7-8 hours….browning the meat first with the taco seasoning which I doubled for more flavor. I also used beef broth instead of water. I added another can of diced tomatoes in addition to the stewed and also added in a 4oz can of sliced black olives. At the end of cooking, I added in 4oz of cream cheese to make the soup a creamier version. Served it with some cheese sprinkled on top, tortilla chips and sour cream. My whole family loved it! Will definitely make it again.\n",
      "wow! wow! Wow!  &#34;Winner winner turkey dinner&#34;!\n",
      "LOVE this recipe!  I make it at least once every couple of weeks during the cold fall and winter months.  It&#39;s quick to prepare and the leftovers are just as good, if not better.  My family also likes to add shredded cheese and tortilla chips on top.  Yummy!!\n",
      "I made this cake last sunday when I had friends over fo a wrestling show and they loved it some asked for seconds it was very good\n",
      "I&#39;ve just recently begun to cook, and even the simplest things seem overwhelming for me. This soup, however, was as simple as can be, and turned out to be delicious! I made it for my family, and got some compliments (even the four-year-old ate it)!\n",
      "So creamy and delicious!\n",
      "Great recipe. Very easy to make.  I loved that I had all the ingredients on hand.\n",
      "I used a combination of ground beef and Italian sausage, omitted the salt, doubled the oregano, and used regular lasagna noodles.  The filling tasted good, but the noodles turned out with a weird, hard-to-describe consistency -  like chewy cheese or mushy noodles.  In the future, I think I&#39;ll just make it in the oven.\n",
      "I&#39;ve been making this recipe for years and we love it! I substitute plain bread crumbs for the saltines, but it is great either way!!\n",
      "Absolutely outstanding, It&#39;s all I could think about today\n",
      "Also.... a real crowd pleaser! Everyone was raving over it!\n",
      "Perfect cornbread....moist and delicious.  I did cut the sugar back to about 2/3 cup which still gave it a slight sweetness.  Served it with ribs during football game and it got rave reviews!\n",
      "We have made this recipe many times because its so easy and delicious.  We make it for company and we make it when we are camping.  Ive also used the marinade for grilled salmon filets with great results.\n",
      "<p>I make this recipe all the time and LOVE it!  It&#39;s great with home made french bread.  Works great over a campfire too!</p>\n",
      "I saw this same salad in the Jewels Food Store Deli. Bought a half pound. Figured  out simple ingredients, looked up recipe, found this one. Only difference is they added cheddar cheese, green and red pepper. I added 1/2 cup Cesar dressing, and little grlic powder. YUMMMM.\n",
      "family favorite for YEARS!\n",
      "This was great. I used spicy Italian sausage and sausage tortellini loved it\n",
      "TASTES GOOD ENOUGH, A LOT OF STEPS, MY FAMILY JUST WAS&#39;NT A BIG FAN\n",
      "Fantastic- I added a tiny bit more sugar- they are so so so so good.  A little kick to them, very rich, but delicious.\n",
      "These cupcakes were amazing and we all loved the caramel frosting too!  This will be my &#39;go to&#39; recipe for zucchini from now on.\n",
      "Excellent recipe. I used Corn tortillas.\n",
      "My family LOVED this soup. We all added hamburger pickle slices to our individual bowls and it gave it a whole new flavor, fantastic!\n",
      "absolutely delicious! If you like, use shredded cooked chicken in the filling (add after the onions are cooked in a little olive oil) instead of the beef. Substitute chicken broth for the beef broth.\n",
      "Easy and good.  The dumplings were not &#34;gooey&#34;  Even my picky eater ate some.\n",
      "Simply amazing\n",
      "This recipe makes the best cornbread my husband and I have ever tasted!\n",
      "A simple and comforting dish.  Loved it!\n",
      "I skipped the skillet part and just baked the whole thing in the oven.  Really good, we all liked it!\n",
      "I have used this recipe for over 20 years.  My family loves it.  I even make it in 3 round cake pans, and take it to bake sales, and they are gone in  minutes for a good price.  I also change up the pie filling.  Mine doesn&#39;t call for the glaze.  It has you sift powdered sugar over the top after it is cool.   We love it as coffee cake in the morning too.   My grandchldren can&#39;t get enough of it.\n",
      "Best Chocolate Cake ever.\n",
      "This is excellent for the past two X-Mas it is requested\n",
      "YUM!  Time consuming, but worth it.\n",
      "I&#39;ve made this dozens of times and it&#39;s SO delicious! The chuck roast comes out perfect--tender and juicy, and the sauce is scrumptious.\n",
      "This was delicious. I assumed the 1/4 cup of sugar for the glaze was powdered sugar. Has anyone used granulated sugar for the glaze?  Not sure which is correct.\n",
      "Love this thank you made with ground turkey breast yummy and freezes well for lunches\n",
      "Made this into a bundt cake, came out delicious!  The orange juice makes it taste so good.Going to make into Zucchini bread, grandkids loved it!\n",
      "I wish I could show you a picture of how beautiful these came out!  Followed the recipe exactly using large eggs, not XL, and decided to just do an even dozen. They baked for 24 minutes at 325?F. They smell amazing and taste is so good!\n",
      "I have made this and it is delish. I have also used boneless chops and instead of the chicken broth, I have used 1 can of cream of mushroom soup mixed with a 1/2 cup of sour cream. Both are wonderful.\n",
      "I make a cake very similar to this - try this, when the cake comes out of the oven and has cooled, poke with a fork and put the crushed pineapple with juice over the cake, taking care to spoon it on all over the top to spread the juices over the cake.  it does not get soggy at all!  then spread the cream cheese mix over the pineapple and top with the cool whip.  i like to top it with coconut for a more tropical take.\n",
      "Question it says 2-1/4 does that mean 21/4 cups of water? Or 2 1/4 cups of water which =1/2 cup?\n",
      "Excellent,  would not change a thing!\n",
      "such a good recipe.! really like the cake and the frosting!~\n",
      "Apple pie is my husband&#39;s favourite, but I rarely make it. Yesterday I picked up a 2 pack Tenderflake crust, and made this for him. It went over well. I did omit the ginger (preference), but next time I&#39;d reduce the nutmeg a bit too.I found it a bit too sweet, but that may have been because I used Gala apples and they were quite sweet. I&#39;d like to try it with Granny Smith next time.\n",
      "I&#39;ve made this several times now and it&#39;s gone before it has time to cool.  I use extra lemon in both the bread and the glaze to give it a yummy tart flavor.\n",
      "We really enjoyed this. I was concerned about putting a whole green pepper on top of the cheese, so I put most of it in with the beef and onion to cook. I also added some italian seasoning and a sprinkle of red pepper flakes.\n",
      "Everyone at the office LOVES these cookies!\n",
      "MMmmMMmmMMmmmm....  I love coming home to this scrumptious lasagna after weekend errands.  At one time, I did have some of the tomato ingredients so I substituted the sauce ingredients for a can of spaghetti sauce, and it still came out just as amazing.  Good stuff!!!\n",
      "I laughed when I saw this &#34;new&#34; recipe. I got this exact recipe from taste of home 10 years ago and have been enjoying it for 10 years!!\n",
      "A win with my family.... my husband was tasting before it went in the oven and said it can be eaten just like that....thanks for sharing this recipe.\n",
      "I doubled all the ingredients and baked in a 9x13 pan. It was full to the top, but only boiled over a little (thankfully, I followed other reviewers&#39; suggestion and put a drip pan underneath). I refrigerated overnight and then warmed the next day and served with vanilla ice cream. Spectacular! I think chilling overnight helped firm it up and warming did not liquify it too much.\n",
      "Supper good!!! I like to make a recipe as written the first time I make it.The second time I made this I thought I would lighten it up, it&#39;s to goodto eat just a cup of.... So I used smoked ham with no bacon. Pet milk anwater for milk and half as much cheese. Added 2 cups celery andmade some creamed corn to add as well as the whole corn. One tblspflour instead of 3. Still very good and I think it was alot less calories. Iused home canned corn, and never add sugar to it when I can it.\n",
      "My picky husband rated this an 8 out of 10, and this says a lot! Based on the reviews, I added a can of diced tomatoes with its juice; it was perfect!\n",
      "Excellent flavor.  I&#39;ve made this many times.\n",
      "Very easy and good. Motleygirl123 no cooking ravioli. It cooks in the sauce in the oven. If it doesn&#39;t say to cook it don&#39;t. If you precook it the pasta will beswollen and overdone chewy. Not a stupid question at all. I learned from experience!! :-)\n",
      "Excellent. I used the juice of a whole orange instead of the 1/3 cup water.\n",
      "This soup is sooooo good. It is one of my all time favorites. Very much a &#34;comfort&#34; food.  This recipe is a keeper, I like to keep some in the freezer at all times.\n",
      "Can&#39;t believe i haven&#39;t reviewed this before. Been making it for years. Every one enjoys it. The only change i make (i never buy canned mushrooms), i used fresh mushrooms, sliced, then nuked in micro for a bit.\n",
      "My husband and I didn&#39;t like this recipe.  It had an aftertaste that was unpleasant.  I think from the Italian dressing.\n",
      "This recipe has been a family favorite for more than 10 years, after first seeing it in Taste of Home magazine. Our copy is getting a bit frayed, glad to see the recipe is available online. Delicious!\n",
      "I try a variety of  banana bread recipes and this 1 is easy and everyone loves ir. My husband said that we could stay with this recipe from now on!\n",
      "Wonderful dish, full of flavor, try with confidence.\n",
      "This soup got rave reviews from my hungry hunters last night.  To shorten up the prep time I have used hashbrowns and frozen celery/onion/carrots.  We garnished it with shredded cheddar and crispy bacon. Definitely a keeper recipe.\n",
      "We loved it!  I am going to make it Monday for a group dinner meeting.  My only modification was to reduce the heat for myself; I put the hot sauce on the table.  The flavor was wonderful!  Thanks!\n",
      "I made the recipe as written, and it was very good; but I agree with other reviewers that it is too sweet. Next time I make it I will cut back on the sugar and may add some sauteed  onions and/or grated cheddar cheese.\n",
      "After 44 years of trying to make my husband happy with lasagna, I finally nailed it. I didnt make the sauce sunce Prego is our favorite ( I have made many home made sauces in my cooking career) and we always go back to Prego.  It saves time in the kitchen.  I used Asiago-Parmesan instead of just Pamesan.  EXCELLENT\n",
      "My fiance and I made this for the first time tonight... and it was AMAZING! It was a delicious balance of cream and spice. We would recommend this to anyone!\n",
      "Great recipe!  Made almost exactly as written (left out the sour cream since it was already so creamy). My husband and I both loved it and can&#39;t wait to make it again.\n",
      "Delicious family loved it\n",
      "I made them but I think I cooked them to long. They are good and we can eat them but 15 minutes is not long enough to cook them and 20 minutes is to long. I will try again.    FancyBetty\n",
      "YUMMY- I made two pie&#39;s ,so simply and so  good. I&#39;m giving the other one to my sister in law for her family for Easter. Thank You, Lee-Ann Treacher\n",
      "What are capers?  Can something else be substituted so I can make this tonight?\n",
      "When you say 1/4 ounce of yeast, does that equal to 7grams of yeast? I have access to dry yeast by the packets. Each packet contains 1 g of dry yeast. Do I use 7?\n",
      "I made this for a family gathering. I was pleasantly surprised how easy and delicious it was!\n",
      "Really liked this recipe.... made it exactly as Beverly wrote it!! YUM!\n",
      "I decrease the amount of brown sugar in the topping and add a couple of broken up Butterfinger candy bars. It is a huge hit!\n",
      "This is a recipe with many steps, but the end result is incredibly worth it. It is so very delicious and is a hit with everyone who has tasted it. Yours will be the most popular treat if you make this for get togethers.\n",
      "Also used a regular cake mix.\n",
      "Flavorful.\n",
      "does anyone know how much pudding to use? recipe says 1 oz but you can&#39;t buy 1 oz pkgs.\n",
      "the pudding is dry and the pineapple with juice is added instead of mixing the pudding as directed on the box. i have used this topping recipe with the cool whip to make a dream pie.  it is very good.  but it depends on what flavor pudding you use.\n",
      "My mom has made this for years and is the &#34;go to&#34; recipe when all of the family is over for breakfast!  EXCELLENT!!\n",
      "I’ve been making these ever since the recipe was published and my friends and family love it. I triple the recipe and use ground round or ground chuck instead of hamburger. I freeze 1 1/2 - 2 cups of sauce in a freezer bag and 2 1/2 cups meat in another freezer bag. Tripling the recipe makes enough for 4 - 5 meals. I use this recipe when a friend or family member is sick and needs a meal. Everyone asks for the recipe. The only change I’ve a made is an omission: I don’t add salt because there’s already salt in the broth and tomatoes. I also lean towards the lesser amount of chili powder because I have two daughters who don’t like spicy food. I love this recipe because it doesn’t have any beans, making it very kid-friendly!\n",
      "This recipe was a hit! We loved it.\n",
      "The topping calls for half-and-half cream.  How much?  It does not give a measurement in the recipe.\n",
      "I really thought this was going to be better based on all the other reviews.  Maybe it was the kind of black beans I used or the type of Italian dressing, but my family didn&#39;t love it.  I may try this one again just because I love anything with tomatoes or cilantro.\n",
      "Awesome!!!!!!!!!!!!!!!!!!!!!!\n",
      "SO DELICIOUS!!! No other lasagna even comes close to this one.\n",
      "This is our favorite main dish zucchini recipe!  Just top it with whatever your favorite pizza toppings are if you want more flavor than the ground beef.  I usually use the ground beef, onion, tomato sauce layer then might add some pepperoni, olives, sausage, additional onion, mushrooms......whatever I want on my pizza.   Love it, love the results, not watery at all.\n",
      "ok everyone, with bread, more flour = more dense, less flour = more fluffy. I do 1/2 recipes and i rarely use more than 2.5 cups of flour   once you learn this, this recipe, along with your breadmaking skill in general,  is great.\n",
      "is the dry chocolate part the hersheys can unsweetened cocoa.\n",
      "I didn&#39;t have the beans so I made it without &amp; it was more like a soup. It was delicious. I will definitely make this again. And again and again. :)\n",
      "My husband and I loved this recipe, it was great.  Will try it with a little bit less of the sauce.  Will definitely make these again.\n",
      "This cake is very good.\n",
      "Four stars for taste. One star deducted for the instruction to use an 8x4 pan. It was too small and batter bubbled over it. Also, the top browned quickly but that was mitigated by putting a piece of foil over top. Unfortunately the bread was still gooey underneath even after 70 minutes so I scooped it into plates and microwaved it to firm it up. My hubby isn’t a big sweets eater but he really, really liked this. I left out the nuts because I don’t like nuts in baked goods. Next time I make this I will only use a 9x5 pan and hope for better results.\n",
      "I did this yesterday for my first dinner party with church friends and it was awesome! Used light brown sugar instead and served with 1-minute brown &amp; wild rice &amp; wilted spinach.Not a bite was left!!\n",
      "We did not like this at all.  It was too salty from all the packaged mixes.  I will not be making this again.\n",
      "I have made Carmel Heavenlies  many times. The first time was when I received &#34;Taste of Home&#34; magazine. I took them to a bake sale and included the recipe . Was a great hit..\n",
      "Made this for bookclub and it was delicious.  Took the rest to work the next day and it was a hit!\n",
      "I really wanted some banana bread, but did not have a &#34;Go to&#34; recipe.  I trust Taste of Home so I came here to look for one.  This one rocks!  Easy recipe with basic ingredients.  Turned out great.  It&#39;s a keeper!\n",
      "This coleslaw is sooo good! It was a hit with all of my friends. Because of the variety of spices this coleslaw was fresh and tasty.\n",
      "A good recipe.  I used only 1/3 c. sugar, still a good flavor.  I did sear the chicken first, placed the slow cooker on high for an hour then finished on low for only 2 hours. The chicken was so tender.\n",
      "We make this often. I first tasted corn pudding as a side dish at El Torito Restaurants but their recipe was much more involved. My recipe calls for undrained corn, no milk and NO added sugar. You can also make your own cornbread mix if you don&#39;t like using packaged mixes.\n",
      "I have been making this recipe since it was first published in 1996. It is a family favorite that I make at least once a month fall through spring. I add a bit of cayenne or tabasco for my family who likes food zippy! Wonderful recipe! I also have found that using frozen hash browns is a timesaver.\n",
      "perfection\n",
      "I&#39;m giving this 5-stars for taste! In my own recipe book, it&#39;s a 4-star recipe because I reserve 5 stars for recipes that I would serve to company and it&#39;s not quite fancy enough for that. But when it&#39;s a cold and rainy night, and you&#39;re home alone with your husband staying in, and you have a loaf of french bread that needs to be eaten, this is the perfect meal. I just used a spicy salt and pepper blend instead of hot sauce. We loved it.\n",
      "Yummy! I’d make it again.\n",
      "Made this recipe to the letter except added walnuts to the batter and frosting.  Batter mixes up well and bakes quickly in the sheet cake pan.  Frosting is tasty, but does not have as strong of a cream cheese flavor as recipes made without the added butter this one has.  The cake is relatively moist and has a nice texture, but without any spices, it tastes a bit bland.  I  will make this again, but will add some cinnamon and/or nutmeg  to give it a bit of a boost in flavor.\n",
      "Great recipe and so easy!! The first time I made it I cut the recipe in half and made one pie. The second time I made it I cut the recipe in half  and made three small 51/2 inch individual pies. The next time I will make the full recipe and make individual pies and freeze some. I followed the recipe exactly except I added a little extra broth to make it more creamy. I absolutely love this recipe! This is my go-to Chicken Pot Pie Recipe!! Thank you for sharing!\n",
      "I saw this recipe years ago in the Quick Cooking Magazine.  I have been making it ever since as it is a family favorite....it&#39;s often requested by the kids for their birthday dinner!\n",
      "I love this recipe.  I have  made it several times and it is a favorite.  I usually use 3 cans of beans.  I like more beans in my chilie.  This is spicey so make sure to have bread handy.  Excellent.\n",
      "Very, very, good! My family loved it!! Thank you for sharing this recipe!\n",
      "Amazingly good.  Going to test it out with lowfat sour cream next time.  I couldn&#39;t find chopped chillies, so I used salsa verde instead.  Really really good, I might replace my old red chili recipe with this!\n",
      "Very delicious and easy to make. Will for sure make again and again and again...\n",
      "I made these to take to visit a sick family member and was pretty disappointed by the lack of flavor in the bars themselves. They definitely need spices other then just cinnamon and I regretted not adding ground cloves, ginger, and nutmeg but I wanted to make the recipe exactly as shown. The frosting was good but was the only flavor you could taste.\n",
      "It was ok.  Since some commented it was more soup than chili, I did add more chicken.  I didn&#39;t adjust any of the spices so maybe that&#39;s why it seemed a little bland.  Even with the extra chicken there was way more onion than I ever care to have. It reeked of onion when I lifted the lid.  Maybe this is a good base to start off at, but I wouldn&#39;t make it as written again.\n",
      "I have made a wacky choc.cake for years and this :has similar ingredients.But I question that this recipe has only 2c of flour, not 3c.  Likel theacky cake.I have not baked this cake because of the flour discrepancy.Are you sure it is 2c flour.?  For the . Liquid ,sugar,and cocoa amount IT does not seem proportional to the liquids.\n",
      "This cake is VERY good, gets moister as it sits in the frig.\n",
      "Does it actually HAVE to be sugar-free caramel topping or will reg. Smuckers work? I want to try it for Thanksgiving.\n",
      "This dinner is quick, easy, and has lots of flavor! I added an extra clove of garlic for a little more kick and it was delicous!\n",
      "Yum! If you like really thick chili, I would suggest cutting back on the stock and sour cream/whipping cream a bit (and maybe the cayenne pepper too then) or adding a bit of cornstarch to thicken or pureeing a portion as other reviewers mentioned, but we thought it was really good as written! Just the right spiciness- I can&#39;t tolerate much heat but this leaves just a little &#39;bite&#39; in your mouth after eating it. (Or...if it&#39;s too thin- maybe you&#39;re not simmering it long enough with the lid off?)\n",
      "This recipe is definitely a keeper.  I made it for a family dinner and it got rave reviews.  The peanut butter flavor came through with the chocolate for a taste combination that is classic.  Thank you for sharing a great desert.\n",
      "First time I ever made shepherd&#39;s pie! Really appreciate this recipe it tastes really great can&#39;t thank you enough looking into the next recipe now\n",
      "The best recipe I’ve found! I used a deep dish pie pan and it came out beautifully. Will definitely make many times. Shared a photo of it with my daughter who asked me to make her one this weekend!\n",
      "Try it with chili beans and use their sauce.\n",
      "The cake is great! I wish that the recipe would mention that the whipping cream should be whipped 1st.  1.5 pounds of powered sugar just doesn&#39;t make a nice frosting. Oh it spreads ok, but you can&#39;t taste the cream cheese. When it has a 4.5 star rating  I didn&#39;t think I needed to read the reviews for tips.\n",
      "Good stuff!!! THINGS I DID DIFFERENTLY: I sauteed 1 fresh garlic clove and one finely chopped jalapeno, upped more spices, added a dash of cinnamon and shredded a pre-roasted chicken to save time. I also added more cayenne pepper because it just wasn&#39;t spicy enough for me. I also mashed up one can of the beans to help thicken it a bit. And I used garlic salt instead of reg. salt. I added bacon crumbles and sharp cheddar. This made it super flavorful and CLEARLY not healthy. At all. But so good.\n",
      "This was quick and easy. I also didn&#39;t realize the vegi&#39;s had to be thawed and threw them in frozen, still came out great. Everyone loved it! I will definitely be making this again!\n",
      "Fantastic flavor- quite zippy, too! the one major thing I&#39;d change is that the peppers got quite soggy cooking as long as the chicken. Next time I&#39;m going to add them at the earliest half-way through the chicken-cooking time. The rest of it was Fantastic!\n",
      "This is a go-to recipe in our house, especially when we have people over in the summer. Whenever I make it, people always ask me for the recipe.The only change I make is to use boneless chicken breasts rather than chicken thighs.\n",
      "ABSOLUTELY LOVE THIS....I&#39;M NOT A HUGE CHILI PERSON, BUT THIS IS SOOOOOO GOOD...COULDN&#39;T GET ENOUGH OF IT....I DIDN&#39;T USE THE PEPPERS AND USED MILD ROTEL FOR THE CANNED TOM. AND GROUND TURKEY....DELICIOUS!!!  SERVED IT A PARTY, EVERYONE LOVED IT, AND YOU WOULD NEVER KNOW THEIR IS PUMPKIN IN IT!\n",
      "I decided to make it today after reading the reviews, but it was extremely sweet. I won&#39;t make it again.\n",
      "This was good. However my blueberries did so k to the bottom. I googled my problem and apparantly if u toss the fruit in the flower mixture before adding this will prevent them from sinking. It was a little sweet with the icing so next time I will have to try a confectioner sugar glaze.\n",
      "I&#39;ve made this twice this week. It&#39;s great!\n",
      "Tried this the last time it was posted.  Did not like.  Delete recipe.\n",
      "I think my family must have been last :) We never made separate white sauce.. we layered potatoes, flour, butter pats , salt and pepper..then we poured milk over the top ...if we had pork chops as our meat we put them on top of the potatoes..\n",
      "Yummy and semi-healthy!  Even those who gave me a funny look when I told them what kind it was were happy they tried it. I am ready to make some more this weekend!\n",
      "this is a large and tasty pie. I added a little cinnamon and will try other fruits and berries when I make it again.\n",
      "The best pumpkin bread I have ever made. A Quick and easy recipe. Thank you for sharing :)\n",
      "This is yummy.  Very easy to make.  Refreshing change from chocolate cake.  Will definitely make it again.\n",
      "I can&#39;t get over how delicious this dish was!!!!!  It is by far, one of my favorites!!  Thanks for sharing!\n",
      "Easy to make, moist, and delicious!\n",
      "YIKES 450 calories and 33 grams of carbs?  Looks great but unhealthy as all get out\n",
      "<p>This is the best soup recipe ever! Except, I double the hamburger. A friend, a vegetarian, leaves the hamburger out and she loves it that way.</p>\n",
      "We have been making this for years now and its hands down our favorite chili recipe.  One thing I love about it is that you can substitute low fat versions of the cream/sour cream and its still just as good.  I&#39;ve even used skim milk in place of the whipping cream with no problems!   We always serve it with the  Zucchini &amp; Cheese Drop biscuits.  To die for!\n",
      "The cook time at the top doesn&#39;t match the bottom. An additional 75 minutes was not built into my planning time!  I&#39;ll be eating at 10pm. Can&#39;t let you know how it is until then!Oh wait. I just reread this after reading several reviews and finding one that mentions time. That&#39;s the frozen pie option. Time to take it out of the oven!\n",
      "I only use butter for cooking...and I do leave the foil loose.  I&#39;m wondering if it would be the brand of bread crumbs?  That is the only thing I can think of.  Thanks so much for your response!\n",
      "Where is the cream cheese that&#39;s mentioned? It&#39;s not listed in the ingredients or directions.\n",
      "Perfect! There is a reason so many people have given this recipe 5 stars.\n",
      "Delicious! Followed the recipe exactly and it was amazing.1 tbsp of pumpkin pie spice =1 1/2 tsp cinnamon1/2 tsp ground nutmeg1/2 tsp ground ginger1/4 tsp ground cloves\n",
      "The best I have tasted.\n",
      "This has become a “go to” recipe each Wednesday night for our family. To make it extra tasty, we double the sauce and add white wine, and do a pound and a half of shrimp to get more protein. Delicious!\n",
      "Simple and Delicious! It’s a little dense, but the flavor is on point!\n",
      "My pie did not turn out as expected, was very disappointed.  I&#39;ve gone over the recipe many times as I was sure it was something I did wrong, but I just can&#39;t figure out what it was.  I made 2 of these pies for Christmas and had to throw them both away.  I read the reviews and the caramel sauce is supposed to sink to the bottom, but how does sauce with 3 eggs in it sink?  It turned out like terrible caramel scrambled eggs on top.  I&#39;ve baked before and really can&#39;t figure out how everyone else can make it come out right, but mine was so terrible we couldn&#39;t eat it!\n",
      "This pie was delicious!  I made it for a friend for her birthday and she loved it too.  Very light and refreshing.\n",
      "Made this last night and husband loved it. That&#39;s enough to make me add this to my  recipe collection. This is sure to be a regular at our house.\n",
      "This is my favorite banana muffin recipe because I don&#39;t have to deal with shortening or butter!  I do add about 1 T of cinnamon to the dry ingredients and accidentally added a second egg --- the muffins were super moist.  I only needed about 17 minutes of baking and they were pretty dark on the outside (still looked good but not that golden color).  That could just mean my oven isn&#39;t accurate (entirely possible).\n",
      "My goal this winter is to try one new soup recipe each week. This one was very easy, tasty, and healthy. This soup is low enough in carbs to be very good for anyone who is diabetic or counting carbs. This is a quick meal; while the vegetables are cooking I made the white sauce. I used a vegetable base rather than bouillon to cut out the MSG found in most bouillons. I used 1/2 tsp. of hot sauce; if you like a little spicier taste, add the entire teaspoon. Definitely a keeper of a recipe!!\n",
      "Super easy to make, great taste.  Family loved it!!!\n",
      "My mom made these when I was growing up and she used a can of vegetable juice and  put flour on outside the balls and brought vegetable juice to a boil and added the balls in and the flour thickened the sauce. I do it the same way.\n",
      "Sorry, hate to write a negative review, but thought this was terribly BLAND.  Added a bit of horseradish, celery seed, more vinegar, salt and pepper, and more Miracle Whip to get it just ok.\n",
      "This is an amazing recipe! Probably the best banana bread I&#39;ve had. My husband who doesn&#39;t even like banana bread very much liked this recipe. The outside is crunchy right after it comes out of the oven but then it softens after it cools so I didn&#39;t think it was too crispy at all.\n",
      "I made this recipe exactly as written and it was delicious.  Very simple too.  I served with warm French bread and a salad.  Yummy dinner.\n",
      "Pretty good soup, but it needs a bit much seasoning, such as red pepper flakes &amp; garlic. And some crumbled crispy bacon mixed in would be terrific. \n",
      "I&#39;ve made this same recipe but use a roll of sausage instead of bacon. And I use shredded mozzarella cheese instead of cottage cheese.\n",
      "I can&#39;t wait to make this cake again.  My family loved it!  I will recommend this recipe to everyone!!!!\n",
      "Just an excellent au gratin potatoe recipe!\n",
      "This recipe scared me at first!  However, I am a big fan of consistent five star reviews, so, I tried it.  Then, I saw the residual grease from the bacon and I was worried I&#39;d find a grease puddle at the top of the soup bowl.  I stuck with the recipe not changing a thing since it was the first time trying it.It was YUMMY!  Hearty, rich, flavorful!  Not dietary, but it was after Christmas and I used leftover ham!  Very good!\n",
      "Made this tonight, it was awesome.  My husband loved it.  Been making a pot pie for years that has cheese in it but this one takes the prize.  Cut recipe in half and only made one tonight, anxious to make again and try freezing one.\n",
      "My family loves this recipe! I substituted basil from my garden for the thyme.\n",
      "Love these cupcakes, they were a hit! How long would I have to bake these in a loaf pan!?\n",
      "Very Good\n",
      "This recipe has been a hit in our home since publication. The only change I have made is we omit the sage.\n",
      "Best Chocolate cake I&#39;ve ever had, My family raved about it and said they want it for every birthday.\n",
      "The recipe was good, but did not have the flavor I was expecting...I would push lemon juice on the fish first or would use a balsamic vinegar to marinate fish along with cilantro first then continue the recipe.\n",
      "I would describe this as a dessert you eat with a fork as opposed to a bar. Took a lot longer than 45 minutes to cook. Crust too thick. But still very good!\n",
      "Great potato sauce - better than any cream of XXXX soup\n",
      "This is my church&#39;s favorite recipe.  If I don&#39;t show up with this soup at our potluck I would get lynched...seriously, this is the best soup we have ever had.\n",
      "The taste was outstanding but it didn&#34;t set that well so I tried it again with two boxes of jello and two-thirds of boiling water for the two. The second time I used a different flavor which was with two boxes of raspberry jello and two cartons of raspberry yogurt. After setting I sliced and froze it. What a wonderful summer frozen treat\n",
      "I made this recipe for a brunch held after my 40th high school reunion for our committee. I made 2 and their was not a crumb left plus several classmates requested the recipe!\n",
      "Super yummy! I love these cupcakes, and the frosting is delicious. New favorite cupcake recipe.\n",
      "This recipe was very easy and the the finished result was fabulous!  I can see why this was a contest winner! I used hot sausage because I did not have smoked. It gave just the right amount of spice to the dish. Will definitely add this to my favorites!\n",
      "This is absolutely fabuloso, followed recipe as written yummm\n",
      "We started  serving  this at funeral  dinners  at Church , now I make  them for potluck  dinners  at Church  and there&#39;s  never anything  left.\n",
      "This was a super great jumping off point for those of us that can’t remember the last time we’ve made Clam Chowder ??. I made this on a late night craving\n",
      "As I was making the soup, I was wondering why there was no garlic or onion? Looking at the spices, I only see salt and pepper. I just knew this soup was going to be bland, and I don&#39;t want to make something, and it not be great! I melted the butter and added garlic and onion. I also added crumbled bacon and cubed ham. I used red pepper flakes instead of the hot sauce. I also thicken the soup more, to get a more like a chowder consistensy. I chopped in some fresh parsley just before serving.  After my changes, I loved it\n",
      "I have a recipe I love and thought I would give this one a try. My old favorite is much better.\n",
      "Delicious! I left out the dressing because I didn&#39;t have any. I took this to a ladies&#39; dinner at church and didn&#39;t bring home a single bite! Everyone raved about it! I added a little salsa to the bottom and mixed the sour cream in the meat mixture as others recommended. Easy and delicious! I can&#39;t wait to make it again!\n",
      "Hands down this is a great chicken fajita recipe. I&#39;ve tasted them before but never made them. This is the first time I ever made chicken fajitas.....lets just say that this recipe is definitely being added to my recipe book. The marinade is divine and packs a lot of flavor. I didnt let it sit for 24 hours. It was late so i let it sit for an hour and a half tops. That was all the time i needed. It was delicious. The marinade was so good that i could have eaten the chicken by itself. I&#39;ll will for sure be using this marinade for other recipes as well. My husband and son loved it.  Cant  wait to share this with my sisters at service.\n",
      "I was very disappointed with this recipe.  I agree with Tilda 04, it was dry and had no flavor.  I was expecting an orangey tasting cake and could taste no orange.  I made this for my grandson, age 13, and he did not care for it at all.  He loves everything I make for him and is so easy to please, but this did not please.  Had to throw it away.\n",
      "This was really easy and quite tasty!  I did use a few more tortillas (three per layer) and used 1lb of turkey and 1/2 lb of ground beef.  Also, no black beans or green pepper on hand, so I doubled the refried beans.  Topped with shredded lettuce and sour cream.....YUM!\n",
      "We just didn&#39;t care for the taste with the cream of mushroom soup it was just weird. Way to much work for something thats edible but not worth making agian\n",
      "I liked this recipe and would have given it a 5-star rating, but the meat sauce was too dry. I added a cup of beef broth during the last half hour and it was fine.\n",
      "Made this for the first time tonight and loved it with a few changes.  Made the meat my own way; adding onions, peppers and garlic to the meat and sausage mix and instead of tomato sauce and paste, I used a large  jar of my favorite spaghetti sauce, which cut down the prep time.  The rest I followed exactly.  I let it rest for about 1 hour, before cutting into it and just reheated pieces in the microwave.  This was a real hit at my home and I had plenty left over for the next day.  Definitely will be making this again and may try adding hard boiled eggs to the meat this time.\n",
      "This was very good and easy.  I did add a bit of Sherry, thyme and a bit of tarragon - just because I love tarragon.  I had some heavy cream I needed to use  so did substitute that for the half and half.  Hubby loved the soup and I will definitely make it again.  I&#39;m sure the soup will be excellent without the heavy cream and following the recipe as submitted.  Thanks for an easy, quick recipe.\n",
      "This is now definitely one of our favorites!! The Italian dressing gives it a zest of flavor...Very yummy :0)\n",
      "This was gross!!  Too much flour...yuck!!!\n",
      "Ive made this numerous times with 4% cottage cheese and even 2% and it still tasted both great! My father in law and husband who are not fans of cottage cheese LOVED it and wouldn&#39;t have even known there was cottage cheese in there.  I have also used part skim cheese and it didn&#39;t make a significant difference just to make recipe lighter. I had a bag of potatoes to use up one time and chopped them into chunks and boiled them, drained, and used the recipe as is and they were delicious if you are looking to not use the frozen bag ones.Both ways are phenomenal but the skim substitutes makes per serving a bit lighter for those who are not looking for those who are watching their waist line =) excellent recipe and is a go to when I have a huge brunch and family visiting in town!\n",
      "I love anything rhubarb and had a lot to use this year. I had to bake closer to an hour but the end result was very good. Will definitely make this again.\n",
      "I always bake  banana bread  and its  recipe is fool proof.I tried this recipe last night and I am sorry to say it was not a very good one ..it took 2 hours and still it was soggy.. So maybe  if we put less buttermilk in it result  might be different.. I like the taste of it tough. Nasira Mansoor\n",
      "These are a hit whenever I make them for a group, and so easy!\n",
      "I used only half the sugar in the filling and it was absolutely delicious!  Cool the crust thoroughly, and eat within a day of making this.\n",
      "A dear friend made this for us for our anniversary. I had to have the recipe too because it&#39;s so delicious. And it is simple to make!\n",
      "Made a double batch today ....so easy and sooo good. I added a tsp of mexican vanilla and omitted the salt. I used a honey peanut butter. These will be added to one of my favorites ??\n",
      "I took this to a potluck yesterday and received many compliments. I, too, added carrots ( 1 can, drained, cut up a little in the can before adding to soup) and finely diced onion and celery (cooked in broth until soft the night before while I was cutting up the chicken). I agree that maybe 4 cups of noodles would have been plenty. Gave this 4 stars instead of 5 because all those noodles soaked up all the broth while it was on low in the crock pot during the party ,even with my adding lots of extra broth! It was so good, I will make it again but with less noodles and not for a long-standing-time event.\n",
      "So easy, very healthy &amp; extremely tasty!!  Definitely a winner with my family!!\n",
      "I finally got to make this recipe to the t and it is amazing! My little girl who doesn’t eat any kind of combined foods loves it and asked me to make some again tonight. Thank you for sharing this awesome recipe!\n",
      "SO EASY AND SO YUMMY, MY DAUGHTERS HUSBAND FAVORITE\n",
      "I used a can of green chilies instead of fresh jalapenos. Eliminated the sour cream and cheese. The family loved it.\n",
      "What is bread flour? Can all purpose flour be used? I&#39;ve never made bread before so any help would be greatly appreciated!\n",
      "I just made the shepards pie. This is the first time I&#39;ve made it, and in fact the first time I&#39;ve eaten it. I didn&#39;t have peas, so I used twice the amount of corn. I really liked it. This is something that I will make again. Thank you for this recipe as well as all the others you have provided.\n",
      "This soup was excellent.  I followed other reviewers&#39; suggestions and added chopped onion and garlic.  I didn&#39;t have a 28 ounce can of tomato sauce so I used a 28 ounce can of crushed tomatoes.  I followed the rest of the recipe as written. Six cups of water did not make it too thin.  I measured out 1 quart of the soup without rice into a saucepan and added 1/2 cup of cooked rice for our meal.  The recipe says it yields 2 quarts, but I got 3 additional quarts without rice to freeze.  I will add 1/2 cup of cooked rice to each quart when I prepare it so the rice doesn&#39;t get mushy.  This will be a regular go-to for our Wednesday Soup Night!\n",
      "Made this over the cold rainy weekend...absolutely wonderful...used 4 cans of clams and used the clam juice from the cans of clams instead of the bottled...amazingly delicious!!!  Thank you for this wonderful recipe!!\n",
      "Outstanding! I used a full pound of beef and fresh basil (because I had it) but otherwise I followed the recipe. I would suggest, and next time I will,add more liquid as It is very thick. This will become a regular.\n",
      "I have made these many times from the original magazine recipe.  Every person I have shared them with has loved them, my family the most.  Thanks for the recipe.\n",
      "Excellent recipe. It is versatile and I made a few tweaks for our family&#39;s taste, but everyone enjoyed it and will be making it again.\n",
      "New to baking. This one was easy and delicious!\n",
      "I&#39;ve been making these for a long time and they are still a family favorite. Very thick but easily diluted with a spoon of buttermilk. I used to double the recipe and freeze any leftovers between double layers of waxed paper.  Served with warm maple syrup!  Even reheated these are fantastic!\n",
      "Loved it!! So fun and easy toMake. This helped me a lot. Best pancakes I ever had!!\n",
      "This is one of my favorites, we are on a cooking team with four other couples at St. Bartholomew&#39;s Episcopal Church in Wichita Kansas. Each week a team cooks breakfast every Sunday during the year.  My husband and I take turns choosing what we want to fix.  This is high on my list as the cottage cheese makes it so moist and delicious.I vary on the Cheddar cheese and use what I have on hand, sometimes I may add two or more different cheeses when I make a triple batch. I add different meats as well, to the casserole depending what is on sale at the store.  This is always a big hit with our parish of 45 people.We charge a $2.00 donation to cover the cost of the meal and what money is over the cost goes back to the Church. As my husband would say, &#34; The best $2.00 breakfast in town. Diane Chambers\n",
      "I make this cake regularly without using the light stuff.  I add a lg. can of mandarin oranges to the cake before baking.  I also add a whole can of drained oranges to the top of the cake after it&#39;s topped with the cool whip/pineapple mix.DELISH!\n",
      "I added squash and put the cheese on the individual plate.  This was the perfect dish for my family. I have a son who is allergic to dairy. He loved this dish! So happy I tried it.  It was very easy to make as well.\n",
      "Summertime at its best! My elderly neighbor I grew up beside gave me this recipe years ago. The only thing I do differently is use fresh strawberries. YUM!\n",
      "Made this and it&#39;s totally awesome.  Tried freezing it and the sauce turned to water so it doesn&#39;t freeze well.  But this is my new favorite.  The second time I made it I put in half the amount of potatoes and more chicken.\n",
      "My family REALLY enjoyed this dessert.  The cake was so moist and the frosting was delicious!  The ONLY change I made was in the cake I deleted the cinnamon and just added 1 tsp. pumpkin pie spice.  It was  ot of this world.  GRACIAS for sharing the recipe this will be on the dessert table for THANKSGIVING DAY!!\n",
      "I rate this 5 stars! \n",
      "I made this for Labor Day and it was a huge hit with many of the guests and I plan to take it to a pot luck picnic this week.  I used half Hellman&#39;s Mayo &amp; half Miracle Whip in the dressing.  I substituted red pepper for the green pepper and left out the cucumbers.  It has a great crunch and know we will enjoy it many times over.  Thanks for the recipe!\n",
      "I have made this pot pie for several years!! My father in law LOVES it!! Thank you for a delicious addition to family traditions!!\n",
      "I made this recipe as is .... no changes or substitutions.  I found it to be moist and delicious ..... loaded with banana flavor.  Highly recommended!\n",
      "This was rich and really good.  I see it was submitted by someone in Nova Scotia.  I visit there a lot and EVERYTHING from Nova Scotia is delicious!\n",
      "This gave me a very good starting recipe to work with for Cheeseburger Soup.  Because I am feeding 5 adults, I used a full pound of ground beef and 14 oz of velveeta and 5 pounds of potatoes.  I am not a fan of the  carrots and celery in this soup so I left them out and added garlic powder, a little cayenne powder.  I also used 1 cup of heavy cream and 1 cup of whole milk to have a little more richness in the soup.I will make this soup many more times.  Thank you so much for the recipe.\n",
      "i made breakfast for dinner and the entire casserole was eaten! everyone had seconds.\n",
      "The whole family enjoyed this simple dish.  I used boneless, skinless chicken breast cut into cubes and served it over quinoa with broccoli florets as a side.\n",
      "These are fabulous! Taste like box mix, but so much better! The batter is super thick so I always add a splash more milk to thin just a bit. Still stays nice and fluffy. I love that this recipe doesn&#39;t use buttermilk like most pancake recipes because I don&#39;t always have it on hand.\n",
      "I&#39;ve tried this before actually, and it works really well! Though I want to know if you could make this into one big muffin for yourself, if you don&#39;t want a lot of muffins. If you do can you make a recipe?\n",
      "So easy, so good....I have never been a fan of cajun food but this is delicious.\n",
      "added left over chicken, cilantro, celery and sundried tomatoes - DELICIOUS... no one knew they were eating leftovers.  I kept the sausages also but used chicken/apple sausages.\n",
      "This was very good but a little runny.  Maybe if I drained the salsa it would have been thicker.  Also would swap out flour tortillas to corn.\n",
      "This is the best banana bar recipe. It is a favorite in my home. I&#39;ve made these for potlucks and they are a huge hit!Jill\n",
      "A new fav in our house. I used only wheat flour and also added cinnamon and nutmegMy husband absolutely loves them..\n",
      "Made this exactly as written. Took WAY longer than 50 minutes to &#34;set&#34;.   I&#39;m not impressed. Finally set after an hour and a half and was super dry.\n",
      "This is the best!  Keeps longer than sa!ads made with Cool Whip. Does not get watery. Couldn&#39;t stop eating it!\n",
      "I was so disappointed with this recipe. It tasted like sugar and vinegar. I double checked and measured correctly. It was not edible.\n",
      "Delicious!  Made this for our Memorial Day BBQ and it was hit.  Everyone loved it including my husband who is always hesitant to try new things.  He said it was a nice change from my regular pasta salad and to add it to the rotation!\n",
      "I think that the coconut qty is 2-1/3 c? I used 14 oz. They are crispy so added 2 more egg whites. Seems recipe is off unless I am only making 1 dip? I made 24 macaroons.\n",
      "Made this today and both my husband and I thought it is delicious. I cut back on the sugar (used about 1 1/2 cups) we don&#39;t like cake too sweet. I also make a glaze for top (1 cup Powdered Sugar, 2 tablespoons milk, 1/2 teaspoon vanilla plus couple dashes of nutmeg). I baked it in a glass 15X10 baking dish at 325 for about 30 min. Glaze was sufficient for that size.\n",
      "This was wonderful!!\n",
      "I didnt put the sauce on because butterscotch flavour is my least favourite but the cake was very yummy without it! Bewared tho, I didnt use apples from the store and I mixed up my eating apples with the ones meant for cider- almost didnt turn out!\n",
      "Would like to make for concession stand food.  Can I use biscuits instead?\n",
      "I can&#39;t quite put my finger on why this wasn&#39;t my favorite, but I think I would skip the worcestershire sauce and ketchup and just make a beef broth type gravy to mix in - and also I would probably omit the peas, or put in fewer and add in some carrots.  It wasn&#39;t bad, but not something I would make again, unless I adjusted it more to my tastes.\n",
      "We love this soup!!!  The only change I&#39;ve made is using chicken broth rather than bouillon.  I frequently increase the liquid ingredients and add mixed vegetables.  Either way it&#39;s delicious!\n",
      "I followed recipe to a T, have made muffins for years, but these turned out dense\n",
      "Love this recipe, it&#39;s the best I ever had.I&#39;ve made it around 10 times and shared the recipe with many!\n",
      "VERY GOOD! My husband and I arent huge fans of meat loaf but have eaten it once or twice and really liked it. We made this to give it a try and loved it! The sauce is sweet and so yummy. We didnt change the ingredients but changed the way we cooked it. We put in all as one loaf into a loaf pan and baked it twice as long.\n",
      "This was a great simple recipe but like others I did have to improvise a bit.   The batter was super thick so I added about a halfcup additional milk. And I added an extra tablespoon sugar since I am American and finally a but if vanilla. Just improved it enough to make it wonderful\n",
      "I have made this recipe many, many times.  My family loves it!\n",
      "I thought this was very good.  The only issue I have is the amount of thyme listed in the recipe.  I didn’t even use 1 full tsp and it was still very overpowering.  Next time I’ll use 1/4 tsp if any at all.  I also made it in a 10x13 baking dish (instead of two round pies) which worked very well.  Would definitely recommend - just use less thyme.  ??\n",
      "This is the best soup I have ever made.\n",
      "Best oatmeal chocolate chip cookie recipe ever! The vanilla pudding adds a depth and richness. Chewy even the next day. I&#39;ve used regular cook-and-serve pudding and instant, and it worked great using either. My family can&#39;t stop eating these cookies!\n",
      "Delicious soup! I skipped the basil and added chopped green chile. Now my hubby&#39;s favorite soup! Thanks for sharing the recipe!\n",
      "Here on planet Earth, it doesn&#39;t get much better than this!  The Bomb!\n",
      "This tastes delicious!! I make it often and everyone who tries it says it has great flavor. It reminds my of my mom&#39;s Spanish rice from when I was growing up!\n",
      "Tried this recipe last year and we love it!  Makes tasty sandwiches the next day too!\n",
      "Made this recipe for my mom for mother&#39;s day (actually, the first meal I&#39;ve cooked for her in my new home :) yay!) My whole family had seconds! I forgot the sour cream (yeah, that&#39;s what I get for trying to do too many things at once), but it still turned out delicious! I might add a little more liquid next time, though, as I thought it was a little thick (although maybe the sour cream might have helped that?). Definitely making again!\n",
      "OMG, I have made this soup 3 weeks in a row &amp; my family want it again tomorrow for Sunday diner!  Since we are all dieting, I put in zucchini instead of potatoes  Even my little grandchildren love this!\n",
      "This was such an easy recipe and simply delicious!  I adjusted all measurements by half and it was just right for serving 2 of us. I also used vegetable broth instead of water. Will be using this recipe again and again!\n",
      "To &#39;buddystar&#39; - rubbed sage is just crushed sage that is rubbed between your fingers and then added to your mix.  This is a very good recipe, but I omit the sage; but at times I will add some chopped green pepper.\n",
      "I have made this several times and shocked I haven&#39;t previously reviewed. I make it exactly as written which is quite unusual for me. Bone in skinless thighs are perfect for this recipe , and I highly recommend sticking to that. A close second is boneless, skinless thighs. I do not recommend chicken breasts because the texture is not a moist.  Volunteer Food Editor\n",
      "I made some adjustments, the most important I thought were to make a seafood stock from the shrimp shells to use in lieu of the chicken stock, I use crabmeat rather than sealegs, I prefer the more delicate taste of shallots and 1/3 cup of sherry adds a wonderful depth of flavor to the sauce.\n",
      "These were so easy and amazing!!! I used good quality chocolate candy bars and instead of the semisweet chocolate chips, I used milk chocolate. I also sprinkled the top with a little kosher salt before they set. Thank you for the wonderful recipe.\n",
      "The brown sugar needs to be mixed into the salad and there should be more of it. 2.3 stars\n",
      "This is a wonderful soup. I first tried it at a friend&#39;s house. I&#39;m not normally a fan of Velvetta, but this soup is so yummy! We make it about once a month. I use light sour cream, fat free milk, and 2% milk Velvetta and it does not affect the taste or texture. \n",
      "It was decent. I think too much sugar for my taste\n",
      "Have made this for church brunch potluck, and there is never any leftover.  Tried cherry and apple, but think I&#39;ll do peach next time.  Also made for fellow winter Texans potluck and it&#39;s a big hit.\n",
      "We love this cake, I go back to this recipe quite a bit. And the icing is so tasty! If I had to choose between this and a buttercream I&#39;d choose this one always. Not so sweet.\n",
      "I usually just use ketchup for the topping.  Too much sugar in one&#39;s diet isn&#39;t very good. The recipe is great. I give it 3 stars.\n",
      "I made this and the next day it was all gone. Love it!!\n",
      "Made this cake for my birthday to take to work. Everyone thought it was great! It is a great light cake..dont feel so bad when you eat this one. Great recipe.\n",
      "This is not a review per se, but a question to those bakers that have made this bread, when I eat it the first day it is made, its very good, however, it gets terribly dry after the first cuts and then it just does not taste as flavorful as that first slice.  Within a day or so after being made it is dry and very sad tasting.  Does anyone else have this same thing happen? I love the the easiness of this recipe and hope there are some suggestions on how I might get the moist taste you get from some of the store bought white breads.\n",
      "We love this recipe and use it often.  I put half a cop of chocolate chips in it which my kids like!\n",
      "I will never look for another banana bread recipe!  This one completely lives up to its name!\n",
      "Soup is delicious - and what a nice change from your typical chili!   Even my picky husband loved it.  After he had a bowl I told him pumpkin was in it and he gave me the &#34;get-out-of-here, don&#39;t-tell-me-that&#39;&#34; look. I just laughed and I don&#39;t know if he realizes pumpkin is really in it or not but eating 2 bowls means he thoroughly enjoyed it!  It is a very easy recipe.  The only changes I made was I baked chicken tenders  (because that it is what I had in the house)  to add to the chili and simmered soup on the stove for 45 minutes instead of in the slow cooker.  Either way - Delicious!!  For those that gave it  1, 2, or even 3 stars - they had to have made a mistakes in making it.  And if it was too bland - spice it up!\n",
      "This was super easy to do and the only thing I had to buy was the tomato. I used my fresh basil I had in the freezer so chopped off what I needed. I had company and this was beautiful presentation for dinner. Clean up was a breeze also.\n",
      "I have been GF for years and this recipe is the BEST!!!! I have made so many banana bread recipes and none of them tasted &#34;normal&#34;.  This recipe is SO SO good!I too used 2 1/2 cups of flour and I did not use the oil.ENJOY!!!!!SOOOOO good! :)\n",
      "I tasted this salad at a funeral 3 years ago.  I could not get enough of it!  I&#39;m so happy to have found the exact recipe here.\n",
      "Yummy\n",
      "Very easy to prepare and  the sauce cooks up thick and rich.  Will try this with chicken flavored rice.\n",
      "The cupcakes and icing turned out great. I doubled the recipe but instead of using 5 cups of sugar for the cupcakes, I only used 3. It came out perfectly sweet with the 3 cups.\n",
      "Perfect for a cold winter day.  We enjoyed the heartiness of it.\n",
      "This was truly delicious and smelled amazing when baking. I made it with ricotta and spinach ravioli and it reminded me of my favorite lasagna. This is a great sub-in when you&#39;re craving lasagna but don&#39;t want to spend the hours making one from scratch.\n",
      "\n",
      "It was delicious the way it was, but I agree with other commenters that it could use extra sauce. Next time i will add an 8oz can of good quality pizza sauce as well. I will also substitute about a third of the mozzarella for fontina, and add parmesan to the top. And will add an Italian sausage or two to the ground beef.\n",
      "\n",
      "Lots of ways to have fun with this easy recipe!\n",
      "\n",
      "Thanks, this was a comfort food winner!\n",
      "Has anyone ever tried this with breadcrumbs instead of the oats?  My daughter is allergic to oats - but I&#39;d like to try this recipe.\n",
      "Wonderful. Didn&#39;t change a thing. Would definitely serve for company. Easy to make, and a great presentation.\n",
      "I made this for Easter Brunch. It definitely deserves 5 stars!! It fed a crowd. Adults and children ate it all.  I did not have cottage cheese on hand but used Ricotta cheese which I did have on hand. It would have been a little more moist if I had used cottage cheese which I will do next time. I put it together the day before and refrigerated it overnight. Perfect. Great Recipe!! Delicious. This will be my go to breakfast casserole (to serve alongside Pillsbury&#39;s French Toast Bake Casserole and a Virginia baked ham).\n",
      "We really enjoyed this! I did make some changes though. I used ground chicken, and I used a half a jar of marinara sauce I had leftover instead of plain tomatoes. I also added pepperoni on top of half (left the other half with just the peppers). Even the kids ate it! I&#39;ll definitely be making this again.\n",
      "Easy and delicious!\n",
      "Perfect! I am not in any way a professional baker (I am more of a newbie), and this bread is so easy to make! Rather than kneading on a counter, I just kept the dough in the standmixer and used the dough hook.... turns out great! Thank you so much for this recipe! :) The family loves it!\n",
      "This was a big hit.  Spiced just right.  My husband added more hot sauce at the table, but this is great as is.  It is definately a new family favorite.  I&#39;m going to invite friends over just so we can share this!\n",
      "This is an easy and delicious recipe.   I did not have Hawaiian buns, so I used regular slider buns.  I don&#39;t like spicy, so I used Honey Mustard instead of the horseradish sauce.\n",
      "I made the cake to take to a church dinner. I brought home remainder and my daughter said it is the best cake she has ever eaten! Will make it again. So easy, inexpensive and tasty.\n",
      "Wow!!  These savory sandwich rolls are true winners!  I made it according to the recipe with no changes.  I served it with a salad and deviled eggs to a group of women for lunch.  Raves abounded!  I love the fact that it is made the night before, refrigerated, and ready to pop in the oven right before serving.  All guests requested the recipe. Thank you, Iris, for making me look like a culinary star!\n",
      "Made this for the first time and it is delicious. New banana bread recipe for me !!\n",
      "CANT SEE THE ENTIRE RECIPE!:( :(\n",
      "This soup was excellent! It was my first time making a homemade soup, and it made me a star with my husband and our son! They loved it, and so did I. Wonderful flavor.\n",
      "Oh my goodness this is so good and super easy!  The change I did make was not in ingredient but in preparation.  I mixed the salsa and sourcream together which made it much easier to layer than sourcream by itself.  Will definitely make again!\n",
      "Hands down the best fajitas i&#39;ve ever had. This recipe is a keeper!\n",
      "Family favourite.  I use 5c prepared chicken broth in place of the canned broth and water and spicy Italian sausage (3 or 4 links removed from casing and crumbled)\n",
      "Just great. I made in a nine inch pan so added just about 4 more oreo&#39;s and 5 more peanut buter minatures.  It was a hit. bluemistglows@snet.net   a little more time consuming, but worth the time for such good flavor. bluemistglows@snet.net   Susan from Connecticut\n",
      "Excellent, and easy.  I like it when I look at a recipe and realize the ingredients are in my kitchen.After taking the cover off, I added a few French fried onions.  I will make this again.\n",
      "This salad is so refreshing! I used Truvia in place of sugar and turned out great. It is hard to find diabetic friendly recipes that our whole family likes. This is a keeper.\n",
      "I have made this wonderful dessert several times and people keep asking me to please make it again!  It has the most savory taste a sweet blend of strawberries with the nutty and salty taste of the pretzels.  This is one dessert you won&#39;t regret making and I&#39;m sure you&#39;ll be asked to bring it again!\n",
      "Really good and fun to make. For a little neater eating, I added the onion mixture to the inside of the sandwiches, and wrapped them in foil to bake. I have some extras so I froze them before baking and can only assume they&#39;ll be just as good when thawed. Thanks for the recipe.\n",
      "This  was a  simple delicious dish -- makes a lot --I have enough  for second meal- I   sauted onion and I  used black beans &amp;  a lot more cheese.  I added cheese  inside  before I   folded and  added more on top  with sliced green onion and cilantro-- I  served with corn and salad  - nice meal --  will make again !\n",
      "I&#39;m glad I found this recipe!!  I was about to prepare a typical soy sauce based asian thigh recipe but was out of soy sauce.  In a quick search I found this and had all the called for ingredients.  The only addition my family made was some added Chinese  hot sauce to their&#39;s to kick  up the heat.  Great dish.\n",
      "It was the first dish gone at the potluck (I fed ~ 20)! Super easy to make. I added a few spices and put parsley on the top, it looked 5 star! Everyone was looking for seconds, planning to make it later this week!\n",
      "This is a humble cake. And, it is delicious. I have made it numerous times and it comes out perfectly every time. I don&#39;t understand how it doesn&#39;t come out for others. I make a could of small tweaks. I use unsalted butter for all of my baking, so I added a teaspoon of salt and whisked it together with the flour, baking power and salt before adding them to the batter. I used twice the vanilla. Also, I think it makes a big difference if you add ingredients very gradually. Make sure an addition of flour is almost completely incorporated before adding the next.\n",
      "made this tonight for dinner and WOW....a winner.  Easy also.  will definitely make again\n",
      "These enchiladas were true comfort food.  I made them without any changes to the recipe and they were easy, delicious, and appreciated by all who ate them.  Thank you, Kristi, for an excellent recipe.\n",
      "Very good but my Cookbook Taste of Home  &#34; Best Loved Recipes &#34; says  rounded tsp. not TBSP.  So, 10 minutes was the max time as they browned pretty fast.\n",
      "I did increase the potatoes and decreased the sour cream. Other than that, love that I can make this the night before and pop it in the oven the day I&#39;m serving it.\n",
      "Bread tastes amazing!  However, time is misleading on the recipe since it needs a few hours to rise.  Any other time I read recipes completely before making them but I was in a rush and didnt until half way thru... I only jad about an hour to let it rise and then put in oven.  Still turned out great and everyone loved it.  I did add just about 1/2 c of whole wheat flour.\n",
      "This was a winner with my family...everyone loved it.  I didn&#39;t include the Italian dressing just because I didn&#39;t have any on hand.  Still very good.\n",
      "I was really disappointed. After reading many of the reviews I decided to make this recipe. It is the worst banana nut bread recipe I&#39;ve made. I really have no idea how it was a contest winning recipe. :(\n",
      "Years ago I obtained this recipe from one of the Taste of Home magazines that I received on a monthly basis.  From the first time I baked this cake and made this icing I have never selected another chocolate cake recipe.  I have used other icings, like cream cheese frosting, which is also delicious on it.  I have made this over and over for friends and family and have always been told it is the most wonderful and delicious cake they&#39;ve ever tasted.  Once I made it and took it to a church social and it was chosen to be auctioned off to church members to raise money for the young people.  It was a lot of fun to see people bidding for it and it sold for a great price as they all knew it was wonderfully delicious!  I&#39;ve been asked for the recipe by many family members and friends.  I have never had this recipe to fail when I made it.  I love it!\n",
      "Really good!!!! I didn&#39;t have any cracker&#39;s so I used breadcrumbs, also only one egg. Turned out GREAT\n",
      "I adapted the recipe and skipped the potatoes and carrots.  I in turn used 4 cups of frozen mixed vegetables to make this truly a quick fix.  My family loves it so much, that the 2nd pie doesn&#39;t make it to the freezer any more!!\n",
      "Made these for Sunday breakfast and I was disappointed that they needed to chill once assembled, my fault, so we saved these for Monday morning.  I like the fact that you take them from ther refrigerator and pop them into the oven.I thought the sauce was a bit too sweet, kinda like the sweet ketchup sauce one would would put on a meatloaf.  All the flavors came through wonderfully.  Next time I will cut the sugar to 1 Tablespoon and carmalize the onions prior to adding other ingredients.  A keeper recipe for a quick, flavorful breakfast if you plan ahead,\n",
      "I made this for the second time, this  time I added fresh chopped spinach instead of broccoli. It was just as good.\n",
      "Just as good as restaurant Potato soup! I did not have any parsley so omitted and no celery seed so added celery salt. After cooking on stove used my pressure cooker simmer for 1 hour. It was the best.  I did only use half the amount of velveeta however I thought it might me to cheesy so that was perfect.\n",
      "Made this last night.  My husband loved it.  I thought it was a bit too peppery, but that is easy to remedy.  Loved how creamy it is.  Will definately make this again.\n",
      "I absolutely LOVE this!!! I don&#39;t normally like pretzels but this dessert is phenomenal!! For the most part,  I followed the receipe but I changed a couple things. I made it in a 9&#34;X13&#34; glass dish. I used fresh strawberries instead of frozen. I did NOT add any extra sugar. I really like the filling so I doubled the cream cheese. Basically,  I make the crust than I mix the jello topping and while it&#39;s in the fridge,  I make the filling.  I folded in the whip cream instead of mixing it all together. That takes about 20 minutes or so. Then, I poured the jello topping on top and put back  in the fridge and it turned out perfect. IF you follow the directions, everything should fit nicely.  However,  since I added the extra cream cheese,  the topping was overflowing. I just poured in what fit and it was perfect!!! Ive read that people using fresh strawberries add extra sugar to them but I didn&#39;t and it doesn&#39;t need any...but that&#39;s up to you. As for the extra jello that wouldn&#39;t fit, I just put it in a seperate bowl,  and after it was set up, added some whipped cream and had that as an extra dessert!!! Everyone loves this dessert...I will make it for everything!!\n",
      "Very good. I would like it a little thicker so I may mash the cauliflower some next time.\n",
      "This is my favorite bread to date! I doubled the recipe.  I always made banana nut bread as gifts, but tried this with the whole 15 oz. can of pumpkin, skipped the water, added walnuts and raisins. Of course I had to try it, before giving it as gifts:) My husband and I loved it so much wei hit on the second loaf!  which left me with only two and then I had to bake four more as gifts! Yummy!!\n",
      "Our family really enjoys this breakfast dish.  It is so much better than those that are based on bread and you don&#39;t have to wait with it in the fridge overnight.  I used pork sausage instead of bacon.  But like both.\n",
      "I have a similar recipe. Use 1 cup sugar, 3/4 cup oil and bake in 3 smaller pans which are great as gifts or to keep in the freezer. I spray the bottom of the three pans and sprinkle with oatmeal to keep from sticking. Bake at 335 degrees for 35-36 minutes. my husband likes blueberries rather then nuts.So good, hard to keep them on hand.\n",
      "Awesome!!  Better than take-out!!You can also cook it in the oven instead of on the stove top.  I marinate the chicken thighs and bake for 1 to 1 1/2 hours, uncovered.  Baste occasionally and stir in the cornstarch mixture with 15 minutes left in the cooking time.\n",
      "I really enjoyed this.  I wanted a quick lunch and made do with things I had on hand.  I used a smoked sausage cut into chunks, frozen tortellini, and had to skip the spinach since I didn&#39;t have any.  It was still really good!\n",
      "I spent two years in the Toscana region of Italy. The Italian snobs in here have no CLUE that this is actually BETTER than any lasagna to be found in Firenze (Florence), Bologna, or Milano (Milan). Cottage cheese? My first thought was ARE YOU KIDDING ME? But after trying it, I will concur that it is BETTER than ricotta alone. SALUD!\n",
      "Very simple and tasty.  I think I might experiment with more toppings next time.\n",
      "Fantastic! I even sprinkled chocolate chips on about 1/4 of the cherry topping, and I think that was even better than the plain cherry part.\n",
      "I wasn&#39;t feeling well so I cut a lot of corners here and it still came out great (and my kids liked it too). I used canned everything-- potatoes, carrots, corn, peas-- and skipped the bacon and onion. And we were short on cheese so I used a half jar of cheese wiz. (Don&#39;t judge.) Very tasty  soup. Thanks for sharing this very adaptable recipe!\n",
      "Before trying this recipe, I have always made the same family recipe I had watched my parents make for years. I never have liked many other recipes....well, I saw how popular this recipe is here, so I tried it. AMAZINGLY GOOD!! I am afraid to tell my parents for fear of hurting their feelings! The only thing I did differently (because of lack of exact ingredients) was to substitute pizza sauce for the tomato sauce and replaced the italian seasoning with a mixture of basil and oregano. It was the best lasagna I have ever eaten. I will probably cut back on the sauce a bit next time. This lasagna is everything everyone says it is. Perfecto!\n",
      "These are wonderful!  Made exactly as written.  The bars are easy to make and the sour cream makes them moist and delicious.  And the cream cheese frosting sends them over the top.  Great way to use up ripe bananas.  This recipe is perfect for potlucks, or anytime you&#39;e craving something sweet!  Will definitely make these again!Volunteer Field Editor\n",
      "Great brown sugar taste with the onions and my husband thinks that the bacon gives it just the right touch!\n",
      "Just like the ones my mom use to make. The whole family loves them, and there is never any leftovers.\n",
      "Didn&#39;t change a thing. Turned out delicious. Next time I won&#39;t cut the potatoes too small, like someone suggested.\n",
      "I didn’t really care for this, but I am also not a big tomato sauce fan. It certainly didn’t live up to its’ hype. I used half ground beef and half sausage, with cheese ravioli.  I might try it again with extra cheeses and spices, but then again, I might not bother.\n",
      "This cake sounds wonderful will be trying it soon.i wouldn&#39;t think the shortening would make the frosting not taste good because a lot  of butter creams are half shortening half butter as in decorating cakes and reading the frosting recipe I would think either sugar would work I do know cheap shortening does not work as well and you don&#39;t want it to be more than a couple of months old.  But as others have said regarding frosting you really need to beat it good You can almost burn up a hand mixer trying to beat it sometimes. Thanks for sharing\n",
      "The first time I made it it was a little dry since there is not much sauce.  I then added a 2nd 28oz jar and it came out perfect.  Very good.\n",
      "I make a couple of changes to it. It was good before but now OMG. First make your own broth. Then use whole cream not half and half. It&#39;s makes so creamy.\n",
      "I put it together in minutes so it is a quick way to use over-ripened bananas.  I do like sugar so I added the recipe amount as well as topped it with Demerara Cane Sugar just so it looks pretty when baked.  I did add craisins, raisins and pecans to the mixture as well.\n",
      "Absolutely amazing. I&#39;ll be making this for years to come.\n",
      "My layers are seperating when I try to cut into square.  I let it sit for 20 min. before cutting.  Then let it sit a little longer but then the marshmallow layer starts to squash out.  Any suggestions????\n",
      "Great lemony taste. I added 4oz of applesauce.\n",
      "I recently made this cake for the first time for my adult son&#39;s birthday dinner and the whole family liked it very much so we decided this recipe is a keeper.  It was very moist and tasty.\n",
      "The Absolute BEST meatloaf recipe you&#39;ll ever try.  I sometimes cook mine a bit longer than the recipe calls for so that the edges will be crispy.\n",
      "This is a fantastic recipe.  I&#39;d been craving porcupine meatballs, a memory from childhood.  I also babysit my great-grandson once a week and wanted something for lunch that might appeal to a 2 1/2 year old.  I followed the instructions to the letter except for the celery salt.  I had some, but I couldn&#39;t remember how old it was so I omitted that ingredient.  The meatballs were perfect...the rice perfectly cooked and the sauce was thick and savory.  I only meant to sample them as they are to be our lunch tomorrow.  I put three on a saucer and ended up going back for three more.  (I&#39;m actually tempted to go back a 3rd time.)  I&#39;ve copied the recipe and added it to my notebook of favorites.  Someone suggested that the ones who complained of undercooked rice might have made the meatballs too big.  I simmered mine exactly an hour and the rice was just right.\n",
      "These were quite tasty! I loved the texture additions of the oatmeal and nuts. They are a nice change of pace from the usual regular chocolate chip or oatmeal cookies.\n",
      "I found this in TOH  Ultimate cookie collection cookbook. (pg 81).   THESE ARE FANTASTIC! the ONLY thing i do a lil different is i add some chopped pecans to them mix before baking!  AWESOME WITH OR WITHOUT.  so soft and moist!  i noticed another reader asked, and i will say i did NOT beat my eggwhites previous to putting them in the bowl. i simply mixed it EXACTLY how the directions say.  i used medium speed on a stand mixer for a couple minutes till it looked good.  if you let the mix sit for too long, though, make sure you stir it before spooning them out as the sugar and liquid tends to sit on the bottom of the bowl.  also, my cookies did have some liquid spreading but it was GOOD STUFF.  i baked them till they were VERY lightly brown on top and golden brown at the very bottom edge.  i used parchment paper and never greased it once, and used it for a quadruple batch... as i make my cookies bigger than everyone else, i found this recipe didnt make many cookes.  MY NEWEST MACAROON RECIPE AND ITS A FOREVER KEEPER!\n",
      "Agree with the other reviews...JUST DELICIOUS!\n",
      "Dilogsdon: the cream is an additional topping that you put on when your ready to eat it (as much or as little or none as you want).\n",
      "This is really yummy comfort food.  I&#39;ve made it twice now &amp; my 4 kids love it.  I usually make my own pie crust but I used the store bought to save time and couldn&#39;t believe how good this was (and easy).\n",
      "This fudge was dry!\n",
      "This was good the first day, but the second day it was awesome after the flavors had time to meld.  A hearty, delishious soup.  I used 1/2\n",
      "Delicious!  I prefer to use 2C chicken stock with half a cup of water to eliminate the MSG from the bouillon.\n",
      "Excellent meat loaf recipe. I made a few adjustments to sub for ingredients I had on hand: garlic &amp; herb breadcrumbs for saltines; garlic powder for sage; honey bbq sauce for ketchup. Also added bacon strips to the top before backing. Both my husband and seven year old love it!\n",
      "This is a family favorite!  I use spicy regular Italian Sausage.\n",
      "This dish was just okay for me.Very good if you&#39;re looking to cook something on the lighter side.\n",
      "I made this, this afternoon, for the first time. The taste is delicious, but the bread looked pale on top (gas oven on convection at 350 for 50 mins). The recipe called for 60 a 70 mins, but it was done In 55 mins. My pan was 1/2 inch longer, and 1/2 inch wider than the 8x4 recommended. I did glaze it. I’ll have to find a better, and 8x4 pan to make again. Also, I thought walnuts or pecans would be too strong, so I added pistachios. They worked great!\n",
      "I must admit that I was very skeptical about the ingredients. It sounded a little bland but I was wrong. This was very tasty. I would only make enough to eat right away because the leftovers didn&#39;t taste as good.\n",
      "Oh MY! All the raves about this soup are 100% true. Delicious, creamy and hearty. Love the cubed ham and crumbled crisp bacon. The stock itself is flavorful and rich. It&#39;s like a loaded potato soup, but with extra cheese as the base. Even my two young, picky kiddos (age 3 and 7) gobbled this up and asked for seconds. Will make this a normal part of our rotation. THANKS for posting!\n",
      "This was great!  The first pie was wonderful, and we had the other one last night.... cooked that one for an hour at 425 with no temp change and it came out fine!\n",
      "My family is crazy for this. I add sliced or chopped black olives with the cheese on top.\n",
      "Everyone enjoyed the soup along with slices of Garlic Bread.  I used 1 lb. of ground Italian Pork Sausage instead of links.  Otherwise, I followed the recipe as is.  Very, Very, Good!\n",
      "Dealing with gestational diabetes isnt easy when you have a sweet tooth!  I made these cookies more diabetic friendly...and they were still amazing good.  Here were my changes.  I substituted Splenda for the sugar.  Subbed Splenda brown sugar for the brown sugar and reduced it to half a cup.  I used vegetable spread instead of butter.  I used one and a quarter cup of whole wheat flour instead of one and  half of white.  I used sugar free pudding mix.  I used one half cup mini semi sweet chocolate chips.  A lot of changes I know but it made a delicious satisfying cookie that is low enough in carbs for everyday enjoyment.  I tried it a few ways to come up with this set of subs and they produce the best results.  Enjoy!\n",
      "Great!\n",
      "My husband and I love this dish! I substitute the hamburger for Italian style ground turkey which gives it more flavor than regular hamburger.\n",
      "This recipe should be rated above a 5 star!  It was so favorful! I did use the bacon strips that are cooked in the microwave which saved time.\n",
      "love it the cake and the ICING thanks for sharing so we can try it\n",
      "This recipe is easy and l nailed it the first time will never buy bread again\n",
      "I had to bake at least 45 to 50 minutes to get some browning on the top, this DID NOT overbake them on the bottom.  If I make again I will omit the almond flavoring in the icing.I took them to work and the reviews were that they were great !\n",
      "This is the best cornbread I&#39;ve had, and the recipe is perfect as is. I also made it using half the sugar, and enjoyed it just as much.\n",
      "Have made this recipe for a number of years and have reduced some ingredients each time to find out what I can get away with. I&#39;ve reduced the sugar and the oil by half and also the eggs to only two (sometimes only 1) .I also use up any any amount of pumpkin that I have no matter if it&#39;s only 1 cup or 2 or even a full can. Makes no difference as it always turns out delicious.\n",
      "Made this last night, was the best!  Didn&#39;t have thyme so used basil and it was perfect :)\n",
      "My favorite soup, so easy to make and tastes fantastic.  I make this very often during the winter time.  I use pre-cooked, chunked chicken breasts instead of cooking it in the pan.   \n",
      "This soup is one of our favorites! I make it often in the winter. If there are any leftovers, which is rare, I put it in individual servings in the freezer for a quick lunch. The only change I make is that I add a full pound of hamburger. The carrots, onions, and celery give the soup a great flavor. I thought the basil was different, but it is excellent in the soup. The amount of cheese is just right, as it is not overly cheesy. I will definitely keep making this soup!\n",
      "My husband and I cut this down to only making a 1/3 of this recipe which worked out really nice for the two of us and fit in our 1.5 quart slow cooker. This recipe goes really well with fried whole grain brown rice.\n",
      "So flavorful, never any leftovers\n",
      "This was very good, but does take a bit of time and dishes to prepare. I used only 2 tbsp of butter, and less flour and broth. I added 1/3 cup queso fresco cheese and we like that a lot. I am thrilled to know how to make this great red sauce!\n",
      "This is one of my favourite cake recipes.  My boys always request it for their birthday. It is so easy and has a fantastic flavour and texture\n",
      "I made the recipe so many times during the Christmas season. It&#39;s so easy to make and truly delicious, plus it uses a cup less sugar than my old recipe and no butter! Be careful not to over cook as it does set really quick!This recipe is a keeper!\n",
      "very good!!!!!!!! daughter didn&#39;t have cloves....so didn&#39;t add that....I doubled the batch so I can freeze half the dough for her to use later.....YUMMY!!!!!\n",
      "I have been making this for years. The family and friends love this treat.Thank you for sharing this recipe. We all love this treat.\n",
      "This recipe was really good.  I, however, put my on twist and substituted Italian sausage for ground beef. Made it taste even better!!!\n",
      "It was okay, I agree with some users. The ingredients aren&#39;t proportional. It was way to moist. Wet almost. Unfortunate, as it is a waste of ingredients.\n",
      "Easy and delicious!\n",
      "Lovely dish. Next time I&#39;ll use a little less butter. My almost-4-year old also enjoyed it!\n",
      "Amazing!! I never liked potato soup until this. It always seemed bland before,but this recipe is flavorful and yummy! I did add a little red pepper flakes because we like everything spicy. I also added a can of mushrooms because my husband like sauted onions and mushrooms on a burger.\n",
      "i love this video and all this really good bread making advice .I am very ready to make my own bread at home.\n",
      "This soup is so good! It&#39;s really quick and easy to make...great for a busy mom. I added closer to a cup and a half of cheese, just to finish out the bag (plus I love cheese) and the flavor was really nice. Great soup to beat the winter blues :)\n",
      "What kind of sugar is used in the frosting...confectioners or regular...would superfine work??\n",
      "This was so good.  I also used some chicken in it.\n",
      "This is very good. I left off the glaze, used walnuts instead of pecans and reduced the sugar to 1 1/2 c.  Very moist and more dense which we liked.  Will definitely be a regular treat!\n",
      "I have been making this for years and everyone loves it! My recipe calls for 4-5 tablespoons of brown sugar and to put half in the dressing and the rest sprinkled with the nuts. The biggest thing is to dry the grapes after washing them. If they are wet, the dressing slides off. I live close by Marge also! This recipe must have been shared at all of the West Michigan gatherings!\n",
      "I agree with Randall. I made it today and followed recipe exactly as said.  Sorry, but this is the worst meatloaf I ever made.  I landed up giving it to my cats!\n",
      "Never was happy with other recipes and then my daughter came across this one and told me to try it. It will be the only one I ever use again.\n",
      "This is hands down our favorite soup! We have been making this recipe for a few years now, but we make it a tad bit different. We use sausage instead of ground beef and the flavor is absolutely amazing! We do everything else the same, except using the entire block of velveeta. We eat it with french bread and it&#39;s the best!\n",
      "Very yummy, filling and re-heats well!\n",
      "Doesn&#39;t using a cake mix add partially hydrogenated oil to the ingredients; therefore, making it not heart healthy.....\n",
      "I&#39;ve been making these since the original recipe came out in TOH. My kids grew up eating these almost every summer, and sometimes with frozen zucchini in the winter. A truly awesome way to use zucchini and enjoy a delicious treat, as well.\n",
      "very easy and good!\n",
      "This recipe is outstanding!\n",
      "5 Stars!I&#39;m always on the lookout for great casseroles and this one fits the bill!You can use any leftover chopped poultry.I&#39;ve even prepared this with our leftover holiday turkey!I also streamlined the recipe by using an Italian blend seasoning, omitted the salt, as we watch our sodium intake, prepared chopped or crushed garlic. an Italian-blend cheese and grated Parmesan cheese in place of the Romano.It is delicious and so versatile!\n",
      "we loved these!!  I usually make cheeseburger meatloaf and decided to switch it up with these...GREAT idea!!   They are so easy to make and the sauce is amazing !!  Definitely a keeper!\n",
      "Amazing!  Growing up....stuffed green peppers were my favorite! I did NOT (wish I had) know there was such a thing as GREEN PEPPER SOUP until I was at an upscale restaurant a few months ago and it was one of my choices for soup.  I tried it and was blown away how good it was... it reminded me of my mom&#39;s!  That night when I got home....I searched online to find this v recipe. I had all the ingredients.... so the next day I made it and now it is a monthly dinner plus enough for MY lunch the next day! I did add a few splashes of .... worcestershire because that was something I remember my mom putting in her stuffed peppers &amp; with my eyes closed it was liked eating my mom&#39;s stuffed peppers! Amazing!!! To put a slice of American cheese on top of each bowl..... will blow your mind.... makes it creamy and delicious!  I am a picky eater.... so to find this recipe is the BEST!  To make it thicker add a little more cooked rice other than that ENJOY!\n",
      "This recipe was extremely easy to make and very tasty.  I used a chocolate crust instead of a graham cracker crust.  I will make this again and try it with different gelatins and yogurts.  Strawberry sounds good with fresh strawberries layered in the bottom.\n",
      "I fixed this last night for supper and it was absolutely DELICIOUS !!!!! I would have never thought that cream of mushroom soup on top of baked spaghetti would be good. It was a big hit at my house. :)\n",
      "This recipe is really really good.  I&#39;ve also used the zucchini, cheese, and egg mix as the base for Eggplant Parmesan instead of pasta.  Everyone loves it.\n",
      "wow- I have a new go-to recipe for my ripe bananas- very moist  light, and addictive- they make at least 48 bars.\n",
      "Is this freezable?  Planning on a fishing trip and don&#39;t want to be tied to the kitchen. To many fish to catch and if I could freeze would I need a tin touch-away pan?\n",
      "Really filling. I added some dill and parsley flakes for some more flavor.  And I added some poultry seasoning to the broth for a little chicken flavor boost. Baked pie came out wonderful.  Second pie into the freezer. Hope to enjoy that next month!\n",
      "This is the first apple pie I have made and it got rave reviews.  I went by the recipe using 7 cups of apples. I used half Gala and half Braeburn and sliced them pretty thin.  I found the pie to be a good consistency, not runny at all, even after cutting, the filling does not run out in the empty area.\n",
      "I was looking for a nice soft ginger cookie and these are perfect.\n",
      "\n",
      "   I’ve used this recipe twice now and they’ve turned out excellent both times.\n",
      "\n",
      "Highly-recommend these! :)\n",
      "We have made this over and over again -my husband pulls it with a fork when it is done.  One of the easiest recipes and one of the best!  I even purchased Ranch Dip mix by accident and it&#39;s just as good!\n",
      "The gravy was bland..no flavor.  I added some sharp cheddar to the broth mixture and it made it much tastier.  More like a scalloped potato.\n",
      "I  definitely will make this recipe again. It is a  delicious pie, wonderful taste and texture.  I have prepared and carried the pie to several gatherings. Was enjoyed by all an there were  no leftovers. After reading several of the ratings, the problem may be the baking   temperature used  was not as printed as well as the proper chilling time.  My pies always look like the pictureyou show.\n",
      "Love it!  I make it for my family, and occasionally for a work potluck.  It always gets rave reviews.  Sometimes I add a cup of cheddar to it - we like it cheesy here.\n",
      "My family loved this cake. It was refreshing especially on a nice warm day. The cream cheese and pudding..delicious. I will definately be making this again.\n",
      "This recipe looks great but the dumplings at the Cracker Barrel in Tulsa don&#39;t look like this--they are flat.\n",
      "I accidentally doubled the amount of sugar, salt and oil (I tried to cut the recipe in half... mistakes were made), but the bread still came out looking and tasting amazing! I imagine my accidental adjustments just made for a more flavorful loaf, which is nothing I&#39;m complaining about. I would definitely make this again.\n",
      "So delicious!!  Had it not been for all the great reviews, I might have just passed on this recipe - so glad I didn&#39;t!  The only changes I made were to increase the salt and add a little pepper.  I also used red peppers instead of yellow and chicken instead of turkey, since that is what I had on hand.  My whole family loved this, and my kids didn&#39;t even suspect there was pumpkin in it.  This is so much healthier than my other chili - I will definitely be making this on a regular basis!  And FYI, this is even better the next day.\n",
      "Easy recipe.  While I loved the rice noodles, family was not thrilled with them.  I loved the flavors\n",
      "WAY too much sodium. You should take in less than 2,300 mg a day--not in one meal.\n",
      "Very nice recipe!  This soup was really good and filling.  Great leftovers for next day lunch too.  Will be making this again.  Thanks for sharing!\n",
      "Delicious!!! Very easy to follow\n",
      "Love making seasonal cakes for the family ... they loved it !  Will be a keeper.\n",
      "this was absolutely delicious!!\n",
      "Not a fan of this cake. Was quite dense and tasted Like dark chocolate with all brown sugar and cocoa. The frosting was excellent.\n",
      "this recipe is amazing. However, i change it up a little by replacing the nuts with pretzel pieces. it is  the perfect sweet and salty treat.\n",
      "My favorite!  Soooo good!\n",
      "This is a family favorite!  We&#39;ve been making this recipe since it first came out. The regular recipe didn&#39;t specify red potatoes, so we have always used russets.  It&#39;s a staple at our holiday dinners.  We love it!\n",
      "This soup is really good!  Had to thicken it just a bit but it may have been that I added too much water. I chose not to use the hot sauce and it was great on this very cold night. This is a keeper!\n",
      "I made this on a whim after looking for a recipe to used leftover grilled shrimp. It was *amazing*. Hours later, I am still thinking about it. Reading some of the other comments, I thought the amount of lemon was perfect. Tangy, zingy, mouth watering. I&#39;ll be making it again. Thank you!!\n",
      "SO GOOD!!  Loved this recipe!!  So did my two girls... my 18-month old ate as big of a piece as I did and asked for more!  I will definitely be making this again!  UPDATE 5/2/2014:  I make this dish on a regular basis, still a family favorite.  However, this recipe fills a 9x13 casserole dish which is a little too much for us to eat in a couple of days.  What I&#39;ve started doing is mixing all of the filling together - ground beef, onion, pepper, water, taco seasoning, black beans and diced tomatoes - I also started mixing in the refried beans so it&#39;s simpler to put together and the taste is the same :-)  Then I divide the entire recipe in half.  I use 3 tortillas, half the filling and half the cheese and make up a 8x8 dish.  Then I take the remaining half of just the filling and freeze it in a freezer container.  Next time I want to make this dish, I defrost the filling and then make another 8x8 casserole.  Works perfect for my family!\n",
      "I made this for my picky nieces and they both loved it. Everyone else did too and it was so easy to make.\n",
      "made it yesterday, all i can say?! YUMMY!!!! my kids loved them too ..thanks Diane for sharing this delish recipe :)\n",
      "These are so easy &amp; good!  My whole family loved them.  I used 4 bananas to get more of a banana flavor.\n",
      "This was very good! I will definitely be making it again :)\n",
      "Very good! I&#39;d seen the recipe many times, but always thought it sounded gross, judging by the name.  After actually reading it I decided to give it a try. So glad I did.  I added 32oz of chicken broth, we like our soup more brothy. I used 1lb of Velveeta, about 2 cups grated. It was plenty of cheese. I think more would have been too much. I also threw in a couple diced jalepenos. I&#39;ll add a couple more next time.  My only complaint is the name of the recipe!\n",
      "Great! Will add It. sausage next time\n",
      "my family loved this one.\n",
      "Delicious!!  I cut the recipe in half and put in a 9-inch square pan.  I used almost 4 cups of rhubarb and I wish I would have used more.  The crust is nice and sweet and the custard really goes well with the tart rhubarb.  I didn&#39;t have the ingredients for the topping so I just used whipped cream.  It was really tasty.  Next time I am going to make the regular topping with the cream cheese and increase the rhubarb to 5 cups for a half size batch.  YUM!!\n",
      "Wow.. This was really good!  I added halved mushrooms and used Italian Seasoning instead of Parsley.  Can&#39;t wait to have it again.\n",
      "So delicious on a winter day.  I added broccoli and corn.  Thank you, Debbie, for sharing this recipe.\n",
      "Delicious and the pumpkin gave it a different flavor\n",
      "This was super good and so easy with the coleslaw! My husband, friends and I love egg rolls but I totally lack the skill to roll them. I used lo mein noodles because that&#39;s what I had on hand and I added more soy sauce when I served it. The only other addition I think I would make is add something crunchy on top like a fried egg roll wrapper. Great recipe will make again.\n",
      "Very good! I also subbed 2 T. of oil for the shortening, and it was plenty.\n",
      "I was so disappointed!  The long grain rice did not get cooked inside of the meatballs even after an hour.  My family tried to eat them but no one was able to finish or enjoy them since the texture was crunchy rice:(  I did not see one other comment with the same problem.  What did I do wrong?\n",
      "I&#39;m allergic to bell pepper so I substituted thinly sliced carrots for texture and it worked really well. Also, I used ground turkey to come closer to a traditional chili. It tasted great. Next time I might double the batch size and freeze some for later.\n",
      "I highly recommend making this soup. I added minced garlic to it.\n",
      "this recipe was very easy and looks good.  I only changed one thing and that was just using half the salt which happens to be way too much also.  you should add salt last, the cheese can have lots of salt and the butter too.  It is ruined and will go in the trash and I hate wasting food.  sad sad\n",
      "First time I didn&#39;t have correct size pan and they turned out well. Second time I used correct size pan and there wasn&#39;t enough carmel to cover. I gave the recipe to 2 others and they both failed and dumped it. Flavor was good but did not turn out as expected.\n",
      "I make this regularly, my whole family loves it.  I have made it for company and it goes over very well. Regarding the Weight Watchers question, I also was on WW and figured the point value to be 5 pts per serving without cheese and sour cream.\n",
      "I didn&#39;t have lemon juice so I used cut up pineapple pieces and squeezed them in the bag, threw them out before cooking because I didn&#39;t want a too tropical flavor, but next time might just cook it that way. Didn&#39;t taste the pineapple at all. I used 4 small breasts. Was delicious and one of my best meals ever.\n",
      "Delicious!!! A great potluck dish because it&#39;s tasty and different\n",
      "I was impressed! I served it when we had some friends over and everyone couldn&#39;t get over how good it was. Even the picky toddler ate it who usually won&#39;t even eat dessert!\n",
      "I made this last night for supper and it was delicious! I had made a roast the night before so I used my leftover carrots and potatos in this soup. Only thing is for our family next time I will add a bit more hamburger.\n",
      "This was so great on a hot day.  I did not put in a crust but in dessert cups.  I have also made it in Peach and I plan on making Lemon and Raspberry.  As long as the jello and yogurt match you can make any flavor.  We love it.\n",
      "I made these today , it’s wonderful !  Didn’t change a thing, I added cinnamon because  I thought the recipe called for it !  I love banana cake, bars, bread, this is terrific!!’\n",
      "My picky 3 year old just cleaned her bowl, it&#39;s a keeper!\n",
      "Made this for a lodge dinner for 50.  Substituted chicken hindquarters for thighs because I needed a real he-man main dish.  Doubled the sauce.  Nothing but raves from both men and women.  A keeper for sure.\n",
      "One of my go-to meals and I have been making for many years. Always a sure fire hit. Can add more veggies or spices if you&#39;d like. Sometimes we use the hot spicy sausage, gives it more of a kick. GREAT recipe.\n",
      "I tried this recipe for the first time tonight &amp; am thrilled with how well it came out. The flavour is great &amp;, thanks to my salsa, has the perfect amount of spice. I used ground turkey instead of ground beef &amp; added kidney beans. I love how easy &amp; quick this dish is to make.\n",
      "Very good, if you like it a little thicker ad just a little potato flakes, turned out great!\n",
      "I made 24 mini muffins and 12 regular muffins with this recipe......delicious!  I didn&#39;t peel or drain the zucchini and used half green and half yellow zucchini.  Men especially loved the frosting.\n",
      "Best chocolate cake recipe, extremely addicting, you have to try it, it was gone so quick! I made it with chocolate icing, next time I&#39;ll have to try the one on the recipe.\n",
      "The only change I made was using cooked, until browned and caramelized, hot Italian sausage, chopped. I only added amount of tortellini we were having that night, added fresh tortellini the second time.  It’s also freezer friendly, without the tortellini. So simple and so delicious!\n",
      "My first time making clam chowder. I&#39;m glad I  chose this recipe. It was delicious.  We like it a little thicker, so next time I&#39;ll adjust the flour and liquid accordingly. But it was still very good. I used chicken broth instead of water, otherwise followed recipe exactly.Oh, also, I added one carrot  chopped into very small  pieces.\n",
      "I just made this recipe again and some of it stuck to the glass pan. I just read a review that said to use shortening and not the spray. I will definitely do that next time. The card players should love this surprise treat. I would give it a 4 star rating this time.\n",
      "I really enjoyed this recipe, my husband told me to remember this one.\n",
      "We loved this.  I made a few modifications and it still turned out great.  I used boneless chicken thighs, I added 1 can kernal corn, 1 additional 10 oz can of broth, and chopped bell peppers with the onion.  I also used light sour cream and 1/2 -1/2 since I didn&#39;t not have the heavy cream, and it was just great.\n",
      "I have been making this not as a grape salad but as a fruit dip for years!  I make a double recipe (omitting the brown sugar and nuts) and refrigerate overnight with a variety of different fruits to get dip and fruits very cold before serving. I place in a pretty bowl in the center of a platter with different fruits placed all around the bowl. I use pineapple chunks(fresh or canned), strawberries, grapes, blueberries, apples, navel orange sections, etc., etc.  Whatever fruit you desire! A great family gathering, party, or baby shower dish. We love this as an all fruit dip!!!!\n",
      "Its not even finished yet n it already smells amazing!!  Ive tried a couple different bread recipes on here and i love them all!\n",
      "This was excellent.  I tried stirring the apples in for a few seconds and then just used my hands. I will definitely make this again.\n",
      "Very good.  I also added some chopped onions and when I added the dumplings I also threw some frozen peas in.  I also added 2 red potatoes and loved that.  My 2 1/2 year gobbled up an entire bowl and then ate some of my husband&#39;s dinner later!\n",
      "I have made these twice and they are a huge hit! Easy to make and delicious! They will make your kitchen smell yummy!\n",
      "For Barry! Here’s the answer to your question......4 boneless skinless chicken breast halves (1 pound). Read the next time!! Thank you!!\n",
      "Giving it a few extra stars only for a change I had to make...My rice noodles looked a lot different than in the video and I think that made a huge difference, unfortunately.\n",
      "This recipe is amazingly refreshing and highly recommended! The smell and taste is great for the whole family! Yummy\n",
      "My entire family loves this recipe. I&#39;ve been making it for years.\n",
      "I&#39;ve made this bread for a few years now, and never can seem to keep it around, as for getting 16 servings, we&#39;re lucky to get 10.  I usually end up making  a second loaf, and also make it, and give it as gifts.\n",
      "Excellent!  Well worth the cost of the  seafood!\n",
      "This is one of our favorite soups.  Thanks you for this great recipe.  We make this at least 3 times a month.\n",
      "This recipe is delicious- everyone in the office loved them! I made everything per the directions except for the icing. I didn&#39;t want an overwhelming cinnamon flavor so I only used 1/2 tsp of cinnamon, and it came out perfectly. I&#39;m very pleased with the recipe. [And yes, I also had extra batter and icing- I just used a 5&#34; round and made a small cake.]\n",
      "This is now in my Favorites cookbook.  So quick and so delicious.  I plan on trying different types of fish with this recipe.\n",
      "Was a bit too fluffy--I prefer a more substantial pie.  But the taste was good.\n",
      "made according to directions, DELISH!!!!\n",
      "My family loves this cake.  I make it at least twice a year.\n",
      "Very nice banana bread. Extremely easy and quick to make. I doubled the recipe, and instead of sugar, I used a sugar substitute called WHOLE EARTH sweetener Co., so I only needed half of the amount of sugar because it&#39;s very sweet. I baked it in a round 23cm pan, on 165 degrees (I&#39;m in Australia) for 1.5 hours, and for the last 10 minutes I had to cover it with a piece of foil to stop it browning too much. It&#39;s quite moist and flavourful, perfect with a cuppa. Next time I might add some cinnamon to the mix before baking.......hmmmmmm??. Thank you for a beautiful recipe. My four children lloovveedd it. My 10 year old ate at least 5 pieces in one sitting. Very good!\n",
      "Great tasting pancakes. The family loved these.\n",
      "I&#39;ve been making this for a while. It&#39;s a keeper!\n",
      "Excellent.  Always goes fast.\n",
      "Added a beer, hot sauce, extra cup of cheddar and chicken broth to give it the kick we wanted.  Served with baguette.\n",
      "I made this recipe in two batches: one with whipping my egg whites into stiff peaks then combining. The next one without whipping my egg whites. The whipped egg white&#39;s batch turned out excellent! Crispier with a bit more depth. The non-whipped recipe still turned out tasty, however I found it comparable to a &#34;Mounds&#34; Candy Bar without the chocolate coating.   I&#39;m looking forward to trying this recipe with the traditional almond extract or maybe lemon!\n",
      "I remember a time long long ago lol..when my mom was making this for our family.  I was a teenager and my little brother was about 5.  I remember thinking it looked so good. Mom was taking toothpicks and stabbing them ..giving us all one to sample.  Just as I was about to sample what I though looked and smelled fabulous my little brother screamed at my mom, stomped his foot and yelled No way!  No way I am not eating stinky.  I about died.  I laughed so hard I cried.  From that day forward me nor my brother would eat mamas porcupine meatballs.  Tomorrow is my brothers 47th birthday.  I am skipping the cake and bringing stinky.  I can&#39;t wait to see his face.  Happy Birthday Mikey.  This also dispelled that old rumor that Mikey will eat anything . he won&#39;t.\n",
      "I was tempted to use my banana bread recipe to make muffins, but I saw another reviewer did just that and was unhappy with the result.  These were good, not quite what I was hoping for. I would call them “one-note”, but they are really “two-note”: sugar and banana.  I think the thing that is missing is brown sugar; maybe a mix of brown and white would give these a little more depth.\n",
      "I used the Jello brand Cheesecake pudding instead of Vanilla-DELICIOUS!  I may add a little orange extract next time.  And one small note, my texture tongued daughter did not like the crushed pineapple &#34;things&#34; in her frosting.\n",
      "We made this last night and no leftovers for today! This is delicious and so flavorful. Made it like the recipe says with only these substitutions...had boneless, skinless thighs instead of the breasts and used a precooked package of shrimp. The chicken thighs were just as good in it and I stirred in the shrimp just before serving, long enough for shrimp to get hot. This dish is spicy but not mouth burning spicy. As my hubby said, it is spicy but not enough to make his bald spot sweat! We will definitely be making this again!\n",
      "Great sweet corn bread recipe. I’ve made it twice sticking to original recipe. It does make a large amount so I froze a few pieces in freezer bags and used them during the rest of the week.  You can defrost them or they reheat well in the microwave. Just a minute or less for a couple of pieces. This recipe is very much like the Krusteaz Honey Cornbread mix I usually buy.  If you like sweet cornbread you’ll definitely want to try this.\n",
      "I have never made pumpkin bread before, but decided to try it because the reviews were so good! I used my own fresh mashed pumpkin, and added chocolate chips instead of the walnuts/raisins, it is SO delicious!! Tons of flavour.\n",
      "Delicious pie! I used my favorite go-to homemade pastry dough recipe for the crust. I used 4 granny smith apples and 2 honeycrisp apples .  That combination was perfect for us. Just the right amount of tart and sweet. TIP FOR ALL: If you dont want runny pies heres what to do; Mix your fruit with your sugars and lemon juice, let sit for at least 30 minutes, dump the juices that have been rendered out into a small sauce pan, boil it gently for about 5-10 minutes to form a syrup (you can add a teaspoon or so more of sugar at this point to thicken up your syrup if needed) let it cool slightly then add it back to your fruit and sugar, mix well then add your flour. This works every single time with every kind of pie. You will not have any more runny pie filling. Thanks for sharing this great recipe!\n",
      "Too eggy, egg runs to center of Pan ,solution,only use unfrozen coconut,remove 1 egg, add a bit of condensed milk, .\n",
      "Made it exactly as listed, but no shrimp. The flavor was wonderful, and my husband thought so too! We agreed that with all that wonderful flavor, the shrimp would be overpowered, anyway. My husband doesn&#39;t like rice and ate it like a bowl of stew!  Will definitely make it again.\n",
      "Family favorite - fantastic and easy for the holidays!\n",
      "Being from a state where Beef is what&#39;s for dinner, my initial reaction to this recipe was less than excitement, but the reviews convinced me to give it a try.  We really liked it a lot.  I had to thicken it up a little with some cornstarch to suit my chili tastes.  Next time I make it, I will add a vegetable like cabbage or corn to increase the textural diversity but overall this is a really good chili and I will make it again.\n",
      "This meat loaf is moist and flavorful. Another keeper!!\n",
      "This was a great hit at a big family get-together.  Will make it again and again.\n",
      "The absolute best and most moist cornbread ever!\n",
      "I made some tonight. And when I got it out of the refrigerator to cut it. my bottom was still a little creamy, which I didn’t use foil cause I can’t stand foil, it makes me cringe.. hopefully by in the morning it will Harden up.. but it tastes really good.\n",
      "It’s true, it’s the best banana bread that I’ve ever made or tasted. I used pecans as that’s what I had on hand. Muffins great idea. Be sure to use a larger loaf sized pan. Baking time varies. My bake time over an hour.  VFE. A must try.\n",
      "I have been making this recipe for years; it has become a family favorite! I usually make little individual pies to freeze with the extra filling. It is my go to, to bring to friends after surgery or tragic loss.\n",
      "it was very good, i cut recipe in half as there is only two of us.   I wasnt  sure what to expect so I was a little surprised to find it as &#34;soupy&#34; as it was, just thought it would have been a little thicker but still very good\n",
      "I have been making this bread every Sunday for about a year now. It’s a fantastic sandwich bread. I make 2 loaves every Sunday for sandwiches for the week. I brush some butter on the tops of them as soon as they’re out, let them cool for a couple hours then slice them and stick them in the freezer ready for sandwiches :)\n",
      "I was really impressed with this. I had just over 1.5 lbs of chicken breasts, and after pretty much exactly 5 hours exactly it shredded incredibly easily. The flavor was really good too. I&#39;ve never been one to put salsa on my tacos or burritos (I&#39;m more of a pico de gallo person), this was super good. It also made enough that I&#39;m going to definitely get more than a few meals out of it. Easy, quick and cheap.By the way, I bought a can of corn, accidentally got creamed corn, and (while this was the first time I made this, so I don&#39;t know how it&#39;s supposed be exactly), I don&#39;t think it changed anything. The salsa has enough liquid that it got absorbed without an issue.I&#39;m definitely making this again.\n",
      "Delicious. Thanks for sharing a flavorful recipe. Enjoyed by all.\n",
      "Anyone know if you can freeze the bars and frost later, when ready to use? Thanks!\n",
      "This is one of the few things my family of 5 all  like to eat for dinner. I only use about 6 thighs. I subbed pineapple juice for the cider and just use garlic powder (picky kids). When I transfer sauce to skillet I add frozen broccoli with the corn starch, heat then add the chicken and serve over rice. My kids devour the broccoli in this yummy sauce. Thank you for sharing recipe, we have this at least 3 times a month. God bless:)\n",
      "Question for the author (or a successful user of this recipe): Are you baking at 375 degrees in a dark or light pan? Other bread recipes I see run around 400 deg. and a light pan. Which do you use at 375?\n",
      "I made these for work to celebrate birthdays and work anniversaries.  They were a big hit!!\n",
      "I have made these for many people and everyone has raved about how moist and full of banana flavor they are.\n",
      "This chicken is a hit with my family and for anyone I prepare it for. It is so very good.\n",
      "It didn&#39;t take long for these muffins to disappear.  They are delicious made as is, but I can&#39;t wait to make the next batch adding cinnamon, nutmeg and chopped nuts to the mix.  Maybe the time after that some chocolate chips..hmmmm.\n",
      "I doubled the recipe and tripled the cheese. Replaced the 2% with whole milk.  Also added a little garlic powder and paprika. Delicious! ?????????\n",
      "I used boneless/skinless cutlets.Excellent Dish.\n",
      "This is an outstanding recipe---family thoroughly enjoyed it and have passed it on to friends.\n",
      "Well if i want a sweeter pie i thought i&#39;d use Gala Apple&#39;s But my mom said that the texture is different and that gala Apple&#39;s would most likely fall apart so maybe in the future i&#39;ll try that. by the way love the recipe so good i used store bought so good but i&#39;ll try homemade next time!\n",
      "This recipe was quick and easy. These muffins were delicious and were gone quick. I&#39;m making more and have already saved this for future bananas. ??\n",
      "My Boyfriend is a trainer and picky eater this fit the bill for us both!\n",
      "I sprinkled the roast with salt and pepper, then rolled in flour and put on top of carrots, onion, and a potato and let sit on low for 10 hours. Great recipe!\n",
      "<p>I, like other people, prefer not to use sugar-free ingredients. So I use regular pudding mix and regular cool whip. :) Tastes great! :)</p><p>Also: WRONG Cklee. I&#39;m not sure why you felt the need to correct people? A simple google search would have told you it is PIG PICKIN&#39; - NOT pig lickin&#39;.  I have no idea why you&#39;d try to correct people without first making sure YOU were correct. (You&#39;re not.)</p>\n",
      "My man loved this dessert. Was easy to make and tastes great.\n",
      "This recipe is so easy &amp; delicious and the left overs were just as tasty reheated. This recipe is awesome as is but next time I make this I want to try fresh mushrooms &amp; maybe some green pepper.\n",
      "I’ve made it with and without brown sugar and it’s much better without the sugar in my family’s opinion.\n",
      "This has been my daughter&#39;s favorite soup recipe since she was in 1st grade.  She is now 22, and STILL ask me to make it for her.\n",
      "Very good!  Will make again. I added more beans, just my personal preference.\n",
      "I recommended this recipe to my mom...she just made it for group of friends and they all raved about it.\n",
      "This is really amazing. Like made am account just to say this is good, amazing. Additionally simple, cheap, and easy to modify.\n",
      "I had doubts that this was going to turn out because the sauce ended up very thick.  It was almost like a paste, and I wasn&#39;t even able to simmer it for the whole hour because I was afraid it was going to burn.  However, the lasagna still tasted excellent even with the very thick sauce.  I think the next time, I will maybe use a can of diced tomatoes in place of one of the cans of sauce.  Also, I would wait to add the last layer of mozzarella cheese until after you uncover it, because most of the top layer of cheese ended up on the foil when I removed it.  I also used the no-cook noodles for this, and they came out great!\n",
      "For my heart patient husband I had to leave out the coconut (regretfully) but otherwise followed the recipe.By far the BEST carrot cake EVER! I finally just printed out a bunch of recipes to hand out, everybody raved over it and it is even better the next day (if there is any left over!)\n",
      "Subbed chicken broth for bullion because that&#39;s all I had on hand.  Soup was delicious - even my very picky 5 year old ate it!\n",
      "My family and I followed this recipe and it was fantastic. We used pipping bags and zip lock bags to put the chocolate and peanut butter into the mini cupcake cups. This made it go very fast and easy. We will be making these again.\n",
      "Absolutely delicious! Everyone loved it and will definitely be making it again.\n",
      "I made this tonight! I did change it up a little bit though! I omitted the carrots, and the roux used to thicken the soup. When a soup has lots of cheese like this one does a roux to thicken things isnt really necessary in my opinion. I added a little bit of dill weed as well, which gave it a little kick. My boyfriend had picked out a hickory smoked bourbon gouda that he decided he wasnt a fan of after I already sliced some for his lunch, so I threw that in there too! We&#39;re definitely going to be making it again :)\n",
      "I added sauted green pepper and onion to add and then put in a small can of diced green chiles. This was a suggestion from a friend in Arizona. Good every way.\n",
      "AMAZINGLY moist cake!  Family didn&#39;t care for the icing though--mostly a texture thing, but also thought it made it too sweet.  Used plain whipped topping instead.\n",
      "Very good and easy. Had corn tortillas, so I made 3 layers.\n",
      "I just pulled these out of the oven and couldn&#39;t wait until the bread was cool to taste - they are SO GOOD!  Next time I will take the advice of a few others to bake it in one larger loaf pan instead of two.  They were fine in the two, but I didn&#39;t have the exact size.  I made it exactly as the recipe stated other than adding the nuts because one of my granddaughters is allergice to tree nuts.  Great texture!\n",
      "This is very good. Hubby loves it. However, I used full fat cream, sauteed the veges in bacon grease that I save, and do not put bacon on top, just my preference, but I do love bacon. I put only one medium size potato cut in small cubes, I prefer less potato and more clams! I have made this 3 times since I found this recipe about 2 months ago...thank you\n",
      "This was very tasty and relatively easy to make. Made with bacon and next time I will try the breakfast sausage.\n",
      "I found this to be a bit on the heavy side for a soup.  It had more of a stew look.  But it was very tasty and made for a filling soup.\n",
      "So simple and tasty!\n",
      "This cake is the best &#34;moist&#34; chocolate cake I&#39;ve ever tasted.  I have had nothing but praises from all those who have tasted it &amp; numerous requests for the recipe.\n",
      "Very yummy. My 2 picky eaters (husband &amp; 5yr old) both enjoyed it which makes me happy. Very easy to make. I forgot to cover it when I baked it but it still turned out awesome. Since I like a little more spice to my food I added some hot sauce to my serving, but wouldn&#39;t add it to the entire dish...again, I have picky eaters.\n",
      "It’s perfect. I’ve made this quite a few times, one as a side to brunch- lunch and the other as a decadent dessert when I add a vanilla lemon buttercream icing. It’s wonderful. I add a 1/4 ts of almond extract and I suspend the blueberries in flour before adding them to the batter.\n",
      "Thank you very much Jane for sharing this. The picture sold me! LOL It looks Fantastic! Printing this recipe up and I might even attempt to make it tonight! Have a good evening! Jackie \n",
      "This is one great recipe. We love in the fall and winter, since it gives a great vegatable serving! We spice it up a bit by adding some cayenne and/or jalepeno peppers\n",
      "Doubled this and it turned out great.  Didnt add the salt as the canned tomato has enough in it for us.\n",
      "Overall this soup turned out great! My only issue was that the 1 1/2 cups of water was not nearly enough liquid! I ended up adding about double that amount. I substituted beef broth for the water and it was a great addition. I also only used black beans, two cans, and I used a whole bag of frozen corn instead of canned. It was a huge hit with my whole family!\n",
      "I love this recipe, although one time I made the mistake of adding jalapenos (cans were virtually identical) instead of the chilies which made it way too hot for my taste, but the rest of the group loves spicy food so it ended up working out! I have made it several times since then and everyone loves it!\n",
      "I had great hopes for this recipe after reading the reviews, but we were very disappointed.  I made it for dinner last night and the only adjustments I made were to add white wine to produce more sauce but it was still far too dry and to top the pasta with the shrimp mixture before broiling  We also thought it was very bland; with the amount of garlic and lemon juice we thought it would taste better.  I&#39;ve been thinking about how to improve it: add lemon zest?  saute the shrimp in the butter/oil instead of simmering in the liquid?  I&#39;ve decided to use other shrimp scampi recipes instead.  The crispy broiled topping was wonderful so will try that with another recipe.\n",
      "This is GREAT!\n",
      "I have found THE apple pie recipe for keeps.  My husband and 29 yearold son were drooling over this pie!  I used granny smith apples,4 tablespoons of flour (not one drippy run), didn&#39;t have nutmeg, butused a little pumpkin pie spice, and cardamom in addition to cinnamonand ginger.  I used Trader Joe&#39;s pie dough and I&#39;m telling you it is utterlydelicious!!\n",
      "I would use an 11 x 7 dish for this recipe - and I cut the Pretzels to about 1 1/2 cups -- otherwise it&#39;s too much crunch.\n",
      "This is a perfect summer recipe, especially if you use a ready-made crust, since there&#39;s absolutely no baking involved. I love citrus of any kind, but lime is my favourite. I can see that I&#39;ll be making this again and again over the summer.\n",
      "Haven&#39;t made it yet but want to use fresh clams, what is the ratio of fresh clams to canned clams?  Looking forward to making this.  Thank you.\n",
      "This is by far the best shrimp scampi recipe I’ve ever made! My family loved it &amp; we’ll be making it again!\n",
      "I first made this recipe about a year ago for a family gathering. It was so simple but so tasty and got rave reviews from everyone!  Since then I have made it many times and use this chicken on salads as well as in tortillas.\n",
      "I can&#39;t wait to make this for Easter! It looks AHHMAZING!\n",
      "I fix this recipe about once a week. I use a little less lemon juice, omit the oregano and use dill weed instead. My family loves it.\n",
      "Amazingly good! My family prefers this recipe over my Italian-born mother-in-law&#39;s!\n",
      "Unfortunately, my fudge never set-up.  I left it in the fridge for several hours.  I even tried the freezer for a little while but it didn&#39;t help.  It tastes good but I can&#39;t give it to anyone else.\n",
      "I cut the calories and fat way down by using nonfat sour cream and substituting nonfat (skim) evaporated milk for the heavy cream and it is still yummy, a family favorite!\n",
      "It is just my husband and me, so I prepared half the recipe and used an 8&#34; x 8&#34;  baking dish.  We thoroughly enjoyed this casserole.  I put it together the night before and let it sit out for about 30 minutes before baking.  I will certainly make this recipe again.\n",
      "Have made this for years....family loves it and the frosting is excellent!\n",
      "I add creme cheese and more creme. I also roast my chicken breasts in the oven and then pull and dice the meat. I have won 3 chili cook-offs with my version!  :)\n",
      "I use this recipe as is and love it.  My friend adds bacon but I think it takes over and ruins the flavor.  This is a big hit throughout my entire extended family.\n",
      "As a rule we love porcupine meatballs, just not this recipe. The 1/2 cup of water with the beef makes them ridiculously soggy, and they don’t hold their shape while browning and end up as mush.\n",
      "So good, taste like a homemade snickers bar!\n",
      "An extraordinary recipe.  We all loved this chili!  One of the better white chili recipes I&#39;ve tried.\n",
      "Loved the flavor of the chicken &#34;soup&#34;.  I did end up thickening it up with instant potatoes.  Did not like the dumplings though; ended up fishing them out and dumping them.\n",
      "This soup was very very good\n",
      "I&#39;ve made this several times.......and have been told it&#39;s the best chicken soup they&#39;ve ever had !!   I don&#39;t even bother with the sour cream.  It&#39;s tasty without it.  I do saut? celery and onions and use chicken broth instead of the bouillon and always use rotisserie chicken.  It&#39;s excellent !!!   Yes, the noodles soak up the liquid, so you may want to add a little broth, if you like it soupier.Otherwise, it&#39;s sooooo good!   Thank you for posting.  It&#39;s an easy and quick dinner and I love that people rave about it.  : )\n",
      "This is my go to recipe I am a novice bread baker and was a bit nervous if this recipe would work out. I am glad I did it&#39;s a hit every time the only thing I would like to share is the first time the bread lost moisture and so was a bit hard but then a friend told me to put a tray with water on the bottom rack to create a steam oven I am glad I got this tip the bread comes out moist on the inside and crusty on the outside!\n",
      "I was looking for the recipe my grandma used, and while this is close, it’s not the right recipe. The jello layer is too thick and the middle layer is too loose. However, out of all the recipes my relatives have tried since my grandma passed away, this is the closest. I think I will use one box of jello and one package of strawberries next time and for the filling, 1 1/2 cups of cool whip and powdered sugar instead. I’ll let you know how it goes! Still a tasty dessert with this recipe.\n",
      "Easy to prep, make, cook and oh so tasty.\n",
      "This was a delicious way to fix chicken.  I cut a thick chicken breast in half vertifcally and used one slice of bacon for each half breast.  I also used mozzarella cheese instead of Colby-Monterey.\n",
      "I know from watching Emeril that Jambalya normally uses Andouille sausage, but here in rural, Western PA we just don&#39;t have access to it. This is the third time we&#39;ve made this recipe. This time we doubled the chicken, shrimp, tomatoes and seasonings. My family is giving the altered recipe a solid 8 out of 10.\n",
      "Wow I would love to try this cake- please post the ingredients in metrics measurements do I can bake this beauty !! Tia\n",
      "It was easy to make and really impressed my family\n",
      "I make a lot of recipes off the internet and I usually don&#39;t post reviews, but I&#39;m sitting here eating some chicken pot pie and I&#39;m wondering why in the cussword I&#39;ve never made this before! This is absolutely delicious and I think if I didn&#39;t have more self control I&#39;d eat the whole thing right now. Make this pie.  If you don&#39;t like thyme, then reduce. It&#39;s got a lot of thyme. But it&#39;s fantastic.\n",
      "THESE WERE VERY EASY TO MAKE, I USED PARCHMENT PAPER INSTEAD OF FOIL AND WAS ABLE TO ROLL ANY SPILLOFF OF CARAMEL BACK ONTO THE CRACKERS. EVERYONE LOVED THE TASTE, SAID REMINDED THEM OF CARNIVAL ROASTED ALMONDS\n",
      "Super yum. I&#39;m 14 and it was easy for me to follow and make myself.\n",
      "These were so easy and delicious.  I halved the recipe because there is just hubby  &amp; myself. I used part cheddar and part pepper jack because that&#39;s what I had in the house. I grated the onion so the flavor would be throughout the dish.  Very  enjoyable.\n",
      "I have this almost memorized because I make this all the time.  The first time I made it, my boyfriend remarked &#34;, if I ordered this at a restaurant, I would be back the very next night&#34;.  I have made this at least 30 times and it is always fantastic.  This recipe is simple enough to be quick and easy and yet involves enough flavor to make you feel like you are simply amazing in the kitchen.  I typically double the marinade.  While the chicken is marinating, I chop vegetables.  I have been adding mushrooms lately and it&#39;s a great addition.  I cook the veggies first, be sure to add salt and pepper.  Then I cook chicken after marinating for at least 1 hour.  Mix it all together and voila.  I love to cook all the time, but this recipe has to be made regularly.  It&#39;s just that good!   And don&#39;t skip the red pepper.  Cleanup is also easy, it only requires a cutting board and a pan!\n",
      "Very good. A little on the tangy side from the Italian dressing, which I enjoy, but if you have family members who do not just use a half a packet or less of Italian dressing. I usually uuse a 4 pound roast so I just do two of Ranch, 2 of brown gravy, and 1 of italian dressing in a cup of water. When i thinken the juices for gravy I just add some corn starch or flour to some cold waterbefore I mixit in to the juices to avoid lumps.  The best part is it is so easy yet tastes so good.\n",
      "I&#39;ve made this recipe several times and it is EXCELLENT! On the 3rd morning after making it we had 4 slices left and I used them to make Banana Nut French Toast! Topped with powdered sugar and if you like, syrup! I also do this with carrot nut bread!! Give it a try!\n",
      "I love fajitas and this recipe did not fail me. Delicious blend of spices! My husband prefers shrimp so for his I used the same seasonings and just added frozen shrimp instead of chicken. He said they were great!\n",
      "looks like a very healthy dish for what ails you!\n",
      "Hi - I&#39;m about to try these out. Do you use salted or unsalted butter?Update: Used salted butter - these are the best cupcakes I have ever cooked by far, and I&#39;m not even a pumpkin fan! The pumpkin flavor is light and it balances so well with the cinammon cream cheese frosting! Thank you so much - I will be making these every fall for the rest of my life\n",
      "I&#39;ve been making this recipe again, and again, and again...  It&#39;s THAT good.\n",
      "Very good and very tasty. Would make again.\n",
      "Exple, thanks for the dumpling recipe!  I really don&#39;t like the ones made with bisquick any more ....  and Stewart and Lolygagtx .... you&#39;re talking about cooked pie dough and those are the most disappointing, awful &#34;dumplings - NOT&#34; I&#39;ve ever tasted.  I ordered chicken and dumplings when we went to Cracker Barrel and we have never gone back. Horrible food.  A real dumpling is basically a biscuit cooked on top of a stew, just like the recipe states.  They are fluffy and delicious and always have egg, baking powder, and milk.  Always.\n",
      "This is the best meatloaf recipe I&#39;ve ever tried! It&#39;s moist and flavorful, and the topping is just the best! I&#39;ve taught my boyfriend how to make them and we have them with creamy potato sticks (you can find that recipe on this website also). It&#39;s just one of our favorite meals we have often.\n",
      "This cheesecake is to die for! This one goes in my recipe file. I took this to a a meeting and everyone absolutely loved it.\n",
      "Easy to make and so good!  The first pie to disappear at thanksgiving this year.  Everyone loved it!\n",
      "I am vegetarian and made this with textured vegetable protein. It turned out great and was delicious! The husband ate it and until I told him there was no meat in it, he didn&#39;t even realize.\n",
      "Made this last night.  My family told me this one is a keeper.  I bought 2 9 inch deep dish pie crust and I had enough filling to make 3 pot pies and gave one to my neighbor.  I will definitely make this one again!\n",
      "This is the best banana nut bread I have ever made. I had rave reviews from work and all wanted the recipe, which I printed for them. I only used three bananas and wow!! Thank you Taste of Home!\n",
      "You will never make another chicken pot pie after making this one! It is well worth the effort! If using frozen pie shells (like the tenderflake), I find I can get three pies out of this recipe! I also add chopped parsnips with the carrots and then cut down on the frozen veggies. The richness of the sauce is just incredible! Even my one year old eats an entire piece!!\n",
      "I made the cake twice as directed, and the taste was fantastic, but it collapsed. So I made it as a sheet cake and have gotten rave reviews from my co-workers. Tastes delicious!\n",
      "Great casserole &amp; loved every bit of it.  For the one/s who said this was tasteless, maybe you don&#39;t know how to cook, so you should start taking cooking class 101!!!\n",
      "Truly excellent.  I will not make a roast any other way now.  I do up the water to one cup so there is more gravy.\n",
      "Absolutely fun and fantastic yummy. Did not follow frosting recipe, felt it was too much butter.  Used a chocolate butter cream recipe that used 6 tablespoons.  Just as good!  Will definitely make this again.\n",
      "This is a GREAT shrimp scampi recipe. It was super simple and delish! I did add more garlic and lemon juice. So good!\n",
      "Made exactly as the recipe reads and it was delicious!  This one is a keeper!  My husband said I could make it again any time.\n",
      "I just made it. Absolutely delicious.\n",
      "Can this dish be made the night before??\n",
      "Remind me of a snickers bars.  Time consuming to make but easy.\n",
      "I have read this recipe over and over again, and no where does it tell me how much ham to use. Mis-print maybe?? Or advertising blocking the ingredient?\n",
      "this is my family&#39;s favorite winter soup.  They love it!\n",
      "Amazing recipe! My husband and I visit this small Amish/Mennonite restaurant and I always get their Rhubarb Custard Pie. This reminds me of that pie, but so much easier to make. To cut back on calories, I omitted the frosting and just drizzled a very thin vanilla frosting over the top and I was happy with the result. This will be my go to recipe from now on, replacing the rhubarb custard pie I usually make. Thanks for sharing this.\n",
      "I baked this cake for Easter &amp; my sis usually does all the baking but I took a shot at baking and the entire family LOVED IT! Everyone was surprised that it was low fat!\n",
      "Can this be assembled ahead of time refrigerated then cooked?  If so, how much time should be added to the cooking time?\n",
      "I had 4 ripe bannas so i used all of them in this recipe. Used cake flour. I did not have butter milk but made my own with heavy cream and white vinegar which turned into a sour cream consistency. Used banna extract and vanilla. Omitted the nuts. Poured into bundt pan. For some reason some of it stuck to the sides of the pan (so will try loaf pan w parchment next time)....Made a frosting with heavy cream, powder sugar, pinch salt, cinnamon. This was a hit, i will definitely use this recipe again!\n",
      "I made this for Easter and everyone really liked it.  I also made a separate one with only potatoes, cheese, and bacon.  Both were delicious!  I used regular baking potatoes instead of red.  I will definitely make this again.\n",
      "A great apple cake that is nice and juicy! The Butterscotch sauce adds a delectable flavor to this wonderful fall cake! Don&#39;t worry if the batter looks quite thick - the juice from the apples helps it cook perfectly!\n",
      "Hey Taste of Home, I love these so much and they were so easy to make i give a special thanks for this basic recipe, Thank you so much my family and i loved these so much again THANK YOU!! - Jeanine Salas\n",
      "I found a similar recipe in (dare I say it?): a Betty Crocker cookbook years ago. It actually uses the BC scalloped potatoes in a box. Super easy. Of course anything home made beats box, but when you&#39;re short on time you do what you have to do. I adore TOH recipes.\n",
      "Having loved Bananas but about 6 or 7 years I find I have what I can only call an &#39;allergy to any type of Raw Bananas&#39;, so after experimenting I know I can eat Dried Banana Chips and Banana Bread/Cakes. This recipe works for me, so, as I needed a super quick and easy recipe that works I found this one... BRILLIANT!! and though I&#39;m not used to the US Electric Fahrenheit 325&#39;F measure i just converted it to Centigrade 160-165&#39;C (in the UK I would use a Gas Oven GAS MARK 3) .  On with my version of the cake...  As one of my son prefers chocolate cake and hubby always likes nuts of some type in his cake, I too added cinnamon &amp; sliced my bananas to save extra washing up dishes but then added chocolate fondant, Walnuts and Cadbury&#39;s Drinking Chocolate (i reduced the amount of sugar to 1 cup due to the sugar in the fondant (i had no chocolate in the cupboards) added a little milk (approx a quarter cup) and a drop more oil to keep the cake moist) it turned out fine, not quite as moist and squidgy as the usual banana chocolate cake you&#39;d expect but whoever tasted it say its perfectly fine. RESULT... Everone&#39;s is happy and said basically what a &#39;yummylishious!&#39; cake.\n",
      "These are fantastic!  Will be a regular addition to my Christmas Cookie list.\n",
      "I used celery seed instead, added some grated carrot to add color.  Doubled recipe for large head of cabbage since we like real creamy.  This recipe beats my mother&#39;s recipe and I always loved her slaw!\n",
      "Made this for the second time today  - followed the original recipe the first time - and then today incorporated ideas from some of the reviews and we liked it much better.   Instead of 6 cups of water, I used 4 cups of beef cooking stock and 2 cups of water.   Also added 3/4 cup of onions with the beef, and 3/4 cup of celery and couple teaspoons of garlic when adding the tomato sauce, etc.    Lastly, I added 1 TBSP worcestershire sauce for flavor and the result was great.\n",
      "The family loved this.  My husband suggested using chicken breast next time.\n",
      "So so so so good. I used rice vinegar instead of white vinegar and used frozen concentrated orange juice. I also made my own Chinese 5 spice powder with equal parts of ground cloves, ground fennel, ground anise, cinnamon, and black pepper.\n",
      "My husband HATES zucchini!  When I served this dish, he raved and raved about it.  He thought the zucchini crust was actually rice, but when I told him what it really was, he just smiled and went back for seconds!!!  I will definitely make this again.  Next time, we may add olives to it for some extra zing, but the recipe is great as-is!!!\n",
      "Good flavor\n",
      "I made this cake for my family and it was one of my first times baking a cake! I think it is an amazing cake recipe. Everyone in my family loved it! Thanks!\n",
      "\n",
      "p.s. the recipe is a double layer cake, can this cake be made into single layer?\n",
      "Very easy recipe! I make regularly for my family.  I add a bag of carrots and make sure to make mashed potatoes for this one!\n",
      "I used a jar of Prego chunky sauce instead of the regular tomato sauce and a can of Del Monte diced tomatos with mild chiles and topped it with Cheddar cheese\n",
      "This is probably a good recipe but I think it would be much better if some milk was added to loosen it up.\n",
      "Love it so rich and tasty and only 159 calories for 1 cup serving\n",
      "This is my favorite pizza recipe. I don&#39;t do bread and this smells so pizza awesome, I can&#39;t get enough!\n",
      "Very easy to make. Didn&#39;t change a thing! My family lived it! Could see it being a great party food.\n",
      "Great Recipe.  I also altered it as recommended by other users.  I only used 1/2c sugar as my banana&#39;s were really ripe.  I used three banana&#39;s and added 1tsp of cinnamon and used 1/4c of coconut oil .  My bread was done after 40min so keep your eye on it, as it does not take over an hour to bake.  Next time I might add baking powder, as mine didn&#39;t come out as high and fluffy as I would have liked it.\n",
      "I  made this recipe a few times for guest, everyone loves it. Very rich but well worth it.\n",
      "EXCELLENT!\n",
      "This is a keeper!!  My family loved this even my small children.  It&#39;s simply delicious.\n",
      "This was a very nice mac\n",
      "I made this recipe and really enjoyed it.\n",
      "Wow!!  Did my guests ever enjoy this tasty grilled chicken!  It didn&#39;t take long to disappear and everyone wanted the recipe!\n",
      "I use a can of cream of chicken and cream of mushroom and use refrigerator biscuits cut into quarters for dumplings. Campfire style chicken and dumplings.\n",
      "could use hamburger instead of bacon &amp; make a one dish meal\n",
      "I just made this recipe and it is absolutely delicious!!!The only thing I did different is that I used regular half-and-half. However after reading the reviews I might just try it with the fat free half-and-half to cut down on cholesterol I will definitely make this recipe again\n",
      "My family loves this recipe. I reduced the amount of ingredients to fit 4 boneless chicken breast and I have an indoor grill. Favor is fabulous\n",
      "This is not a review as I have not made it yet.  Has anyone tried making this using brown sugar substitutes such as Splenda Brown Sugar Blend or Sugar Twin Brown Sugar Replacement?\n",
      "I personally don&#39;t like cheesecake but I made it for a birthday party and everyone LOVED it. The only thing is...it came out pretty attractive but not nearly as neat looking as the photo.\n",
      "Even my very picky 6yr old son liked it!\n",
      "I didn&#39;t have enough ketchup to make the sauce so I used half ketchup and have cocktail sauce. Made it really zippy! I have made it exactly as is and it&#39;s GREAT, but the cocktail sauce flavor is really tasty too!\n",
      "Very good, even though I didn&#39;t re-read how to make this.  I just tossed EVERYTHING in with the butter, Dah!  Cooked for 12 minutes, perfect.\n",
      "Made these last evening after receiving the e-mail. Took about an hour start to finish.  Yummy, easy, &amp; look fabulous!  More delicious than Reeses!  My Valentines will love them, just like I do!\n",
      "Awesome!  If you are looking for a fast recipe that is also light and quick, this is it.  I made as written.  Family requested to make again.\n",
      "Amazing taste and extremely moist! A huge hit at work :)\n",
      "I purchased unsweetened coconut at the grocery yesterday and came across this recipe this morning.  I tweaked it slightly to be keto friendly by using almond flour instead of regular flour, and stevia instead of sugar. I also used lemon extract instead of vanilla, as I am a huge lemon fan and just happened  to have it on hand. They turned out absolutely beautiful and so delicious!!!\n",
      "My family really enjoyed this recipe. I did use pizza sauce as others suggested and added Italian spices. It served closer to 4 people. Will make again!\n",
      "I made these for breakfast the day after Thanksgiving when we planned to travel early in the morning. Just pop them in the oven for a hot breakfast on the go! My family gave them rave reviews, even with the horseradish sauce! I&#39;ve made them twice since then and used sesame seeds once instead of poppy seeds.  They are lovely and versitile as many substitutions can be made with good results.\n",
      "This recipe is very close to the one I&#39;ve used all my nearly 58 years of marriage. It is in my Better Homes &amp; Gardens cookbook I received as a shower gift. Mine calls for tomatoes instead of tomato sauce and either ricotta or cottage cheese, not both. I have a lasagna pan which is a bit deeper than the traditional 9x13 and it fills the dish. Everyone loves it when I serve it.\n",
      "Banana banana banana!!!\n",
      "I love this! Made a big batch and am going to take it for lunch all week! Healthy, yummy, and you can control the spice.\n",
      "Great recipe. To cut down (?) just a little on the calories I used peanut butter chips instead of the cups on the top. But still the best peanut butter cheesecake recipe EVER...\n",
      "What I love about this recipe is that you probably have everything in your pantry.  We make this at least once a week.  I live with 2 20 something guys and they LOVE fajita bar night.  I cook the chicken first and then the veggies after so it picks up all that good chicken flavor.  I serve it &#39;bar&#39; style, I cut up tomatoes, avocado, lettuce, shredded cheese, guac, salsa, sour cream, etc and let everyone build their own fajita.    This marinade is also excellent with shrimp.    It is so good I have started putting all of the spices into baggies, and then when I want to make the fajitas I just have to add the oil and lemon juice and go.  10/10 highly recommend\n",
      "Even though I had to add alot of extra milk to thin out the batter, these were the best pancakes I&#39;ve made from scratch in a long time!! Thanks for posting this recipe it&#39;s going into my favorites!!\n",
      "For all the work this recipe takes; it is SO not worth it! I had to dump it all back into a big skillet and add spaghetti sauce and spices to give it flavor so I didn&#39;t have to eat the bland original. Definitely not worth it!\n",
      "Doubled this recipe to make 2 loaves.  I cooked for 65 minutes, took out of oven and began to cool it.  Realized that it was not done and put back into the oven. Baked for another 25 minutes and took out.  Still did not seem done.  Followed the recipe to a T.  Do not know what happened.  Maybe too much oil.  Any suggestions.  Will not make again.\n",
      "I doubled the recipe, used fine almond flour instead of wheat, used unsweetened coconut and cut back the sugar a bit, beat the egg whites a little and baked on parchment paper at 340 for 15 minutes. They were golden but really sticky. Who cares. When husband pronounces them &#34;spectacular&#34; you have a winner. Next time I&#39;ll beat the whites longer with some cream of tartar and bake at the original temp so they can go a touch longer. And grease the parchment paper, although nibbling the stuck bits off was the baker&#39;s reward.\n",
      "Very good recipe.  you do need to add a couple of teaspoons of cornstarch to it in order to thicken it up.  I did omit the green chiles in order to control the heat.  they can be added when served if you like it to be more spicy.  Good for me without the chiles.  I also love to eat regular chili served over rice.  I did the same with this and it was great.\n",
      "This recipe is great with either flour or corn tortillas and in my own opinion is even better topped with fresh chopped lettuce and tomatoes.\n",
      "non-alcholic beer (e.g. KALIBERfrom the brewers of Guinness) work the same as it&#39;s alcholic buddies?\n",
      "This is definitely a first place macaroon recipe.  It has the best color, taste, and consistency of all I have tried; including the one on the coconut bag.  One addition I make is to sub in a almond extract (just because I like that flavor); 3/4 vanilla extract and 1/4 almond extract.  It also works just fine to use cooking spray instead of Crisco to grease your cookie sheets.  I quadrupled the recipe and it made 65 macaroons - using a teaspoon measure to scoop each serving.   I live at high altitude in Denver and did not need to do any substitutions.\n",
      "This is definitely a 5-star dessert! It is similar to my mother-in-laws custard rhubarb pie, so maybe that&#39;s why we loved it so much.\n",
      "Excellent recipe!  I would make it again!\n",
      "This was a hit at thanksgiving. Everyone loved it. I poured only about 3/4 of the Carmel on the pie, and I wish I hadn&#39;t. Next time I&#39;ll use the whole jar.\n",
      "I have been making this cake for over 30 years. It is the absolute best. Everyone loves it.\n",
      "awesome\n",
      "One of the best if not the best ever.  I have made it several times and always a hit.  Shared the recipe with lots of friends\n",
      "This was WONDERFUL!  My husband and I loved it so much we&#39;ve decided to make it for the family for the holiday.  My husband also thinks I should enter this in the chili cookoff at our campground becuase he thinks it would win (he was a judge last year and said this was better than any chili he tasted).\n",
      "Always requested by my children for their birthdays since it first came out in TOH in 1993. Truly delicious, especially hot out of the oven. I look forward to making it for my grandchildren someday. If you&#39;re looking for something especially sweet, this isn&#39;t it. To me, this is more like the flavor of a shortbread cookie. Great with a hot cup of tea, as one reviewer commented.\n",
      "This has been a family favorite for years! I cut the Velveeta in half. And to make it simpler, I saute my vegetables then make my cream sauce on top of them all in the same pan.  So good! And healthy too!\n",
      "First attempt at these today a success and I’m no baker!  Followed recipe to a T but did sift the flour and dry ingredients together as my ginger and cloves were kinda old. Note: when it says softened butter, I DID NOT microwave the butter. It was just room temp so took awhile before it appeared light and fluffy. In fact I was skeptical about it! Took awhile to achieve light texture and was definitely not fluffy. Proceeded on with the room temperature egg, etc. I did use the hand mixer for adding in the first 1-1/2 cups of the flour mixture but then switched to stirring. Then I made all the balls up. Then I got out a little bowl and put 1/4 cup sugar in as a guesstimate. I rolled the balls in that. It was more than enough. I baked mine 10.5 minutes in a gas oven. Took them out as the cookies cracked and puffed up. They are just perfect. Outside is firm but inside is soft. Best ginger cookie recipe ever!! Hope they will stay soft.\n",
      "Very intering combination witht he pasta and coleslaw.  I was weary at first if it would be good, but after tasting it everyone really enjoyed it.  I made half the recipe (still a lot of salad)  and I used bottled coleslaw dressing.  Will make this again!\n",
      "My boyfriend and I LOVE this recipe.  It&#39;s so easy to make, and even if I forget to marinate the chicken the night before, it&#39;s unbelievably flavorful in just an hour two.  Wonderful!\n",
      "I am gluten free for almost 30 years---3 out of my 17 grandchildren are also gluten free.  We all love this recipe--I make it for them often.  The problem is everyone loves it, so the gluten free people have to hide it or they end up with crumbs. Thanks!\n",
      "This is a great weeknight dinner that is quick easy when you keep everything on hand to make it. Freezes great, too!\n",
      "Fabulous Soup, so easy to make, I substituted the chicken bouillon cube for a 32 oz carton of  Vegetable Broth. Perfect choice. I also cut up more carrots and celery as we love veggies. This is the third time making this soup and it is a keeper. Very tasty.\n",
      "My first time, and it was perfect.  Slices wonderful for sandwiches, and delicious.  And myfamily loved it, they said more, more, more.\n",
      "Wow!  Delicious!  I used thyme instead of sage because I don&#39;t care for sage.  Put a couple dashes of worcheshire and ketchup in the meat mixture (used 75% lean).  Other than that, I followed the recipe.  It is sooo juicy and delicious.  Served it with baked sweet potatoes.  Definitely a keeper!! Thanks :)\n",
      "I made these sliders for lunch today and they were a big hit -- the dressing/topping brings out the flavor of the ham and cheese.  I will be making these again!\n",
      "Super delicious! Just wondering: \n",
      "When you write 1-1/2 teaspoons. Is that 1.5 teaspoons?\n",
      "A very easy recipe to follow -- and one I make with very few changes -- no yellow pepper but the canned tomatoes are fire roasted and use 1 lb browned ground turkey (more &#39;chili like&#39;). A definite keeper and one for those cold, rainy/snowy nights, served with fritoes on top!\n",
      "We wanted to try this based on all of the good reviews.  But we did not like it.  Little flavor and a lot of work.\n",
      "Roast beef can some times be boring, but not this recipe. Excellent.\n",
      "I did not have all purpose flour so I used 1 3/4 oat flour plus 2 t xanthium gum and 1/4 cup almond flour, plus 1 T ground flax seeds.  I used 3/4 organic sugar and sweetened applesause.  I used 4 very ripe bananas and mixed in the nuts.  I baked the two loaves at 375 convection bake.  It came out  great.  Moist, very light in texture.  I think  you could use any gluten free flour and by adding the xanthium gum you will have a good result.\n",
      "This turned out awesome! All my oven lasagnas turn out runny. This was firm and held it&#39;s layers like it should. The flavor was great!*I forgot to buy cottage cheese so that was omitted and it was still good but, I&#39;ll be adding it in next time. I used 3/4 lbs of hamburger meat and 1/2 lbs pork sausage and added a small can of sliced olives.\n",
      "I maid this for my brother and  sister in law but as I was putting it in I realizedthat I forgot the butter.They said that it was the best apple pie that they ever had.(I still think that it could of used butter:)\n",
      "I have made this recipe several times.  Each time it became a favorite of all who ate it.  It is now on my list of favorite salads to serve.\n",
      "Made this over the weekend for my hubby.  He usually won&#39;t try new things but he LOVED this and so did I.  It was really easy to make and very delicious, re-heats well too.  Next time I&#39;m going to chop up some jalapenos and add to the mixture to give it more spice.\n",
      "This is a family favorite.  I usually use Cheese Whiz instead of the Velvetta cheese.  Very filling.  Make a loaf of beer bread to serve along with it...YUM YUM\n",
      "It requires a bit of work, but totally worth it!\n",
      "I have tried many macaroni and cheese recipes but this was the best one I&#39;ve ever tasted.  My husband is not a big fan of mac and cheese but he ate seconds!\n",
      "BEST apple pie i have ever tasted... just the right combination of ingredients.  i followed the recipe exactly as it was written and it was really excellent.  Everyone i shared the pie with agreed, it was the BEST..  i loved the story about your granny.... that was just the best.... i will forever think of her everytime i make this pie - which will be often.\n",
      "This is a great salad.  The 1st time I made it, family was unsure but at the end of the day nothing was left and I have to make it almost all the time now for everything.\n",
      "have used this recipie for years, using all butter or margarine for icing, no shortening. 5 Tbl. flour is correct\n",
      "made this recipe as written, and it was delicious!  I even got a &#34;this is *really* good&#34; from my husband.  The taste is wonderful, and it is totally going into my recipe box!\n",
      "I have used this recipe many times for layer cakes for my kids’ birthdays. I have added a pinch of salt a few times, other times I have poked holes with a chopstick  and poured in jello, and I have at times dumped a bunch of cocoa powder in with the dry ingredients.  They have all turned out great!  I like this cake because it is structurally sound and can withstand icing like a champ. Use a long bread knife to slice off the slight dome. When I use buttercream I do a thin crumb coat, stick it in the fridge, wash a couple of dishes and then the do the real icing. Beautiful every time!\n",
      "I made this cake for a family dinner of twenty five. Perfect with no nuts, which some of the grandkids oppose, and it was for a sheet pan. It was so good! Everyone loved it. Perfect. I will definitely use this recipe often.\n",
      "Finally a homemade mac n&#39; cheese that&#39;s creamy and not dry.\n",
      "I have made this for many years, it is ALWAYS a big hit.  My grandson who is not fond of fruit absolutely loves this!!    I don&#39;t add the brown sugar, it melts too soon into the creamy mixture.\n",
      "Delicious!!!!!\n",
      "Really enjoyed this recipe! Prepared this on the stovetop (which I prefer). Left out the celery and green peppers (which I don&#39;t care for). Also did not add any extra salt. Turned out very well!\n",
      "Quick, easy and flavorful.\n",
      "Loved it,added onion ,2 more cups water,bullion,1 more pepper.Will be one of my go to meals!!!! So easy\n",
      "This was a great recipe. The only change was substituting mayonnaise for the Miracle Whip. Everyone loved it. No leftovers.\n",
      "Made this recipe many,many times.Never added meat. always made meatless. Husband&#39;s all time favorite.great Lenten recipe.\n",
      "For homemade mac &#39;n&#39; cheese, this is the best I&#39;ve tried.  Definitely not dry.  I agree with the other posters who said the sauce was thick and pasty.  There was also too much of it for the amount of pasta.  Next time I&#39;ll use a whole 16 oz. package of macaroni (3-1/2 cups uncooked) and alter the flour and milk as suggested by others to get a thinner sauce.\n",
      "This made delicious fajitas loaded with flavor but still somehow pleasantly mild.  They were especially good with the sour cream.  My family loved this recipe - definitely a keeper!\n",
      "I thought this cake would be hard to make, but it turned out beautifully.  It tasted fantastic and I got tons of compliments.  This is a great cake for entertaining and turns out just as pretty as the picture\n",
      "This was super easy for a weeknight meal! The family loved it! I used bone in thighs and cooked it for 8 hours. Will definitely make again! Thanks for sharing!\n",
      "This is a good recipe, very similar to mine. I use paper candy cups so the candy doesn&#39;t stick.\n",
      "My whole family enjoys this for dessert!!  I&#39;ve made it several times for pot luck events and always receive rave reviews.\n",
      "I have made this recipe numerous times since first discovering it last year. I followed other reviewers&#39; suggestions and used coconut oil in place of oil and butter. I also used half and half in place of the heavy cream. I use shrimp, scallops and real crab meat (living in Maryland this is a must!). The recipe is rich but bursting with flavor and is oh so yummy. My husband, our 12 year old and our 7 y.o. LOVE this. My parents in law and siblings love it as well. If you are seafood lovers, this won&#39;t serve 12, maybe 8. I highly recommend this... Great!!!\n",
      "I used fresh berries for this Lemon Bread. Oh My it was gone in a flash! Loved by all. I recommend this recipe and it was easy to prepare.\n",
      "Great recipe. Love changing the peppers when local produce is in season.  Very tasty and the smell is great. Thanks\n",
      "I have made this, but I added actual egg rolls that I deep fried and cut up into four pieces to it. Sooooo good!\n",
      "This was great! Full of flavor, and simple to put together. It wasn&#39;t time consuming either! My kids absolutely loved this. We added 100 calorie guacomole also!\n",
      "Although I don’t luuuurve their delivery, I agree with the other reviewers that this recipe could be cooked longer and could benefit from much more seasoning . It’s tricky to find that perfect balance between firm and mushy potatoes, but the recipe as followed yielded crunchy potatoes. Thus, I increased the heat and the cooking time. I used Gruyère and white cheddar, sautéed shallots, and in addition to salt and pepper, added my secret makes-every-recipe-amazing spice blend for flavor (<a href=\"https://silkroadspices.ca/products/scarborough-fair).\" target=\"_blank\" rel=\"noopener\">https://silkroadspices.ca/products/scarborough-fair).</a> I also sopped up the oil that rose to the top with a paper towel, sprinkled the top with parmesan (maybe overkill, but if tons of cheese is wrong, I don&#39;t want to be right), and then broiled for a few moments before letting it sit.\n",
      "This cake was simply delicious. Diabetics and dieters both loved it. I did not put the whipped topping on. I whipped the pudding and the cream cheese and put it on the cake and then the pineapple and nuts and cherries. Everyone said YUUUUUM!\n",
      "Very good recipe! I used white wheat flour and coconut crystals in place of sugar. Also added vanilla and cinnamon.\n",
      "This mac and cheese tastes as good as it looks in the picture! It&#39;s definitely a keeper! I followed the recipe as written, but did omit the cheddar cheese. It was plenty cheesy without it. I also added Panko bread crumbs to the top of the casserole when it came out the oven. Yum! This recipe was easy to split in half. I used a 2-quart baking dish and baked it for 25 minutes at 350 degrees for half the recipe. Excellent!!\n",
      "This was very flavorful, one of the best pot roasts we ever had. Added carrot, potatoes and some onion. Next time will thicken the juices some.\n",
      "Probably the best Banana Bread recipe I have found.  My kids loved it and it was gone in a few hours!  Aside from omitting the nuts I didn&#39;t change a thing in the recipe.\n",
      "Best chocolate cake ever! Made it for Easter and got rave reviews from some very picky people. Made my caramel frosting instead of the chocolate. Couldn&#39;t be happier with the outcome. Thanks Taste of Home!\n",
      "This was awesome!  I&#39;ve been looking for a great breakfast casserole for years - and this is truly wonderful. I made it initially for a weekly teacher breakfast at my school.  I thought I had made too much - instead everyone gobbled it up and there was none left!  My only complaint is that I found it to be just a little bland.  (The recipe calls for no additional spices...which I thought was sort of odd.)  I browned the hash browns (which takes forever, good lord), but otherwise followed the recipe exactly.  (I made it the night before and then baked it in the morning before I left for work - this also turned out quite well!)  The second time I made it (tonight), I added a lot of salt and pepper to the eggs and the overall mixture.  I also added some truly excellent hot sauce my husband and I love to the eggs and into the whole mixture.  (Just a few dribbles.)  I basically added blindly.  It turned out SO WELL.  Just gave it enough heat to be interesting, but not overpowering.  My hot sauce is not for the faint of heart...so if you&#39;re using something less insane like Frank&#39;s or Sriracha, you made need more.  Additionally, my Swiss cheese bag was 1 1/2 cups...I figured extra cheese makes everyone happier, and I just added all of it. :D I think there&#39;s a lot of wiggle room to make it however it makes you happy.  But seriously: MAKE THIS.  IT&#39;S DA BOMB.\n",
      "<p>I just pulled this out of the oven and haven&#39;t tasted it yet.  Used the correct sized pans but the loaves wouldn&#39;t bake--it took about an hour and a half and then the tops burned--they looked too full as I was filling the pans up.  Should I have used 3 pans?</p>\n",
      "This is a go-to for my family.  It&#39;s quick, easy, I usually have the ingredients on hand and my kids enjoy it.\n",
      "This is a real review.  :-)  I&#39;ve been making this exact recipe for many, many years.  At one time, I would bake two to feed my family of seven; however, with just me and my husband now, I cut the recipe in half and use a 9x9 pan.  This is my definite go-to recipe for (many) strawberry shortcake every summer....but love just as much plain, out of the oven, with powdered sugar sprinkled on top.  Chances are you have every ingredient at home and can whip this up in no time.  Why look for another recipe when you&#39;ve got the best, right here!!\n",
      "They taste great but I dont understand how to get the perfect shape. So I just the whole batter into the pan.\n",
      "I have used this recipe several times and is easy to make and everyone love&#39;s it\n",
      "I am sorry, am I reading this correct!? The recipes makes 5 dozen?? This doesn’t sound right for a 15x10 pan?\n",
      "My family loved it!  I added a small amount of crushed dried strawberries to both the cake and frosting to boost the flavor. Family loved it!\n",
      "Clicking on one star just so that TOH can correct something in the comment by the submitter of this recipe. As a resident of Wisconsin, the correct spelling of the town Betty lives in should end with an &#34;o&#34;, thus, Shawano.\n",
      "This recipe is the best! I don’t bake ever, and I consider myself a complete novice in the kitchen, and I just made this for the first time and I had to eat half a loaf it was so good. I threw in a couple handfuls of dried cranberries, OMG,  make this if you want to impress people. Too bad I only have my dog to impress LOL, she had a slice\n",
      "My family loved this recipe the very first time I made it...can&#39;t say that about all pancake recipes I&#39;ve tried. Topped it off with a homemade strawberry syrup?? Yummy\n",
      "This was the best pot pie I’ve ever made! I halved the recipe, used frozen mixed vegetables. My only change will be to cube the chicken Into bigger pieces next time.\n",
      "Turned out amazing! I put it all under the broiler for a minute to melt the cheese before serving.\n",
      "Omg simply amazing  I used 2 cups heavy creamy little milk and....BAM---I kicked it up a notch!!!!   Ty very good will tell every one\n",
      "Made this cake yesterday and it&#39;s half gone already, just two people eating. Followed recipe and it came out perfect. I am curious as to why the name change from &#34;Pig Picking Cake &#34; to &#34;Pineapple Orange Cake&#34;. I sense a bit of PCness going on. As for the review from momof3 re: pudding size, I used the 1oz. box called for so I don&#39;t know where the claim of &#34;typo&#34; error comes from. Anyway, follow the recipe and you&#39;ll have a wonderful dessert.\n",
      "Really easy to make and taste great. No more boxed mixes for me :)\n",
      "These have been a family favorite since the recipe came out in the cookbook. Took it to potlucks when we were raching and it was a big hit. Thanks for a great and easy recipe!\n",
      "My boyfriend and I made this for dinner when his aunt and uncle came over. It was a huge hit and absolutely delicious!\n",
      "I first made this in 2002 and have made it for Christmas every year since as a special meal request from my sons. When I host Christmas for my co-workers it is requested also.  It is a treasured recipe and I am so glad that I tried it!!!\n",
      "Best of all my banana bread recipes.\n",
      "I totally forgot the sour cream, but did add 2+ tsp Worchestershire sauce. That really enhanced the flavor! I also added some shredded cheese as the Velveeta is a little bland for this Wisconsinite. I did use fewer potatoes as one reviewer noted, and a little less broth as we line thicker  soups.\n",
      "It was simply delicious!!! the taste of banana is very subtle\n",
      "It&#39;s delicious, but as written this is more like a cheesy potato soup that happens to have a liiiiiittle bit of beef in it, too little for me to call it a cheeseburger soup. Next time I&#39;ll use a full pound of beef and maybe cut back on the potatoes some.\n",
      "I thought this was excellent, and so easy. My husband said, &#34;You scored!&#34;  We had this tonight with sandwiches. Great winter night supper. Will make this again for sure. I cooked a couple of cloves with garlic with the onion but made no other changes.\n",
      "SO yummy, cool and refreshing -- it gave me my pasta salad fix without having too many carbs.\n",
      "This recipe is wonderful! My husband said it&#39;s the best crockpot recipe of any kind that I&#39;ve ever made. I made it exactly like the recipe said...except I was out of parsley flakes. I don&#39;t know how much of a difference it would&#39;ve have made because it was absolutely delicious!\n",
      "Easy to prepare, great alternative to standard chili receipt! I add sour cream later on once it is served, otherwise fantastic receipt!\n",
      "I doubled this and used 1 can of black beans in place of the kidney beans. I also cooked chicken tenderloins and then shredded them before I added them to the chili. Served it with cheesy Italian monkey bread. The flavor was GREAT!!! My only complaint was that with the broth, it was a thinner consistency than what I was hoping for, and I guess I didn&#39;t mash my beans enough to make it thicker. Otherwise we really liked it!!!!\n",
      "I tried this cake just to see if it was like other chocolate cakes... But it is much more! My family always calls me to make this special cake on all occasions! It is fun and decorative and is fun for all to enjoy! I even made cupcakes out of it for a birthday party and it was a huge it! Thank you to the lady who was runner up! It&#39;s #1 with my famil!\n",
      "Would someone please tell me if you leave the cream on the chocolate cookies when you crush them.  Thank you.\n",
      "Very good! I think next time I wont add the extra salt. I think with the chicken broth, it added enough salt. It was very tasty and moist, will definitely make again!\n",
      "So glad to see another recipe from my mother’s kitchen! This is a great recipe and method. My mother used her pressure cooker. That cooks the rice thoroughly too!\n",
      "Excellent! My favorite part of the chicken. However, you could easily swap out thighs for breasts if you aren&#39;t a dark meat eater. If you don&#39;t have Chinese 5 spice, a close substitute is Garam Masala. Use the same measurement.\n",
      "This was a hit at our church dinner today.  Nothing left to bring home!\n",
      "These are the best rhubarb bars!\n",
      "This is a very easy and tasty. The only change I make is I add green bell pepper to the onion mixture. We love it.\n",
      "These enchiladas are so easy to make and are absolutely delicious!  My husband LOVES these and I&#39;ve now had to make them 3 weeks in a row!  I follow the recipe, except that I use pulled chicken from a Rotisserie chicken, and I use 10 inch tortillas rather than 6 inch.  My 3 year old even likes these!  I serve with spanish rice, and a side salad of lettuce, tomato, avacado and sour cream.  Yum!\n",
      "I have made this with strawberry jello &amp; yogurt, lemon jello &amp; yogurt,orange jello &amp; yogurt,raspberry jello &amp; yogurt and peach jello &amp; yogurt &amp; they are all delicious!!!\n",
      "<p>The best</p>\n",
      "I loved this! Incredibly easy and the flavors are incredible. I love egg rolls and this was a great way to get the flavor without making them myself. I did not use the sesame oil, but coconut instead, and found a coleslaw mix at the store with preshredded cabbage and carrots. Otherwise, I followed the recipe exactly. My bag of rice noodles had the option to fry or boil the noodles, so I assumed that boiling was the option preferred foe the recipe. Will be making it again!\n",
      "My pie didn&#39;t set up..followed instructions to a tee....but we ate it with a spoon..great flavor!\n",
      "DELICIOUS, EASY, ALSO FREEZES WELL\n",
      "Excellent and easy recipe.  I did leave out the nuts because I didn&#39;t have any on hand; no one missed them.  My fiance said that it was very moist and this recipe is definately a keeper.  That&#39;s a big compliment coming from him.  Thanks for sharing the great recipe!\n",
      "Been making a similar dish for years. It may not be the authentic way but it sure works for me. Always a winner!\n",
      "wonderfull taste and texture\n",
      "Great recipe!  I make this a lot when I&#39;m having a crowd for dinner.  Start out with a very large bowl...I made a mistake in not realizing how much this makes and had to change bowls three times for everything to fit.  The dressing is outstanding!\n",
      "Made for dinner tonight. My family loved it! Voted by my kids as a recipe to add to my personal recipe collection. Very easy to make. We skipped the overnight step and mixed this recipe up and cooked it immediately. Turned out so amazing! Looking forward to making again!\n",
      "Love this soup and do share the recipe with everyone I serve it to. I find it&#39;s a great way to use up leftover pot roast.\n",
      "This is fantastic!! Love, love, loved it!!\n",
      "This is an incredibly dense, moist &amp; delicious chocolate cake!  It is similar to a recipe I got years ago for a bundt cake but this version uses less oil and works for a layered cake.  Highly recommend!\n",
      "very good as a snack with evening tea\n",
      "My mom used to make these back in the 70&#39;s. They are just as good as I remember.\n",
      "This recipe was easy to make and delicious!!\n",
      "I believe the temp in this recipe it too high. The muffins cooked too long on the bottom and was too soft in the middle. The next batch I am turning it down to 350 for 18-22 minutes.\n",
      "I have been using this recipe for a long time! It is so good :) if you&#39;re in a hurry you can skip the onion &amp; green pepper &amp; burger, as well as use spaghetti sauce. Although it tastes best following the recipe as stated.\n",
      "Everyone at work was sick, so before I caught the cold I wanted to make some hearty chicken soup. I added tons more broth and spices to give the soup an extra kick. I also added egg noodles which turned out great. The dumplings did not come out as planned, but still tasted great, just did not look that appetizing!\n",
      "I liked how the whole dish was cooked on the stovetop rather than a mix of stovetop and oven; it was more convenient. I changed a few things: I used beef broth instead of water and bouillon, and I didn&#39;t have Worcestershire sauce so I replaced it with BBQ and hot sauce. Past Shepherd&#39;s Pie recipes have been extremely bland so I think the BBQ sauce and hot sauce actually made the recipe more enjoyable for us.\n",
      "This is a recipe we have made and enjoyed many times. Easy, tasty, lasts good in the fridge and healthy.  Who could ask for more?\n",
      "These were so easy and quick to make. My husband likes them better than my toffee! I&#39;m taking them to my church for a bake sale. I flipped them over on wax paper and cut them in rectangles the size of the grahams  I&#39;ll be making another batch for us soon!\n",
      "This cake is awesome. I live at high altitude and had to make adjustments to account for that.  I decreased the sugar to 2 1/2 cups, increased the flour to 3 cups, increased the water by adding an additional 1/3 cup  and decreased baking soda to 2 1/2 tsp.  I made cupcakes instead of cake. I usually let my batter rest for at least 15 minutes before baking. However, I made my first batch as soon as the batter was loaded and the cupcakes rose okay but spread a little.  The batter that had a chance to rest made perfect cupcakes. They rose without spreading at all.  It&#39;s important at high altitude to not fill the pans too high.  I filled them to about a half to  3/4 inch from the top and it was perfect.  Unfortunately there are no magic adjustments that you can use for every recipe. It&#39;s all trial and error at altitude, but my adjustments luckily were perfect for this recipe.\n",
      "Delicious!!! This is a new favorite!  The only things I added were 2 cans of black beans and half a bottle of beer.  Great recipie! Thank you!\n",
      "I just discovered this recipe and agree it is the best one I have tried. I added cran-raisins &amp; shredded coconut to my batch. I will try it with whole wheat &amp; splenda nest time.\n",
      "love this soup. use tater tots bake nice and crispy and then cut them up and add to soup.  Also add 1 tbsp. of Ketchup, yellow mustard and dill relish. I use sharp cheddar and American to the soup instead of velvetta. Everyone I give it to raves about this soup. Secert a half tsp of worchershire sauce.\n",
      "This was so good. I don&#39;t think I will ever make just plain coleslaw again.\n",
      "Way too sweet The crisp topping was nice. There was a nice balance of oats to sugar and butter and flour. The apple mixture was horribly sweet. I love sweet, but after a few bites, I had enough. My son and husband who usually pick away at the rest of the pan finished theirs, but that was it. I was ready to throw the rest away when I decided to use it as a topping for steel cut oats this morning. With a ratio of two parts oat to apple topping it was perfect with unsweetened coffee. Next time I would cut the sugar in half.  It is also a nice mix-in with Greek yogurt but as a dessert a big disappointment for such great reviews.\n",
      "Very tastey\n",
      "I make these all the time but made a few changes from the first time I made them. I felt they were a little bland so I revamped the seasoning to 2 tsp of cumin and 2 tsp of garlic powder and replaced the green onions with sliced red onions and 2 peppers  the color of the peppers depends on what I have on hand.Try yellow and orange peppers too. If you want to get rid of the after eating peppers burps try this: After slicing your peppers in strips soak in water for a few minutes and then drying your peppers with a paper towel. Then cooking. I can almost guarantee you won&#39;t be burping peppers all night.\n",
      "My 15 year old daughter has been searching for simple recipes to make and share with friends.  These were easy and really tasty. Her friends loved them.\n",
      "Very tasty!  Lots of flavor and I only marinated about an hour.\n",
      "I just got done making this for dinner tonight, I used italian sausge meat as well with ground beef. Turned out good!\n",
      "I just made this and had a small piece of it and it is very good. It came out a little bit dry,but that could be my fault,as I have never made any kind of corn bread,and had it in the oven a little longer,because my toothpick came out wet. Will I make this again? Absolutely!  I also creamed the butter /sugar for exactly 7 minutes, until it was a nice pale yellow color.\n",
      "Great combination of ingredients that together make a wonderful meal.\n",
      "I got this recipe years ago from a co-worker but lost it. I am so happy to find it because I could never remember how much milk or what size pudding to use. The original recipe I had called for a full size STRAWBERRY cake mix. My husband is diabetic so  I am going to try this with Pillsbury sugar free cake mix this time.\n",
      "Very easy to make and filling! Used sharp cheese and turned out delicious!\n",
      "Got this recipe from my sister last year and I have made it many many times and even put some in the freezer. It is sooooo good and everyone I have ever fixed it for wants the recipe. I have even made it for a friend that has to count sodium intake. I used no salt broth and seasoned myself. Best chicken chili recipe ever!!!!\n",
      "I was a little intimidated by this recipe at first, but it turned out beautifully.  To make it easier to crush the cookies, I put them in the fridge to get cold, then placed in a sandwich bagand using a mallet, pounded the cookies till they were crushed.  I also placed the peanut butter cups in the fridge to make cutting them easier.  Everyone loved this recipe and I make it as the recipe states.  The presentation was awesome.\n",
      "This is always a hit with our family. Someone makes it for every gathering.\n",
      "I&#39;ve made this cake 3 times and it&#39;s fallen every time.  Has it happened to you and do you have any advice how to keep it from falling?  We love the cake and the frosting hides the hole in the middle.\n",
      "Very good flavor for a traditional meatloaf.\n",
      "Yes these are the best!!! My brothers LOVED them.\n",
      "These are awesome bars! They were also very easy.\n",
      "I followed the recipe as it was written.  Didn’t whip the egg whites first.  They are delicious!  I’ll be making them again.\n",
      "Awesome recipe!  I deviated a bit substituting ground turkey for ground beef and using a Monterey Jack Jalapeño cheese blend instead of the cheddar.  This recipe is great for low carb diets.  I look forward to making it again with other popular  pizza toppings like mushrooms!\n",
      "The best banana nut bread ever! The only change that I made was the nuts. I put the whole cup in the batter but didn&#39;t put any on the top until I  glazed the loaves and then I only sprinkled a few. Utterly delicious******\n",
      "This is a fantastic recipe!!!!! Everything about it works wonderfully and the taste is FANTASTIC. I do not enjoy fish much at all and I especially usually don&#39;t enjoy the taste of tilapia. I&#39;ve tried several recipes and they&#39;re &#39;OK,&#39; but this one made the fish taste terrific. I grabbed this recipe about an hour before I was to cook and was out of capers, so I searched for a substitution. My google search result recommened subbing with something tangy that has a bit of a bite to it, there were several options. I chose to substitute capers with a spicy baby dill pickle, all it took was one and it worked great! If you use a spicy baby dill, also, be sure to mince it up, really fine, because it spreads the flavor out evenly over the fish, when it&#39;s cut up tiny.  The only other substitution I made was using 1 tsp   fresh minced garlic (= 2 cloves), because I think it tastes better than garlic powder, just my taste preference. Everyone loved this recipe and I definitely will be using it whenever we eat tilapia, in the future! Well done, TOH!\n",
      "Really yummy and easy. A nice change from banana bread. Didn&#39;t change a thing.\n",
      "didn&#39;t like it - too creamy, too rich - i didn&#39;t feel good after having it.  sour cream &amp; whipping cream is overkill. would&#39;ve been better with just whipping cream.\n",
      "One star because the directions say to use butter. Butter is not in the ingredients list, except for the glaze. The directions are incomplete.\n",
      "I made the recipe with only one slight change, I sliced the peaches, squeezed a little lemon juice &amp; sprinkled sugar &amp; let sit for 30 minutes. I drained the juice &amp; added it to the water. I took it over to my neighbors &amp; her husband started eating it out if the pan! They both said it was perfect. It seemed a little off, pouring the syrup over it...it just worked &amp; turned out beautifully. I put the pan under it thinking it may bubble over but it didn&#39;t. Great use of fresh peaches!\n",
      "I could not believe how good this was and it&#39;s SO easy!  I had all the spices in my pantry for the marinade and always have lemons on hand.  This is definitely a keeper.  I&#39;ll even make this for company sometime, too!\n",
      "Tried this recipe for the first time and I was very pleased with the results. I can&#39;t offer any suggestions for improvements. Very simple recipe. If you follow directions precisely you will get some really great bread. Hope it stays fresh for a couple days. Definitely worth making again!\n",
      "This was very good, but I&#39;m not sure what I think about the cream cheese...That part was not quite sweet enough when mixed with only pudding and no additional sugar.  Otherwise great!  I think it would be good with strawberries instead of pineapple to compliment the cream cheese.I used the recipe as a guideline, but made my own cake and pudding from scratch, and no fat-free or sugar-free stuff.  I also topped with toasted coconut instead of walnuts.We were not patient enough to wait for it to chill so it might be better cold!\n",
      "I just made this bread and I love it. In my dad&#39;s words &#34;Delicious, wow!&#34; I&#39;m going to my in-laws in Michigan and I&#39;m making the bread before I go to take with me. I will try some of Blake&#39;s suggestions and toast the nuts the next time I make the bread.\n",
      "Given the great reviews and high rating I had great hopes for this recipe.  Followed it exactly, and cannot figure out what all the hype is about.  Very pedestrian.  No one liked it, and all agreed it was &#34;missing a lot of something.&#34; The chicken was very bland even though I used a very good Parmesan that I grated specifically for this recipe, and added some salt (I season everything) to the flour.  The &#34;bruschetta&#34; on top was just garlicky tomatoes.  Definitely deleting this one from the &#34;recipes to try&#34; file!\n",
      "We made this for our guests on Christmas morning. A HUGE hit, even for the picky eaters! We also crave it for lunch and dinner now. :)\n",
      "A most excellent meatloaf. My husband claims it&#39;s the best he&#39;s ever had. I agree. I did substitute 1/2 lb. of mild Italian sausage for the 1/2 lb. of ground beef. I will never use another recipe for meatloaf again. Thanks.\n",
      "My family enjoyed the recipe.   This was a good basic recipe and worth keeping.  A great template or just fine as is!     I added the salt after I melted the cheese just because  I didn&#39;t have a full cup of cheddar and made up the difference with processed cheese which tends to be saltier.  In fairness, the recipe states after you uncover the potatoes that the cooking time will be 30 - 40 minutes or longer if your potatoes aren&#39;t tender.   In my experience, it does usually ends up taking about two hours.  Is it my oven, the thickness of the potatoes, or the type of potato?  Who knows!  What I know is that like the recipe and  I would make this again.\n",
      "My children love these muffins and they are so easy to make. I add a crumb topping using brown sugar, flour, and butter and it makes them look they are from a bakery.\n",
      "I am just questioning how this soup can be considered gluten free when it uses all-pupose flour (it comes up in the results when I search for GF) ?\n",
      "I think Your kitchen tip of “ lightly beating “my cupcakes actually caused them to have zero air and therefore didn’t rise.  So now I have dense flat cupcakes. Not a good tip for Coloradoans Good flavor but....\n",
      "My husband said this potpie was the best I&#39;ve ever made.  I added celery with the onions, and boiled carrots and potatoes in chicken broth then used the broth to make the sauce. Topped with tater tots, instead of crust.\n",
      "My Mom started using this recipe years ago and it remains a favorite recipe. Wonderful flavor. Easy to make. Will remain a favorite. Family loves it.\n",
      "Absolutely delicious!\n",
      "This is my favorite banana bread recipe, I think my family lets the bananas turn brown so I will make this.  LOL  The only thing I do is dust the pans(I always double it, and put 1 loaf in the freezer) with cinnamon &amp; sugar. YUMMMMMMMY\n",
      "My friend shared this recipe with me a decade ago and it is still a family favorite. It is now a football favorite too! I make this to sell at our concession stand. It always sells out.\n",
      "We took this marinade camping and LOVED it! We will be using this as our go to bbq chicken marinade from now on.\n",
      "I used brown sugar and reduced it to 1/2 cup based on other people&#39;s reviews. I used frozen thighs, and they took 4.5 hours to cook. I have a baked chicken recipe that I like better and will use in the future.\n",
      "We&#39;re not great fans of beans, so I put a small can of corn and a grated zucchini in the ground beef mixture instead. I didn&#39;t use the Italian dressing, and I used my own version of taco seasoning (with garlic powder, sweet smoked paprika, and ground cayenne pepper). I served lettuce, tomato and chopped onions, salsa, and plain yogurt on the side (makes it easier to reheat leftovers). We all really enjoyed it.\n",
      "Very easy to make, plus very tasty!\n",
      "Served with sweet cornbread this is one of my family&#39;s favorite dishes. I use red peppers instead of green and increase the cayenne pepper and hot pepper sauce to give it more heat.\n",
      "We don&#39;t have pancakes often but I made this recipe for a treat. They were really delicious. I only got six pancakes from the batter but that was plenty for us without batter to waste. I added blueberries to the last half of the batter for fun. When I make them again, I will probably add a little vanilla to amp up the flavor.\n",
      "This is by far my favorite soup.  I did make some changes to make it less fatting.  I use turkey burger instead of beef burger and cook the onion, celery and carrots with the meat, ommiting the butter.  I used skim milk, and 2% Velveeta cheese and thickened it with cornstarch and cold water.  I also use fat free sour cream.  I have made this soup several times and it is sooooo good.\n",
      "I had this years ago very good I&#39;m glad I could find the recipe again ewill be making next weekend\n",
      "The BEST rhubarb recipe you will EVER taste!\n",
      "Was in the process of making 60 cabbagerolls and needed the oven space for them when I came across this recipe. OMG this is fabulous. I added some green pepper pieces and zucchini I had on hand and am as I type am enjoying the slow cooked lasagna Thank you for a fabulous keeper recipe.MMMMMMMMMMMMM\n",
      "this absolutely a keeper,  I have made this several times\n",
      "Terrible! Never cooked through even after 2 hours. I checked to make sure I had added all ingredients correctly. So sad!!! It had such good reviews.... The part that did cook was super bland!! I will definitely be trying another recipe.\n",
      "To MaikoEmi, after reading your review I thought not doing it. When I checked at 25 minutes, there were lots of liquid, I had to set the oven at 375 for another 25 minutes or more until it was drier. I think you did not waited until the liquid evaporated. Actually it is pretty good and not soft at all.\n",
      "Loved this recipe! I added diced up garlic also and seasoned with my own lite kick. I also used multiple cheeses. This was my first time making it. It is a keeper!\n",
      "good recipe:)\n",
      "I wouldn&#39;t bother with this recipe again. Very little flavor except cauliflower, instructions are iffy at best ( 2-1/2 cups of water to cover the veggies, really?) My boyfriend &amp; I ate it, but I threw the rest of it out as well as the recipe itself.\n",
      "My go to pot pie recipe.  this is absolutely delicious!!!  I always make this for company and get rave reviews!!!\n",
      "This was very good. It tasted even better to me heated up the next day for lunch. definitly making this again.\n",
      "Thank you, Nicole, for sharing what looks like a yummy recipe. I am looking forward to making exactly like your recipe stated.\n",
      "This ain&#39;t pizza until you use a pizza crust... So, I did. Well, sort of. I placed a ready-made roll out pie crust over the top, increased the temp, and saved some of the cheese to sprinkle on top for the last few minutes of baking.\n",
      "dpauly123--I leave my cheese cake in the springform  until I&#39;m ready to serve it. So yes, cool it in the pan.\n",
      "awesome taste! i used leftover taco meat from the night before and added 1/2 cup of mixed veggies because I only had one baking potato to use.\n",
      "I&#39;ve made this cake 4 times in a month. Its awesome, everyone loves it!\n",
      "Made this for dinner tonight. Whole family loved it. However, I made a few changes right off the bat. My current changes were: I used whole wheat flour tortillas, venison burger (about 1 1/2 pounds), TWO packets of taco seasoning. 4 cups (2- 8oz bags) of shredded Mexican cheese. We also added sour cream and guacamole as a garnish.Things I will do differently next time I make it: I will use sliced GREEN onions in beef mixture AND as a garnish. I will use a tub of fresh salsa instead of Mexican diced tomatoes, and when I do that I will delete the 2/3 cup water, because fresh salsa has way more juice than a can of diced tomatoes. And I would definitely break up the top layer of tortilla&#39;s and spread them evenly, cuz those were tough to cut. I had to perforate them with a sharp knife to get an even cut. Even sprinkled with cheese and baked they were not soft enough to cut pieces with the spatula.Other than my changes, this was an awesome first time recipe for us and we liked it!\n",
      "Love ths recipe, I added heavy cream instead of milk and a little minced garlic. I used cheddar instead of Velveta.  My family loved it.  Definately a HIT!!!!\n",
      "Easy, quick and Amazing! The family ate them all up. My daughter is always asking for augratin potatoes and since we stopped cooking from a box, this is the first recipe I tried and it&#39;s a keeper.\n",
      "Decided to make this tonight for our family and two friends.  Went to grocery store to buy the ingredients, made this recipe and it was ready to serve, all within 25 minutes.   Every person at the table LOVED this soup!   I doubled the recipe except for the kidney and black beans .....I still only used one can of each of those.  DELICIOUS!  SO QUICK AND EASY!!  This one’s a keeper!\n",
      "This is sooo good!  It&#39;s perfectly light and fluffy. It&#39;s the best cornbread I&#39;ve made!  It&#39;s really not a &#34;cake&#34; as some said as cakes have Equal parts sugar and flour, ie 2 c sugar to 2 c flour. Comforting on a Cold drizzling winter day.\n",
      "First generation PNWer here.  I made this for my finicky family who are all from Boston &amp; New Hampshire so I was nervous making it after the reviews from the New Englandah chowdah snobs (believe me, my family is full of them) and guess what? They loved it! My dad has always been particular about his “chowdah” and he couldn’t get enough! I’m not fond of razor clams so I subbed for some fresh local butter clams. I tripled the recipe to make for the whole family, not too much leftover but what was leftover I froze &amp; it does freeze well! Thank you!\n",
      "Great recipe!  So easy to make and so full of flavor.  This recipe is a keeper.\n",
      "My family loved this casserole and I have one very picky eater. It was very easy to make and tasted very good. Will definitely make again !!!\n",
      "We love these! Anyone I&#39;ve made them for has asked me for the recipe. The frosting is to die for.\n",
      "Very easy and delicious. Family loved it. Will be making this regularly :)\n",
      "I run the oats through my magic bullet so it is more of an oat flour.\n",
      "Yum, yum, yum! This was absolutely delicious! My husband, who doesn&#39;t usually eat this sort of thing loooves it. I double the recipe and put some in the freezer.\n",
      "Discustingly  good...and EASY to make!!\n",
      "I give it 5 stars for sure. Everyone loved these candies. I had a problem with the carmel running though. Any tips?\n",
      "This is my go to recipe for entertaining. I start it eight hours before the dinner is served. The table is set and I can visit with my guest when they arrive with a minimal amount to do before dinner is served. This is a delicious dish. Served with coleslaw and hot rice. This one pot dish is easy to clean up and gives me more time with my guests.\n",
      "We loved the flavor and the consistency..  It was really easy to make.\n",
      "Evan jest super\n",
      "This recipe tastes very similar to the recipe that has been served at our past family Thanksgivings. I&#39;m so happy to find a corn pudding recipe that&#39;s moist and sweet.\n",
      "This Banana bread is amazing!  I just started working with a toddler that cannot have any gluten, and looking for things that he can enjoy eating.  Did anyone try to make this in cupcake or mini loaf sizes? Do you think that it could work?\n",
      "Calm Down, deddmen; you&#39;ll get your pressure up.  ;0)  There are all kinds of tastes; all types of cooks. This is a good crockpot gumbo-like dish ... works great for weeknights.  Maybe sometime we can go down to Louisiana and enjoy real Jambalaya.  This is fine for what it is.\n",
      "Loved this recipe taste was great .. I had boneless skinless breast in the freezer  so used them .. I used all of the marinade on the chicken\n",
      "This is the best lasagna recipe I have come across....I have modified it a bit when I make it.  I only use one can of tomato paste I feel that when you use two it has too much of a metallic taste (especially when eating leftovers) and it also makes the sauce too thick and reheated leftovers are too dry.  I also use slightly more tomato sauce and use two 15 oz cans of sauce.  I am not a huge sausage fan so I usually omit the sausage and just use the 1 lb of beef.\n",
      "This is by far the best apple pie I have ever made and eaten. I think it is the brown sugar instead of all white sugar. Whatever it is it is fantastic!\n",
      "This was so good! The flavor was perfect. I didn&#39;t have fresh peppers and onions, so I used a frozen blend and they ended up pretty limp, so I will use fresh next time, but it still tasted great. Super quick and easy, too.\n",
      "this cake is delic. and easy to make better the next day after being in the refigerator.\n",
      "I made these cupcakes four time over the Thanksgiving holiday for friends and family.  They are unbelieveable.  Huge reviews from all.  I did add more pumpkin spice and cinnamon to batter.  Also added more cinnamon to frosting.  Wonderful, moist and delicious.  This is a keeper recipe!\n",
      "I used Regular dinner rolls, as I do not like really sweet bread, and I only used 6 but left the rest of the recipe as is.  It came out really well and we enjoyed it.\n",
      "I used canned beef gravy and it was delicious.  I read the shopping list wrong, so I went for it\n",
      "Really tasty recipe, I had all of the ingredients on hand. I will be making this one again :o)\n",
      "These are really good. I would have given 5 stars but mine really didn&#39;t set up to make it easy to cut into bars, we had to eat them with a fork.gina.kapfhamer Moststandard cookie sheets are 10/15. I can&#39;t imagine being able to cut these to make 60 servings .I will try these again maybe using peaches.\n",
      "I took this to a family reunion today and everybody raved about it.  and I do mean raved.  The bowl came back empty and I had offers to lick the bowl.  This is a winner\n",
      "I am not a soup person, and I love this soup. I can&#39;t wait to have it the next day for lunch. It is really good fresh and left over. I do use a full pound of ground beef and try to use healthier ingredients, such as 2% Velveeta, low-sodium chicken broth, and fat-free milk. It is delicious and the extra sodium/fat is not missed.\n",
      "good one\n",
      "This is a wonderful recipe and we have made it several times but as one meatloaf instead of the little ones.  We alternate with the topping from this recipe and just putting a can of green chili&#39;s on top.  Excellent!\n",
      "Simple to make, really good.  Great basic recipe.\n",
      "This is very good\n",
      "I love the pie crust so much that I used it with another recipe, but I didn&#39;t like the filling.\n",
      "I made this to try to make us feel better about having a lonely COVID ( no children or grandchildren) Christmas dinner. It was delicious and so easy. Hubby hates lemon so I just made the garlic butter sauce and used thin spaghetti since we didn’t have angel hair pasta. I will be making this many times!\n",
      "I made this soup and loved it, so did the neighbors.....however, i used the CROCK POT had it on high for about 4-5 hours and it was great.  I always think longer cooking brings out more flavor.\n",
      "FINALLY! I&#39;ve tried so many times to find a coleslaw recipe that would win my husband&#39;s approval.  He said this was perfect!\n",
      "Very time consuming to make, a lot of steps and ingredients. The taste is that of a Snickers bar so for me it is not worth the effort.  I followed the recipe exactly and made sure that each layer had set up in the refrigerator before adding the next and let sit over night before cutting. The fudge cut into perfect one inch squares.\n",
      "What can I substitute for the canola oil?\n",
      "It was good, but the cornstarch mixture was too sweet and overpowered the fruit and crisp even after reducing it. If you have a major sweet tooth this is a great recipe, but if you prefer your apple to be more prominent I&#39;d suggest to go light on the sugar, cornstarch mixture.\n",
      "Very delicious. Definitely use real maple syrup, it does make a difference. I also use brioche bread for a richer flavor.\n",
      "This has been my go to lasagna recipe since I discovered it in Taste of Home years ago. I also use the sauce recipe for pasta.\n",
      "Awesome!  I used Velveeta cheese cause that&#39;s what I had.  Hubby advised Make it again.  Enough for 2 &amp; enough left to reheat again.   Can increase carrot or celery but use extra bouillon &amp; water if you do.\n",
      "A simple recipe that lends itself to adapting to personal tastes.  I liked the lime flavor--next time will add more lime.  I had to leave out the corn for dietary restrictions.Very, very tasty!\n",
      "Great flavor - everyone loved it!  I&#39;ll be making it again real soon.\n",
      "Excellent!! My daughter said &#34;Mom these are the best enchiladas you have ever made&#34;! Thank you for the recipe! Definitely a keeper.\n",
      "The only thing bad I could say, which isn’t even bad at all, is to put like 1/2 a teaspoon of vanilla. I always put vanilla in my pancakes so I was like ok I’ll just add it in but to me pancakes are sooo much better with vanilla but it’s a perfect batter and really easy to make into a perfect shape. Will use this recipe every time\n",
      "Awesome recipe!!My husband and son loves chicken pot pie and I typically buy them fresh from a warehouse club.  Been wanting to make a pot pie from scratch and found this recipe.  Made it last night and hands down it was the best pot pie they have ever had. I even ate it and I don&#39;t like  pot pie!!Planning on making it agin and will swap out chicken with beef stew meat and beef broth.\n",
      "This recipe is the exact same recipe as the one published in the Better Homes and Gardens Cookbook. My version of the cookbook is just over 30 years old.\n",
      "Great, easy to make and lots of fun to eat\n",
      "I made these a few weeks ago and have many requests for more and for the recipe. Making them this weekend for a pot luck dinner. Think I will make copies of the recipes to hand out, I know I&#39;ll be asked.\n",
      "Fabulous recipe.  I used Greek yogurt instead of the sour cream and reduced the sugar to 1/4 cup.  I took the test kitchens suggestion and added 1/2 cup of cheddar cheese and a 1/4 cup of chopped green chilies.  We really enjoyed this recipe. VFE.\n",
      "try toasted coconut with brown sugar/pecan mixture..Took it to a Halloween party and called it Hairy eyeballs..a big hit\n",
      "Someone correct me if I&#39;m wrong, but I think that the liquid in the topping ingredients of undrained crushed pineapple and the whipped topping is enough to achieve the desired results for the topping of this cake.\n",
      "We used this recipe for an after-the-wedding lunch for family. It was wonderful\n",
      "I&#39;ve been making Cheeseburger CHOWDER for 20 years my recipe is better...but nice attempt    lol Velveeta\n",
      "Followed this recipe to the t, it sucked.\n",
      "i did everything the recipe said except i only had to bake it 50 minutes.  the top came out hard..not crusty but hard and chewy.  i couldnt taste any of the lemon flavoring.  next time i will add alittle more lemon juice...if i make it at all.  i was very disappointed\n",
      "Didn&#39;t last a day at my house!  Excellent recipe!\n",
      "Wow!  I made this dish tonight and my entire family LOVED it (&amp; they can be very picky--3 teenagers)!!!  I had 2 packs of pork chops and followed this recipe for 1 pack and a different recipe for the other pack.  This one won - - hands down!  I used everything listed in the recipe, but used Lawry&#39;s Seasoning Salt with the pepper.  This is by far the best pork chop dish I have ever made.  Something to note:  After an hour, I took the cover (tin foil) off and checked the pork chops and potatoes.  They were done, therefore, my meal was done in 1 hour instead of 1 1/2 hours.  I&#39;m so glad I checked them so that they didn&#39;t end up dry.  This was an easy and delicious 5 star meal that I will be making often!  (*I did not need to double the sauce because this recipe made plenty of sauce.)\n",
      "I have had this recipe for a couple of years &amp; needed a meatless casserole so made it.  I should have read the reviews!!!  It had way too much sauce.  My husband liked it and that is the only reason I would ever make it again.  If there is a next time,  I&#39;ll use twice as much macaroni and bake it in a 9x13 baking dish.had way too much sauce\n",
      "This is the first time I have rated a recipe.  That&#39;s how awesome this seafood lasagna was.  People are asking me for the recipe.  Thank you for sharing such a wonderful recipe.\n",
      "Delish!  Added a teaspoon of pumpkin pie spice.\n",
      "I made this yesterday because my in-laws were coming, and everyone liked it a lot! I didn&#39;t change anything, except I used dried parsley instead of fresh (didn&#39;t have fresh).  A definite keeper!  Even my extremely picky 12-year-old cleaned her plate!\n",
      "I&#39;ve been making this salad for several years.  Always a hit! Guests are disappointed if I don&#39;t serve it at our parties.\n",
      "This recipe is so good! I took to a fish fry and was a huge hit....everybody loved it!\n",
      "Yum! So quick and easy to make. Can&#39;t wait to have it again.\n",
      "in my &#39;younger&#39; years, waldorf salad was my fav, but some years ago I added halved grapes, cooked shell noodles and some chopped roasted chicken, diced peppers (any color)..I also toasted the pecans before adding them to the salad..what a wonderful summertime salad..cool n refreshing !\n",
      "good recipe to cook.\n",
      "Sounds delicious right now and I&#39;m loving it and I&#39;m looking forward to making it some day.\n",
      "it was a very deliciooous recipe alot better than i thought it would be\n",
      "Let me get this straight you use 3 packages of mixes but only 1/2 cup of water?  That just makes a paste right, it does not seem like that is enough fluid.\n",
      "Although these take a few hours to make, they are delicious!I just took them to my work&#39;s picnic and they were gone well before the night was over.\n",
      "Best recipe that I&#39;ve found for banana bars.\n",
      "&gt; I used to work the salad bar at ryan&#39;s - we used the simple ingredients (buttermilk, mayo,  sugar - mixed together and poured across the cole slaw mixture! we used this combo dressing for many of the other fruit salads and broccoli &amp; cauliflower salad &amp; carrot and raisin salad! when making  dressing... 1/2 cup buttermilk, 1/2 cup mayo (kraft or duke&#39;s or sauer&#39;s) and 3/4 cup of sugar... NO salt is added (u get to do that u eat it)\n",
      "This recipe is wonderful! My husband said it&#39;s the best crockpot recipe of any kind that I&#39;ve ever made. I made it exactly like the recipe said...except I was out of parsley flakes. I don&#39;t know how much of a difference it would&#39;ve have made because it was absolutely delicious! I was in a hurry, so instead of cooking it on low, I cooked it on high for about 2 1/2 hours.\n",
      "These bars are awesome.  The rhubarb taste is lovely.  I did cut back on the amount of sugar in the filling - but just because I like it a little more tart.  I am going to try cutting back about 1/4 on the base ingredients just so it is not quite so thick.  Thank you for a great recipe!  We will be enjoying these often.\n",
      "First off, if you follow the recipe EXACTLY like it’s stated, your cookies will turn out perfectly. This was the first time I have ever made coconut macaroon cookies, and it will definitely NOT be the last!  Couldn’t ask for a better recipe. THANK YOU for sharing!\n",
      "Note: the picture shows the macaroons as much larger than the suggested &#34;rounded teaspoonful.&#34;  I didn&#39;t much care for such small macaroons.  So, when I make them again, they will be closer to the size indicated in the photograph.However, they tasted great!  I have no problem with the flavor.\n",
      "This sounds very close to the recipe I created for my fried egg rolls.  Making a bowl of noodles   is a great idea.  It is time consuming to roll and fry.  I have also rolled and then baked egg rolls.  They are very good and of course, no oily mess.  Spray them with cooking spray, or even paint a thin layer of oil, on all sides.  Bake at 350 degrees until lightly browned.  I gave a five star rating, even though I haven&#39;t used this recipe, since it does sound so close to mine,  which is delicious of course!!\n",
      "I had leftover ham from Sunday dinner, so I decided to try these. Everyone really enjoyed these sandwiches. Make sure to use horseradish sauce, or the horseradish may be over powering. The grocery store near my home sells Hawaiian mini sub rolls (about the size of two regular rolls), so I used these. I didn&#39;t have poppyseed so I used deli mustard which had seeds. I also used one and half tablespoons of mustard and brown sugar. I stuck the sandwiches in the freezer for an hour before baking because I didn&#39;t realize they needed to be refrigerated for several hours until I started making dinner. Turned out wonderful.\n",
      "Very delicious soup.  I made it straight from the recipe no changes and none were needed.\n",
      "This dreamy, extremely rich chocolate dake is the bomb!  Tasted like it was made by a professional cake baker, provided 12 good-sized tasty slices.  Very rich, extremely smooth frosting.  The brown sugar cake baked precisely and was a good foil for the extremely rich icing.  I made this cake exactly as instructed.  Is the best chocolate cake I have ever tasted.\n",
      "We have been making this since we found the recipe in the TOH ground beef cookbook. It is my absolute favorite soup recipe!! It is amazing!! So good and very filling! We have to double the recipe so we have leftovers!\n",
      "The best home made lasagna ever!!\n",
      "The best Blueberry Bread EVER!!! My family loves it, and I will definitely be making this scrumptious bread again.\n",
      "Loved it - quick, easy to make on a hectic holiday night! My husband, who is not a fan of cauliflower, even had seconds!  Made it per recipe - no substitutions.  Did not have hot sauce on hand, but will try splash in it next time!  May try it with some smoked sausage next time, too, for a heartier meal.\n",
      "This is very good.  My husband really liked it and described it as &#34;fresh.&#34;  I used light mayo, 1/2 of a larger red onion and no water chestnuts.  Nice make ahead salad.  The dressing was lighter than I expected (a good thing).  Maybe the light mayo?\n",
      "This is delicious but needs to be seasoned.  I added oregano, basil, salt and pepper.  I added a couple of cloves of garlic to the onion/hamburger blend while browning.  My anti-zucchini family really enjoyed it.\n",
      "Instead of baking in the oven, I cooked it on my smoker. We all loved it.\n",
      "It is awesome\n",
      "I&#39;ve had different kinds of shephards pie this one was so easy to make and was very tasty had great flavor, the only thing I would change is instead of hamburger meat use corn beef and no onions, this was a great recipe though and will keep it on the list to make again!\n",
      "<p>Substitutions I made:</p><p>- Peak Freans Lifestyle cookies (dark chocolate/cherry) instead of graham cracker crumbs+sandwich cookies. I just used 1 cup and a half of the Lifestyles cookies and it was delish.</p><p>- Instead of hot fudge ice cream topping, I used nutella. ALSO DELICIOUS.</p><p>- I noticed that the peanut butter really did not make an appearance in the final product (maybe I did something wrong), but the peanut oil seeped out of the springform pan and onto the cookie sheet. Which I don&#39;t think was a problem, but maybe add more peanut butter? OR perhaps mix it into the batter?</p><p>- I misread the instructions, and melted butter for the crust, but then (Stupidly) measured out 6 tbsps of the melted stuff and only put that in. The crust was definitely drier than I would&#39;ve liked, it, so don&#39;t make the same mistake as me. Always add a lot of butter.</p><p>-I also didn&#39;t have an electric mixer, which resulted in a pretty lumpy batter. Luckily I had some extra muscle on hand to stir it up, but I think an electric mixer would have made things easier :p</p><p>- I added cut up peanut butter cups into the batter (before I poured the chocolate part on) and it was SUCH a good idea. They melted into the cake, and it was impossible to see them, but they definitely made the cake richer and more velvety. They added a distinct &#34;peanut butter cup&#34; taste. Very good.</p>\n",
      "It is super easy and so good!  At first I was nervous too because of the layers, but after refrigeration it is perfect!\n",
      "This recipe should have &#39;NO STARS!&#34; I have never heard of baking thinly sliced potatoes for an hour and a half...seemed strange...but I tried it...what a mushy, nasty mess! Absolutely no taste, as others said bland! This recipe needs to be thrown out, or needs to be tweaked to the point that it is edible...I think I will stick to throwing it out.\n",
      "Thank you for such a marvelously easy bread recipe. Made this a couple of times. I use all whole wheat flour and it makes a bread that tastes pretty much exactly like Outback Steakhouse&#39;s bread. Helps with my diet because I try to cut preservatives and artificial ingredients out.\n",
      "This was so good &amp; easy to make!  I only used 1 pie crust per pie &amp; left out the thyme.  It&#39;s nice to know I have one pie in my freezer for a busy night.\n",
      "This has become one of our family favorites.  I use corn tortillas in place of the flour and pinto beans instead of black since my kids aren&#39;t big fans of the black.  It&#39;s wonderful!\n",
      "These were fantastic. Like others I could have used more ginger and cinnamon. I followed the directions and creamed the butter and sugar for 5 min and I baked them maybe 15-17 min and they are still really soft. I will be making these again!!Thank you!!\n",
      "Really fast and easy meal. Ingredients are items that are usually readily available. Definitely a quick go to when hungry .\n",
      "This was a great dish! I didn&#39;t have any milk so I used cream of chicken instead. It made the filling very think but it tasted fantastic.\n",
      "This is a great tasting cake. Will definitely make again. Only change will be to use about half the nutmeg. Thought the original amount a bit over powering.\n",
      "The best thing is the flavor.  The second  best thing is how fast it is to make!  I like how the minimal cooking  allowed the frozen vegetables to keep their integrity and flavor.  I used mixed vegetables instead of corn and peas only.  I also upped the ketchup, W. sauce, and beef bullion  granules by half again as much to give it an extra punch of flavor.  A keeper!\n",
      "Really good pie filling recipe!  My first time making an apple pie.  I only had Honeycrisp and Golden Delicious apples so I used those.  Came out great!  I did cheat and use Pillisbury refridgerated pie crusts.  I made it on Wednesday night and didn&#39;t cut/server it until Thursday (Thanksgiving Day).  It was perfect!\n",
      "I doubled the recipe- used1 cup white sugar &amp; 1/2 cup splenda-always add more cinnamon,little salt, apple pie spice also added the apples to the hot mixture to cover better  was delicious!!!!    vic\n",
      "This is my go-to cake now. Everyone that I have served it to raved about this cake. I use my favorite Lavazza coffee for the brewed coffee. I substitute canned evaporated milk for the whole milk. My favorite frosting is a peanut butter frosting and I use it with this cake. I put a few piped swirls of frosting on top and top each swirl with a Reeses peanut butter cup.\n",
      "Quick dinner and the bacon and onions really flavor the chicken.  Next time I will use a different seasoning/spice as I don&#39;t like lemon pepper seasoning and thought it took away from the flavor rather than enhancing it.\n",
      "This is my husband&#39;s favorite soup.\n",
      "oops!! I forgot to rate this. Five stars!!\n",
      "These pancakes had  excellent flavor, plus being tender and fluffy. Will definately keep this recipe to make them again.\n",
      "Try heating the knife in hot water, wipe dry, then slice.  Do this before each time you slice and the chocolate shouldn&#39;t crack, or at least not nearly as much :P\n",
      "Trying to watch my carbs, this is delish! I used pizza sauce and topped it with mushrooms and italian sausage crumbled-yum! Put in containers for lunch this week.\n",
      "Is our family&#39;s favorite soup in the world.  My son-in-law HATES beans, but always requests I make this for him.  I always have to double and triple the recipe because it is gone in a heart beat.  Great with salad and bread.\n",
      "Great recipe, really easy to get going in the crockpot and the whole family loved it.   We have made this several times and will continue to do so!\n",
      "Well now I have made it and it only gets 1 star, it really doesn&#39;t deserve a star at all.Very disappointed. Followed the recipe to the T. Refrigerated over night cut into it today and its nothing but a runny mess. I still tastes &#34;okay&#34; but I will from now own stick to my Karo syrup half light and half dark pecan pie recipe that always comes out perfect. Mike\n",
      "Made it many times now &amp; my family LOVES it!\n",
      "This is definitely going to be a go-to recipe.  Nobody can believe it is healthy.  Make sure to use the small cake mix box (jiffy size), not the regular size.\n",
      "I was out of parmesan for my regular tilapia recipe.. so i tried this one.  I had no capers, but used all the rest of the ingredients.   Another good recipe from Taste of Home!\n",
      "It is very flavorful but also very salty. I like things a little salty and this was too salty for me.\n",
      "This is great!!! ??\n",
      "Great.  Hubby can&#39;t eat white potatoes so I substituted sweet potato cubes.   Really good with the ham.  A keeper recipe.\n",
      "Question, instead of grilling (I don&#39;t own a grill, could you perhaps, cook these in a slow cooker?  Seems like they would come out very tender and tasty?\n",
      "I make this every fall for my guys to take to hunting camp.  It&#39;s their opening night tradition!  Filling--and feeds lots.  Leftovers are great--if there are any!\n",
      "Fantastic recipe! My family loved it.\n",
      "Great cookie!  Made about 6 doz. but I used a TBSP. size scoop so I am sure that made a difference.  Very moist and chewy in center.\n",
      "My mom has been making these for years.  They&#39;re a little spicy for me (because my heat tolerance is slim to none), but I still love them (I cut the spice with a bit of sour cream on top). They&#39;re very filling, so we usually only eat a half of one enchilada and then serve with some rice or chips and salsa.  They feed a crowd that way!\n",
      "I have been making this ever since it appeared in your magazine years ago. This is one of our most favorite meatball recipe. The only thing I do different is add a little onion powder to the meatballs and I usually add a 8oz. can of tomato sauce because we like extra sauce. We love it withashed potatoes or potatoes I put through my river. DELICIOUS!!! We love the leftovers too :-)\n",
      "Loved it, and the aroma in your kitchen will dazzle your senses.  Followed to the recipe.\n",
      "This was a great classic apple pie. It did come out looking wet but you have to let fruit pies cool before you cut them. I let mine cool overnight and it was perfect the next day- no run off and no soggy bottom. For those who say the apples weren’t tender, you need to test the pie by sticking it with something to make sure they are soft before you take it out. If your crust is getting too brown, put on a pie shield or foil.\n",
      "It is a Great cake but as a coffee cake or base of lemon curd cake. pineapple upside down cake, or Strawberry shortcake. I will make it again!\n",
      "My family loves it!!!\n",
      "Oh my goodness this is the best banana bread with the cream cheese frosting, I really never liked banana bread but it&#39;s on and craken,  when my son and his in laws eat this my might switch from me making so many sweet potatoe pies.\n",
      "We make this banana bread all the time.  It is by far our favorite.  We use less pecans though because I don&#39;t care for them (maybe 1/4 cup total?) and we haven&#39;t actually tried it with the glaze yet.\n",
      "This recipe was easy and delicious! A new family favorite! Even pleasing to the harder to please eaters.\n",
      "We need a  good substitute for the eggs!  Thanks\n",
      "My first &#39;&#39;soft&#39;&#39; gingersnap and what a success.  the whole family love them !\n",
      "These were so easy to make and so very good!  Nice and cheesy.  I shredded my own sharp cheddar cheese and the taste was fantastic!  This recipe is a keeper!\n",
      "Love this recipe! Will never go back to my old way. Lots of flavor\n",
      "Such an amazing recipe!! Just made it and my mom and dad loved it and so did I!  Very simple... a little lengthy process but totally worth it!\n",
      "great soup, all family members love it from young to the very old\n",
      "The first time that I made this cake, I used all purpose flour and all I could taste was the flour.  The cake was dense even though it rose beautifully.  The second time that I made this cake, I used Swans Down Cake Flour and it made a huge difference in the flavor and the texture!  I also used this recipe to make 36 cupcakes.  I baked them at 325 degrees for exactly 20 minutes and they came out perfect!  This is going to be my &#34;go to&#34; recipe every time I make a cake or cupcakes!\n",
      "As we prepared to spend the last part of a frigid Christmas Day watching our Steelers and Eagles play, I wanted something comforting and easy for dinner and this was IT!  Absolutely delicious.  Only adaptation I made was using beef broth instead of chicken broth because that is what I had on hand.  This has already been added to my recipe blog.\n",
      "So good and so easy! Love it! :)\n",
      "Won 2nd place in my work chili cookoff (although about half of the judges came back to me later and told me they voted mine first place!).Didn&#39;t change a thing except for substituting half and half for heavy whipping cream. This one is a keeper!!!\n",
      "My family LOVED this recipe! We will definitely will make this again....sooner than later.\n",
      "My family fell in love with this and keep asking for it again. We give it 5 stars\n",
      "...too much wet mixture bread comes out soggy\n",
      "This was an awesome recipe. I only made one loaf- I halved the recipe. The best banana bread I ever made. Our kids ate it up- there was none left! I didn&#39;t use the walnuts, since we didn&#39;t have any.\n",
      "Since there&#39;s just my husband and I, what I love about this recipe is the ability to halve it.  I prep the entire filling ingredients and either freeze it in two parts or use a half for that evening&#39;s meal.  I&#39;ve made it with both chicken and 90%/10% ground beef and the chicken is our favorite.  We returned from visiting family for Thanksgiving and I plucked out the zip-lock bag of filling and it&#39;s in the oven right now, smelling so good.   We dollop on some sour cream and the hubster likes hot sauce for extra zing.  I have this recipe saved to my iPad home screen for quick reference.   Great creation!!\n",
      "Good soup for fall and winter. Served with biscuits or cornbread. Great way to use up holiday ham.\n",
      "I made this and shared it with my neighbors, they didn&#39;t even know it was gluten free. I told them and they couldn&#39;t believe it. It is very moist and I gave it the three day test, it&#39;s still good and moist. Plus the best part, I didn&#39;t change a thing from the recipe above.\n",
      "The crust - a mix of graham crackers and oreos - is what sets this cheesecake apart from the rest.  It is delicious!  My mother-in-law loves peanut butter and she can&#39;t get enough of this rich, creamy cheesecake.\n",
      "Why did I wait so long to try this. Excellent recipe as is, but I tweaked just a tad. I doubled the meat and added a little crumbled bacon (I like bacon cheeseburgers). I subbed extra sharp cheddar for the Velveeta because I always have it and never have Velveeta. I also used plain Greek yogurt instead of the sour cream (I didn&#39;t want to buy a whole carton of sour cream and a single serving of the yogurt worked perfectly). Thank you, Joanie Shawhan!\n",
      "Way too much ginger and nutmeg in this recipe. I even had more apples than called for and it was overpowering. Cut back the cinnamon, and just add a pinch of the nutmeg and ginger. Let the apples be the hero.\n",
      "The pie shell was too\n",
      " big! I&#39;m with Danital46, WILL NOT MAKE it AGAIN!\n",
      "some slow cookers like mine are oval  and you can cut square&#39;&#39;ish&#39;&#39;  piece out\n",
      "Wow were these good! Really moist and filling with the oats. Definitely a keeper!\n",
      "Best soup!!!!  I made a batch and my husband who hates soup even loved it!  His only recommendation was next time a double batch!!!\n",
      "Great recipe, simple and very tasty. I will definetly add this to my go-to meals!\n",
      "Delicious! The kids will love it. Healthy\n",
      "First pie I&#39;ve ever made.  Turned out perfect.  Tart and juicy, but not to sweet and gooey.  Will definitely be making this again.\n",
      "This was very good, but does take a bit of time and dishes to prepare. I added 1/3 cup queso fresco cheese and we like that a lot. I am thrilled to know how to make a great red sauce!\n",
      "I really love creamy, mayo based cole slaw. This one has a great mix of sweet and sour, although a bit of vinegar might add a little acid to accentuate the flavor. I made it for guests and they all loved it.\n",
      "Followed recipe exactly and first time using this recipe.  I was very disappointed in how it turned out - did not raise and edges burned even tho&#39; I thought it a good idea to loosely cover with foil once I saw the edges browning.  This was supposed to be a gift but could not in good conscience, give it to anyone.  Have not tasted it yet ....But in the future, will go back to my reliable stand-by recipe (which I thought was lost but have since found) as something is not quite right with this one.\n",
      "This is delicious.  I made this for some picky company and they even asked for the recipe!\n",
      "Just made it, very easy just alot of steps, looking forward to trying it. Yummy! looks pretty too, i added 4-5 more peanut butter cups\n",
      "We love this recipe!  The chicken also freezes very well.  Just combine oil, seasonings, and chicken per the recipe, and freeze in the resealable bags.  It finishes marinating as it thaws, and makes a wonderfully quick dinner.\n",
      "I make this recipe at least a half dozen times each year. To make it faster I buy a rotisserie chicken from the deli and add dried onions instead of fresh. Dinner can be ready in minutes and my entire family loves it!\n",
      "So easy and delicious! The meat was incredibly tender! I didn&#39;t have brown gravy mix so I just stirred beef bullion and cornstarch into the water.\n",
      "@ buzzbombz,  why would you give it 4 stars and then post a different recipe?  You should just review this one and then submit your own separately.  ??\n",
      "This recipe was marvelous.  Even my vegetable shy daughter ate it- spinach and all!  We&#39;re definitely making this one again.\n",
      "Oh wow! Two thumbs up all around. I doubled the recipe and then added an extra can of clams just because. Thank you for this recipe\n",
      "I really didn&#39;t want to rate this because I have not tried this specific recipe. I just see people saying that it takes a long time to set. I make one similar. I don&#39;t use the eggs, milk or sugar and it turns out great. Takes about an hour at 350. Doubling the recipe will make it take about 30 minutes longer. I use half a box of jiffy corn muffing mix with the corn, sour cream, and butter.\n",
      "OMG! Yes  this recipe is delicious, u can tell, look at the reviews.  I made it and the whole pan was gone the same day, between my husband and 14yr old son.  I&#39;m baking another as we speak.  I used 3 VERY RIPE bananas, it is DELICIOUS!!!!!!!!\n",
      "Oh, my gosh!  This has been our family&#39;s favorite cake since I first made it when TOH debuted in 1993!  We have six children, &amp; all of them frequently requested it for birthdays, nameday treats, half-year birthdays (we celebrate a lot in our family!), baptismal anniversary days, etc.  Our oldest daughter asked me to make it for her wedding reception in Oct. 2013!  The only change I make is to make 1 1/2 times the amount of frosting &amp; then use the recipe for the frosting in the TOH 2/96 issue for Pastel Chocolate Cake.  We call the resulting cake &#34;Rainbow Cake.&#34;  I don&#39;t change a thing in the recipes!\n",
      "I was so worried when I saw how liquidy mixture was but followed directions as specified. Though I substituted milk for vanilla almond milk. I read through prior reviews and did put a pan under bc it does boil over. I cooked it 400 for 40mins and all the liquid became a very thick sauce/syrup. It&#39;s SO good tastes like a bakery made this item. Not too sweet, peaches soaked up all the good flavor, sauce thickened/reduced to jelly like consistency. Next time I think I will cook 35 mins or lower heat bc breaking cooked slightly harder then I prefer. Also I made to small carafes from same batch so I&#39;d have testers. They came out perfect cooked along side of larger pan.\n",
      "So good, I used light brown sugar like someone else recommended and had to cut big marshmallows into small (grocery store had no more minis) kept everything else the same and they were awesome\n",
      "Pretty salad that is very tasty.  Adding this to &#34;family favorites&#34;\n",
      "I often make this bread - it is so yummy. As in every bread I bake, I substitute applesauce for the oil and use about 1/2 the sugar. The last time I baked this, added white chocolate chips - that was really good.\n",
      "My rating has to do with the equipment used. This is supposedly a recipe is for &#34;beginners&#34;. How many beginners have a dough mixer? Instructions for making the bread truly &#34;by hand&#34; would be wonderful.\n",
      "This is one of the first recipes I made from Taste of Home. My family loves it! It is easy to double using a large stock pot, since everyone went back for seconds. A little time consuming in the preparations, but it is well worth it! Leftovers? No way!\n",
      "This was really good. My husband was never a huge meatloaf fan but he also gave this 5 stars. I only put in half the brown sugar that the recipe called for because #1) I&#39;m trying to cut down on sugar, and #2) there were a number of reviews saying the sauce was pretty sweet. With half the sugar it still seemed pretty sweet to me. Next time I will put in a quarter of the sugar that the recipe calls for.\n",
      "Excellent as is!!\n",
      "Very easy and the whole family loved it.  Next time I will try adding some cream of chicken soup to thicken it a little.\n",
      "This was more like a casserole. Maybe I used to many noodles. No one I served it to liked it.\n",
      "I just made these it&#39;s an easy recipe and they taste awesome han the house smells amazing\n",
      "This soup was amazing!! I added a garlic clove and a potato also increased all ingredients to feed all.  I think original amounts were not enough.  I will definitely make this again!! Everyone loved it.\n",
      "I followed this recipe as is and my husband grilled it up for our Super Bowl party.  We got rave reviews and look forward to making this again soon.\n",
      "Good easy to prepare.\n",
      "Super yummy!\n",
      "I really liked this recipe. Husband and I have made  this twice and both times cleaned our plates. The lemon flavor is subtle and the shrimp cooked perfectly! A keeper for sure!\n",
      "I made this without any of the confectioner sugar and it was AMAZING!!! My family loved it!!!\n",
      "This has got to be one of my favorite baked chicken dishes.  It is easy and doesn&#39;t seem like it would be that flavorful but it is!  So glad I tried it.  Whole family gave it a thumbs up.  Make sure you use every drop of mushroom sauce on the chicken breasts, and we used a good amount of green onions because we like them.\n",
      "These were delicious! The batter was very thick and only made 8 - 1/3 cup pancakes for me.  My daughter, who normal doesn&#39;t like pancakes, ate these all up!!\n",
      "A very rich dessert. My grandmother has had a recipe for something similar with graham crackers, the butter sauce and sliced almonds baked like this one that my family has always loved. This one is has the added coconut, marshmallows and cinnamon. I will make it again.\n",
      "The softness and sweetness of the onions is in delicious contrast to the saltiness and crispness of the  bacon.  Fast and easy enough for a busy weeknight but good enough for company.  Good job, Brenda!  Thanks for sharing.\n",
      "Absolutely loved this dish.\n",
      "I have tried many and this is my favourite by far!  It did take about 20 min longer in the oven and I used pecans\n",
      "Not exactly the healthiest “salad”, but oh, so delicious.  I do back off the sugars a bit, because the grapes are usually super sweet.  I&#39;ve made this several times, and everyone seems to enjoy it.\n",
      "Great recipe!  The only thing I add is cinnamon to the filling.\n",
      "This is a wonderfully tasty chili. I got tired of tomato sauce, so this was a nice change. The first time I made this I tripled it for a family gathering and everyone loved it; I only put in half the chili amount though. It did get a bit soupy, but I just let it simmer longer.\n",
      "This soup is beyond amazing! It is the best tortellini soup on the planet, prepared exactly as written! WOW!\n",
      "I have made this a number of times and love it.  Because I have only myself to feed, I cook the vegetables as shown but put half of it in the freezer for another day.  I make half of the milk, etc. mixture each batch.  Simple and satisfying.\n",
      "Made this again with turkey sausage instead of the hamburger. Much tastier, and hubby loved it. So need to up the rating to a 5 instead of a 4. Would definitely have again and again\n",
      "This was an easy and very tasty banana bread.  Definitely will be making this again.\n",
      "Yummy! I sure will make it again. 5 Stars.\n",
      "I&#39;ve made this recipe so many times I&#39;ve lost count. My family loves it..it&#39;s great for family get togethers or when friends come over. The only changes I made were adding the hamburger, leaving out the olives and adding more cheese.\n",
      "Great recipe! Very easy and delicious, the only way this would turn out dry or gooey is if you dont set your timer. Once it comes to a full rolling boil set your timer.\n",
      "<p>Yes, the crust is a little dense as others have mentioned, but it is very easy to make and it is tasty.  I also happened to have made it with Door County cherries and like that too.  This is currently my pie recipe of choice because the crust is so easy to make and tasty and doesn&#39;t have a bunch of chemicals in it like a store bought pre-made crust.  Making a traditional crust is sometimes a hassle that doesn&#39;t always turn out well (for me anyways).</p>\n",
      "SuperFly Easy &amp; very good! I made it even easier, I think. Cubed 3 small chicken breasts cooked in olive oil &amp; cavenders til done, added the carrots and celery, water, better than boullion. Allowed to cook until veggies were a bit tender then dropped the dumplings on top. My fussy eating daughter liked as well as the rest of the fam.\n",
      "Like some of the other reviewers, I was missing a few ingredients. Didn&#39;t have any chicken so we used hamburger,  didn&#39;t have any orange juice so I used tomato juice,  didn&#39;t have reduced sodium soy sauce so used regular soy sauce,  didn&#39;t have any Chinese five spice powder so I found five spices in my cabinet and use them instead, didn&#39;t have any rice so used linguine. All in all, it was a truly wonderful recipe and my family will enjoy Asian chicken thighs on a regular basis from now on.\n",
      "This soup is wonderful!  I did use ground turkey instead of ground beef! I also did not add salt because there was a lot of salt in the cubes that I used for the chicken broth. I love it!\n",
      "I&#39;m from the south and don&#39;t put any sugar in cornbread. So I made it without and it was really good. My mother always used some hot bacon grease in hers\n",
      "Very tasty and kid friendly!!!\n",
      "This pie is so yummy.  I got the recipe several years ago from Weight Watchers.  I make it quite often.donna\n",
      "I LOVE IT!!!! I shared it with my neighbors. I&#39;ll definitely make it again. :)\n",
      "Made this last week, it was the best lasagna I have ever made!  So said hubby.  Only changes I made was to use Italian sausage instead of the pork, and no boil noodles.  I did add about a cup of water to the sauce to provide enough moisture for the noodles. The recipe is a keeper!  Yes, it takes longer to cook, but so worth the effort!\n",
      "Grew up with this cobbler in PA, also substitute cherries or blueberries for the peaches. No other cobbler tastes as good as this recipe.\n",
      "Easy and delicious will make during holidays\n",
      "This has been our family&#39;s favorite spaghetti dish since it first appeared in ToH in &#39;94 (can&#39;t believe it&#39;s been 20 years)! I misplaced the original paper recipe, so I checked it out here - thank goodness it was listed or I would be in BIG trouble with the family! It&#39;s easy to prep ahead of time and keep in the fridge till you&#39;re ready to pop it in the oven, avoiding the last minute dinner rush.\n",
      "This was AWFUL!!! My husband loves meatloaf so I thought I would give this recipe a go. I couldn&#39;t finish my meal &amp; he proceeded to throw away the leftovers. Thanks for the $12 waste!!!\n",
      "Easy, the sauce was the best, will uses sauce for other receipts.\n",
      "My husband and I love bruschetta so I was anxious to try this recipe. We weren&#39;t disappointed! I used dried basil. I also cooked it uncovered for more like 25 minutes because I wanted it nice and crispy. Delicious!!!\n",
      "Very moist and tastey. The frosting was delicious and the added cinnamon topped it off. My boyfriend who is not even a big sweets person ate them 2 days in a row and my kids LOVED them. Even better the next day!\n",
      "I will definitely make this soup again. Very tasty and filling. I used Mexican blend cheese instead of Velveeta. Made a big pot on a cold day and gave some to my neighbors. We all loved it. Definitely a keeper!\n",
      "Moist and tasty.  Also made another version of the same recipe, omitting water and subbing orange juice and rind.  Replaced the raisins and nuts with frozen and dried cranberries.  Definitely a pair of keepers.\n",
      "I love it, everyone in my home loves it, and I have been asked for the recipe many times.  I have to triple the recipe for my family. It is very easy to make.\n",
      "I have no idea how a recipe with so few ingredients tastes so good! And it&#39;s so easy too! Absolutely delicious! I used an Italian sausage ravioli to give it a little extra kick.\n",
      "I sub. plain yogurt for sour cream since is what I had on hand.  All family said they would have never guessed it had yogurt in it. Tangy, but not sour.  Better than Colonel Sanders!\n",
      "very moist and not overly sweet.\n",
      "Made this to take to a friend.  It was sooo good and she&#39;s still talking about it!\n",
      "Ive had better. The breading was really soggy from the tomatoes. Not bad, but not awesome. Maybe I just made it wrong. probably not a repeater...\n",
      "Family loves it.  Easy and tasty.\n",
      "This is a wonderfully rich and creamy chili that is quite different from other white chili recipes I&#39;ve tasted.  It has been a hit every time I&#39;ve made it.  I made two changes to the original recipe based on the reviews I read here.  I add a third can of northern beans and mash them to add thickness to the chili.  Also, instead of cooking a pound of boneless chicken breasts, I use the breast meat from a store-bought rotisserie chicken (Costco, in my case).  The breast meat is already seasoned, so no need for the garlic powder and canola oil.  I dice up the meat into 1/4&#34; cubes - a little smaller than the original recipe.  One of the easiest chilis I&#39;ve ever made and so delicious!\n",
      "Made this tonight and my husband and I really liked it. Our two year old daughter even ate the chicken, and she tends to be picky about meat. On the suggestion of some I used brown sugar and liked the way it tasted. I&#39;m not wild about Asian dishes but I would recommend this to anyone.\n",
      "So good!\n",
      "I made this soup per the recipe and did add some minced garlic and half an onion, next time I would add two more carrots. The soup is great it is a keeper.\n",
      "I&#39;m a Volunteer Filed Editor and I love testing out recipes. The marinade in this recipe was just right!  We really enjoyed the flavours in this dish.  I cut everything up and let it sit while I got the kids from school.  It was nice to have the prep work done ahead of time as this allowed me to help the kids with homework right up till it was time to cook supper!\n",
      "My family loved these easy to make muffins !\n",
      "Awesome,delicious\n",
      "I didn&#39;t plan on baking today but I received this recipe in my email and wow, the cupcakes are amazing!  They didn&#39;t rise up much but thats ok, just eat another to make up for it.  I don&#39;t think I have ever baked a cake without vanilla extract and the batter recipe didn&#39;t call for it so I added some.  The added vanilla made the cupcakes almost too sweet, and I love sweet but next time I won&#39;t add any, there is already some vanilla in the frosting,  that is probably enough.  Also, this recipe made 2 dozen cupcakes plus a small bundt cake, you could easily get 3 dozen cupcakes from this recipe. I will definitely make this recipe again, it is a keeper!\n",
      "I&#39;ve made this a few times now and it&#39;s always a big hit. After reading the reviews, I chose to use 1 cup of sugar and 1/2 cup of brown sugar rather than 2 cups of white sugar. It&#39;s sweet enough and had an amazing texture. The last time I made it, I also tried slicing the apples rather than cutting them into chunks and my husband preferred it this way. This is such an easy and delicious recipe! Thanks!\n",
      "I took this to an annual soup and salad lunch my ladies group has every January and it was a hit. I only made slight changes as the recipe is written here. I added a small chopped onion as I was browning the meat, reduced the brown sugar to 2 tablespoons and added one quart of beef broth instead of 2 quarts water and the beef bouillon. Everything else was the same as the recipe written here. I say that because the recipe published in the magazine in 1996 did not call for any water at all. Why does the website recipe say to add 2quarts of water? Did the restaurant notify the magazine after it came out that they had forgotten to include it in their recipe when they sent it in? Or did the TOH test kitchen add it? If so, why? I&#39;m not complaining, just wondering. Anyway, I will be definitely make this again!\n",
      "I made this for Christmas dinner and the entire family loved it.  I would absolutely make this again.\n",
      "I made this as a birthday cake.  Doubled the recipe.  Instead of cherries, used strawberries all over the top of cake, omitted the walnuts.  It was delicious.\n",
      "The best creamy coleslaw that I have found. It reminds me of the coleslaw we get from the famous fried chicken place.\n",
      "I started making these at Christmas three years ago.  They are the best and liked by all of my family.  That is the first candy they ask for.\n",
      "OMG, this is awesome!! We went gluten-free (for medical reasons) about two years ago, and I have been looking for a good meatloaf recipe ever since!! I made this with gluten-free quick oats and it was perfect. We both LOVED this!\n",
      "Have been making this since it was in the magazine in 94. Its a great recipe.\n",
      "Deliciously, unbelievable!! I added mild italian sausage (as suggested by another review)! Loved it!\n",
      "This is the best lasagna recipe I have found. The meat sauce and cheeses compliment each other very well.\n",
      "Firstly, I never peel or seed my zucchini.  My mom&#39;s recipe for the cupcakes are similar so i just used hers.  I made the frosting and it was more like a glaze..should i cool it completely before adding conf. sugar?  Instead of putting it in when it&#39;s lukewarm?  It definately did not look like the picture.  I then added a pack of cream cheese and more conf. sugar and it turned out fabulous!!\n",
      "Great tasting easy recipe. My family loved it.\n",
      "This was one of the best Banana Nut Bread recipes I&#39;ve baked. I used walnuts instead of pecans because that&#39;s what i had on hand. I also didn&#39;t do the glaze. It&#39;s so good you don&#39;t need it and I&#39;d hate to cover up the yummy, moist taste. This is my new go to Banana Nut Bread recipe!\n",
      "I loved this recipe! It was simple and just what I was looking for. I loved the sugar on top of the crust. I used pink lady apples. The perfect combination of sweet and tart!\n",
      "Have made this recipe so many times.  A favorite at our house.  Always requested at Potlucks, served at Penny Sale Fundraisers - given this recipe out many times.  Enjoy!\n",
      "I made this last night for dinner. I did not put any mushrooms in it because my daughter doesn&#39;t like them. She doesn&#39;t have any objections to cream of mushroom soup but I used cream of chicken with herbs because it sounded good. The soup was very filling, more so than I expected. It was also very tasty. Because it made so much, I may get some mushrooms today and saute them to add to the soup and have again tonight. It will depend on how much I find in the fridge. If I make this again, it will be for more than 2 people.\n",
      "This was great!!! I used light cream cheese, low fat cool whip, everyone loved it!! I also added Baker&#39;s coconut all over the top! I have been asked to bring for Easter Brunch to family&#39;.\n",
      "I used rice flour instead to make gluten free and everyone loved them!\n",
      "These were good but I did take others advice and cut the sugar down to 2 cups and they were still a little sweet for me but yummy all the same!\n",
      "My husband and I loved this recipe. I will definitely make again. Great leftovers!\n",
      "Also, I bake these on a wire rack placed in a 9x13 baking dish.  That way the fat drips off the meat into the pan below.\n",
      "Family enjoyed it!\n",
      "I consider myself a serious cake baker, and pride myself in knowing a great cake from just a good one.   Great chocolate cake recipes are  very hard to find.   This is a great chocolate cake recipe.   I made it with cake flour because I didn&#39;t have any AP flour.    It turned out super, it was moist  but not heavy , just  light.   The flavors were well rounded but not too sweet and the texture  was super.   I believe the brown sugar and the sour cream really set it apart from any other chocolate cake I ever made.   This one was perfect.    I didn&#39;t perfect the frosting but the cake is definitely a keeper .\n",
      "I made only the cake portion of this recipe and it is truly spectacular! Very moist and flavorful. Not one of those sickeningly sweet cakes. I will be using this recipe again!\n",
      "Made without changes, except adding some chopped sweet red pepper.  Really nice for the summer - quick and light!\n",
      "I make this recipe but I put it in a 9x13 pan and put the brown sugar and pecans over the top right away.  I think it is better made the day  before serving.\n",
      "I always use my own pastry but the filling was spot on.  This was a typical roux so am uncertain why many thought it was too much flour?  As with any roux you must cook long enough with liquid to make it a somewhat thick but creamy white sauce before adding the other ingredients so maybe that is the case.  Will definitely keep this in the &#34;wheelhouse&#34; of recipes!!\n",
      "My husband says this is the best chili he&#39;s ever had.  It is delicious!  This recipe is definatey a keeper.\n",
      "I tried this today. A simple recipe that worked perfectly. Absolutely delicious. Thank you for sharing.\n",
      "So easy....so good!!!\n",
      "I read somewhere that you can use a turkey baster to fill cup cake liners.  No spilling.\n",
      " My son loves these. I have made them many many times in mini loaf pans. \n",
      "To make things easier, I melted the butter before whisking in the sugar, and I made them into bars using a 15x10x1 jelly roll pan, baking for about 18 minutes until lightly browned around the edges.  Let them cool completely before cutting/eating because they probably wouldn&#39;t have held together too well out of the oven.They were absolutely delicious!  The oats were a little crispy, and they were very tasty.  My husband is trying to keep them all for himself.  I usually wouldn&#39;t make a recipe using convenience items like vanilla pudding, but I happened to have some in bulk I needed to use up (1/2 cup= a package).\n",
      "Wonderful recipe! We found out that we do not like Thyme, so my daughter uses Rosemary instead. Such a delicious perfect recipe! She also makes her own pie crust which makes it even better! She makes 1/2 the portions because otherwise it&#39;s too much for just 1 pie unless is a bigger deeper pie dish.\n",
      "Tasty is how my husband described this dish and my picky eater daughter said very good.  I used chicken breasts in this recipe.  Very good and easy.  The sauce was excellent.\n",
      "Loved the receipe. I used plain mushrooms and yellow onion and it was great.\n",
      "Made this for the first time using the frozen sugared sliced strawberries and it seems to have made the jello not set right. Has anyone else had this issue? Should i have have rinsed them off first? I bet it will still be good! I normally use fresh strawberries and have not had this issue\n",
      "This recipe is definitely one of my FAVORITE comfort foods! Always a hit for dinner.\n",
      "Doubled the recipe and added a rotisserie chicken to it and it was wonderful!\n",
      "I’ve made these colorful and delicious Cherry Bars many times over the years since first seeing the recipe in Taste of Home.  Always a popular treat and super easy to make!\n",
      "I would use the potato and carrot water and less flour and milk.  The starch from the water will help to thicken the sauce and add flavor.\n",
      "These bars are winners! I substituted Cool Whip for the whipping cream...still great!\n",
      "Absolutely outstanding! These fajitas are better than the ones at my favorite Mexican restaurant. I made the following modifications: tripled the bell pepper/onion and added a coarsely-chopped tomato during the last few minutes of cooking the chicken. I also used heaping measuring spoons of all the spices. Served with sour cream and guacamole salad, there were no leftovers!\n",
      "My daughter\n",
      "I&#39;ve made a recipe similiar for years (only difference is 1/2 c. veg. oil instead of butter and 4 c.chopped apples and 1 c. chopped walnuts.  I didn&#39;t have sauce, but will try it.  You all should too, as it turns out great!  (apples have alot of liquid, don&#39;t forget).  This was my dad&#39;s favorite fall recipe.\n",
      "I use a creamer pitcher to just pour the batter ito the cupcake liners\n",
      "This was a big hit. I made a few minor changes to fit my families taste without changing the essence of the recipe.  First of all my daughters do not care for green chilies, so I used only one can. I also pureed the green chilies along with the sauteed onions and garlic. My daughters love the flavor of onions but not the texture.  Secondly we adore the flavor of cilantro, I use it as a flavor enhancer in the majority of soups; so in this case I doubled the amount of cilantro. Additionally I added a quarter cup of rice. My oldest doesn&#39;t like chili texture so because of this and the addition of the rice I used a 48 ounce box of broth. This gave it a chowder consistency that my daughter loved. I used precooked roasted chicken so I added a light splash of lemon juice to cut the &#34;greasiness&#34;.  Lastly to make it healthier I swapped evaporated milk for the heavy cream and plain Greek yogurt for the sour cream. All of the flavors of the original recipe is there and with the minor changes it has become a favorite of my oldest daughter.\n",
      "Made exactly as is but used only one cup 1/2 and 1/2.  Absolutely delicious!!\n",
      "Emily, Thank you for adding your comment of using 3 bananas &amp; not adding the oil,  This is great!, less calories. There is added value when  adjustments are made to the recipe.  This helps to cut down on calories or use substitutes. Very much appreciated.\n",
      "Gads! How good is this!  Forgot the sour creme, still awesomeness! I added some roasted garlic powder, and bacon for topping. House smells amazing, and the taste is incredible.  Thank you.\n",
      "<p>I made this for a get together and people declared it the best chili they had ever eaten.  I thought it was good, but slightly bland and needs a little &#34;something&#34; else.</p>\n",
      "Very good. I l doubled the amount of oregano and left out the olives. Nice to be able to make it ahead of time earlier in the day and baking later on for dinner.\n",
      "The recipe says it makes 5 dozen bars.  How does a 15x10 pan make 5 dozen bars???\n",
      "Super good and very easy to make\n",
      "What this cake lacks in a lovely presentation it makes up for in flavor!  It was moist\n",
      "<p>I had prepared this meatloaf when it first was featured in Taste of Home! I did make the following adjustments: I used ITALIAN bread crumbs, 1 onion, chopped, 1/2 tsp. Italian seasoning, 1/4 tsp. pepper, and 1 cup of Barbecue sauce at that time since I didn&#39;t have the ingredients to make regular BBQ sauce!  I&#39;d used a meatloaf pan to bake this meatloaf!</p><p>I would  probably omit the brown sugar in this sauce if I choose to use prepared BBQ sauce and I&#39;d probably omit the Worcestershire sauce since BBQ sauce has all the additions in it already! As I recall, this meatloaf was really good!  Thank you for sharing it with Taste of Home!  delowenstein</p>\n",
      "Made this last night and the kids loved it. My son kept asking for more and normally you have to beg him to just take one more bite. I did make one change in the recipe, my husband does not like his food to be sweet so instead of the brown sugar I added about 1/2- 1 teaspoon of ginger, roughly, I did not measure. And I also made them in the pressure cooker without browning to save on time. Only had to cook them for 15-20 min. at 15 lbs of pressure.\n",
      "My 12 year old son gobbled this up.  I wasn&#39;t a huge fan of the onions, so I&#39;ll make again, but maybe try dried onions next time.  I also only used ketchup on top but were still excellent!!!!!\n",
      "I was really excited to make this soup after reading all the great reviews.  I have to agree with the one review I read that said it was basically Hamburger Helper without noodles.  Actually, I think Hamburger Helper tastes better then this.  The only change I made was to add a some bacon at the end.  My husband and I did not care for this at all.\n",
      "I tweaked it a little, removed onions because of onion haters in my house, used Italian seasoning instead of just oregano, and use a paprika/ cayenne mix and a little more than the recipe called for.. we like everything a bit more hot. The chili was amazing! It was easy to make and everyone absolutely loved it. It will now be a staple meal in our house.\n",
      "I made this for dinner &amp; it was YUMMY. The whole family loved it, especially my 2 year old. I used bacon grease that I already had to saute the onions &amp; carrots but I had run out of bacon so I didn&#39;t have any in the soup. I also didn&#39;t have cheddar cheese so I used colby cheese and I had to use 2 bouillon cubes instead of the granules.\n",
      "I made this for my family for Valentines Day, very yummy, and even better the next day. Even my picky son ate 2 helpings. I&#39;ll use real crabmeat next time though\n",
      "I have made this several times - yummy !  Also freezes well for a quick last minute supper.\n",
      "Frosting  1/2 cup butter recipe stops  WHATS THE REST OF INGREDIENTS?????\n",
      "The best!!! I make my own crust and that is the only change I make.\n",
      "Made this recipe according to the directions and it turned out perfect and delicious.\n",
      "This is a favorite at my house. I have made it many many times for friends family and coworkers. I cannot count how many people have literally begged me for this recipe. I make it several times a year. It is absolutely delicious.\n",
      "These cupcakes were bland.  The frosting too sweet.  They taste more like muffins instead of cupcakes.\n",
      "I have made this same recipe for at least 10 years.  I got it out of my TOH magazine back then.  They are easy to make and taste GREAT!  A batch never lasts long around here!\n",
      "I HAVE MADE THIS FUDGE ABOUT 4 TIMES NOW IN THE LAST MONTH,EVERYBODY WANTS THIS RECIPE,THIS WILL DEFINATELY BE THE DESSERT THAT I MAKE FOR THE FAMILY HOLIDAY DINNERS...THANK YOU SO MUCH FOR THE BEST PEANUT BUTTER FUDGE IN THE WORLD. AND SO EASY TO MAKE. I&#39;M GOING TO MAKE SOME RIGHT NOW. : )\n",
      "Easily one of my new favorites. Thanks!!!\n",
      "We loved the taste!\n",
      "This soup was easy and delicious. Have to double or triple since my husband couldn&#39;t get enough!\n",
      "Delicious!!!  I even used drained petite diced canned tomatoes and it came out great.\n",
      "This is an amazing recipe. You cannot imagine the flavor this combination of ingredients produces. I have served it at a couple get togethers and it is the first thing gone.\n",
      "I love this soup!!!  I cook the tortellini before adding it to the soup at the end.\n",
      "That’s a lot of water. I’m by myself. Does anyone  have suggestions for half that. Seems it wold be very watery. Thanks.\n",
      "I was really surprised that this dish was not runny with using frozen ravioli. This was so easy and delishious. I used mild Italian sausage, its what I had  on hand and a little extra Italian seasoning to our liking. Thank you for sharing, will be making this more often.\n",
      "The enchiladas were good but I was expecting to be wowwed after reading all the reviews and I wasn&#39;t.  Maybe it really makes a difference as to how much of the spices was used.  I put in the minimum amount when it said &#34;1 to 2 tsp or tablespoons&#34;.  Maybe I should have put in the full amount.  I have other enchiladas recipes I like better but I might make this again.  We&#39;ll see how the leftovers taste tomorrow.\n",
      "I dont like corn and peas so I upped the other vegetables and added celery. I also sautéed my chicken with thyme and rosemary, as well as added a tsp of rosemary to the filling. Pies came out amazing! I froze mine first and used them later, following the tips at the bottom.\n",
      "Delicious!  Those of you who substitued oil: did 2 tbs oil replace the 1/4 cup of shortening?\n",
      "Delicious!  I have made it for church potlucks as well as picnics at our cabin.  Everyone wants the recipe!\n",
      "This is my family&#39;s favorite meatloaf recipe. I have been making it for over 15 years. If I try a different recipe, they know it. I believe the sauce is what makes it so good.\n",
      "it&#39;s so delicious , my kids just loved it,,,,,,,,\n",
      "My husband told me this recipe was a keeper and i can&#39;t take the leftovers to work. I am really glad I picked this recipe to try. We loved it!!!\n",
      "These are absolutely perfect! My family are not huge on fall spices, so the amount in the recipe in each are just good enough. Love the texture, the flavor and easy to follow! This recipe is a keeper!!\n",
      "We did not care for the flavor of the lemon pepper, brown sugar combination. I won&#39;t make again.\n",
      "Made this for the first time recently to take to a function.  It was a hit!  I recieved requests for the recipe.  I used an extra 1/2 cup of marshmallows, but other than that, I did not alter the ingredients.  However, if you truly use a pan with an interior measurement of 15 x 10, you will need a couple of extra graham crackers (trim with a knife) to fill the small gap at the bottom of pan.  Fill the pan so the graham crackers don&#39;t shift around during baking. As another reviewer suggested, make sure there is an overhang of foil on the short ends for removal from pan, spray the foil with nonstick spray, and do not overcook the butter/sugar/cinnamon mixture (only a minute after the butter is melted and sugar is incorporated into the butter).  Watch the baking time carefully after the 12 minute mark.  At 12 minutes, mine had browned only at the edges and not in the middle.  Try to get to an overall golden brown without letting the outside edges get too overdone.  I let it cool for about 15 min and then removed it from the pan by holding the 2 ends of the foil.  I let it cool completely and then cut as directed with a sharp knife.  The pizza cutter idea didn&#39;t work well for me.  I will absolutely make this again.\n",
      "Love this recipe so quick easy and yummy. I don’t like my coleslaw sweet or tart so followed the recipe and added tomatoes!\n",
      "Got great reviews from the family on this, was told to double it next time.  I did put a layer of pepperoni on the zucchini crust before the sauce mixture.\n",
      "Very good easy pleasy recipe.  I&#39;m  thinking for the people that the rice didn&#39;t get done the meatballs were probably to big,   Will make this again.\n",
      "I used canned chicken - even faster and easier.  A new family favorite!\n",
      "Excellent recipe!  I think I used a 2 quart dish, so it took longer to bake, but it was a great, sweet-tasting corn dish.\n",
      "Thank you for posting this recipe - it&#39;s simplicity and cost-effectiveness makes it excellentfollowed steps of recipe exactly - doubled ingredients to feed our larger family of 9 (7 kids) - changed meat to 1 lb ground beef and 1 lb ground hot sausage - also changed Spaghetti Sauce to cans of Pastene Kitchen Ready Ground Tomatoes - debated changing cheese to Italian Blend or adding Italian Seasonings but decided against it for 1st time - sometimes it&#39;s simplicity of recipes that make them delicious - don&#39;t want to ruin recipe by overpowering itDid use 4 cup bag of Shredded Mozzarella Cheese, which is more than double - also sprayed pan (to grease it) &amp; underside of foil used to cover pan with Bertolli Extra Light Tasting Olive Oil SprayGreat suggestions by all reviewers :)\n",
      "Was just ok. Won’t make again.\n",
      "I halved the recipe and it was more than enough for  2 people.  I also chose to beat the cream cheese with the liquid before adding as opposed to doing the cubes, and I added both a little sugar and pure real vanilla. However I agree with some other remarks that it was too eggy.  I could taste the egg more than the other ingredients and the texture was very dense.  Instead of 6 eggs (again I halved) next time I would do 4 but keep everything else the same.  Sauce is good but very sweet, a little goes a long way.  I will definitely make it again, just change the eggs to help the texture be more like french toast than an egg casserole.  I&#39;d give it higher stars if it wasn&#39;t for the eggs.\n",
      "I LOVE this recipe. I use 1.5-2 pounds of shredded chicken instead of cubed. Perfect for dipping tortilla chips in as well.\n",
      "Another winning recipe to add to my collecton!  I have family who won&#39;t eat cabbage.  They loved it!  Quick and easy as well as easy on the budget!  Will beaming often.\n",
      "I haven&#39;t made it yet but sounds promising\n",
      "Good go to recipe.... I sometimes use cubes of Salmon fillet instead of chickenand just follow the recipe ...It really works\n",
      "wonderful recipe.  Even those who don&#39;t like rhubarb like this dessert.\n",
      "Just made these for Harvest Day at work. They are very tasty!\n",
      "Love it! Perfect for the Fall!\n",
      "Delicious!  Very moist with a similar texture to pound cake.\n",
      "The only change I made to the recipe was to cut back the cumin to 1/2 tsp.  My husband is not a white chili fan, but he absolutely loved this chili.  It is now on the menu for the night we do soups during the Christmas holiday with the extended family!\n",
      "I added just a few ounces of sarcasm and a pinch of annoyance.....This bread turned out perfectly. Baked for 65 minutes and are you ready...actually FOLLOWED THE RECIPE as written and am reviewing it as it was written.  I guess I&#39;m living on the edge or something. It was moist, delicious, and guess what...perfectly sweetened.  I wondered about the 1.5 cups of sugar but figured that since I was FOLLOWING A RECIPE...I should actually I don&#39;t know...FOLLOW THE RECIPE. I highly recommend trying this and maybe even FOLLOWING THE RECIPE as written to get the best results.\n",
      "could you tell me if you have ever put this in a bundt pan instead of the 13x9  pan?\n",
      "I made this when we had out of town guests stay with us. It was an absolute hit!!\n",
      "This chowder was amazing!  This was my first time making New England Clam Chowder, and this may be the only recipe I ever make.  I was apprehensive to make other recipes because of all the cream and butter that they often call for.  This recipe does not taste &#34;light&#34; at all and is still rich without all the fat.  I made it as an appetizer, but this could easily be a main dish soup.\n",
      "I just finished making this soup. My husband and I give it a thumbs up. Will try it out at work!\n",
      "I made this recipe exactly as recipe said.  I tasted it and it was really really good.  I husband wanted cauliflower soup and this was the best.  Don&#39;t leave out the celery because that really adds a lot of flavor.  I am on a kick of using almond milk because it&#39;s healthier than cream or half and half and it can stay in my fridge for 2 months whereas milk products need to be used.  The almond milk tastes no different.    The only thing I noticed was that it made so little soup.  So my review already said the recipe as stated is very good....BUT I added 2 potatoes, cooked, drained and mashed with a little butter and added to the soup with 2 cups of water and 1 T. soup base and 1 more cup of cheese.......When I go to the work of making a soup, I want more than just a couple meals for the 2 of us.\n",
      "I used 1 lb. of ground beef and American processed cheese slices instead and it worked out great since my family enjoys more beef in their soup.  I have been making this recipe since it came out in the magazine many years ago!  LOVE IT and share it with many people!  It&#39;s always a favorite that is requested at our Lenten Dinners at Church each year.\n",
      "Don&#39;t skip the Velveeta, it makes this dish.  Velveeta has it&#39;s place and this is one of them.  Food snobs will disagree but it is their lose.  Made again and left out the potatoes and added chopped kosher dill pickle. Like this even better without the potatoes.\n",
      "We love this cake.  It has been our family &#34;birthday cake&#34; for as long as I can remember.  Everyone loves it.I use Almond instead of Vanilla.  Usually serve it plain, but sometimes dust it with powdered sugar.I&#39;ve been making this cake since I was old enough to be in the kitchen.  I&#39;m well past retirement age now.\n",
      "Good pie recipe but I really loved the crust. Will use this to make other types of pie instead of the regular graham cracker crust.\n",
      "This is one the best if not the best chocolate cake I&#39;ve ever tasted or made!!!!  I always use a little extra chocolate in all my recipes plus I used pure Mexican vanilla in this recipe.   Thanks for sharing, Sandy!!!\n",
      "i made this recipe for a group of friends, although i did exclude the italian dressing and 1 cup of the salsa, but it was a very big hit. i made one casserole with lean ground beef and one with chicken i shredded, and was suprised to find the chicken went over better! (with all the exact same ingredients) It also cut very well after cooling with the excluded ingredients, not messy or sloppy at all! :)\n",
      "This recipe was a real hit when I made for my family.  It has become a favourite at potlucks as well.\n",
      "I like this recipe but I used shredded chicken leftover from the night before instead of the ground beef.\n",
      "I have made these for 40 years but my recipe doesnt have a glaze and is plenty sweet. They are great for picnics.\n",
      "What more needs be said, this cake was incredible!\n",
      "The whole family loved this. Great for those cold winter days.\n",
      "I am always looking for a great banana bread recipe and I have found it.  This was delicious and very moist.  I used 3 bananas, added chocolate chips, and used milk and vinegar instead of the buttermilk.  Will definitely be making this one again.\n",
      "i cant take these to any event without someone asking me for the recipe.\n",
      "I would bake it a touch longer because I prefer the apples softer but the taste was terrific and I like the oatmeal in the crust.  It reminds me of a pie and apple crisp rolled into one!!!\n",
      "Absolutely the best banana bars ever!!  These were a huge hit with my family!\n",
      "This deserves 10 stars!!!!\n",
      "Family loves this.  I use tomatoes with green chilies to give it some kick.\n",
      "My kids and I loved this!  Husband doesn&#39;t eat sweets so more for us!  Winner.  I saw some of the comments about the jello being too runny- I used fresh strawberries macerated in sugar.  I poured them into the jello and let the jello strawberry mixture set for over an hour in the fridge -  I then poured it over the cream cheese mixture.  It was still pretty runny but set up really nice in the fridge.\n",
      "Why do reviewers always feel the need to tell the story of how many changes to the recipe they made? Just review the original recipe. If you want to describe your custom recipe, get your own blog! Anyway, great chowder 5 stars.\n",
      "This is a family favorite!  It is versatile and is a good basic recipe which allows for changing up the vegetables or even meats used.  The sauce/gravy is delicious and not too heavy - easy to prepare so no need to use canned soups.  It is true comfort food and we enjoy it year around!  I would like to say that the second pie makes it to the freezer, but it often doesn&#39;t!\n",
      "Very tasty with a few tweaks. Used 1/2 c. water, added 1.5 tsp dry Italian seasoning, used regular noodles (not the no-boil kind), used 7 cups Italian 5 Cheese Blend instead of the individual mozzarella and parmesan. Was a little salty but otherwise was AWESOME!!!\n",
      "This is the best white chili. I double the recipe so we can enjoy leftovers. Thank you for a real keeper.\n",
      "We made this for a picnic, and it&#39;s delicious! We did leave out the nuts due to a friend with allergies, and after tasting it before the nuts and brown sugar, finding it sweet enough, thats how we left it.\n",
      "I made a few loaves without ketchup for my picky little eaters...  we loved it!  Thanks for the recipe TOH!\n",
      "So delicious! My family loves this and it&#39;s so easy to make.\n",
      "Fabulous recipe! Great use of cauliflower, tasty and hearty soup. I used a little less butter, more cauliflower and carrots than called for. I also used a can of condensed milk instead of fresh  and hit it with the immersion blender. I will definitely make again!\n",
      "My husband and I loved this! I have to say I went through my cabinets and used random cans of  tomatoes and sauce. One can of tomatoes was garlic, the other was with onions and green peppers. One of my tomato sauces was Italian and the other was plain. I also did the Minute rice in the last 10 or 15 minutes. Mine turned out more like stuffed peppers without taking all of the time of boiling and baking. I will definitely make this again! Thank you!\n",
      "I made this last week and it was very good.  The sour cream adds richness to the dish.  I added salt and pepper to taste and used white cheddar cheese (I&#39;m allergic to Annatto, the food dye used to color many yellow cheeses and other foods).  My husband loved this dish, so I will be making it again.\n",
      "I am not a big pot roast fan, but my dad made this and gave me some and me and my husband loved it.  It is now a staple in our house.  Plus I LOVE how simple it is.\n",
      "I&#39;ve been making this recipe for the past year, it&#39;s absolutely delicious.  I usually freeze one of the two, which I love.  It&#39;s great knowing you have a meal ready in the freezer if needed.  This meal is perfect for the colder seasons.  I also appreciate that it&#39;s a recipe that you can throw in whatever veggies you have on hand.  I love celery, so I&#39;ll saute celery with the onions and if I have green beans or anything else, I can make additions or adjustments with the veggie amounts.\n",
      "Love the salty and sweet together.\n",
      "I made this soup the other night for supper &amp; it was a big hit!  Quick &amp; easy to make &amp; full of flavor!  Will make it very often.  Didn&#39;t change a thing.\n",
      "This salad was just okay.  I wouldn&#39;t make it again.\n",
      "I made this for a girls/cousins get together yesterday. There was also chili, some spicy chicken taco soup and some corn chowder....this was the biggest hit\n",
      "Super salad.  Wondered what I was going to do with the case of Kraft macaroni and cheese I bought from Costco because it had been “wonderful”  when I was seven along with Spagetti O’s.  I obviously didn’t grow up in a household where mom liked to cook.  Anyway, the Kraft noodles were just the right size. I  Like sweet dressings so Bottled poppyseed or the recipe from Joan’s Broccoli Madness go great.  The packages of three color coleslaw make this super quick.\n",
      "Made this dessert for a potluck my husband and I attended and everyone absolutely loved it. I will definitely make it again!\n",
      "I absolutely loved this! i made it for my family and although it took a while, it was worth it! I used a rotisserie chicken from Albertsons and just used the chicken breasts. Instead of canned or fresh chicken stock i used Chicken Bouillon.  I also used a bottom and top biscuit crust . (Biscuit Crust Recipe:   http://www.food.com/recipe/chicken-pot-pie-with-biscuit-crust-26846)  To keep the crust from getting soggy i baked the bottom crust for about 15 minutes before adding the filling. It only needed to bake for 30-35 minutes.\n",
      "I tried this using less sugar and more apples. Different than any recipe I&#39;ve used in the past.Turned out fabulous. This is the only way I will ever make it from now on. I&#39;m sure other types of fruit would be good, also! Thanks so much. 10*&#39;s here!\n",
      "I have made this dish a few times and will be making it again this weekend.  I also have had requests for the recipe.\n",
      "This a wonderful dish and very flavorful.\n",
      "I love them! They are absolutely delicious. My grandma just got out of surgery and she loves these treats. It is all my families favorite ingredients.  I love how they made the pattern with chocolate and peanut butter, making it taste even better!\n",
      "This disappeared at our family Christmas Dinner.  Easy to make (I cheated and used Whipped Cream Cheese frosting though) and very tasty.  They don&#39;t puff up a lot, so fill the cups full - the cake is fairly heavy, but a good consistency.  I will definitely be making these again!\n",
      "Great salad!  I too added some cheddar cheese to it and I absolutely adore the addition of bacon.  My husband is not a fan of macaroni salad but he love this one.\n",
      "Looks great. Suggestion - how about showing the directions using the Instant Pot?\n",
      "Easy, tasty and low calorie. I tried it with almond milk instead of milk and there wasn&#39;t much difference in taste. IT was still very good.\n",
      "This recipe was given to me by my neighbor. I thought I would make it today and it turned out horrible.  OMG, it was terrible. The bread did not rise at all. I&#39;m not sure why this happened ? I&#39;m not sure why everyone has given this bread recipe five stars?  If I could I would give it zero.  I have made bread before and it always turned out great. I followed the directions to the tee.  I am thinking I should have used bread flour instead of all-purpose flour.  I am very disappointed I&#39;m planning on throwing this recipe in the garbage.  I plan on making bread from the youtube channel (Jenny Can Cook.) Now,  JENNY can make delicious bread and it turns out good every time.\n",
      "These were really good, simple and fast.  I served them with my new favorite rice; Viggo Mexican Rice.\n",
      "Yummy - very easy and oh so good!!!\n",
      "I served this recipe at a dinner and I had many compliments and requests for the recipe.  The recipe makes alot of salad and is great for potlucks\n",
      "This recipe really surprised me! It was so easy and the results are amazing, far beyond my expectations! It tasted like fresh, delicious store bought (soft warm) Italian bread...this is going to be a new favorite recipe of mine for sure! My husband loved it!!!! Incredibly delicious. The proofing takes some time, but all the steps were very easy to follow. Thank you so much!!! I love it!!!!\n",
      "YUMMY!!    I didn&#39;t have celery salt, so I used celery seed also.    The mix of mayo &amp; sour cream did it,  Perfect!!\n",
      "We loved this soup!  I made only 1/2 of the recipe to make sure that it would be one that I truly like.  Like others, I added the white rice to each bowl first, then topped it with the soup and mixed it in.  I wanted to avoid the common complaint that the rice expanded and got gummy as it sat in the refrigerator.  The only change I would make is add more green pepper and reduce the amount of fluid.  I cooked this on the stove for a couple of hours, adding fluid as needed.  I used beef broth and a bit of water, and only 1 beef bouillon cube.\n",
      "This recipe was WAY too sweet for my taste. I used a granny smith, a Johnathon &amp; a McIntosh apple.\n",
      "I was just wondering what would happen as another lady thought it was too much. I am going to try this recepie anyway.\n",
      "This is a HIT.   I double for a 9x13 pan, and used whipped real whipping cream with no sugar instead of coolwhip.\n",
      "Very good recipe.easy to make.\n",
      "I like this recipe because it’s easy to keep up with and isn’t written in a convoluted story format and the website doesn’t make you click next page and next page. This website is less clickbait than the other top of google bread recipes. \n",
      "\n",
      "The bread comes out good, if you like a hard crust and soft spongy center. My girlfriend says it’s too salty so I’m trying it with half the recipe recommended amount of salt. I thought the salt was fine but I want her to eat the bread too so, less salt. And I tried it with honey instead of sugar, but it didn’t look like the yeast reacted to the honey the same way as sugar. The yeast kind of climbed on to the honey but wasn’t bubbling, so I put sugar in there with the honey too. I will probably try using more yeast and seeing if that makes the bread more fluffy too next time. \n",
      "\n",
      "This recipe is a good baseline to go off of and you’ll probably want to make adjustments to your taste.\n",
      "My son loves this pancake recipe.  No more premade pancake mixes.\n",
      "This pie looks absolutely delicious and I will be making it for my family.  I know they will love it.\n",
      "My five kids absolutely loved this twist on potato soup!\n",
      "This recipe is very simple and tastes great.  I add a can of Rotel and use one can of chilies.  Delicious!\n",
      "I made these Frosted Banana Bars for the umpteenth time recently and it&#39;s ALWAYS a winner.  Easy to make with ingredients on hand, quantity fit for a king, and flavor to beat the band.  This TOH Volunteer Field Editor is ecstatic with this recipe and the outcome.  This is a no  fail, from scratch recipe.  I&#39;ll be making this for as long as bananas roam the earth.  You will love it, too.  It&#39;s also great to freeze baked or even just the batter.  I double my recipes often and save some for another time when I need something in a pinch.Bake this and be the star of your show.  I think a chocolate icing would be marvelous on top, too, wouldn&#39;t you?  My international friends who don&#39;t like sweet things would likely prefer a dusting of powdered sugar.Thanks, Michelle.\n",
      "Delicious recipe. I plan to keep this recipe on hand to make again. My family loved it.\n",
      "<p>I made this cake with lemon cake mix, and it was yummy!  Everyone loved it!</p>\n",
      "I made this for my kids this morning and they both gave me 2 thumbs up!! Easy and delicious.\n",
      "Amazing! Definitely the best I&#39;ve ever made! I used wheat flour, olive oil, 1/2 teaspoon cinnamon and 1/4 teaspoon nutmeg. Enjoy :)\n",
      "I make this with ground beef instead of turkey and it is hearty and comforting.\n",
      "So easy and flavorful, will be a new regular recipe in my house\n",
      "Very good.  My first attempt using fresh peaches.  Found it a little difficult slicing the peaches off the pit.\n",
      "Not ony did I use ground turkey... I also used chile beans instead of black beans as my husband does not like black beans... delicous!!!!\n",
      "Seriously easy, super tasty, and the perfect way to use up close-to-date milk. I’ve used whole and 2% with perfect success. Our kids are wild about this cake...especially when paired with a warm caramel sauce. This one is a keeper!\n",
      "Easy, simple recipe. Moist and delicious. I used 1/2 cup less sugar...perfect sweetness.\n",
      "The sauce I knew would be too sweet for our taste. I didn&#39;t use any of the brown sugar, and instead used less milk and a little ketchup in the meat mixture, and of course on top.  I also used more spice, garlic powder, marjoram and a lot of pepper as is our preference. Almost carmelizing the onions is something I&#39;ve always done, it adds a lot more flavor to the meatloaf. I&#39;ve never measured the crackers, I just crumble until it looks right :-)  This recipe, with my modifications, is how my mom made meatloaf, minus the onions.\n",
      "AMAZING...This was soo sinfully good..I made if from my hubby for Valentines day we are hooked!!!\n",
      "Loved this chili! Made a few alterations taking a cue from other reviews, added a can of navy beans, chopped crimini mushrooms, a jalepeno and a bit extra cayenne pepper. Will make again, great recipe!\n",
      "OMG! Made for a bar-b-que.... ALL I HAVETO SAY IS EVERYONE WAS ASKING 4 THE RECIPE. THEY LASTED A WHOLE HR ON TABLE... FRIENDS WANTED MORE LOL I MADE 3 BATCHES FOR 30 PEOPLE ..\n",
      "I have to say I was a little concerned because of all the flour and corn starch, but it was absolutely delicious!\n",
      "Good flavor!\n",
      "My whole family loved this recipe. The chicken was so tender. A very easy recipe to make. It is definitely a keeper.\n",
      "I love shrimp scampi and I am a critic when it comes to good tasting food!  This recipe is Awesome!  Easy and flavorful. The family love it. This will be my &#39;Go to recipe&#39; for shrimp scampi. I highly recommend it!!\n",
      "Took this cake to a church pot luck. It was a winner!!Idaho-karen\n",
      "Great recipe! Susan, I wanted to say that the 0.3 is correct. The sugar-free Jell-O 0.3 ounces and regular Jell-O is 3.0. You must’ve use the regular.\n",
      "This bread is wonderful.  I wanted to try it out so I only made 1/2 recipe.   Just a note, the full recipe calls for 2 cups of sugar.  I halved the recipe and used about 1/2 cup of sugar.  It is plenty sweet.   Next time I will make two loaves.  Thanks for the great recipe.\n",
      "Best white chili recipe I&#39;ve had! I served it up with Fritos, sharp cheddar, sour cream, and chopped green onions. Delish!\n",
      "We use to call this Banana Split Cake. I use banana pudding in place of the vanilla in this recipe. Then after placing cherries in center of each serving piece I would top with a light chocolate ice topping thru a squeeze bottle. These cake is always a hit!\n",
      "I have prepared this recipe for our church dinners (60 -125 people) its always well liked, requested often and we never have leftovers!  It&#39;s also a family favorite.  Note:  I use 2 lbs of ground beef and ground chuck mix.  And I always double the ketchup &#39;sauce&#39; .  \n",
      "This chili has really good flavor.  It&#39;s a little soupy.  I ended up having to strain out some of the broth and mash all the stuff together, though not to a pulp...  I added tomatillos diced up in it.  I used a poblano pepper instead of a jalapeno which is an idea if you want a mellow spiciness rather than a sharp spiciness.  So other than it being soupy, pretty awesome.\n",
      "This was very good!! I made it the day before and kept in fridge, eating the cake chilled may have made it better. I did double the icing recipe and made 3 layers of cake, I will definitely make this again for an event! Better than store bought bday cake.\n",
      "This chili is off the charts good!  Everyone in my family raved about it.  I did use fresh minced garlic and added more chicken and beans for a bigger crowd.  This is definitely going in my favorite recipes box.\n",
      "Have made this one several times.  Never any left.  I only marinated for about three hours.  Flavor was great.\n",
      "IF YOU HAVE A SERIOUS SWEET TOOTH:\n",
      "I didn’t enjoy the horseradish flavor. Just a personal preference, but next time I’ll use mayo instead. I doubled the sauce &amp; used a pkg of 8 sweet rolls. I had to put 2 of them in a pan all by themselves, which turned out to be a happy accident because it left more space around them for the sauce to caramelize so when you cut to separate them, more of the thin, crispy-chewy sauce stuck around the edges. So you got more of the savory-sweet chewy toffee for each sandwich. Next time I make them, I’ll bake fewer in each pan so this will happen to all of them.\n",
      "I have Celiac so finding cream soups that don&#39;t contain flour is next to impossible. I used cornstarch instead of flour and I will never buy any other mushroom soup. This can be used for anything and I absolutely love it.\n",
      "<p>I didn&#39;t have Italian dressing so I used the Red Wine Vinaigrette that I had. Put a whole pack to taco seasoning. Substituted the black beans with corn. Hubby don&#39;t like sour cream so I added it to mine at the end. Very good. Will definitely make it again.</p>\n",
      "Love this recipe! However, I usually only cook for my husband and I, and neither one of us are a huge fan of the chunks of tomatoes. To accommodate this, I use a can of tomato juice and tomato sauce. Also, we add chicken broth for extra flavor. Really gives it a warm and comforting taste!\n",
      "I added Rotel to the meat to add a little heat. yummy!\n",
      "The taste was good, but I had trouble getting them completely cooked. I baked for 45 minutes until the top was golden brown. When I went to cut them, the lower crust was not cooked the whole way through. I had to put them back in the oven for 10-15 minutes more. Next time I will try baking the bottom crust for maybe 15 minutes before putting the cherries on, similar to how lemon squares are baked.\n",
      "I made four Taste of Home pancake recipes recently, and I like this one the best.  When I make them next time, I&#39;ll probably add some more buttermilk.  Otherwise, they were great, hearty pancakes.  You would never know there is wheat flour in them.\n",
      "I have been making these bars since the recipe first was posted. They are a hit with my family, co-workers, and friends. THis is always the first choice n my home now with over rip bananas. Thanks for the great share.\n",
      "This is a easy and delicious soup my family asks for it all the time, it’s great for a cold New England day!!!\n",
      "just made this cake for breakfast this morning to have with hot chocolate and it was delicious! Will definitely be making this again!\n",
      "Turned out great :-)\n",
      "LOVE LOVE LOVE!  I cut the sugar back to 1 cup and the confectioners sugar to 3 cups - turned out delicious.  Next time I&#39;d cut the sugar in the frosting in half - that would be sweet enough.  This one&#39;s a keeper.\n",
      "These are so good and a great additon to any get together.  My family doesn&#39;t care for horseradish sauce, so I usually make them without that ingredient.  But whenever I make these, there are never any leftovers.\n",
      "I made this soup recently for a family gathering and everybody loved it! I received lots of compliments and recipe requests! I doubled the recipe and used lean hamburger, Velveeta made with 2% milk, 2% milk and light sour cream- very tasty.\n",
      "For a Meat Free ... Spice to taste .. Omit the Meat .. Subsitute the Meat and or Broth as You would With Your Favorite ... WAH LA :)\n",
      "so easy and so delicious!\n",
      "Made this for a Bible Study Brunch and was a huge success.  The potatoes are a welcomed change from bread and the cottage cheese makes it oh so creamy.  Wouldn&#39;t change a thing and will definately make again.\n",
      "My family loves cauliflower and this soup is a real treat on cold winter days.  They can&#39;t seem to get enough of it.\n",
      "I&#39;d never made fudge before and was scared. This is the best fudge I&#39;ve ever eaten. Made it many times last fall/winter and getting ready to make it again for the 2nd time in two weeks. Thank you so much.\n",
      "I think I will use a reduced sodium Velveeta next time I make this soup.  I have an older version of this recipe that does not include potatoes, parsley nor flour, but 2 cups of cooked rice instead. Even though the rice was ok, I will make this recipe again, but instead of the rice, I&#39;ll use the potatoes. I&#39;m looking forward to posting about this version!  \n",
      "This was amazing. Simple, cheap...My husband was away on business, but he loves thighs so I can&#39;t wait to make this for him. This tasted just like my favorite fast food Chinese restaurant.\n",
      "This is the best peanut butter fudge I&#39;ve ever had! I have been making it for several years now since my 14 year-old was in the 3rd grade. His teacher at the time still talks about how great it is and she now makes it for all her co-workers at Christmas. I am getting ready to make it right now! For those who have had problems with it setting up, the only time that ever happened to me was the first time I made it-I didn&#39;t cook it for the full 3 minutes. Make sure you time it or it will not set up. Don&#39;t give up, though, just try it again and it will be perfect!!\n",
      "My husband loves these hearty meatballs!  One time, I accidently doubled the Worcestershire sauce and it made them taste even better!\n",
      "This is one of ours family favorite recipe\n",
      "I have a question. For whatever reasons, I can no longer tolerate cooked bell peppers. Raw are fine, cooked make me very sick--it&#39;s not pretty. There are so many recipes I make that are enhanced by bell peppers....anyone know of anything that makes a decent substitute and adds flavor to the recipe? Some things (like fajitas) I can keep things separated as I make them but others have to be all mixed together so cannot do. All suggestions very much appreciated.\n",
      "Yummmmmy!  I used 6 large apples which was significantly more than 4 cups.  And put only 3/4 cup of granulated sugar in the saucey part.\n",
      "These were insanely good.  Made a batch and took them on our summer camping trip to the lake.  Passed the container around and it came back empty.  Thanks for sharing this recipe.\n",
      "I&#39;ve already made these 3 times.  Took them to a family get together and they were a hit!!  Really good and moist.\n",
      "Very good.\n",
      "I have made this recipe for family birthday parties since my first issue of Taste of Home and it turns out everytime--moist--chocolately and rave reviews!! I always use 8 in. layer pans and make a half dozen cupcakes for later. I noticed that today when I went to make it for my best girlfriend&#39;s birthday lunch tomorrow, that I couldn&#39;t find my recipe due to my kitchen under renovation--when I went on the TOH website the cake didn&#39;t turn up--so FINALLY at 3:30 pm found it in a box--and made it---turned out perfect! Once more!!!\n",
      "What a great recipe. The cupcakes were moist and the icing was delicious.\n",
      "I have made this recipe numerous times over the years and it is a decadent family favorite. Making again today!!\n",
      "Love this meatloaf recipe.  Been making it for years now.  Thanks for sharing the recipe!\n",
      "i have already made this 7 times everyone enjoys this very much\n",
      "Still needs more flavor.  This will probably be better tomorrow.  It takes a very long time to make though, so I&#39;m not sure if I&#39;ll make this again.  I think it&#39;s a great base recipe for sure.  I wanted to rate this as is and not make any changes.\n",
      "Good one\n",
      "This is THE best white chili I have ever made.  My guys at work request this all the time during the winter.\n",
      "This soup is amazing. I used half and half instead of milk, omitted the sour cream and the celery. It was perfect and I am making it again this minute!\n",
      "have made often. have frozen, but kept shrimp separate and only added before serving.\n",
      "I JUST HAD A QUESTION, BUT HAD TO ADD A STAR TO ASK IT SO I GAVE IT 1 STAR. DO YOU THINK THIS WOULD BE A GOOD BASE FOR  TRES LECHES CAKE?\n",
      "This got my husbands 2 thumbs up...had it today for lunch.  I did add 1tsp each, basil, oregano and garlic powder to sauce along with fresh mushrooms on top. Definitely a keeper!\n",
      "I used a vegetarian meat substitute (Morningstar Farms Crumbles) instead of ground beef.  I also used 4 cans of vegetable broth instead of the water and bouillon. I did make it with 2 cups of cooked brown rice in the pot the entire time and it was fine. Great recipe! My family loved it!\n",
      "I made this right after I got the recipe and my family loved it. I will definitely make it again. LF from WA.\n",
      "Almost Perfect recipe.. I made once the eggs ran. second time I used one egg white, half the amount of sugar and one more tablespoon of flour and ohh were they so perfect we gobbled them up immediately. Thanks for the recipe!\n",
      "It was delicious! We added 1tbsp of Worcestershire sauce and 1 tbsp of garlic powder.\n",
      "Totally decadent!! Made it for my in-laws and they proclaimed it to be &#34;restaurant quality&#34;. I didn&#39;t change a thing and thought it was pretty easy. I may do a water bath next time to prevent cracks (or allow myself more time, it had to be put in the fridge overnight without fully cooling outside of the oven first). It was wonderful, thank you for sharing it.\n",
      "Very tasty!  I made this to accompany a large batch of chili for casual gathering.  They gobbled it up and asked for the recipe.  I served it with honey on the side...yum!  I think it was enjoyed so much because it is a bit different than the typical corn bread.  I did decrease the sugar to 2/3 cup as suggested by others, but that was the only recipe change.\n",
      "I made this for Christmas,   everyone loved it.     Next time,  I will  double the sauce.\n",
      "I used all ground beef instead of part pork sausage...and we loved it.  Seems I&#39;ve been a short order cook around here with picky requests from kids, but my seven and four year old oohed and ahhed over something this amazing.  Made a batch for my in-laws who believed this was the best lasagna they&#39;ve tasted.  Completely worth the effort and extra time to put together.  Will be making this again soon.  Thanks so much for sharing this recipe.\n",
      "This is a great recipe for all ages! The only change I made was to use an 8 oz bottle of mild picante sauce instead of the salsa. (My kids don&#39;t like the &#34;chunks&#34;) I spread a little sauce on the bottom of the pan before placing the tortillas.  This prevented sticking and hardness mentioned by others, and also kept the casserole from being runny. I will definitely make again!\n",
      "My family loves this! I use raspberry jello and frozen sweetened raspberries\n",
      "Excellent! Followed instructions exactly and made 32, finished size 2 1/2 &#34;, not all that big but perfect size. I have one of those old Cushionaire cookie sheets (think that is what they are called) that always makes perfect cookies every time - never burnt.\n",
      "I&#39;ve been making his for years---ever since I found the recipe in a Taste of Home cookbook.  I use 4 cups of frozen hashbrowns to cut the prep time.\n",
      "One bite and my husband said &#39;this is amazing&#39;. I doubled the recipe and had leftovers. I said &#34;I&#39;m going to put the rest in the freezer for another night&#34; and he said NO you&#39;re not, I am eating this tomorrow!&#34;.  I did dice up some tomato and iceburg lettuce and garnish to soup with it when served. The cold lettuce and tomato were awesome with the hot soup. I must give credit to &#34;Diners, Drive Ins, and Dives&#34; for that idea.  We will be having this again. \n",
      "Recipes looks delicious &amp; appreciate the helpful recommendations from other cooks. Although, this has to be the most unattractive photograph of a dish I&#39;ve seen in a long time. &#34;Looks bad, tastes good&#34;.\n",
      "This recipe is delicious! It&#39;s like cornbread and cake in one. I made the exact recipe but in muffin form. We ate them up. Will make again.\n",
      "Best chocolate cake recipe in a long time. Easy to make and a big WOW effect at the table :) I put some sour cherry jam between the layers. Goes great with the sweet chocolate. Thanks for sharing this recipe Sandra, I will make another one for christmas eve :)\n",
      "do you freeze them with or without the frosting?\n",
      "Loved the frosting, I made the cake in a bundt pan and it looked beautiful:)  Moist with good, albeit somewhat mild, flavor.  Easy to make and frost.  Lots of requests for the recipe!\n",
      "I love apple cake and have struggled to find one that I really like and would make again. This is it! It is also versatile. You can add a little less sugar, more or less of your spices, with or without a topping. It is really good with a scoop of ice cream! I found it was a decadent dessert with a praline sauce drizzled over it.\n",
      "I love the filling of this recipe. Instead of the cream cheese frosting, I make a meringue topping.  Delish!\n",
      "This is delicious! This is not a dish we come across often (I live in The Netherlands) but I love it. Like other reviewers I did not change a thing. It is a little spicy and has lots of flavor, I can truly recommend this. Thank you for sharing!\n",
      "This is possible the best apple pie anyone I have ever served it to has eve had after making a few changes.  For deep dish, I doubled the oats, used 1/1 4 cups butter and used alittle more flour for the crust and topping.  I also omitted the water cornstrach method althogether, but added alittle lemon juice to the apples instead. I mixed same amount of tapioca, as cornstarch, into apples(which can be increased along with sugar depending on pan side) along with the sugar and put the vanilla in apples too; decreased the oven temp to 325-335 and baked until apples were done.  I also covered the edges with tin foil from the start. Never stayed on the counter very long. Yum Yum\n",
      "This is so good and EZ to make. I serve it to may grandchildren and they love it and it is good for them\n",
      "Outstanding\n",
      "This Is Not Jambalaya!! This is some kind of sauce served Over Rice!With Real, Actual, Cajun Jambalaya; the Rice is cooked in with all of the other ingredients!! That way the flavor is In the rice Not Sitting On Top Of It!!  I can&#39;t believe the other reviewers liked this recipe!!! They Must have been from up north or someplace where cooking with spice is a Novelty Thing!  Come down south to the Jambalaya Festival in Gonzales, Louisiana one year and you&#39;ll taste REAL JAMBALAYA!!\n",
      "So good!  My husband and I really liked it!  Better than my other white chili recipe!\n",
      "I made this for our family of six last night.  It doubles well, but takes longer than the given times.  All of my children ate it without complaining which is a huge achievement.  Three of them gave it compliments.  I added some petite frozen peas (partially defrosted) at the end of the cooking time to add some more veggies to our meal.  I think that it is a new favorite.\n",
      "The zucchini cupcakes were very moist and flavorful.  I usually see zucchini cake paired with cream cheese frosting, so I thought the caramel frosting was really unique, and delicious!\n",
      "The best meat loaf recipe!  The sauce for the top really makes it special!  I will make it again!\n",
      "Wonderful recipe!  The whole family loved it.\n",
      "This cake is delicious...good for diets and also diabetics.\n",
      "Love this oatmeal cookie, have made it many times but this is the first time  I usedchoc.instant pudding instead of vanilla andloved the results,  very chocolaty also used semi-choc.chips and milk choc.chips. and left out the nuts,they were just delicious.   I was very pleased with the results. thanks\n",
      "A huge favorite in our house!  Just make sure you use good northern beans.  I know that I&#39;ve gotten some canned northern beans that are mushy to begin with.  That doesn&#39;t make for a good chili.\n",
      "Why does the ingredient list say 6  cups of flour, but they only tell you to put 3 into the dough, (plus some extra).  I put in a little extra to make the dough not stick, but that was no where near 6 cups total!  I hope I&#39;m not making this bread all wrong!!  Please fix the directions!\n",
      "Very moist. Light texture. Delicious. Only fault with this recipe is that it was entirely too much frosting. Next time, I will make half as much frosting. Great recipe. Made 27 cupcakes.\n",
      "my whole family loves this cake, I make it for every occassion, diebeties run in my family, this is good but I use a sugar free white cake mix, best I have ever tasted.  It is a family favorite for all time.\n",
      "This was an awesome soup, but I did make a few changes as others did...used beef broth, added a large onion  &amp; a little garlic to meat when browning...Also spiced it up with a palm full of dried basil and a lesser amount of dried rosemary, thyme &amp; marjoram....Tasted just like the stuffed peppers Mom used to make.  Everyone gobbled it up (Also used sweet red and yellow peppers since some have digestion issues with the green)\n",
      "great flavor...cakelike texture...not moist and dense\n",
      "I made this pie, boiled the gelatin, but wound up having tidbits of gelatin, did not mix well with the yogurt, but it does need a tad bit more of lime juice. I like that it was light and airy. Will make again, but try to boil the gelatin longer maybe.\n",
      "Excellent recipe and easy to put together. Like others, I used Italian sausage instead of beef (taste preference), otherwise made as is. Thank you!\n",
      "oh my goodness!!! this came out so good! i did switch out the pepper flakes for cayenne since i didn&#39;t have the flakes. so yummy! unfortunately my kid didn&#39;t like the spinach (eye roll) cant please everyone\n",
      "Very good soup.  I added 1/4 tsp. nutmeg because that&#39;s what I do...to cauliflower soup.  I also used store brand EXTRA sharp Cheddar Cheese.  Told once to always use extra sharp Cheddar ...to get more taste for the buck!\n",
      "Doubled the recipe and made 2 big loaves.  It was really delicious.  I will definately make it again as is and also make it with mini chocolate chips and pecans.  Very moist, great texture, not too oily.\n",
      "This was a huge hit with my family (even my husband who has never been a fan of chicken potpie)!  It took some time to prep, but it was well worth the effort.  I love freezer cooking so having a pie for the freezer was a definite plus! I used deep dish pie crusts and this made 2 very full pies.  Delicious!\n",
      "The only difference I made was that I put the chops in the middle of the potatoes\n",
      "Not a fan of horseradish sauce or swiss cheese.  Pepper Jack cheese gave it the right kick for us.\n",
      "Very tasty, but the original published recipe didn&#39;t call for &#34;red&#34; potatoes, just med. unpeeled potatoes.  I used regular baked potatoes and it worked just fine.\n",
      "I am awful at cooking, yet I found this recipe easy despite my challenges as a chef. Loved the flavor, so did my family. I did use the bacon grease that came out the bacon to sauté the onions then add the rest of the veggies.\n",
      "Absolutely delicious!\n",
      "Yummy yummy! I have adapted to making it in the slow cooker; I also add a few dashed of chili seasoning when cooking the chix and onion in the skillet before adding to the crock pot.\n",
      "This was so yummy....would definately make it again!!!\n",
      "I&#39;ve been making this recipe for years.. Won&#39;t make any other meatloaf but this one.  Plus it&#39;s so easy to put together.  Everyone loves it just the way it is.    Delicious\n",
      "This is the best banana nut bread I&#39;ve ever had! I love it!!!\n",
      "I made this just as it reads. It was great. A lot of work, but really a good soup.\n",
      "I made a half recipe for taste testing and thought it was very good.  I will make it again, but the half recipe only yielded 2 1/2 cups of soup.  I did not see where anyone else questioned the quantity.  I track all the nutritional data in recipes and this makes it difficult to accept the portions and calorie count shown for the recipe.   I double-checked the amount of the ingredients and found I was accurate with that.  Anyone else find it does not make the quantity stated?\n",
      "I added rotel tomatoes and salsa so I think that made it too runny. Good flavor but it was a like a dip instead of a Mexican layered dish.\n",
      "I made this for my family using fresh Zucchini from our garden. I will definitely make it again, especially for my husband.\n",
      "Very good basic slaw dressing without an overpowering flavor of mayo or vinegar.  I left out the celery salt because I didn&#39;t have any.\n",
      "This is my all time favorite\n",
      "Finally my quest for the perfect Mac &amp; Cheese recipe is over. This is exactly what I&#39;ve been looking for !!!\n",
      "The first time I baked this, I forgot to add the boiling water. I thought it would be really dry, but it was still surprisingly delicious! Currently have this recipe in the oven with the boiling water added. This consistency after adding the boiling water worried me. It seemed a little too liquidy than other cake recipes I have made. Is this normal?\n",
      "These are so good, healthy and easy. It is impressive enough for company and comes together quickly so you can plate it for your hungry bellies!\n",
      "Really good, my picky grandkids even liked it. I doubled the recipe and served two families.\n",
      "Homerun! I threw all of this (plus a jalapeno) into my slow cooker 4-5 hours. Perfect soup with jalapeno cheese cornbread with very little clean up!\n",
      "Perfect bread starter. I do add ins black garlic, onion flakes, pepper, powdered onion and garlic. Also used as base for raisin bread. The options are endless.\n",
      "Made this today (half recipe) and loved it.  I used a cup of the frozen hash browns instead of fresh potatoes and that worked fine.   This is a keeper!\n",
      "So good!\n",
      "Light and delicious!\n",
      "A great fall treat!\n",
      "My husband made this Lasagna last night and it was SO delicious and by far the best lasagna we have ever eaten - other recipes don&#39;t even come close!  We have 3 young children who all raved over it and our daughter even brought some to school in her thermos for lunch.  It made plenty for a family of 5 - still have a few pieces left over but they won&#39;t make it till the end of the day!  My husband ate 3 pieces for dinner on his own!  Grab some Italian bread and make this recipe - you&#39;ll be so happy you did!   10 YUMMY STARS!!!!  :)\n",
      "This soup was very easy to make and was a big hit.  Something we call a &#34;keeper&#34;!\n",
      "Absolutely KILLER!  was a huge hit with the family.  I let it marinate overnight and cooked in a grill pan (on the stove).  Will definitely make this again.\n",
      "Easy to make ahead of time and pop them into the oven when needed.  Also, easily modifiable to your personal likes/dislikes.\n",
      "This was so easy and tasted pretty good, although it seemed a little too salty. I too, put potatoes, carrots and some onion on the bottom.\n",
      "This has become a weekly staple in our house for Meatless Monday. Full of flavor and I pair with some saut?ed zucchini and wild rice. Crowd pleaser!\n",
      "This is a favorite soup of my family. I follow it exactly, except I double the amount of ground beef to make it more meaty. Serve with a favorite bread and use to dip in the soup.\n",
      "This was delicious. I like sauteing my onions in the bacon drippings. I added chopped bell pepper and used the cheeses I had on hand (no swiss). It is an easy recipe and is easy to make changes to fit what is in your pantry.\n",
      "Absolutely one of the best, lightest, tastiest white breads I have ever made (and there&#39;s been a few).  Thank you to Steve for the suggestion regarding flour, started out with 6 cups and added as needed/kneaded ended up with the whole 6 3/4 cups.  The only thing I did different was I used a couple of tips I had from various cinnamon roll recipes that work.  The first one being heat liquid for yeast in the microwave, starting with 1 minute then add 10 to 20 more seconds until you reach 110-115 deg f., then add yeast and 1/2 tsp sugar.  While mixing ingredients for dough heat oven to 200 deg f. then turn off and allow to cool slightly, then put the dough in there to raise (door closed). I use a metal bowl and cover with a damp towel.  Left in there for full 2 hrs and when it came time to put into pans I covered them and put back in the oven until it was time to preheat for baking.  I haven&#39;t had an issue with dough rising since I started using this method, as long as yeast is before &#34;best by&#34; date.\n",
      "I made this for two Christmas parties last year, and it was a hit with everyone!  I made the chocolate garnishes into musical notes!  Very impressive when put together, and not difficult at all to make!  A chocolate lovers dream!\n",
      "Loved it, but used sausage instead of gr. meat.\n",
      "I would give this minus stars if I could. Followed the directions exactly.  The crust was mushy and the layers were just way way too sweet.  No one at the table liked it at all.  The only one who cared for it was the trash can which is where it ended up.  What a waste.\n",
      "This has been my go-to recipe for the past 2 years for Apple Crisp. I have been told it is better than the apple crisp at the fairs.  I make mine with Cortland apples and I am sure to use real unsalted butter for the topping - margarine doesn&#39;t do the dish any justice.  I normally double the recipe and use a 13X9X2 pan.  Thank you for such an amazing recipe!\n",
      "This is easy to make and delicious. I pretty much follow the recipe, but am careful with the green chiles. If you use Rotel tomatoes with chilis, you have enough spice as far as I am concerned. Usually the soup becomes spicier as it sits.\n",
      "authentic jambalaya or not it is fantastic!  I had a pound of shrimp and just threw it all in - that&#39;s what my family kept picking out\n",
      "Great recipe, quick, easy and delicious...Added a little more garlic (personal preference)...I will be making it again :)\n",
      "This is a great recipe. I use high end garlic flavored EVOO instead of Canola oil to give it a garlic flavor and I use Caputo Italian Chef&#39;s Flour 00 and the bread is super light and fluffy.\n",
      "Question. I only have 9&#34;x13&#34; cake pans. Does anyone know if this can be baked the same way?\n",
      "To Michele:  The oven temperature is 375°F.\n",
      "This was a quick and easy recipe, and it was deliscious.  We will definitely make this one again.\n",
      "Recipe was good, next time I’ll cut the thyme in half and increase the clams. Over all it was easy to make. It was my first clam chowder and I was super pleased. Looking forward to making this again.\n",
      "Can’t believe for a simple recipe how great this bread tastes. I do use a mixer and dough hook and it turns out fine.  The only time I buy bread now is if I’m lazy and looking for a way out?  So far I haven’t boughten any.  One loaf I freeze for the following week, so it’s only every two weeks I need to bake.  Highly recommend this recipe both for the beginner and seasoned pro.\n",
      "Big hit at work.  Everyone loved them and asked for the recipe.  I added chopped walnuts to the top of the frosting.  I also cut back on the confectionary sugar to 2 1/2 cups.  I used 3 bananas.\n",
      "I made this and took it to a party, and everybody seemed to like it. I have not tried it nor has my family because none of us like mayo, cream cheese or sour cream. I have made a chocolate cream cheese frosting that I was able to eat, but I was unsure of the sour cream in this recipe. Can anybody tell me how noticeable it is? Otherwise the cake looks just delicious.\n",
      "The more gem recipes I&#39;ve located and made on Taste of Home, the less and less I&#39;ve been enticed into going out to eat.  I can&#39;t think of the last time I had fajitas out that could beat this recipe.  There is NOTHING difficult about this recipe and the flavors are huge in this one.  Sometimes, I&#39;ve just used chicken tenders to save time.   But the only change &#39;ve ever made was to double the amount of bell peppers and chopped onions.\n",
      "So easy to make and delicious. Perfect weeknight cooking.\n",
      "Tasty quick meal with lots of options.\n",
      "Wow! This is the best lasagna I&#39;ve ever made! There were actual layers! All my oven lasagnas have been very runny. The flavor was really good!*I forgot Cottage cheese so that was vetoed from the recipe. I only had 3/4 lbs of hamburger meat so, I added about .5 lbs of Jimmie Dean all natural origanl pork sausage, and a small can on sliced black olives.I&#39;m impressed! :)\n",
      "What a great way to use fresh peaches.  My husband and I have been trying recipes we can bake on the grill.  This recipe worked great!\n",
      "I followed the directions exactly and they were AWESOME!  Reminded me of my recipe for nut goodie bars or Snicker&#39;s bars only tastier!\n",
      "This is the bomb, boom boom. Real authentic, real delicious!  No left overs, the plates were scraped... I will be making this my hit dish go to....Fantastically delicious!!!\n",
      "So good! I used 1 pound each of ground beef and turkey and added some sliced cabbage too. Definitely a keeper!\n",
      "The dough was very dry and I had a hard time keeping it together on the cookie sheet.  They were falling apart.  I used Old fashioned oats.  I don&#39;t know if that made a difference, but I have made other oatmeal cookies with those oats  and they were great.  Will not make this recipe again.\n",
      "Does Taste of Home not publish negative reviews?  This cake was a disaster for me today.  I used 9-inch pans and the cake came out over the top and spilled into the oven.   I followed the recipe to the letter, but I think it should have been baked at 350 degrees rather than 325 and perhaps part of the batter should have been used for cupcakes as described if one used the 8-inch pans!  Too much batter for 9-inch pans.\n",
      "Not sure what everyone is raving about. My family didn&#39;t like this at all.. Way to sweet and the instant pudding is just weird.\n",
      "this was the tastiest dish for the fat content i have had in a while.  if you want to know try it!\n",
      "We love these cookies. We didn’t have molasses, so we used all brown sugar and added a little corn syrup for liquid. We doubled the amount of ginger. And rolled them in granular baker’s sugar so they had yummy crunchy sugar on the outside. They’re so good. Everybody LOVES them....especially still slightly warm from the oven.\n",
      "These pancakes are the worst. My siblings and I saw all signs that they were cooked. We took them off, waited for them to cool and they were completely raw in the center. And it took me an hour to make. They said 15 MINUTES. And to top it all off, they weren’t even fluffy. I am severely disappointed and will never try these again.\n",
      "We love this recipe.  Amazing!\n",
      "I love Chicken Noodle  Soup and was anxious to try this recipie.  I should not have added the sour cream.  I could not eat the soup because adding the the sour cream made it sour tasting.  I love sour cream but not in soup.\n",
      "This is now my favorite cake!  It turned out flavorful and moist, and, best of all the calorie-count is reasonable for a dessert.  I added 2 teaspoons of Orange Extract to bump-up the orange flavor.  Bettyann in San Antonio, Texas\n",
      "Excellent soup My family loves it also......my sister tried it and also loves it and now makes it for her family too.Thanks Taste Of Home\n",
      "This is really flippin good... I kno i will make (and be asked to make) it again.Its super crazy sweet tho. I will leave the powdered sugar out altogether in the future. I put about a cup in with the cream cheese only bc i had sugar free pb... Its still borderline too sweet tho.We used the butterfinger bits instead of the reeses too.And a little tip for the oreos... I used an already made oreo pie crust for that. It holds together better to spread the cream chesse on top. I just dumped it in the bottom of the casserole dish i used and sorta smashed it down to cover the whole bottom.Still ridiculously good for 10 mins of work!\n",
      "I made two loaves so i could use the whole can. One i cooked in glass pyrex and Janet is correct mine took 1h20 minutes as well. The second i baked in a metal pan and after 65 minutes it was done. This Pumkin bread remains a very dense and moist cake. We liked the flavor but will not be making this again.\n",
      "I&#39;ve made this twice now and it is always a hit! It has quickly become a family favorite! Perfect for a potluck!\n",
      "Good flavor but mine turned out a little on the dry side.  I think it needs a little milk.\n",
      "This is a very tasty dessert. I have made it for my diabetic sister , and my dieting self! it&#39;s really good, the only thing I did differently was I froze it instead of refridgerating it.\n",
      "Had to use an 8x8 pan and this still came out wonderful!  Was a big hit!\n",
      "I tried the Jamblaya recipe for the first time!!! It was a hit!!! I shared it with 3 other familys. All the men looooved it! Try it.\n",
      "This was easy and tasty! I had hamburger and chorizo already cooked from a previous meal so it came together fast! I did add some chopped onion and beef base for a richer flavor. I will make this again!\n",
      "Excellent! Was looking for another low carb dish when I found this. I sauteed some chopped mushrooms and added them to the sauce, omitted the pepper cause we don&#39;t like it. I used marinara sauce that was low in sugar in place of the tomato sauce. This is very tasty! My hubby suggested next time to use Italian sausage instead of ground beef but I thought it was perfect.\n",
      "Was excellent.  Wouldn&#39;t change a thing! *****\n",
      "This is so good!!! I did 1 pound ground beef, didn&#39;t measure the veggies or seasonings (just did as much as I liked), added more seasonings, left out the salt, and I used process cheese slices-maybe use a little less cheese slices next time. And I didn&#39;t add the sour cream. So yummy!\n",
      "This is delicious, easy to play around with and vary it, I never make it the same way twice.  I always add more cheese than it calls for and put in 3 or 4 minced fresh Serrano peppers. Like others mentioned I usually swap out the flour tortillas for corn. It makes enough for the 2 of us each to have a good hearty serving 2 nights in a row. This is one of those satisfying comfort foods that really fill you up and put you in that wonderful food coma right after eating.\n",
      "Had several people say they liked it.  Next time I&#39;ll bake it a little longer for a crisper bar.\n",
      "The “frosting was awful“, way to sweet; in fact my husband and I had to “eat around it”. I will keep the cake recipe, it’s “very moist”, the frostings got to go.Tamara CarrPinole CA\n",
      "Phenomenal!\n",
      "Wow this was yummy. Such depth of flavor but simple to make. Great with crusty bread.\n",
      "I love this soup!  It&#39;s so cheesy and satisfying.\n",
      "Yummy!\n",
      "I liked it but my husband didn&#39;t so I am only giving it 3 stars.\n",
      "Anyone ever try making this into a casserole?\n",
      "I got this recipe years ago in a taste of home magazine.  I have made it so many times my little recipe card is getting worn out!!  It is incredibly yummy and so easy to make!!\n",
      "After I started making this, I began to wonder why all the work just to put it in a crock pot.  It did taste okay, but I think I will stick with making lasagna and then baking it in the oven.\n",
      "very good\n",
      "Delicious! The 5-spice powder is optional but really does add to the flavor. I found that the sauce simmered down enough that I didn&#39;t need to thicken it with cornstarch.\n",
      "This is wondeerful on a cold day!\n",
      "I have made these several times and as long as I don&#39;t over cook the chicken ;) , it&#39;s delicious. My husband is not as wild about the dish as I am but that&#39;s only because he prefers using chicken breasts rather thighs. I serve the sauce over riced cauliflower rather than rice to save carbs and pair that with steamed broccoli for a healthy meal.\n",
      "Easy to make and tastes great!\n",
      "LOVED THIS PIE. I made half a recipe (more or less) in a 10” pie plate with my favorite crust recipe. I didn’t have thyme so I used poultry seasoning, The corn was canned because that’s what I had, and the carrots were leftover roasted. No peas since hubs really can’t stand them, so I threw in some leftover green beans instead. And I used a combination of skim milk and half&amp;half, because again, it’s what I had. Pandemic baking, as another reviewer noted. But it was creamy and delicious, and next time I will make extra and freeze. Yum!\n",
      "I made this for Christmas brunch along with a savory casserole and it was a huge hit!  I can&#39;t stop thinking about how delicious this french toast was - will make it for New Year&#39;s Day as well!\n",
      "This is by far and away my favorite chicken enchilada recipe. It&#39;s also one of the least fattening that I&#39;ve seen. My husband is always begging me to make this recipe. Since there is only two of us in the home, we eat on this for several days. You can&#39;t go wrong with this recipe! It&#39;s great!\n",
      "Oh, my, this is good!  Nice and moist, with well-balanced banana flavor.  My kids said it rivaled carrot cake - which they love.  The cream cheese frosting rounds out the flavor.  Definitely a keeper recipe - and a great way to use up over-ripe bananas!\n",
      "My daughter has Celiac Disease,  she loves this recipe because she says it tastes like &#39;real&#39; food after having to give up so many flavors.  Thank You!!   We plan on adding different chocolates to it and nuts for variations.\n",
      "Made this tonight! So delicious.....just added some carrots.  Yummy!\n",
      "My family absolutely loves this lasagna. Its quick and easy and satisfies everyone.\n",
      "I’ve made “corn casserole” since discovering a recipe as a young newlywed from a church fundraising cookbook eons ago, and it has been a great stand-by for many years as my kids grew. I eventually quit making it some years back and now my youngest daughter who is now out in her own tries to make it. The problem is that the industry has changed the cornbread mix formula and they just aren’t the same as the ones from back when when this recipe was really popular (which is what prompted me to just stop making it). Corn pudding is a tried and true, it’s today’s mixes that can mess it up.\n",
      "My husband and I loved this Chili recipe!  It was hearty and healthy too.  I used ground turkey in place of the cooked turkey and it was great!  Definitely a keeper!  :)\n",
      "My Savannah, Georgia bred husband says it is the best he has ever had!  That&#39;s a winning vote in my book!!!\n",
      "I am not what you would call a professional cook, so making fajitas for the first time was nerve-wracking. But following this recipe and tweaking it to my liking, they were absolutely amazing! Even my mom enjoyed it, and she absolutely despises onions! They were 10x more delicious and flavourful than any fajita I&#39;ve had at a Mexican restaurant, and a huge improvement compared to our local one.  Personally, I used more lemon juice and a little less cummin. But since i like a little spice, I used a garlic jalapeno and even fresh jalapeno slices to give it an extra zing. Fresh cilantro chopped up really gives it an extra oomph too! I&#39;ve made it twice now and both times it&#39;s came out super delicious!\n",
      "Took about 3 hours from start to finish to make this cake. I made it for a fundraiser bake sale... it looked amazing! Unfortunately, it only made $10 at the bake sale.\n",
      "Very good Recipe!  Very easy to make and was delicious!  Needed more than 6 potatoes for a 13 X 9 pan .  I ended up using 8 or 9 medium size...which and was over 2 lbs.\n",
      "Easy to make, delicious, &amp; popular!\n",
      "Very filling soup. Great for a cold winter night. I used all chicken stock and eliminated the water. Also added chopped celery and carrots. I made mine in the crockpot and let it simmer while at work. Just cooked the tortellini  and added it and the basil  and spinach before serving. It tastes great the next day.\n",
      "Re: Apple CrispMy family really enjoyed this recipe. I will make this one again. pcinant\n",
      "So good!\n",
      "this soup was delicous. even dh who is not really a soup guy loved it.  i did make a couple improvements to the original recipe.  instead of water i used 2 qts beef broth,  i added one small onion diced,  i used seasoned pepper instead of regular pepper, i used left over rice and added it to the bowls before i ladeled the soup over.  garnished with a touch of shredded yellow cheese.  yummy!!!!!!\n",
      "Used both sausage and bacon.  Delicious.\n",
      "FANTASTIC! Quick &amp; easy to make. Delicious cookies!  Followed recipe exactly, except that I used Big Brown Demerara Sugar Crystals for the &#34;additional sugar&#34; to roll them in. It has a nice, &#34;strong&#34; flavor! And, it looks pretty. Dough was just right. Cookies are Soft. Chewy. Delicious.\n",
      "Great sauce.  I browned 4 chicken thighs in a skillet .  Meanwhile I made 1/2 the  sauce in a saucepan, reduced it slightly then added the sauce to the skillet over the chicken.  It continued to reduce while the chicken continued to cook.  I served it all over rice.  It was very tasty and tender.  Quick and easy..   servings 2\n",
      "I used to make this as a teenager because it was so eash to make and always turned out well. My problem was that the batter was so good I would eat a lot of it before it ever hit the oven.\n",
      "Amazing banana bread.  Although I do replace half the white sugar with brown sugar and I omit the nuts and orange glaze.\n",
      "This recipe was easy to make and tasty, however I found it very bland. I was worried when preparing it that it would be, but wasn&#39;t sure if the saltiness of the bacon would be enough, so I didn&#39;t alter the recipe except to make it with 10 eggs. After eating it, I would definitely add salt and pepper, and maybe even some green and red peppers. It has the potential to be a wonderful recipe.\n",
      "I am baking these banana bars now.  I used a 15 x 10 x 1 inch pan as directed.  (jelly roll size).  The  batter is overflowing into  the bottom of my oven.  Did anyone else have that problem?\n",
      "I have made many versions of potato soup, and this one is truly one of the best ever! This will definitely be on my winter soup list to make on a regular basis. I think it would also be great with leftover baked ham instead of bacon!\n",
      "I remember growing up in Hoquiam, Washington and having fresh razor clams when we were allowed to dig for the season. Living in Tennessee now it is not the same but making clam chowder is like being back home. Instead of using bacon in my clam chowder I use smoked jowl to saute my onions in. Next week I will be making this for my daughter&#39;s Tae Kwon Do masters. Since they are from Korea I am trying my best to cook things for their taste and when I mentioned clam chowder Master Park licked his lips and said he can&#39;t wait. I love cooking for them because so far I have not had one complaint from them about my cooking in American, Korean, Chinese and Italian Dishes.\n",
      "Great Recipe!!!\n",
      "Followed the recipe to a T and 8 people devoured this.  Very easy to put together, which I did the day before and baked in the morning.  Not great on the waste line, but a definite keeper!\n",
      "What a delicious cake, entire family and St. Patrick&#39;s Day guests LOVED it!  So pleased!\n",
      "I needed to come up with a quick dinner tonight. A friend posted this recipe on her FB page and it looked delicious. I used chicken breast instead of thighs and heated the marinade to pour over the chicken. I also used it on the chicken as it cooked on my stove top grill pan. It was a big hit! I served it over RiceARoni chicken flavored pasta. It would&#39;ve been better had I had the time to allow it to marinate. This one&#39;s a keeper for sure!\n",
      "AWESOME!!! This recipe is definitely a must for keeping.  I did add more mushrooms and I salted, peppered, and added garlic to the chicken breast before flouring. This would also be great for dinner guests.   Thanks SO mush for sharing!\n",
      "This recipe is AMAZING.  My family can&#39;t eat any other pie after making this.  I can typically get three pies out of this recipe, but only because we like a little less filling.  This is by far my most requested recipe!!\n",
      "I rarely rate recipes -- but this one was SO delicious I needed to!  I followed the directions - and got rave reviews from my co-workers!  I need to make another batch for Christmas!\n",
      "Tastes good, family liked it.  But the dumplings at the Cracker Barrel’s in Texas, Louisiana, Mississippi, Arkansas, Tennessee, Virginia, Georgia , Alabama, Oklahoma, are flat, and not gummy at all.\n",
      "The taste was pretty good, but the texture and final look didn&#39;t at all match the picture. There&#39;s not enough coconut in this recipe relative to the egg whites. It turned into a puddle of mess when baking.\n",
      "It is very easy to make  and refreshing any time\n",
      "I made this exactly as written. Excellent! Very creamy. I try a new mac and cheese recipe each week and I think that this is my favorite so far!\n",
      "I really like the idea of the pumpkin and it does thicken the chili nicely, but I also found the chili to be a little bland.  It really needs a little more salt, chili powder, and a bit of sweetness to bring out the flavors and enhance the pumpkin.  So I added 2 T of Frank&#39;s hot sauce, a bit more chili powder, 1 T of packed dark brown sugar and 2 Splenda packets to sweeten a bit more but not wreck the nutritional value of the recipe!  Chili and the intensity of flavors is a personal preference... I&#39;ve modified the recipe to our family&#39;s preferences!  I will make this again!  Thanks for the great idea!\n",
      "I make this soup quite frequently. It&#39;s one of our favorites!\n",
      "Wonderful chocolate cake.  Worth the effort. My new favorite chocolate cake.  It took my cake layers about 40 minutes to cook until they were done in the middle.\n",
      "Has anyone tried freezing one?\n",
      "This is very similar to the recipe I grew up with.  We waited until the butter and hot milk were added to the batter before putting in the vanilla---vanilla loses some of its&#39; flavor under direct heat like hot milk, so you&#39;ll get a better vanilla flavor if you add it at the end.\n",
      "I made this salad for our church homecoming and it got rave reviews. It is quick to make and has an excellent flavor. I will make this again!\n",
      "Dear Lorri,Thank you for this recipe.  I have made it every Christmas Eve for our family get-together ever since it was first published in Taste of Home magazine.  Everyone loves it.  And I love getting kudos for making it!Debbie B.\n",
      "Very good recipe but not enough spice. Very bland....too many noodles left over and not enough ricotta sauce to fill last layer.... I don’t make lasagna so I followed the recipe exactly as it said....\n",
      "Number one- salt pork not bacon,no flour to thicken,no garlic ,no chicken stock.  Use clam broth and evaporated milk and cream.  And use fresh dill to garnish!  Add clams at the last absolute minute or they will toughen!  I am from Gloucester,MA and we know our chowder!!!\n",
      "I tried this recipe for the first time today. It was the easiest way to make a delicious apple pie. I will never have to buy a apple pie again. I will continue using this recipe. Thank you so much for sharing it.\n",
      "Please is there any substitute for the brewed coffee and can l use the normal cocoa powder\n",
      "recipe sucks there was a lot of liquid in the bottom of the pie even with a lattice top\n",
      "I made this recipe for work and it was a big hit.  Everybody loved it! It did take some time to make, but it was all worth it.\n",
      "I did think the soup was a little on the bland side, so I added some onion powder that that seemed to help.  I also added a bit more flour because I like a thicker soup and I thought this was on the thin side. I do have to say, it was very easy to make.\n",
      "sandy u never fail to amaze me i luv this cake\n",
      "New at this homemade bread thing, enjoying it very much but this recipe has been the best by far, texture was awesome, best that I&#39;ve made, i save this recipe on my phone instead of trying to find it again, and plenty of thumbs up from everyone\n",
      "Yum! Super easy and tasty. I added cinnamon, which wad am excellent choice. I do not own. Stand mixer, but I enjoy the tiny chunks of banana. Very good with a honey butter spread!\n",
      "this is one of my favorite soups now. used fresh tomatoes and spinach from farmers market when making it the first time and it was delicious. Tastes just as good maybe better second day\n",
      "I dislike coffee flavor of any kind.  Could I substitute water?  I know coffee is supposed to enhance the flavor of chocolate, but yuck....I LOVE chocolate but can&#39;t even take mocha.\n",
      "I took this to Bunco and everyone LOVED it! It wasn&#39;t as good the next day or two though. I didn&#39;t add the water chestnuts because I didn&#39;t have any and don&#39;t like them. I also used green onions instead of some of the regular onion. The last time I made it I added a little jalepeno for some spice and that was awesome. I&#39;ll add it every time now.\n",
      "I haven&#39;t tried this recipe yet, I gave it 5 stars, because this is the Chicken and Dumplings I remember as a kid. Not Chicken and Noodles, as so many call Dumplings now. I will be making soon, since we&#39;re in the middle of Winter. Thank you for sharing.\n",
      "Very easy to follow and truly fantastic.   Go easy on the thyme, maybe just bake the chicken with rosemary and thyme and not stick it directly into the roux. and don&#39;t dice the potatoes too small or they kind of turn into a mash when baked.\n",
      "Were easy to make, tasted great...quite moist. Did add some cream cheese to the original frosting.\n",
      "This is now my go-to recipe. I make it for special occasions, and it never fails that someone wants the recipe before they go home.\n",
      "This recipe is wonderful as written.  It&#39;s been on my rotation for months.  I also switch it up using sausage and whatever veggies I have in the freezer.   It&#39;s easy, tasty and satisfyingly filling.  5 stars!\n",
      "loved them..after reading the comments I only covered the mini loaves sparingly with the sauce (only used about 1/3 of the recipe) and they were perfect\n",
      "I tried this and the fajitas were delicious\n",
      "very nice recipe and cake\n",
      "I love this and have been eating it all week.  I am taking it to a chili cook off tomorrow night.  The only thing I would change is to decrease the chicken broth 1/2 to 1 cup.  The consistency with 3 cups made the chili more soupy, I prefer my chili thicker.\n",
      "I have made this Banana bread more times than I can count! It&#39;s the only recipe I use and as my husband is a Diabetic, I make it with 1 cup of Splenda. It is plenty sweet and delicious, besides the walnuts I sometimes add Craisins.\n",
      "do you freeze with the frosting ?\n",
      "So so good!!  We spiced it up by using Italian sausage instead of hamburger and made it thick by using 2 cups uncooked rice instead of cooked rice.  Plenty of liquid in the original recipe to allow the rice to cook up well!!\n",
      "Very tasty and filling.  Great way to use up leftover chicken.  I used evaporated skim milk for the milk which gave it an extra creamy taste without adding any more fat and I used fresh thyme and a heavy sprinkle of poultry seasoning.  I made four deep dish individual pies and I could only eat half of one.\n",
      "The day I made it I wasn&#39;t terribly impressed, but it was better the next day.  It gave the flavors time to &#34;marry&#34;.\n",
      "Best chicken pot pie recipe. Make your own crusts or buy them, but you will get FOUR pies if you follow the recipe, which is even better. Freeze em! Buy the deep dish ones too.\n",
      "This was fantastic! I used one pound of ground beef and one pound of spicy Italian sausage (and added some Italian seasoning &amp; garlic salt to the meat mixture), two jars of Newman’s Marinara sauce and two bags of small round cheese raviolis. For the first layer of cheese, I followed the suggestion of another reviewer and mixed ricotta, an egg, basil, and I added Parmesan and Mozzarella to the mix. I used a 13x9 glass pan, baked it about 50 minutes, then took the foil off and baked it another 10 minutes. We had guests for dinner and everyone loved it.\n",
      "Wonderful recipe! I always use brown sugar in place of white sugar and butter flavored crisco instead of butter in my cookies.. Turned out PERFECT!\n",
      "Excellent recipe. I like to make a double batch and freeze the filling. Then I can make pies later when I&#39;m having a busy week. This one is a keeper.\n",
      "Made this last night pretty much as it says. I used plain yogurt instead of sour cream.Turned out really good. Nice flavour. I will be making this again especially in the summer when you don&#39;t want to turn your oven on but you need a hot meal.\n",
      "Was disappointed in the runniest of this  pie. Had to use several paper towels to sop up runny juices. Did not read reviews  before putting top crust on. Would suggest  Taste of Home  re-write recipe. It for sure needs more flour. On the upside has a good flavor. We used HoneyCrisp, Gala, MacIntosh and some sort of fancy apple. Just disappointed it was runny.\n",
      "This is absolutely DELICIOUS. My family loves when I bake this recipe and I love it too! It&#39;s such a simple and delicious recipe. This is definitely a must have recipe you&#39;ve gotta try.\n",
      "I can&#39;t wait to try this although I won&#39;t use sugar free because my daughter in law doesn&#39;t like the children to eat anything with artificial sweetener . Oh by the way it&#39;s Pig Lickin not Pig Pickin\n",
      "made just as written, added imitation crab, wonderful\n",
      "Made this tonight for dinner. Followed the recipe but added diced ham, baby spinach and a handful of cherry tomatoes from the garden.  Family loved it and it can work for any meal.\n",
      "Just made this.  From the sample taste, it is wonderful!  Rich and creamy.  I used 1.5 cups of heavy cream and i/2 cup half and half.  Subbed basil for the thyme.  Delish!!  Can&#39;t wait for dinner to have a whole serving!!\n",
      "I wish I could save these changes without a review because I really dislike when people change a recipe and still review it. Since TOH doesn&#39;t have the option to make notes, here goes. I made this heart healthy by deleting the bacon and sautéing the onion and carrot in olive oil. After that, I added chicken that I had baked separately and used 2% milk and 2% reduced fat cheese. I followed all of the other directions. My family loved it.\n",
      "i made this cake, and loved it!! thanks for sharing it!\n",
      "I made this delicious loaf today and it is a winner. I made only two minor changes. I substituted sour cream for the buttermilk which I did not have and used pecans. I opted to sprinkle chopped pecans over the loaf just before popping it in the oven. We love this bread and I will be making it many more times. I highly recommend this recipe. Volunteer Field Editor\n",
      "Great!\n",
      "This recipe is delicious exactly as written and with or without the shrimp. In spite of the long list of ingredients it is very easy and quick to get in the slow cooker,  and especially easy when using frozen chopped onions and green peppers.  I wouldn&#39;t change a thing. Received family stamp of approval!\n",
      "very good; I had 1/2 lb sliced mushrooms in my fridge so i sauteed them with the chicken and onions.  Yummy! \n",
      "I made this for our Bible Study adult group and used 1 carton of cheesecake yogart and one vanila, then added 1 tbl. key lime juice.  it was wonderful and everyone loved it.  Shared the receipe with all present.\n",
      "Wonderful, melt in your mouth, buttery flavor with just a hint of lemon.  Seasoning is PERFECT!  Fast to make.  Thawed individually vacuumed wrapped Tilapia in cold water for just a short time to thaw and had this on the table in no time at all.\n",
      "I already reviewed this recipe but I have to rave about it again.  I make this dish often because my family goes nuts over it.  I always make broccoli separately to add to the dishes of those who will eat vegetables and I also pour the sauce into a saucepan and then triple it because they love lots of extra sauce.  This is a fabulous recipe!\n",
      "The recipe list would probably be better suited for a 9x9 pan. With the ingredients on this list, I got a very thin filling layer that took work to spread without pulling up the pretzels after they were baked.\n",
      "We love the flavors together...the sweet and salty. I had to make 1 1/2 crusts in order to completely fill my 9x13 pan. I think it would be better to have a thicker cream cheese filling. It was definitely not as thick as the picture.  Seemed to take quite awhile (at least 2 hours) for the gelatin layer to partially set. Then again, maybe it set too much because it seemed to slide off the cream cheese layer once it was cut. I like the idea of using a 16 oz. container of fresh strawberries instead of the frozen.\n",
      "this recipe came out yeaer ago, when my 21 year old son was in preschool.  He loved these so much he wanted me to make them for his class on his birthday.  Well, needless to say, a bunch preschoolers and the word zucchini did not go over too well. But he was delighted!\n",
      "Hey, this is my recipe!  Found it in a cooking magazine back in the 70s.  An absolute favorite with no substitutions.\n",
      "This by far is the best banana bread I&#39;ve made.  In fact, much less time consuming than ones I&#39;ve used in the past.  I included half a cup of dark semi-sweet chocolate chips, which made a delicious combination with the walnuts.  This one is a keeper!\n",
      "This soup is easy to make and very very tasty as well as filling. We loved it and I would make it again.\n",
      "We had this last night for dessert and it was DELICIOUS!  I followed the recipe exactly.....did cut down on the sugar in the topping to about a third cup of each the brown and white sugars....maybe will reduce them down even more when I make this again..... and put it in an 11 x 7 inch baking dish (it still bubbled over a bit).  I can&#39;t see why one person thought it had too many &#34;flaws&#34; and why some are so spooked by the fact that there&#39;s one and a half cups of water in the topping!  There are many dessert recipes where you use a lot of liquid like this to pour over the main part of the dessert....it combines with the flour and creates that lovely thick sauce that was underneath the cake-like topping and peaches.  Someone even contemplated leaving the topping off....that would be disastrous!  Follow the recipe as it&#39;s written, use nice, juicy ripe peaches, and it makes a terrific cobbler.  Of course, there&#39;s the matter of taste......not everyone agrees completely about how something tastes to them, but there are no flaws in this recipe.  It&#39;s going into my best-loved file of recipes and I&#39;ll be making it many times in the future!\n",
      "I did make them.  Flavor wise they are great but the majority of it stuck to the aluminium foil and they were a mess to take apart.\n",
      "I made these banana bars a few months ago, and they were fantastic. I actually made banana bars a long time ago, but I lost the recipe, and so I was happy to find this one, because they tasted like the ones I used to make. I&#39;m glad my brother was in town to help eat them up!\n",
      "Can&#39;t say I followed the recipe to a T as I had half a lime and didn&#39;t know what to do with it. I followed the recipe as written but used lemon-lime juice and peel. This is a wonderful recipe and will definitely make again!\n",
      "Mouthwatering! I substituted boneless, skinless chicken for bone-in. It is less likely to dry out during grilling. I also grilled rings of fresh pineapple, basting with butter and brown sugar. Served with coconut rice. You&#39;ll want leftovers!\n",
      "This casserole was fantastic! Will try sausage next time! I don&#39;t feel this recipe is 12 servings, as stated, I feel it&#39;s more like 8 or 9!\n",
      "This recipe is fantastic!\n",
      "Very easy and delicious. It was a big hit at our bbq.\n",
      "I tried this recipe a few years ago and it is now a Fall tradition in our home. My family asks me to make it every October. The cinnamon flavor and chunks of apple make it delicious! I serve it with the yummy caramel sauce and homemade whipped cream. This sweet dessert gets 5 stars.\n",
      "We loved this coleslaw! I usually buy the jar coleslaw mixer and I will never buy again! This was easy and yummy! Thank you for sharing!!!!\n",
      "OMG - SO easy and SO delicious!!  This was my first time to make cheesecake - I was scared but it was so simple and tasted fabulous : )  Def will make it again and again\n",
      "oh my.  this turned out just perfect!  I made a half batch, just in case we didn&#39;t care for it, and it was GONE in no time.  I&#39;ve been looking for a simple breakfast recipe to serve Thanksgiving morning and this is it!  I used breakfast sausage in place of the bacon and I skipped the onions on accident - still, it was just perfect.  It&#39;s like a cheesy quiche meets yummy scrambled eggs.  Thanks for sharing!\n",
      "I made this for my husband and son tonight exactly as written with the exception of baking about 10 minutes longer to reach the temp of 170º. Well, almost 170º. My guys loved this, we don&#39;t even have leftovers! They said it was flavorful and moist.\n",
      "I have made this soup several times this winter. My family will empty the pot. It is so easy and simple to make. One thing that I did to save time was to use a 2 pound bag of hashbrowns instead of peeling and chopping the potatoes. I also cooked 6 or 8 strips of baccon, broke it apart and sprinkled the cooked bacon pieces as a garnish.  It was a hit!!\n",
      "This is a good recipe, would absolutely make it again.  I only see a very thin layer of the caramel.  Must not used enough.\n",
      "FABULOUS!!!!\n",
      "Wonderful recipe!!!! I used 8oz light cream cheese instead of the cream. Cuts way down on the fat.\n",
      "Excellent recipe.   I increased oil to half cup because I had no applesauce. Of course it would be healthier with the applesauce!\n",
      "Delicious!  I have made it with only mayo when I haven&#39;t had sour cream in the refrigerator.\n",
      "Great recipe, I always have precooked ground beef ready to go in my freezer, cuts some of the prep time down, definitely adhere to the cooking times so the potatoes stay firm.  \n",
      "I have made this recipe several times, twice for events I catered and also for my family.  Everyone LOVES it.  Its so quick and easy but people thing you really fussed.\n",
      "a favorite of mine and my boyfriend, I add about six strips of bacon chopped and a can of sweet corn. it gives it a smoky summer feel\n",
      "YUMMY!  Because I am such a lazy cook, I didn&#39;t even bother with the cornstarch &amp; cold water business.  I hate to have another pan to wash.  Such a super recipe!~ Theresa\n",
      "I have made this twice now (omitting nuts due to allergies) and my husband says it is one of the best baked goods he has ever had. He loved it. I made it once in a loaf pan. The second time I doubled the recipe and made it in a bundt for a dinner party. It was devoured and I was begged for the recipe. This is going to be made for many years to come!\n",
      "Best lasagna I have ever made.\n",
      "Now if there was just a way to convert to metric---Great Recipe---Thanks.\n",
      "I always make this recipe for Easter Sunday breakfast!  I love it!\n",
      "Delicious and I like how this recipe can be customized to satisfy your own unique tastes. To the meat mixture I added corn, chopped green olives, and a couple teaspoons of lime juice.  Lots of extra cheese on the layers! Top it all off with shredded lettuce, tomatoes, salsa, sour cream, jalapenos, corn chips, avocados. ..to name just a few. To those who commented that the refried beans are too hard to spread: heat the refried beans in the microwave first and the consistency will soften for easier spreading. Make sure you cover the dish before baking so it doesn&#39;t dry out or get too crispy. Enjoy\n",
      "This is so easy and delicious!\n",
      "This is tasty. The recipe sounded good, but I rarely eat pork.  A half pound of cooked, shredded chicken was substituted for the pork. and the serving was topped with some duck sauce. 1 serving was only 2 points (WW). It is tasty and filling.   MelanieM\n",
      "This is the best Banana Bread I&#39;ve ever made! !!  It is so moist and delicious!!!  Made is as the recipe shows.\n",
      "This is an awesome recipe! flavors are right on...I would double the sauce recipe next time I make it, so there is more to put on the rice.  I didn&#39;t have Chinese five-spice, so I looked it up and made my own...\n",
      "I need a lesser quanity,therefore I&#39;ll need to divide the recipe, 3stars.I think I want to try a nippy cheese instead of a Velveeta.\n",
      "So yummy! Even my mom, who swore she&#39;d never like italian sausage, liked this soup.\n",
      "Made this for the second time yesterday. It was very good. Will definitely make it often during zucchini season.\n",
      "This looks awesome and I love some of the reviews.  I too thought about 1/2 C chopped onion and also changed to 1Qt water and 1Qt chicken stock.  makes the juices a little richer.  I love those like me that think to tweak a recipe to maybe make it a little better.  YUM\n",
      "I am allergic to eggs and gluten, I made these with 1/2 the sugar, milk instead of eggs(1/3) cup , and used my all in one gluten free flour also added 1/2  tsp. Of baking powder because more leavening is needed with my flour, they came out perfect and my husband and I enjoyed them.\n",
      "This is one of our regular meals. It&#39;s great as a leftover in a sandwich the next day.\n",
      "My family loved it.  It was refreshing at the end of the meal.\n",
      "Tracy you can also use the following measure:  one cup of diced raw rhubarb equals 0.27 lb. of raw diced rhubarb.\n",
      "Absolutely delicious! I added a cup of raisins and went generous on the blueberries. Also I divided my sugar into half raw/brown and half white/granulated for extra flavour. Made my own glaze by combining 2 tablespoons melted butter, 1/2 cup confectioners sugar, teaspoon vanilla essence and 2 tablespoons freshly squeezed lemon juice. Made the bread extremely moist and tangy! Loved this and enjoyed cooking it too. If I remembered I would have added some vanilla essence into the bread mix too! But works fine without it too.\n",
      "Nothing really wrong with it just not something that we loved....\n",
      "This is very good and is always a staple at our Thanksgiving table.  Everyone loves it, but I do add strips of green, yellow, and red bell peppers for color and taste, as  well as diced onions.  My recipe was nearly identical from an insert in our electric bill, but called for two cans of whole kernel, and two cans of cream style, plus 1/2 cup Flour rather than the cornbread mix.  Delicious nevertheless.\n",
      "I work at a cafe that makes fresh pastries and desserts and when looking for recipes I settle for absolutely nothing less than the best. I have a very high standard and I was skeptical. But these were wonderful cookies and I admit that I ate them for dinner and then for breakfast the next day. I couldn&#39;t keep my paws off of them! They are not big like the recipe says but pressing down on them before baking does help a lot. These will definitely be going in my lineup at the cafe!\n",
      "Super easy recipe and great for getting kids in the kitchen!  We added a little onion and garlic to the ground beef mixture and some crushed tomatoes to make a little extra sauce.  Love how the ravioli goes into the casserole frozen and bakes up beautifully.  My grandson loves to cook and made this recipe under my supervision.  Everyone loved it and we&#39;ll definitely make it again.  Perfect for weeknights!\n",
      "This really is the best banana bread I have made.  It is delicious and easy to make.  I&#39;m getting rid of all of my old banana bread recipes.  Thanks.  I tried to give this 5 stars but it didn&#39;t happen.\n",
      "<p>I really enjoyed this   :o)   It was quite sweet but that&#39;s what I liked about it !</p>\n",
      "Yummy.....I  am a single senior lady so I cut it in half.  then I froze the rest for 2 more meals.  I also substituted White cheddar and Mozarella instead of Velveta.\n",
      "Just once I&#39;d like to see one of these recipes serve fewer than an army. Maybe have one that serves two or three once and awhile.\n",
      "This was awesome!  We don&#39;t really like Swiss cheese, so I substituted mozzarella though. :)\n",
      "This was easy to make while on vacation.  Didn&#39;t take any pantry ingredients, which was great since we stayed in a place that had nothing but the pans provided.  It was enjoyed by everyone.\n",
      "Just made and it is yummy. The brown sugar must be one of ingredients that makes it so tasty.\n",
      "This was delicious!  It makes for a great meal that is quick and easy to make.  I did up some peppers and onions to go with it.\n",
      "Great recipe, wonderful comforting taste.  In  a couple of the comments that I read it was said that this was more like a stroganoff than a soup.  The solution is just use less noodles, I only used 4 cups.\n",
      "Have done this recipe twice and both times it was a BIG hit! I did this for a small group, about 30, young adults working our church &#39;Sports Camp&#39; and they loved it. I did it again for the O.W.L.S. (Older Wiser Loving Saints) at church and many asked for the recipe. I couldn&#39;t find the Chinese five spice powder so we didn&#39;t use it but it had a great taste. Thank you for these wonderful recipes.\n",
      "This recipe was great, but I got so frustrated when the chocolate kept cracking while I was cutting it.  Does anyone have a solution to this problem?  Thanks!\n",
      "AWESOME!!!! Don&#39;t even bother trying to find a banana bread recipe better than this one! Won&#39;t happen. This is even better than mom&#39;s! (Don&#39;t tell her THAT though!)\n",
      "Good one\n",
      "My son LOVED these banana bars and has been asking me to make them again!  My husband thought there was too much frosting and scraped most of it off.  Next time, I will make less frosting or double the recipe and make 2 pans!!\n",
      "It’s a lazy Sunday between Christmas and New Year’s and I’m indulging in my favorite things: reading recipes, cooking, and reading my library book. This soup recipe called out to me as I have all ingredients and it is perfect for this cold day. I deviated just a bit by adding the flour to the vegetables as they were cooking in the butter. I also added a finely chopped stalk of celery because I needed to use it and thought it would enhance the soup. I used evaporated - again because that’s what I had available. I thought the soup needed a little something, so I added a sprinkling of thyme and poultry seasoning. I will make this again and again with this modifications. 5 stars and 2 thumbs up. I’m enjoying a mug of the creamy soup right now as I watch a movie. Lynne, TOH Volunteer Field Editor\n",
      "I have been making this chili for several years now. I make it exactly as written. I sometimes have a little more chicken than one pound as it&#39;s hard to get a package of chicken breast that is 1 lb. I just usually use 3 breasts so sometimes it&#39;s a little more. When making for company I have added one more can of beans. It is delicious! My advice to someone making it for the first time is make it exactly as written and then make any adjustments you want for next time.\n",
      "I just made this today exactly as directed. It turned out perfect and is absolutely delicious. It really filled that 8x4 pan and I was worried it would spill over but it didn&#39;t. I set the timer for 50 minutes and it wasn&#39;t quite done so I left it in for close to 10 minutes longer. This is a keeper. I read after it was in the oven about coating the blueberries with flour but luckily didn&#39;t have problems with then sinking to the bottom.\n",
      "Great recipe!  Half cup sugar is good and plenty, especially if the bananas are ripe and sweet.  I substituted a quarter cup of oats for some of the flour.\n",
      "We really liked this. Great flavor and very tasty.\n",
      "I loved the way this recipe came out. My friend sent it me because she wanted to try a GF recipe, so I figured I&#39;d check it out as well. I substituted Olive Oil for Canola Oil because I didn&#39;t have Canola Oil. Also, I used a half cup of sugar, and added chocolate chips. For this recipe, I made muffins instead of a loaf, and for that I baked the muffins for 30 minutes, which was a perfect amount of time for them. The end result was very moist, and delicious muffins. It made 12 muffins (I filled the cups almost to the top, so they were quite full).. I usually cut the sugar on recipes, especially when they call for one cup (it just seems excessive). I considered using honey as a substitute for the sugar, and may try the recipe again doing just that. I think what helps this recipe stay so moist is adding the apple sauce.TL:DR - Recipe was delicious!\n",
      "My niece is allergic to strawberries so I make this with raspberries, it is DELICIOUS, and I have been asked for the recipe several times! :).  Live this dessert, YUM!\n",
      "I&#39;ve never made mushroom soup before and I&#39;m glad I made this recipe. I absolutly loved it! The only thing I did different is add garlic powder and thyme:-)\n",
      "I just made it for the second time tonight!  It&#39;s amazing and the butterscotch sauce and fresh whipped cream are an amazing combination!!\n",
      "We love cheeseburger soup! The potatoes and cheese make this very good.\n",
      "Mine came out super liquidity and my apples were still crunchy. I have to bake it again. The flavor was okay.\n",
      "Great, but not extraordinary.\n",
      "My husband and I both love this recipe but I leave out the sugar and use Stevia instead (one pack for us). And I disagree with the comment about it not being good for leftovers. We think it&#39;s even better the day after.\n",
      "In place of the 1/2 cup of oil, I used another 1/2 cup of mashed banana. Ate it with a spread of butter on each slice, delish!\n",
      "We loved it!  Quick and light meal.  I read previous reviews so I made sure to buy the Chinese 5 spice without reading the the ingredients in the jar, I could have saved myself buying the spice and just added some cinnamon and more ginger.  I also just used almost a full 16 oz bag of coleslaw mix to save time.  At my local store they had two different kinds of rice noodles, a thin lo mein looking kind and a rounded thin crispy kind.....I used the crispy kind (LaChoy), added some more crunch, we enjoyed it\n",
      "Very tasty and easy to make. I added 3 bay leaves in it after adding the can of cream of chicken soup and simmered it for 20 minutes while my buns cooked.\n",
      "Just made this dish, very tasty ?? I would not change a thing.\n",
      "This got top ratings from my family, particularly my husband.  I didn&#39;t have any spinach so I used red pepper.\n",
      "This is without a doubt the best cream a mushroom soup recipe I have ever had! I don&#39;t know if it&#39;s because I used my own homemade chicken broth but it is hands down the best, I could not stop eating it while it was still in the Pan. Mmm good!\n",
      "The marinade is what makes these fajitas extra special!  My husband asked me to make sure and save this recipe :-)\n",
      "Just\n",
      "It was ok, i thought it was more of a potato and cheese soup versus a &#34;Cheeseburger Soup.&#34;\n",
      "Made this twice in two weeks, once to try and again to serve for company.  I did add half a can of tomato paste to thicken up, but I like my chili thick.  Very tasty!\n",
      "I have never written a review before - so that goes to show you what a BIG HIT this soup is in my home. My young boys love it, and it&#39;s one I make for guests as well. Thanks for the great recipe!\n",
      "This recipe is sickenly sweet. Way too rich.\n",
      "Too salty, I even omitted the pre salting,  lacked substance...waste of my good zucchini!\n",
      "Very good and simple.  I did add a chopped onion with the beef and added an extra cup of water. I like it with more juice.\n",
      "This is  TRULY THE BEST Banana Bread recipe I&#39;ve tried; and I&#39;ve tried a few. It is versatile and good just as it stands.\n",
      "Very delicious, but for me I&#39;d cut the cloves by half or leave them out and use applesauce instead of oil. My family enjoyed the smell of these as they were cooking just as much as when they got to eat them!!! Will definitly use the frosting on other breads, YUMMY!\n",
      "I made these gluten free and sugar free, still very good!\n",
      "Made these over the weekend and the bars were moist, delicious and perfect to have with your morning coffee. My husband took several pieces to work and shared a piece with his co-worker and now the guy wants the recipe so his wife can make him a plateful..this recipe is definitely a keeper...\n",
      "Sorry but the Lady who said it&#39;s not &#34;New England&#34; is absolutely right !  Half the ingredients  in this recipe do NOT belong in a true N.E. clam chowder, Thyme ? Chicken broth ? garlic ? bacon ? Half\n",
      "Pure comfort food, purely perfection. I chose all fresh organic ingredients and used spicy chicken sausage. I seved this soup with some warm buttered Italian bread.\n",
      "This is a great go to recipe for over ripe bananas. Been making it since 94.\n",
      "A bear to make unless you have a steady hand.\n",
      "Easy and DELICIOUS.\n",
      "Great recipe.  Cut the potatoes in small pieces.  I cut mine in large chunks and that messed up the texture.  That was my fault and I will correct it in the future.  Other than that don&#39;t change a thing.\n",
      "Made this for Thanksgiving. It was a HUGE hit! I don&#39;t like pecans, so I used toasted almonds instead. Tasted even better the next day.\n",
      "I doubled it to fit better in my 5 quart slow cooker.  Great without jalapeno peppers. I used a 6 ounce container of diced peppers &amp; onions from the grocery store. YUM!\n",
      "We made these today with our daughter. It was an excellent recipe!\n",
      "The soup went over well with the family. The only changes I would make would be to use the full pound of hamburger and change the ratio of butter to flour to make the roux. The recipe&#39;s directions made a thick dry paste. I could actually taste the flour in the soup. So, when I make this again I will use 4 Tbsp of butter to 1/4 cup flour. I may need to tweek it a little so the roux is pourable instead of a lumpy paste.\n",
      "These were super easy to make however and I followed the recipe exactly using the pan size recommended.  Mine were ready to come out of the oven at 21 minutes at 350.  I am glad I checked the time - my sister makes this recipe often and it is now one of my favorites also!  Thank you!\n",
      "Excellent flavor and a huge plus for being a one-pot-fix-it forget it type of meal.\n",
      "Very good.  The bottom layer of tortillas ended up hard though.\n",
      "A keeper for sure!\n",
      "Great Clam Chowder. Used chicken stock instead of water. Would not use all the juice from the cans of clam or the half and half. The soup thickened  nicely but was just a little thinner than I like when adding the juice and reserved half and half.  Will be my go to  Clam Chowder.\n",
      "I added a bit more carrot and used Kraft Cheddar Cheese blend with Philadelphia Cream Cheese in it. It was very very good and extremely simple. I also used fresh parsley. It was a hit with all my family. My grandma and my stepmom both asked for my recipe!\n",
      "This is the first baked macaroni and cheese recipe I made and will be my last. This is SO good, my kids love it and ask me to make it all the time!\n",
      "Amazing taste. Great change to the basic coleslaw. I saved this to my favorites. I  didn&#39;t have miracle whip so I used mayo. I didn&#39;t have celery . So I added 1/2 of celery salt instead of plain salt.  I also sliced up carrots . Yummy, yummy!!   Will be making this again\n",
      "My ten year old daughter really loved these pancakes!  She declared them the fluffiest ever!  I have to admit that I agree.  They were very simple to make, and delicious!I just made them for the second time, and they were just as good as the first!  So I didn&#39;t just get lucky the first time!Both times, I&#39;ve doubled the recipe.***Update - 2017-05-30***These have become my &#34;go to&#34; pancake recipe for sleepover breakfasts.  Several of her friends have declared them the best pancakes ever.  They&#39;re so easy, and so tasty!\n",
      "Has anyone used something other than Velveeta?\n",
      "I made this on a Sunday morning for lunch later on.  It smelled so good my 12 yr old son had some for breakfast!!!!   Its a huge hit and I love how he is getting several servings of vegies and calcium.  The only thing I changed was I pureed about a cup of the cauliflower mixture before I added the milk cheese mixture.  It was awesome!!!!  Plus I love the fact that the recipe came from Chilliwack.  My relatives all come from BC and I have spent many beautiful cool fall nights at Cultus Lake.  This soup is perfect for fall.  Thanks Debbie!\n",
      "This recipe is so easy and always a hit!\n",
      "Love this recipe! Eliminated the lemon pepper and used salt, pepper, chilli powder, and garlic powder as spices. Everything else the same. My family loved it. Will definitely make again.\n",
      "Pretty good! I doubled it and added chopped onion, because a soup without onion seemed weird, and extra cheese. I also added some freshly grated parmesan and romano cheeses, Lawry&#39;s garlic salt and Tony Chachere&#39;s creole seasoning instead of the hot sauce. I omitted the salt and pepper from the roux and added to taste after I combined the cheese sauce to the vegetables. I would&#39;ve gave it 2.5 to a 3 without my tweaks. I will use this recipe again for broccoli cheese soup.\n",
      "These are wonderful and we enjoy them without the topping. Delicious!\n",
      "i also used white kidney beans which makes a big differance\n",
      "Took an hour and a half to set properly, too wet of a mixture. Tastes ok though.\n",
      "I was so surprised by how delicious this lasagna turned out to be.  I&#39;ve now made it 3 times and now it&#39;s my favorite!  I made it exactly as written.\n",
      "re: Tilapiait is a sweet mild white fish that melts in your mouth you can also cook it in the microwaveiclue\n",
      "I make this soup at least once a month.  My family loves it.  I have shared this with my &#34;recipe club&#34; at work and everybody who has made it loves it.\n",
      "Delicious pie. I don&#39;t really care for the standard pecan pie, but I really enjoyed this, as did my family and guests. I followed the recipe and no problems of any kind. Used graham cracker crust to save time. Excellent !\n",
      "Super easy to make. This is my favorite Jambalaya recipe.\n",
      "This has been a favorite in my family since it appeared in &#34;Taste of Home&#34;.  Since we don&#39;t care for celery, I sub zuchini.  What a wonderful and filling meal!\n",
      "These fajitas are delicious.  Everyone at our fiesta loved them. Best fajita recipe out there\n",
      "LOVE this recipe, it&#39;s my go too.  My Taste of Home recipe is from 2012 and calls for 2 quarts of water.  I substitute 6 cups of beef stock, we like a thicker soup.  A few other tweaks, I use 1/4 cup of uncooked rice and 1/2 teaspoon of pepper.  This soup never stays very long in the refrigerator...if it makes it that far.  You won&#39;t go wrong with this recipe!\n",
      "My family really enjoyed this. I made it in a 9x13 pan because I didn&#39;t have the right size.  So it came out cakey but was fine. Stored in the fridge. Tasted better cold to me. And made it a bit more dense. Not as light and cakey\n",
      "My absolute favorite when I want oriental food at home! I always double the sauce and usually have it over cauliflower rice instead of long-grain.\n",
      "Hearty supper.\n",
      "I have used this recipe many times and it is the best meatloaf recipe you&#39;ll ever eat. It is a favorite in our house!DAB\n",
      "Absolutely amazing!! Will make again and again. I will use one can of chilies this time instead though as we are feeding a few kiddos :)\n",
      "I just love these about as much or more than pear muffins.\n",
      "Followed this recipe to the &#39;T&#39;. Beautiful Pie. Knife blade pulled dry in 30 minutes. Cooled pie and found it had about 3/4 &#34; of juice free in the bottom of the pie. Was a soggy mess.\n",
      "Very easy and delicious. My family fought over the small amount of leftovers the next day!\n",
      "I&#39;m not from New England so I can&#39;t offer that perspective, but I would say that this recipe makes a very great-tasting soup anyway!  I used regular fat half &amp; half and an extra can of clams.  I did use the extra juice from that extra can as well.  The soup thickened quickly and stayed that way, so adding the extra liquids made it just the right consistency for us.  For our tastes, I also added about 1 Tbsp. of Kosher salt.  Will most likely fall back on this recipe again when my son requests NE Clam Chowder.\n",
      "I did not go the healthy way of making this GREAT tasting cake. I have made this several times........great flavor and moist. It is a keeper at my house.\n",
      "I love this banana bread. I make it exactly like it says and It comes out amazing everytime. I make it for every family gathering. They all love it. Thank you so much for sharing your recipe!\n",
      "Excellent cake and icing. Super moist and flavourful cake and icing is perfect consistency. i bake mine in 2ea 9&#34; round pans so i could do 4 thinner layers. As a professional chef, not pastry but still, i would say this is the best cake recipe i have found anywhere. If you want to go beyond the box cake mix and try something a little bit more challenging look no further.\n",
      "This is a favorite and so easy.  Always comes out perfect!\n",
      "I dont like coconut. But I Love macaroons.. Go figure. I&#39;m going to try  this recipe! Thanks.\n",
      "I liked this, but for me personally I tasted it before I cooked it and liked it better before it was baked. Everything is cooked so there is no danger of raw food. It reminded me of a loaded baked potato salad that you can buy (for a ridiculous price) at the deli. I would make it again, but probably serve it cold as an alternative to the everyday yellow mustard potato salad\n",
      "Delicious and quick if you prepare ingredients ahead of time. Husband says excellent taste of Mexican.\n",
      "This was VERY good! Doubled the recipe to make 2 loaves. Added about 1/2 tsp lemon extract and used chopped pecans for the nuts. I felt the nuts seemed out of place, but everyone else seemed to not mind. Since this was my first time making blueberry anything, I followed other&#39;s suggestions and dusted my blueberries with flour before adding to the mixture. I bake often for my husband&#39;s work and this was definitely the favorite! Will make again!\n",
      "I made this recipe with just a few minor changes..... I added sweetened dried cranberries to the apple mixture (for the color), I used margarine instead of butter and I sprinkled the top with cinnamon.  I must say, this is an easy recipe to make and it&#39;s delicious!   5 stars for sure!!\n",
      "Taste just like Snickers candy bar.  It all held together for me.   I put mine in freezer then took it out after about 1 hour then cut it.  It cuts much smoother very cold or almost frozen.\n",
      "I made enough to serve 15 and not a drop was left!  It was a huge hit with everyone.  They were already requesting that I make it again for them!   Made me feel Fantastic : )\n",
      "So delicious. Made exactly as recipe states. It was amazing. The whole family loved it!\n",
      "this bread is the most consistently fantastic bread i have ever made-and i make a lot of bread, i love the attention i get for this wonderful bread! I don&#39;t  deserve the fuss really because it is dead easy to make ha ha :)\n",
      "We loved this! I used home cooked beans and put more in.  Also used canned geen chilis.  We wanted enough for leftovers so doubled every thing except  all the liquid.  Delicious!\n",
      "Love this recipe\n",
      "This is a delicious recipe.  As suggested by others I decreased the brown sugar to a half cup.  Wanting a little different twist I also added a package of Ocean Spray blueberry flavored craisins.  It turned out to be a good flavor combination with the apples.  Will be making this again.\n",
      "This is quite tasty, but I found the crust a little too dense for my liking. However, it is still quite good, and I agree that it is easy and quick. Much less intimidating than a standard crust. My husband liked it a lot.\n",
      "I made this today - having my daughter &amp; grands over for lunch. It&#39;s SO tasty! I did add sautéed onions &amp; garlic &amp; 1/2 of a hot pepper from the garden and then thinly sliced crimini mushrooms. I&#39;ll come back after lunch with a family update! OH, and this was my very first time making a rue and it was successful!! YAY!\n",
      "This recipe is very good thank you. Mine didn&#39;t rise well but that was my fault my house was to cool.A question for the person before me Cmolina1. Why on earth would you give a recipe a 1 star because YOU didn&#39;t read the recipe?\n",
      "Needs to be a little bit thicker for my taste , flavor great\n",
      "Finally a soup that my kids will not only eat, but love!  I made it for dinner tonight and before they were halfway through their bowlfuls they were begging me to pack some for their school lunches tomorrow.  The flavors are much more complex than I expected.  This recipe is a real winner that I will be making again and again.\n",
      "I am surprised that no one took exception to the cup of butt\n",
      "Oh my this was delish! I had to improvise as some of my fresh peaches had gotten devoured without my knowledge, so I added frozen berry mixture to make up the 3 cups. I made one tiny boo boo, I plopped the brown sugar into the flour mixture. I managed to scoop out most of it, but I have to say it that little bit of brown sugar made the cobbler a nice brown, and there was a delightful slight crunch. It came out beautiful and everyone loved it! Served it warm with homemade French vanilla ice cream on top. TDF!!!\n",
      "This is one of my favorite recipes. I made this for my bunco group and they all wanted the recipe. This is a keeper!!\n",
      "This was phenomenal!\n",
      "These are so good.   I have people over after evening church services a lot during the year, and these have always been a huge hit.  My recipe; however, doesn&#39;t call for horseradish which is a good thing since I don&#39;t really care for it.  ;-)      Instead of Swiss cheese, I sometimes use gouda which melts so well.\n",
      "My family won&#39;t even let me through the door if I don&#39;t have these in hand. I&#39;ve been making these for years - absolutely the best!\n",
      "Delicious!\n",
      "Great recipe! I like light fluffy cakes so I added some more baking powder and add a little baking soda.\n",
      "I was a bit nervous to make this soup because of the simple ingredients and simplicity of making it.  I&#39;m sure glad it took the chance because my family and I loved it!.  Definitely a hit and will absolutely make this again.  If you&#39;re not sure about this soup...take that chance.  It will be worth it!\n",
      "Good..\n",
      "Yum! easy to make and is a satisfying dinner. I quickly made it on a weeknight too! I love garlic, but my husband would prefer it be cut in half in the recipe. I&#39;d probably consider it in the future, especially when serving it to company. : )\n",
      "A total hit with my family! I adapted it for fewer servings using an 8 x 8 pan and omitted all the almond extract because I&#39;m not a fan. I added sliced almonds on top of the pie filling instead. Mine took the full bake time. Definitely making this again.\n",
      "I tried this once after stumbling across it. My family was amazed!!! Hard to find it again but so glad I did...wrote it down this time!!!\n",
      "my favorite apple pie recipe.  Sometimes I add a little pumpkin pie spice as well just to spice it up a notch\n",
      "We love this recipe, any one I make this for loves it and asks for it.  I would give it 5 stars but for one thing.  As delicious as it is, I think it is much improved with the addition of some cilantro.\n",
      "My brother put a wonderful cream in the middle and it was decadent! The most delicious chocolate cake I&#39;ve EVER tasted! I ALWAYS request this cake for my birthday!\n",
      "Very easy recipe and quite delicious! I did dice 1/2 of a small onion and omitted the cheese and the soup was still delicious. Thank you.\n",
      "I cut this recipe in half but used the full can of soup, diluted with 1/4 cup water per the instructions.   Using that amount of water, the soup is too thick to &#34;pour&#34;, and it really doesn&#39;t cover the top of only half the recipe.  The olives and oregano give it some flavor, but this casserole needs the optional beef or even sausage to make it delicious.\n",
      "I made this as-is with the exception of cutting the carrots in to chunks, and adding a couple of cups of Colby Jack cheese along with the Velveeta. Along with some nice dinner rolls, this was delicious!!! This time I used the measurements listed. Next time I’m going to double it so I can throw some in the freezer!\n",
      "This recipe is a keeper the newest addition to my recipe file.  Today is the first time I had tried this casserole; our cousin was dropping off some papers when she got to the door &amp; she wanted to know what smelled so good.  I invited her to come on in &amp; eat; she said my husband &amp; brother are with me; I said there is plenty tell them to come in too...Makes alot!!!  Recipe is not dry; moist &amp; is the perfect breakfast or lunch!!!\n",
      "This is my family&#39;s absolute favorite.  I got the recipe from a friend who changed it up a bit.  We use beef granules instead of chicken, sharp cheddar cheese and add a can of creamed corn to the recipe...delicious!  Perfect for cold winter nights.\n",
      "Great dish! I added balsamic to the tomato mixture to make it a true bruschetta.\n",
      "This recipe was very good. We ate it with biscuits, so we didn&#39;t mind that it was a little soupy. It was not as spicy as many chilies, but had an excellent blend of flavors. Yum!\n",
      "This was the best combination of chocolate and peanut butter I have had.\n",
      "This was terrible it looked good when i took it out of the oven and when i cut into it a ton of liquid came out. I was so excited to make the pie and ended up just throwing it away. Would not recommend.\n",
      "This recipe first appeared in the 1997 TOH cookbook and it&#39;s been my family&#39;s favorite ever since! In fact, everyone who has ever tasted it has asked for the recipe.\n",
      "There is nothing worse than cornbread that is so dry and crumbly, it falls apart.  This recipe is nice and moist and sweet, there&#39;s no need to douse it in maple syrup.\n",
      "My family really loved this chili, I doubled the recipe and used 2 garlic cloves.  \n",
      "This cake is very good, quick and easy to make.\n",
      "I made this pie, the taste was excellent but it was so runny.  I went back through recipe to see if I missed anything but I hadn&#39;t.  Any idea why.  The apples were soft but still in shape.\n",
      "Wonderful Recipe, I served it for a ministry appreciation dinner.  All the guests loved it as did my very finicky son in-law.  I did alter it  just a little by adding 2 Bay Leaves (removed before placing in casserole/ pie pan(s))  and 1 1/2 tsp Poultry Seasoning. I did this primarily because I was using rotisserie chicken and wanted to make sure I had full bodied flavor. This recipe is a keeper!\n",
      "Made this recipe many times. Went to make it tonight, and didnt have milk. So I used half and half instead. Came out really creamy, and really delicious. Recommend trying it.\n",
      "There is obviously a typo in this recipe.  Our oven temp is correct  we even got out the thermometer just to make usre, but it took an hour  to cook 2, 9&#34; pans and they overflowed.  3 cups of liquid (Oil, coffee and milk) will not work with only 2 cups of flour.  I&#39;m with Leehigh69.  This recipe is missing something (like another cup of flour).  Perhaps you don&#39;t notice so much in a larger 13 x 9 pan.\n",
      "With a few little ones running around and being very pregnant this was easy to make and tasted great. Thank you for helping me out Bernice :)\n",
      "Followed instructions, running in the middle and from a pie lover was one of the worst I ever made.\n",
      "These are so good! They have moved into the favorite category! I don&#39;t change anything.\n",
      "I&#39;ve been making these for years at Valentines Day. They&#39;re very cute. Putting the peanut butter in with the melted chocolate gives them a softer texture. My daughter loves them. They are a fun and inexpensive candy to make.\n",
      "These are by far the best oatmeal chocolate chip cookies I&#39;ve ever made... and I bake A LOT! They come out perfect every time if you do just as the recipe says. The only thing I add is a bit more vanilla. Plus I refigerate my dough before baking so they don&#39;t flatten. If you&#39;re looking for a great, easy, crowd-pleasing cookie, this is it!\n",
      "Had to try this when I saw how many reviews it had! I left out the whipping cream.  It turned out really great!\n",
      "Deliscous will make again and again.\n",
      "I seriously think these cookies are just about the best I&#39;ve ever tasted!  I made them for my pregnant daughter-in-law (because of the ginger) but loved them so much I intend to make another batch today!  By the way, I followed the recipe exactly; didn&#39;t change or add anything.  Perfect!!\n",
      "I got this recipe out of the Taste of Home Magazine probably more than 15 years ago and it is still a favorite of mine and my family.  I always get requests for the recipe.  I make it all the time for new mothers and when I take food for the families when someone passes away because it is easy and everyone loves it.  I keep the olives out and the kids love it too.\n",
      "was easy and definitely yummy.\n",
      "Super easy, fast and delicious!\n",
      "Easy and delicious! I halved the amount of crushed red peppers which was just enough spiciness for us. Next time will double the amount of sauce.\n",
      "This recipe is a keeper.  I printed it off to add to my recipe collection.  My bananas were very large so I used 2 1/2.  I added about 1/3 to 1/2 cup of mini chocolate chips.  I also topped some with raw sugar and the rest I sprinkled on large sugar crystals that i use to top cookies.  I liked the &#34;crunch&#34; that the sugar gave to the muffins.  Muffins do take the full baking time and then I baked a couple of minutes more.  I got 18 muffins from the recipe.\n",
      "Just ok. Was rich and not the flavor I was looking for. Maybe as someone suggested adding some hot sauce might of giving me the flavor I was looking for.\n",
      "Good recipe.  Followed it exactly.  Mixture was not holding together like I wanted so I did add an egg and some bread crumbs.  That did the trick.\n",
      "This is the most amazing cake! Have made it several times-no wonder it’s an award winner.\n",
      "I made this last night and it was fantastic. Usually when I&#39;ve made a new dish, I&#39;ll ask my husband if he likes it and he&#39;ll just say &#34;It&#39;s good.&#34; When I made this, I didn&#39;t even had to ask, when he finally came up for air he said &#34; This is fricken&#39; delicious!&#34;. So, a winner in our house! My husband isn&#39;t a fan of beans so I subbed corn for the black beans and only used about 2/3 of the can of refried beans.\n",
      "Amazing, EASY apple pie recipe! I was looking for a quick and easy recipe to try and found it! The pie has all the flavors of a &#34;traditional&#34; apple pie but takes 1/2 the time! I added some cinnamon and nutmeg to the syrup to add some more fall essence... overall an award winning recipe!\n",
      "This was wonderful! I got many compliments on this dessert. I&#39;ll be sure to make this again, yum!\n",
      "Dish needed more sauce and sausage mixed with ground beef or turkey would&#39;ve been much better. Overall flavor was good though.\n",
      "I made these with turkey &amp; American cheese and fed some hungry athletes while we were on the road.  They were a big hit.  Now I&#39;m making them again for my family.\n",
      "It&#39;s perfect. There&#39;s no a thing I&#39;d change.\n",
      "This recipe was so easy and my family loved it.  I have a question about making mini loaves.  What would be the cook time?\n",
      "This is a great recipe as is, and easy to modify to suit your needs. I make this gluten-free with corn starch instead of flour, I use a can of Ro-Tel in the meat instead of stewed tomatoes, and white corn tortillas instead of flour tortillas. I have made this again and again, my whole family loves it!\n",
      "I thought the flavor was good but it didn&#39;t end up looking like the picture. The next time I make it I will add more layers of tortillas so it has more consistency. Overall, a good, filling meal.\n",
      "What if you don&#39;t own a dutch oven? Can you use a crockpot instead?\n",
      "Wonderful with leftover turkey\n",
      "Delicious!\n",
      "This was an ausume soup\n",
      "Very quick and simple to make.  Delicious!\n",
      "This recipe was great! I cut the sugar in half and it was still a hit in our house. This will be my new go to for banana muffins!\n",
      "This was so good!  I wasn&#39;t sure how the leftovers would be, but they were just as good as the first day it was cooked.\n",
      "I&#39;ve baked this cake a lot of times, but I am going to bake it for Easter using this lite version. It is good with coconut added in the topping also.\n",
      "Has anyone tried this with fat free milk and reduced fat peanut butter?\n",
      "This dish is a tradition for every one of our family gatherings. It is one of the most requested dishes. We don&#39;t wait for dessert; we serve it as a part of the meal! The combination of sweet and salty is perfect.\n",
      "YUM!! I served this for the first time on Halloween night, after we got back from Trick or Treating. It warmed us up in no time! It will now be a Halloween night tradition. I&#39;ve shared this recipe with everyone I know.\n",
      "I would like to know if anyone has substituted unsweetened applesauce for the butter? I would think that would make the cake a little more moist and less fattening. Anyone?\n",
      "The flavor here is a nice mild heat tempered by the sour cream and heavy cream. If you do not like heat, omit the cayenne pepper. I made a savory cornbread to go with this (sans sugar), added cheese, garlic powder and onion powder. In place of buttermilk, I used powdered milk and a corn meal/flour premixed, and added a cup of cheese. Nice for a rainy autumn day. Enjoy!\n",
      "This was not one of my favorite cakes.\n",
      "I made this for Christmas dinner &amp; got so many compliments!  The only change I made was I used 1 pound of Italian sausage &amp; 1/2 pound of ground beef.  So yummy!  The leftovers didn&#39;t last long!  You can&#39;t fail with this recipe.  I made it the day before &amp; let the flavors mingle overnight. Then baked it the next day.\n",
      "We loved this! So easy. Did not use pasta just eat it with roasted veggies and salad. Will make again!\n",
      "I’m now rating this recipe but I’ve been using this one for the last 3 months- this recipe is amazing. We tweaked by adding raw oats and crushed flaxseed to make it a little more healthy. It came out really well. This recipe for us yielded 2 nice loaves, and when we toasted the slices for breakfast, the flavor of the oats and flaxseed made it even more delicious- it feels like we had it in a café! Thank you for this, we don’t buy bread anymore!\n",
      "Loved the crust. Made it with brown sugar. The filling wasn&#39;t very tasty. Added lime juice which helped a little. Will add more next time I make it. My family loved it as is and ate all of it.\n",
      "I love this recipe and use it frequently!\n",
      "Excellent! Most delicious and simple to make. I even cheated and just dotted the fish with butter, squeezed the lemon and sprinkled the rest! Perfection!\n",
      "My family feel in love with this recipe.  I found it very easy to make with no fuss or bother.  It is a great meal if you need a quick meal that has substance to it.\n",
      "it is whatever you prefer. my dh doesn&#39;t like the peeling so i always peel and seed it for my recipes. i like it myself and will eat it with the peel and the seeds. if you have picky eaters its best to go ahead and peel it.\n",
      "Made this for supper tonight and it was delicious!! I plan on sharing this recipe with my grown daughters. I know my son-in-law will love it!!\n",
      "this is great! I will make this several more times for sure!\n",
      "This cake and frosting are absolutely delicious! It tastes even more delicious the second day. I made cupcakes  for a large birthday party. It makes 48 cupcakes. A\n",
      "This recipe is delicious! We did make some changes: we didn&#39;t put in the mustard, we substituted extra sharp cheddar cheese for the velveeta, and we did different noodles. It was very creamy with a delicious flavor. Everyone loved it!\n",
      "This was an amazing Peanut Butter Cheesecake! Was easy to do also. Was devoured shortly after i cut into it for Thanksgving at my friends house!!!\n",
      "i did this cake,it was so good and my kids loved it.Its light and delicious.I reduced the amount of sugar to 1 cup and it turned very good.\n",
      "Love this recipe. Get so many compliments when i make it.\n",
      "So, I really liked this cake, a lot! However, I totally forgot to add the water. I completely missed it! I really just thought the water was in the ingredients to melt the chocolate...duh!! My fault! So, for those of you that made brownies like me...this is probably why...lol!!!\n",
      "I&#39;ve made this twice now, and will be making it again and again!  I use soft corn tortillas for a more authentic enchilada flavor and double the cheese.  The contrast of the cool lettuce, tomato, and cilantro topping is fantastic.  Be sure to use a very sharp knife to cut the casserole, as the bottom layer of tortillas can be a bit of a challenge to cut neatly.\n",
      "Thanks\n",
      "My go-to cornbread recipe! LOVE IT!\n",
      "The best!  Had to make with gluten free pretzels and came out perfectly!\n",
      "Used bacon, ham, and SW hash browns. Fabulous.\n",
      "The best enchilada I&#39;ve ever eaten in my life! The meat mixture is soooo delicious, I use it to make nachos as well! By far a must have on any monthly menu plan! :D\n",
      "Am I understanding that I am supposed to let the dough rise twice as the directions say in step 2 and also in step 3? So far this has been a very simple and easy recipe to follow for this first time bread baker.\n",
      "I had always wanted to make fajitas on my own...when finding this recipe I couldn&#39;t wait to try it. It will now become one of our favorite mexican recipes. The flavor is  delicious, and chicken is so moist when marinating with this combo of spices, I LOVED the lemon in it..Hubby said they were the best he had ever eaten. I did not use the red pepper flakes nor the green onion...it was perfect and I will make this again and again. This recipe is a keeper!\n",
      "I made this last year for Christmas Breakfast and all my family loved it!  I cooked the bacon and onion mix the night before and put it in a sealed bowl till the morning and was perfect to mix the last bit and pop in the oven while presents were being opened!  It has been requested for a repeat Christmas Breakfast again this year!\n",
      "Is pretty simple and tasty and inecpensive\n",
      "Great base recipe to easily exchange to make it for your own family.\n",
      "I made this soup last night, for the first time!  It was delicious, and it will be one I use again, and again.  I made some slight changes though.  I used fresh rosemary, and thyme instead of basil.   Really tasty.  I also used white cheddar, in place of velveeta cheese. In addition to those changes, I did not have sour cream on hand, so I made a basic rue, as a thickener!\n",
      "Quick, easy, healthy and delicious!\n",
      "I tried this recipe with vegan butter to see if it would work as a dessert option for a vegan relative at Thanksgiving and it came out beautifully! You couldn’t tell it wasn’t regular butter. Will also try this with pears and peaches.\n",
      "This is a great Asian dish. You can use the sauce with chicken, beef or pork. Add more red pepper flakes for Gen Tso of add sesame seeds for sesame chicken. Thank you so much for the recipe.\n",
      "This is a very delicious soup.  Getting ready to make it again.\n",
      "Very good corn bread\n",
      "SOOO GOOD! Love it. I added less cheese because it was already reach. I used Velveeta cheese to get this thickness and flavor before now I know what I can use instead of Velveeta.\n",
      "It was great.  The hardest part was drying our the zucchini.  I added mushrooms and olives.\n",
      "Good kid friendly recipe.  I agree with the other poster, about leaving out the sour cream.  It did give it a Stroganoff flavor. I didn&#39;t have parsley and basil so I used Italian seasoning instead and it turned out just fine.\n",
      "The cupcakes were moist &amp; were liked by the crew of volunteers at the food pantry.  I did not like the frosting, much too sweet, so instead frosted them with cream cheese frosting.\n",
      "These cupcakes are so delicious! Everybody that tried them said they were the best cupcakes they ever had. I will definitely make these cupcakes again.\n",
      "This recipe was great but spicey. I will make this a lot but without the red pepper flakes. Even my kids loved this!\n",
      "Fantastic! I was even able to make this in a gluten free version for my fiancé who is gluten intolerant. Tasted amazing!\n",
      "I tweaked this recipe by cutting back on the sugar, using 1/2 c brown sugar, 1/2 raw sugar. Used 5 soaked figs and saved 1/2 cup of that water in place of the regular water. The figs gave added fiber without changing the flavor! I will definitely be making this again!\n",
      "Always a big hit in my house!\n",
      "For my family&#39;s taste I will use more hamburger and less potatoes.  We all liked it though.  I followed the recipe exactly, but might try some cheddar next time.\n",
      "Tubes of biscuits ???where does it mention that???\n",
      "This was a great recipe.  I used a 9X9 pan because I didn&#39;t have the size asked for.  Baked it about ten minutes longer.  Really a great, simple recipe.\n",
      "YUMMY,This turns out perfect every time I make it\n",
      "Yummy and so cute!\n",
      "There really is no other choc cake recipe tha compairs.  I leave off the strawberries and add just a sprinkle of sea salt in the middle and on the top.  YUM!\n",
      "This is so good.  I love the strawberry flavor and it makes a very pretty cake.\n",
      "Excellent\n",
      "I&#39;ve been making this recipe for a few years now.  I&#39;ve also make it using pitted Door County cherries &amp; using the cherry juice from the cherries instead of water.  it&#39;s delicious!!!\n",
      "Stop looking! This is the best oatmeal chocolate cookie recipe! Not only did it make a lot of cookies, each cookie looked great- baked for 10min then let them sit on cookie sheet. As a volunteer food editor for Taste of Home, friends and family expect great cookies from my kitchen, these cookies did not disappoint!\n",
      "This was great.  I did add salt and pepper and reserved some of the cheese for the top.\n",
      "This is the only banana bread recipe I will make from now on.  Great!\n",
      "It would be nice to see the entire recipe, not just butter eggs sugar and molasses...\n",
      "This is the only bread recipe that ALWAYS works . I followed the instructions exactly using bread flour , combinations of white flour and whole wheat flour, as well as millet or lentil flour along with white flour and it has always risen beautifully. I have been baking bread every 4 days and get 2 perfect loaves EVERY TIME . Thank you for this great recipe .\n",
      "I pocked the cake all over and poured the caramel sauce over the cake right out of the oven. So good.\n",
      "This bread turned out really yummy.  Took advise of other reviewers and cut cooking time to 50 minutes.  Also covered the loaf pan with aluminum foil during the last ten minutes to ensure the top didn&#39;t brown too much.  Unlike one other reviewer I thought the lemon flavor really came through.  I did increase the blueberries to 1 1/2 cup and cut the sugar to 2/3 cup.\n",
      "I did a half recipe of this and added 1/8 t of cinnamon and it came out amazing. Everyone is right... This is very moist and delicious!\n",
      "This is the best!!! rave reviews at Easter dinner\n",
      "This was very good. Both my daughter and husband loved it. I did use regular lime gelatin because I couldn&#39;t find sugar free and I used regular whipped topping. Very easy to make.\n",
      "Very tasty, but it has well over 1/2 of a person&#39;s daily requirement of sodium. I would avoid eating this except is VERY small amounts.\n",
      "This recipe yielded surprised comments from those friends who tried it to find it contained zucchini. Next time I make it I will add raisins and/or nuts and use a cream cheese frosting to take away some of the sweetness. Very good!!\n",
      "I made it without the bacon (I didn&#39;t have any) and it was still fabulous!  Great recipe - thanks!\n",
      "This meal was delicious! I used white wine instead of lemon juice, after reading the reviews.  It was soooo good. Yummy! and easy!\n",
      "This was disgusting. These were flat and terrible. I followed the recipe precisely. I wish I could show you a picture of how gross these turned out. I have no idea what these other people are talking about.\n",
      "After lots of time spent dicing and chopping, plus the cooking time, I was very disappointed with this recipe. The chowder was beautiful but it had no flavor. I was expecting so much more, especially with all the onions and cheese that I put into it. I guess I&#39;ll have to keep looking for a good cheesy chowder recipe.\n",
      "A good recipe, bakes up light and fluffy, but the next time I make it, I will decrease the sugar by half. Sweet: so depending on how you use it or what you pair it with may determine how sweet you like it.\n",
      "Thanks for the recipe! They turned out great,and the serving size is perfect.  This was what I was looking for.  Thanks again.\n",
      "Used less butter and reduced sodium broth, soup and bouillon. Cooked the wild rice in a good rice cooker for perfect consistency. Will definitely make again.  5 stars!\n",
      "This is easy and tastes soooooooooooo delicious! I will file this under &#34; Best &#34;\n",
      "I can&#39;t get canned pumpkin.  How much cooked pumpkin is equal to this?\n",
      "This recipe was very easy. I made no changes, and had no difficulty getting the crust to cook completely. I did not have to bake the crust separately, as one reviewer suggested. I used this recipe to make for my customers. The bar was absolutely delicious. The crust was moist, yet sturdy to hold the cherry filling. Will definitely make again.\n",
      "This cake was delicious and everybody loved it.  But I&#39;m not sure what I&#39;m doing wrong with the frosting, it comes out too soft.  How many sticks of butter should I be using?\n",
      "I make this frequently.  Double the first 4 ingredients, use pre-cut broccoli slaw for cabbage, use whatever onion on hand, and linguine pasta for rice noodles (dh preference).  Very flavorful and leftovers reheat nicely.\n",
      "EXCELLENT RECIPE!! This will be on regular rotation.\n",
      "very nice,,,daisyh, try making mini loaves.  That is what I do and cut the baking time down and they did not fall and they came out perfectly.  I really love this recipe.\n",
      "I don&#39;t mean any insult, but hamburgers do not have potatoes in them.  There is a much better recipe on Food Network from Diners, drive-ins and Dives.  Sorry.\n",
      "I made this for my family and they loved it.\n",
      "This soup is amazing?? my husband and I loved. The second time I made it I left out the tomato&#39;s, and used shredded chicken instead of the sausage &amp; mozzarella and chicken tortellini instead of just cheese and it is now one of my top favorite meals..\n",
      "Made this for Dinner tonight and it&#39;s very good. I didn&#39;t have bacon so I added some extra ham.  I will definitely make this again.\n",
      "This was excellent!  Had everything in my pantry except peas so I used green beans instead. Hubs said this is a keeper. Quick and easy!\n",
      "Amazing!!!  We loved this dish, and it was so easy to make!  I used about 3 lbs of pork roast and chuck roast (my mom swears by combining both roasts in a pan).  I cooked them in a dutch oven in the oven for an hour at 375, then for about 3 more hours at 300.  The meat was so tender and flavorful.  I will definitely make this again soon!\n",
      "This was absolutely delicious!  I can&#39;t wait to make it again. Can&#39;t say enough about it, it was great.I mostly like &#34;regular&#34; chili recipes, this was a little different, will be my new favorite.  You HAVE to make this!!!! Deserves more than 5 stars!\n",
      "Ashen, I think you&#39;re new on TOH.  Some suggestions for you, kiddo!  1) After you&#39;ve cooked, baked, etc. for some years, you&#39;ll realize that 3/4 measurements are common in recipes, so you&#39;re going to have to accept that.   Find a 3/4 tsp. measuring spoon., or use 1/2\n",
      "This is really a very good recipes\n",
      "Made this for a potluck and it was a hit! Definitely will make it again! YUM!\n",
      "I made this pie for thanksgiving dinner. It was great. Will make it again.\n",
      "Did not like it at all/\n",
      "Mom made these my entire unmarried life and I’ve made them for 50 years using her recipe. You have made it way to difficult. It’s just hamburger, onion,  egg, rice mixed into balls.  Put into a casserole dish. Mix 2 cans tomato soup with water and pour over the meatballs.  I add a little red pepper flakes for spice and salt and pepper.  Serve with more cooked rice or mashed potatoes with the sauce.\n",
      "I use diced ham I purchase in the package instead of bacon, the bacon was too greasy for me. I also add spinach, and/or green pepper.\n",
      "Perfection! Amazing flavor and texture. These would be a really yummy treat with a cup of coffee or tea. Definitely a keeper.\n",
      "I have made this many times now, and I am pretty happy with the recipe. One thing I did differently was  cooking the cubed potatoes in the microwave with some water for a few minutes before adding them as directed. I also have not added three cups of cheese, probably just one cup or less. Also, one time I used creamed corn in place of whole kernel corn for a thicker soup, and most of the time I do not bother with the bacon, but use 1/4 c of butter to saute the onions.\n",
      "5 stars for the cupcakes but I added more cinnamon. The frosting was, to me, sickening sweet! WAY too much sugar for me.....but that&#39;s my taste.\n",
      "Favorite at our home, but I leave the salt to everyone&#39;s discretion.\n",
      "These were excellent!  To make them even fluffier, let the batter rest for about 10 minutes after you stir it up.  Mmmm!\n",
      "I’ve made these for years. Family loves them. I place cabbage wedges on top of the meatballs and pour the sauce over all. I ended up with undone cabbage rolls. ????\n",
      "My husband and I love this chili! I really enjoy the sweeter flavor. We use ground turkey and sometimes add a half a can more of black beans\n",
      "This recipe is quick, easy and oh so delicious! Everyone I have made it for has loved it!\n",
      "So good and very easy to make. All I added was a couple of splashes of hot sauce.\n",
      "Loved this Recipe... My Daughter had a Birthday sleepover with 8 girls and this made enough for all of them, they loved and it was a good lower carb recipe as to one of the girls is a diabetic.  Needless to say that girls mom walked out the door with this recipe too.\n",
      "We love this!  I make it using shredded coleslaw rather than chop up a head of cabbage.  We also use gluten free noodles and gluten free soy sauce so my 10 year old granddaughter with diet restrictions can eat it.  (I tried using the angel hair type rice noodles and prefer it with a firmer noodle.)   I added two slightly beaten eggs to the cooked pork and cabbage for a reason.  Years ago I made egg rolls for Asian friends and they told me I forgot to add the egg.  Adding the egg does not alter the taste of the egg roll noodle bowl ingredients.\n",
      "Loved this recipe!  I used olive oil instead of canola oil.  Instead of sugar I used about 2/3 c maple syrup.  Seemed a little soupy so I added an extra 1/2 cup GF flour.  My blend of GF flour is brown rice flour, potato starch and tapioca flour so I added 3/4 teaspoon xantham gum. Wasn&#39;t too sweet either.\n",
      "This was great and super easy. I used one can of chopped and one can of whole clams to give a bit more body.  To keep the fat content down I used one cup (plain and unsweetened) almond milk. Gave friend recipients and she used whole milk and was delish!\n",
      "So good!\n",
      "I think this recipe is a great starting point for ginger cookies. The ginger flavor isn’t super noticeable though, if you, like me, crave the warmth of a strong ginger taste. I’ve made a couple modifications to make these cookies healthier and tastier while not compromising the softness of the cookies: 1. Replaced half of the flour with ragi flour. Ragi is a finger millet and has high protein, mineral, and fiber content. 2. Reduced butter to 8 tbsp. With the additions below, there is extra moisture in the batter and no need to use as much butter. You could in fact reduce butter further to 7 or 6 tbsp since I found my batter a little sticky and hard to form into balls. 3. Increased ginger to 3 tsp 4. Added half a cup of shredded coconut 5. Added half a cup of flax seed powder   I haven’t had a problem with the cookies spreading out too thin. In fact I’ve had the opposite issue of them not spreading out enough. It may have to do with where I am located - even in the summer it’s quite chilly. I leave my egg and butter out to let them warm up to room temperature, and use a stand mixer so they get nice and fluffy. I also use molasses which is super sticky, so that may contribute to reducing the spread.\n",
      "This is delicious! I didn&#39;t add the nutmeg or cloves (none on hand) but did add raisins.\n",
      "This recipe is so versatile.We prefer boneless, skinless chicken breasts instead of thighs. I use Italian Seasoning Blend instead of the individual spices for ease of preparation.There are also many varieties of Diced Tomatoes available. Fire-Roasted are a nice change as well as using Italian Blend Shredded Cheese.\n",
      "This is a great recipe,. Adding some lemon zest gives a nice light lemon taste. Top with berries and cream, or cinnamon and sugar. yummmm I love this cake. Very easy to make and flavor anyway you please.\n",
      "To me the cornbread is pretty dense and cake like as some of the other reviews mention.  It is also very sweet too.  A little too sweet for me.  Good flavor and I don&#39;t regret making, just not what I look for in my cornbread.  If I make again I&#39;ll cut down the amount of sugar.  If you like your cornbread really sweet and cake like, this is the recipe for you.\n",
      "Had this tonight and everyone loved it. Delicious! This recipe is a keeper! (Made my own Taco seasoning)\n",
      "Tasted just like apple pie should. YUMMY.\n",
      "This is a keeper!  Everyone loved it!  Very moist with lots of flavor!  Can&#39;t wait to make this again!\n",
      "Just Awesome. I too used less sugar, a sugar substitute that is, and more cornmeal. Perfect!\n",
      "I just made this soup and it is absolutely delicious.  Made one change, used vegetable broth instead of water to cook the vegetables.  It was so good I subscribed to the magazine.\n",
      "This  is  my first enchiladas that I made and I&#39;m glad its came out great., even I misread the last two directions (I didn&#39;t put cheese in the tortilla and I put all the cheese on  the tortillas before the first bake). My husband was raving it and he even brought the leftovers for work. I  lessened the amount of flour as what the other reviewers said. I also lessened the amount of chili because my husband is not fan of spicy and for my 2 year old son.  This is a keeper and next time I&#39;ll read the directions very carefully.\n",
      "This recipe is the best ever.  Made the most delicious soup, I highly recommend.\n",
      "Oh my, oh my!   An absolute keeper!!!!   I just tweeked it a little by adding garlic powder to the mayo mixture, and toasted, slivered almonds to mix in when adding the bacon crisps, just a little added crunch. Thank you so much for the recipe! Enjoyed by all!\n",
      "I&#39;ve always had trouble finding the perfect bread recipe,  but I can finally quit looking.  This simple recipe bakes up perfectly and never disappoints!\n",
      "This recipe is also delicious when made in the crock pot!\n",
      "Amazing !!!  It&#39;s a hit every time.  I use almond milk instead of 2 %.\n",
      "This is my go to banana bread recipe, made the following changes.  Reduced sugar to 1/3 cup sugar, added 1/3 cup of brown sugar, 1/2 tea of baking powder.  Used melted coconut oil for canola oil.  My bread only took 45-50 minutes to bake at 325.  Due to nut allergies l don&#39;t add nuts.\n",
      "This is one of our favorite cakes to make! Perfect strawberry cake!\n",
      "Will not make this again.  It was good, but did not get fluffy like the picture, and did not get firm when refrigerated.  Maybe because I used regular Jello instead of sugar free?\n",
      "This grape salad is sumptuous! Right before I started making it, my husband informed me he didn&#39;t really like grapes! Well, once he tasted the finished recipe, he absolutely loved it! He couldn&#39;t get enough! Our grown son and I loved it also. I will be making it for the second time tomorrow, this time using red grapes, green grapes, and black grapes. Yum!\n",
      "Absolutely delicious!  This really is the best banana bread.  Mine baked at 325 for about an hour and a half.  I used the chocolate chip option instead of walnuts and threw in a handful of leftover toffee bits as well.  This bread is moist on the inside, with a crispy crust on the outside.  Can&#39;t say enough about it.  We loved it and will definitely make again~  VFE\n",
      "Worked out great\n",
      "I&#39;ve made this for several family gatherings and everyone raves about it and wants the recipe.  It is so cheesy and good.\n",
      "I&#39;ve made this recipe about five times and it comes out beautifully each time. I even made it for my sister&#39;s wedding and everyone loved it. The cupcakes are a little denser than a regular cupcake but i like them that way.\n",
      "I have made this recipe several times and always get rave reviews from my friends.  They are always delicious!\n",
      "Wonderful\n",
      "I needed to use up some bananas that were in my freezer plus go to a potluck so thought this would be a great recipe to make. HOWEVER I made mini cupcakes instead of the bars. They turned out great! It yielded 60 minis and I baked them at 350 for 12 min. I only made half the frosting and added that to some store bought cream cheese frosting that I already had in the frig. and also only used 1 cup powdered sugar. Then I topped the cupcakes with toasted, chopped walnuts. Needless to say there were no leftovers for me to bring home! Oh well, guess I&#39;ll just have to make more!!\n",
      "This is my 4th year in a row baking this cake. It is outstanding!!! Don’t forget to add boiling water or boiling coffee as your last step to making the batter. It’s easy to read past it in the directions.  This is my favorite chocolate cake and my husband loves having it every year on his birthday... also his favorite!\n",
      "Very moist cake; made using a cupcake pan without cupcake papers then and topped with strawberries and ganache using 6oz of semi-sweet choc &amp; 1 cup heavy whip cream melted in pan.  I then hand dipped each cupcake and served in a cupcake foil.  Looked and tasted awesome!\n",
      "Yummy yummy! I have adapted to making it in the slow cooker; I also add a few dashed of chili seasoning when cooking the chix and onion in the skillet before adding to the crock pot. \n",
      "Ok,  I&#39;ve made these 3 or 4 times now and they always come out greasy. I follow the recipe and use cream instead of milk, and there is always pockets of grease when I take them from the oven.  The flavor is good,  potatoes are done,  but grease on top.   Any suggestions? ...Rick.   rick@drenfam.com\n",
      "We only made one small change to the recipe, we omitted the sage &amp; added cayenne. It was amazing!! This is our new go to enchilada recipe!\n",
      "This is amazing! I used Reese&#39;s Oreos. Hubby loves it.\n",
      "VERY GOOD\n",
      "This recipe makes perfect ginger cookies.  I used a medium Oxo cookie scoop and got exactly 2 dozen cookies.  After taking the cookies out of the oven, I pressed each cookie down with the bottom of a glass to make them less puffy and give them more cracks.  I needed flat cookies because I used these to make pumpkin ice cream sandwiches.\n",
      "Easy recipe to follow; nice textured bread.\n",
      "These are so moist and tasty and pretty too!  I make these whenever I have guests over during the fall season!\n",
      "This recipe is definitely a keeper - added red chili flakes, extra garlic, and some rice vinegar at the end - very good but will add a few crunchy noodles as garnish!!  Nummy num nums!!!\n",
      "I&#39;ve made this salad several times.  Each time it is a crowd pleaser!\n",
      "A big hit with family &amp; friends.  Love the crunchy vegetables!\n",
      "This recipe really good I definitely make it again\n",
      "The bars are alright but nothing special. I used just one cup of sugar in the filling and it turned out fine. I think the crust is too thick. The topping doesn&#39;t add much to the recipe and I think it is unnecessary.\n",
      "Very good! I didn&#39;t have any of the spices but had a pack of white chicken chili seasoning and used it.  I also left out the green chilies since I have young children.  Because we have 6 people in our family I added 2 more cans of beans and more broth to stretch it further.  Still very good.  Gonna add this to  my regular winter recipes\n",
      "Have been on the hunt for the best Stuffed Pepper Soup and this is it!  I used a box of beef broth (and no added salt) for half of the water and a can of Italian tomato sauce.  Also added 3/4 cup orzo pasta.  I debated using the brown sugar but don&#39;t be afraid..it is delicious!\n",
      "This recipe was so quick to fix and really delicious.  My family said it&#39;s a keeper.\n",
      "I just made this for the second time in a week. OMG it is great and EASY. I saw asparagus on sale and thought ??? Again OMG. I also made a double batch. My husband doesn’t eat mushrooms but my best friend does and we are glad not to share with more.\n",
      "Very nice flavor.  The only problem I had was with the consistancy - it was more like soup than chili.\n",
      "This was a great recipe and really easy to make! I used granny smith apples. It was a little sweet but by reading other reviews, maybe I will add a little mor flour next time. Yum!\n",
      "I really, really, really loved this soup!!!  I took it to a Wednesday evening church dinner and was asked for the recipe by five different people.  I did leave out the wine and the extra chicken broth; otherwise, followed the recipe to a tee.\n",
      "This was an instant favorite! Instead of the cookie crust, I broke up some leftover brownies. I also layered mine in a clear, glass bowl, alternating each layer at least twice...it just dressed it up a little and added some eye-appeal.\n",
      "THIS WAS A GREAT CHICKEN RECIPE....THANK YOU...SONNY\n",
      "Awesome!  Pancakes are an all-time fav here at our house. These are more wholesome and healthier than the kind I usually make! Thank you for sharing this fantastic recipe!\n",
      "This bread is absolutely delicious! I agree with the title, it is the BEST EVER banana bread! I leave out the nuts and add a bit more banana, but other than that it&#39;s perfect as is :)\n",
      "LOVE THIS!!!!\n",
      "This was absolutely a hit!!  The orange juice and the red pepper flakes made it so!  I also added some fresh orange zest to the pot, and I&#39;m looking forward  to sharing this with other friends and family!  Don&#39;t like the kick?  just use less!\n",
      "So scrumptious!!!! Just what you expect from a chocolate cake! Will make it again!!!\n",
      "Very good receipe. Didn&#39;t have green pepper so used a whole red pepper and 6 chesse Italian blend for the mozzarella. The wife wants me to make this next week for her girls card party.\n",
      "Too sweet. Didn’t care for all the oatmeal either.\n",
      "We were just sad this didn&#39;t make more!  I would not call this 5 servings.  It was just barely enough for the 3 of us and my son is only 5!\n",
      "This was one of my Mom&#39;s most-requested recipes. This is so delicious, and the light, not-too-sweet   frosting brings back memories of Mom...! This recipe is a classic, and never disappoints!\n",
      "Made this tonight and we both loved it.  Since I just had regular tomato sauce, I added Italian seasoning and some garlic powder.  Definitely a keeper.\n",
      "It tastes really good. You must like the combinations.\n",
      "I loved this recipe!  The flavors are great.  I made this exactly as stated and wouldn&#39;t change a thing!\n",
      "Awesome cake!  Outstanding several days later as well! Didn&#39;t change a thing.\n",
      "Wonderful!\n",
      "A true favorite of my husbands! He loves the sauce.\n",
      "Guys, if you need a fast, easy,  recipe with limited ingredients that you can switch out this is the one!. It comes out fast and great tasting, I substitute swiss chard for spinach, grew mountains of it, threw in half a bag of frozen tortellini as the fresh only comes 5 oz packages at my store. Adjust the red pepper flakes as your family likes. Keeping this one for that need a quick healthy dinner.\n",
      "My husband enjoyed, and said&#34;make it again&#34; which is his 5 star rating.\n",
      "Brown the chops then bake for an hour?  I would think this would overcook the chops.  Chops are best at 145° f,  which is USDA safe for today&#39;s pork.  I have found browning is often sufficient to nearly reach this temp.  Cooking according to this recipe is a throwback to when a pork chop had to be cooked until it was dry. Cooking above 145°f squeezes the internal fat and juice out of the meat fibers as they contract. The hotter the meat, the more squeezing.  Pork today is much leaner than years ago when it had to be cooked much higher to be safe to eat (to avoid Trichinosis).  I suggest baking the potatoes and sauce first then add the browned meat maybe the last 15 minutes depending on the internal temperature of the browned chops.  Ideally, pull when the meat reaches 145°f.\n",
      "<p>Always looking for a healthy soup that will be suitable for my gluten-free friend and my diabetic friend. This was a winner. Easy to make (hardest part was breaking up the cauliflower) and delicious. </p>\n",
      "Really easy to make. I added mushrooms to mine, and I used soy &#34;ground beef&#34; (vegetarian), and it turned out well. Nothing too exciting, but easy and cheap! Can&#39;t go wrong there!\n",
      "These bars are what pumpkin bars should be!! delicious and moist. I chilled them several hours before serving them. I plan on making them again for the upcoming holidays.\n",
      "I made this for supper.  My husband said he liked it but frankly I did not.  I will not be making this again.\n",
      "Fantastic, but mild. I added half a Carolina Reaper. Delish! The hubby  said he detested white chili. As this was simmering, hubby said &#34;Boy, that sure smells great! When do we eat?&#34; He asked me to make more to freeze for later. LOL!\n",
      "This is a wonderful cake. I also have made it in a 13 by 9 sheet cake and it is great. I wish that all those that rate without trying a recipe would please stop. There are forums to ask questions in to understand  components in the instructions BEFORE rating and this would be helpful to them and eliminate unfair ratings for the recipes.\n",
      "Excellent! Will definitely make again.  Added a side salad and glass of wine to complement the meal.\n",
      "We had it for dinner and was very very good and quick to make give it a 5 star mary\n",
      "I made this recipe as is.  When my boyfriend saw the dish for just two of us, he asked if he should invite the neighbors.  By the time we finished there was not enough left for the neighbors.  It was so good!  I like to try a lot of different recipes, but this is one that my boyfriend has requested that I make again.\n",
      "This is a great recipe but it only made 36 cupcakes, not 48. If I made them again I would cut the frosting recipe in half...WAY too much left over!\n",
      "It&#39;s goooood!\n",
      "A co-worker of mine is allergic to chocolate and nuts, so I made them with butterscotch chips.  They seemed to be a good pair tasting with the vanilla pudding.\n",
      "I have made this recipe for 3 different chili cookoffs... and have won first every time! Also, it&#39;s a great alternative to chili dinners for those who can not have regular tomato-based chili. I&#39;ve served this to over 100 people, and I&#39;m yet to find someone who did not love it.\n",
      "looking very delicious\n",
      "The recipe was blend so I ate dried herbs, more salt, onion and garlic powder. After doing that it was amazing\n",
      "Delicious easy meal. I used impossible meat instead of pork for my vegetarian husband. I also added mushrooms and zucchini.  We served it with yum yum sauce and that really took it to next level!\n",
      "This was so yummy!!  I actually made it in to mini pot pies using a muffin tin.  They were perfect size for my kids, who really liked it.  I just halved the recipe and used a 4 inch round cutter for the bottom and a 3 inch round for the top and cut it out of the store-bought pie crust.  I also brushed the tops with an egg wash.\n",
      "Easy and makes a batch big enough for my ginormous family!  I used buttermilk, as I was low on milk and had some buttermilk that needed to be used up.  Delectable!\n",
      "The sweetness of the cream cheese mixture and strawberries is a nice contrast to the saltiness and crunch of the pretzels. I&#39;ve made this recipe as a side dish, snack, and dessert!\n",
      "I absolutely LOVE this, it&#39;s wonderful!\n",
      "Tasted this in a restaurant years ago, this is the closest to that recipe  I have ever had , it is wonderful.\n",
      "During yesterday&#39;s snowstorm I made this rich and creamy soup. I use milk and had to use a little extra as the soup was too thick. I also pureed the vegetables before adding the milk and cheese mixture. Serve with salad and fresh bread. My husband lived it. Good thing I doubled the recipe!\n",
      "Love this dish! Always make 2 pans, 1 with pasta and the other with spaghetti squash (cut open remove seeds ect then rub with cut garlic and olive oil,bake about 45 min.when cooled scrape out &#34;noodles&#34;) we all actually like the squash better plus it&#39;s diabetic and figure friendly. I mix soup in with sauce cause it&#39;s easier and tastes fine. Try this you&#39;ll love it.\n",
      "I cannot recommend this recipe enough! I&#39;ve been into baking for years, since before I found out that I was gluten intolerant, and it&#39;s been hard to find a banana bread recipe that isn&#39;t too dense or too try. This is the one! After reading the comments, I made the following substitutions, which yielded an incredibly moist and flavorful banana bread:- 3/4 brown sugar; a good squirt of honey (instead of 1 c sugar)- 1/2 c plain greek yogurt (instead of 1/2 c applesauce)- 1/3 c coconut oil (instead of canola)- omitted nuts and added coconutMade 2 mini muffin tins and one loaf\n",
      "This soup was really good.  I was skeptical but the photograph looked so good, I decided to try it.  It was my first time making it so I followed the recipe.  Next time I make this, I will cut back on the amount of water but other than that - it was perfect.  It does actually taste just like stuffed peppers with much LESS work.\n",
      "This recipe is awesome as is!  My husband recommended broiling the chicken in our toaster oven to keep the meat tender, 10 minutes per side , and while cooking the vegetables in the pan.  It came together very quickly and turned out great!\n",
      "If I made this again, I would reduce the butter by half, it was too greasy for me. Taste was ok but not good enough to make again.\n",
      "I&#39;ll never understand why people insist on changing things about the recipe then rating it especially giving it a bad rating.  You didn&#39;t technically make the recipe so don&#39;t rate it.   That being said this chili/soup is awesome just as it is.   I make it multiple times throughout the fall and winter.  I freese it in single.swvings in ziplocks and have a ready to heat and eat lunch.  The pumpkin gives it a richness without tasting pumpkiny.   Just the right amount of spice.\n",
      "I always receive rave reviews when I make this, so it&#39;s worth the hassle. It&#39;s amazing in taste and visually stunning.\n",
      "This bread was good and moist but very sweet.  Too much sugar in this recipe in my opinion.\n",
      "Wow! I was very impressed  with the texture and taste of this cake. It was great served  with  fresh fruit and next time I  may serve  it with lemon  curd. Sooo easy !!\n",
      "Excellent recipe! Everyone was pleased with the outcome. I have been asked to make it again in the future. Great for a cold, blah day. This one is a keeper!\n",
      "This was very good!  First time trying a chicken chili, yum!  DH said to put it on the list to make again.\n",
      "Very good Lasagna.  I was surprised it was done in that short amount of time, but it was.  I used spaghetti sauce as suggested by other reviews and used a slow cooker liner which made it easy to remove and made cleanup a breeze.  Not sure what I&#39;m going to with all the leftovers as it&#39;s just my husband and me.  I&#39;ll let it cool overnight and split it up in another 3 portions.  Three more meals headed for the freezer.  Thank you Lisa for the recipe.\n",
      "I love this recipe.  It is quick and is so yummy.\n",
      "This was a hit at our family Christmas party!  I put more ganache on and Grandpa asked if I really made it or bought it!  :)\n",
      "This is one of the best banana breads ever.  The one loaf was eaten in a day and I froze the other which we had for Thanksgiving morning and it received rave reviews from guests.  Thanks for the great recipe!\n",
      "I used hot sausage and added more sausage/pasta than it called for and it turned out GREAT!  My husband loved it and I love it!\n",
      "My family loves this recipe!! It&#39;s absolutely delicious!\n",
      "My new go to chicken recipe.  I double the mushrooms &amp; butter and add a 1/2 c. white wine to the broth.  We like lots of gravy to serve with the mashed potatoes I serve with this along with either green beans (my husbands favorite) or corn.  Great meal that is quick &amp; easy.\n",
      "This is hands down the best meatloaf I have ever eaten..My 13 year old grandson loved it, what better compliment than that!! There was enough for dinner and leftover for hot meatloaf sandwiches..the sweet and sour sauce is amazing!!\n",
      "Used Red, Yellow, and Orange Peppers in addition to the Green.  Had to leave, so after bringing to boil, covered, turned off the heat.  Came back 2.5 hours later - It was outstanding!!Definitely will make again!\n",
      "Love it!  Also good with Cod.  Will try it this summer with Lake perch and Walleye.\n",
      "We just made this again and it is so good! We used a different kind of noodle and just put some sour cream in our own bowls instead of the pan. SOOO good!!\n",
      "These are amazing though I did make some slight modifications. I used 3 bananas (slight,y over one cup and I used a 9x13 pan and had it cook about 35 minutes (I checked after 25 and still runny in middle. Check it after 5 min, 2x). I also used about half the confectioners sugar it called for the frosting and it was perfect!!!!\n",
      "this is so easy to make..and taste great..i like it with out the frosting on it to..\n",
      "Like Laura, I used a variety of mushrooms (1 lb), a whole finely chopped sweet onion and then 1/4 tsp thyme in addition to the basic recipe.  It has excellent flavor and texture and is so easy to make too.\n",
      "This is THE chocolate cake recipe in our house. We love it both plain and or with the frosting.  We like the frosting because it&#39;s not overly sweet as so many frostings tend to be.  Our older son insisted on this cake for every birthday when he was little.  A surefire winner!\n",
      "A wonderful first-time addition to our Thanksgiving meal that will now become a family tradition.  The whole family, from youngest to oldest, loved it.  I followed the recipe as written except I substituted about 2 cups of our home-grown frozen corn for the whole kernel corn.\n",
      "This was delicious and so quick and easy to make with simple ingredients.  This is a keeper!\n",
      "This is a good basic Jambalaya recipe. All of the core ingredients are here, however the cayenne and hot pepper just make it hot. vs. a balanced blend of flavors with the other herbs. In order to supplement the flavor, we cut back on the salt and added Worcestershire. Made this due to the convenience of the slow cooker, however time permitting I would use my old stand by southern Jambalaya recipe in the future.\n",
      "This is so easy to make and my family just loved it. Terri Ann\n",
      "This is wonderful!!! I will definitely make it again! Five stars all the way!!!\n",
      "Awesome!! I have made this a couple of times... I use WAY more mushrooms and chicken broth so I have lots to add to each chicken. I also add garlic and use shredded parmesan - THIS is SOOOO good!!!\n",
      "Excellent!!! A perfect amount of spice!!! Loved it. Will make it again and again.\n",
      "I have never been a meatloaf lover, but this recipe changed my mind. Whole family enjoyed. Well make again!\n",
      "I made this recipe exactly as written and mine came out much drier I think it should have. We were really disappointed in it the first night. The second night I served with sour cream and enchilada sauce and it was much better but still not something that I would make it again. IF I did make it again I would make some changes one of which would be to incorporate the sour cream and the enchilada sauce into the layers. I would liked to have given this 2 ½ stars. It was not awful so I did not want to give it 2 stars just not that special. It does make a lot.\n",
      "We have made this many times and love it.  I use pizza sauce instead of tomato sauce which is more flavorful.  To lighten it up a little, we use 2 percent cheese and turkey italian sausage or turkey pepperoni.  Very easy to freeze and take in my lunch later too.\n",
      "Wow, these are amazing! After reading the reviews I followed the suggestions of cutting back on the sugar to 1 1/2 cups and adding 1/2 cup of chopped walnuts. I did not make as much frosting as the recipe called for and also cut back on the amount of cream cheese (not a big fan). This recipe is definitely a keeper!\n",
      "Have been making this dish for our Christmas gathering for a number of years now.  Everyone loves it! So easy too!\n",
      "This is my never fail fudge. Because it is timed it is always yummy and perfect!\n",
      "I made this pie for St Patrick&#39;s Day. As lime is not my favorite, I will make it only for special occasions like St. Patrick&#39;s Day, but it was quick and easy. However, I found that all the jello did not get completely &#39;folded in&#39; as there were a few chewy pieces of the jello spread throughout the pie. I also found that the crust apparently absorbed some liquid from the filling as it was a little softer than I would have liked. Maybe that was because I used Dream Whip instead of Cool Whip which I did not have on hand and no time to go out and purchase some.\n",
      "I made this recipe for a large family gathering.  Every woman there asked for the recipe - even those who usually bypass lite desserts.  I will definitely make it again....and again....and again....\n",
      "As per other comments, my mom made these for our family when I was growing up. She did not serve them with rice, but she wouldn&#39;t cook them in a deeper Dutch oven, and towards the end of cooking would cut up a green cabbage and cut the quarters into halves and place those pieces all around the meatballs and down into the tomato sauce. I remember just hearing contented sighs, slurps, and &#34;Mmm&#39;s&#34; at the dinner table. No talking. I need to make this for my family since I haven&#39;t done it in a long time. Thank you for the memory!\n",
      "Wonderfully easy and flavorful.\n",
      "margycravath@gmail.com  Great recipe..I added a touch  of prepared mustard and a capsule apple cider vinegar to ketchup\n",
      "This recipe was easy and delicious! A new family favorite! Even pleasing for the harder-to-please eaters.\n",
      "These pancakes truly were light, fluffy, and delicious. I added about 1/2 tsp of cinnamon to the dry ingredients and 1 tsp vanilla to the wet ingredients. My family loves vanilla flavored pancakes. I also dropped fresh blueberries onto each pancake while the first side was cooking. I had a bit of trouble combining the melted shortening with the milk and egg. Ultimately, I heated the milk and shortening together in the microwave for about 30 seconds and then whisked them together vigorously while adding the egg. Not sure if that&#39;s the best technique, but I was pleased with the product.\n",
      "This is an awesome combination of “light” ingredients pulling together a taste beyond expectations.  The flavors of pineapple mix very well with the yellow cake and combination of FF cream cheese and sugar-free pudding.  Everyone was most impressed.The next time I make it I might try a white cake and ever so slightly increase the crushed pineapple, perhaps using 1.5 cans.As rated, this is a 5 star in the light desert category!\n",
      "This was absolutely delicious--I made it exactly according to the recipe and it turned out perfectly. I was thinking of adding some spinach or eggplant for a little extra color but I&#39;m glad I didn&#39;t. Will be making and sharing this recipe often!\n",
      "Yummy!  This is such a great way to use up leftover mashed potatoes.\n",
      "This recipe is probably one of the best pot pie recipes I’ve eaten!  Very filling!\n",
      "Very tasty! Would definitely make this again!\n",
      "I really liked this recipe. It was a nice change from tomato base. I liked the mushroom soup in it.\n",
      "I just pulled this out of my recipe clips file last night to make for this holiday season.  I don&#39;t recall changing a thing when I made them for the first time last year, and they came out great!   I plan to double this year since my fam went crazy over these...fool proof, simple and yummy; my kind of recipe!  Also follow the previous reviewer&#39;s advice about lining the pan with foil.  That made it a lot easier to get it out cleanly.\n",
      "Omg the best! I used this recipe for the first time last night. The bread came out PERFECT! So moist and delicious, my daughter couldn&#39;t get enough. I used a glass loaf dish and followed the directions step by step. Will definitely use this recipe again\n",
      "Fantastic!  My husband loves spicy foods, but the kids and I do not.  So I compromised and used half the called-for amounts of both the green chiles and the cayenne.  The result was a dish that was a hit across the board!  After the first bite, all were requesting that this become a regular on our family dinner table.\n",
      "Delicious!  Love it!  Can it be frozen?  I didn&#39;t think so.\n",
      "I have been searching for a good peach cobbler recipe. So many turn out like a cake with peaches in them. Dry. Not like I had growing up. My husband brought some fresh Palisade Colorado peaches home this past weekend from his trip and I searched again for a recipe that was not dry. I will search no farther. This was perfect!!  My husband loved it!\n",
      "love this cake!!!\n",
      "Very good, we especially liked the sauce.\n",
      "My family loved this recipe!  I added carrots rather than the peas.  I also added Tony Chachere&#39;s seasoning to the hamburger mixture and paprika sprinkled on the mashed potatoes.  Excellent!\n",
      "These are delicious! I didn&#39;t have orange juice so I substituted equal amount lemon juice and it worked well! The frosting is delicious!\n",
      "I loved this recipe because it was fast and easy. Tasted amazing! This is a great meal to make if you have a busy schedule. My husband loved it, and wants me to make it again very soon!\n",
      "I make this all the time my boys love it. It is very easy and tasty\n",
      "very good and easy\n",
      "This was really good! Super cheesy though, kinda tasted like au gratin potatoes. My husband loves Velveeta so he gobbled it up. I put in diced ham instead of bacon because it&#39;s what I had on hand.  Will definitely make it again.\n",
      "This is just what lasagna should taste like, rich and delicious and like a warm food hug ! The sauce is incredible, even more so after adding a 1/4 cup of red wine! Added lots more tomato sauce after reading other reviews and it definitely was needed. Worth the effort to put such a tasty dish out for the family :)\n",
      "Pat Milo try it with real mozzarella and ricotta.  cottage cheese cannot compare.  you can leave out the meat.  we like it without meat.\n",
      "The Best Chicken Potpie Ever!!  The first time we prepared this it was great.  The second time and after we knew what we were doing...it was the best!!  Thank you so much for sharing this recipe!!\n",
      "Excellent!\n",
      "This was such an easy and delicious recipe!  I would decrease the amount of Worcestershire sauce.  I made the topping with half of the pie with the white potatoes and the other half I used mashed sweet potatoes (just salt, pepper, little butter and milk).  The sweet potato side went faster than the traditional potato side.  Thank you for this recipe!\n",
      "Delicioso!!  Awesome recipe.\n",
      "really good, i used oil also and just a little more sugar, wonderful!!\n",
      "This is my favorite banana bread recipe.  The cream cheese adds such a delicious flavor and richness to the bread.  And I dearly love the pecans and orange glaze on top.  It&#39;s very delicious bread.\n",
      "This was a very flavorful chili.  I used ground turkey and a can of diced tomatoes with green chilies.  It could easily be adapted to ground beef as well if that is your preference.  I would definitely make this chili again.\n",
      "This will be my staple.  Absolutely delicious.  I live cauliflower soup.  This is my favorite.\n",
      "Over and over and over. This is by far the best apple pie recipe I have found.\n",
      "Easy &amp; simple recipe to follow.   Delicious every time!!\n",
      "This has the taste and texture of the pound cake I remember as a child. Absolutely delicious.\n",
      "This was fabulous!\n",
      "This is the best breakfast casserole I&#39;ve ever made or eaten.  I take it to our monthly birthday parties at work and get lots of raves and asking for the recipe.  I use sausage and add more eggs than what it calls for.\n",
      "I made this recipe a couple weeks ago, but didn&#39;t buy the second pie crust. I froze the remaining mixture, and after getting a second crust, my other pie is now in the oven, and I can hardly wait to eat it! This is a very tasty recipe, and I plan on making it in the future! Thank you!\n",
      "Great Soup, Time consuming...well worth it though. I made double batch and froze seom for later!\n",
      "Just made this for dinner and it was fantastic.  I made it in 30 minutes flat by cutting the chicken breasts thin and cooking the bacon in the microwave.  Served it over rice with a side of green beans and pillsbury biscuits...tasted great and looked good too.\n",
      "I would have given this 5 stars, however, it definitely lacks cinnamon and nutmeg!  I should have read the reviews before I made it.  I think with those additions, this would be a 10 star pie!  LOVE the crust!  I love that it adds more texture and flavor vs a standard crust.  I might even add some finely chopped walnuts or pecans to the streusel topping!\n",
      "Delish! Added retried beans, no Italian seasoning. Even my kids loved it. Will make again\n",
      "These are very good banana bars. I think next time, I will cut the frosting in half, too much frosting for me.  The bars were already good, so much frosting seemed to overpower them.\n",
      "Made this per recipe but omitted the onions and used my homemade pie crust.  It was very good and have lots of sauce which some potpies do not have.\n",
      "We liked this soup, it had a good start to the flavor. I did add more salt and pepper than was called for. I made few other changes too:  I sauteed the chopped onion in some of the bacon fat before I added the chicken broth; I heated up the milk before adding it to the hot broth and potatoes (so it wouldn&#39;t curdle when added); finally, I pureed the soup before adding the cheese. It came out very creamy and smooth that way!\n",
      "I have made this delicious recipe for years. It has always turned out wonderful, receives great reviews and many requests for the recipe! I prefer a coarser chop on the pretzels (rather than totally crushed and use 2 2/3 c because of this). Do let it cool completely. Cream the softened cream cheese and sugar we&#39;ll before folding in the whipped topping. This makes it easier to spread. Be sure to seal all of the edges to the side of the pan and the partially set jello/strawberry mix will not soak into the other layers. Yummy!\n",
      "Best waffle I have ever made. I&#39;m allergic to bananas, but overall the pancakes were worth the near death experience. They say that you can see the light when you&#39;re about to die, but, the only light i was seeing was because of the taste of the cupcakes. They were AMAZING.  I almost died...\n",
      "This is delicious corn bread.  I don’t care what you want to call it.  Thanks Nicole.\n",
      "I absolutely love the marriage between chocolate and peanut butter so when I saw this I had to make it. It was so good that my friend and I ate it until we were insanely full and didn&#39;t feel good anymore. (so the amount this recipe calls forgoes a long way for a lot of guests since its so rick). Also, crush your cookies VERY well, use more butter, and melt it so that your crust remains in tack!!!! excellent. Im making it again tonight for a company bbq!\n",
      "this sounds delish. i like the pineapple suggestion, do you use tidbits, drained for that? i will be making this next time i can get ome pumpkin at the store. yumm\n",
      "This is unbelievable. I used sliced baby portabella mushrooms  I added some leftover white wine it was really elegant.\n",
      "Easy and great tasting recipe! Thanks for sharing\n",
      "Awesome i made this for a party and next time i&#39;ll have to double it! Everyone wanted seconds!\n",
      "<p>My husband and I really enjoyed this baked spaghetti.  My only change I made was to leave out the olives because we aren&#39;t fans of them.  Next time, to appeal more to the kids I will likely used crushed tomatoes instead of diced because they turned their noses up at the &#34;tomato chunks&#34;, and be sure to dice up the peppers smaller than I did.</p>\n",
      "Delicious!  Just the two of us and my husband almost ate the whole dish ! He said if he was at a party he&#39;d fill half his plate up with this salad. Very good.\n",
      "So easy and so delicious!\n",
      "Great recipe! Fast and delicious.  My 6 year old loves it and he is a tough critic. Btw I used both sweet and spicy sausage.\n",
      "<p>Such a delicious recipe!</p>\n",
      "People just rave every time... &#34;Way better than Reese&#39;s!&#34;\n",
      "AS IS only a 2 because there is no taste/flavor. I may make this again with these changes. 1) I&#39;d put the pineapple juice in the cake in place of the water. 2) I may tried putting a 2nd can of pineapple in the cake to  for more flavor. If that doesn&#39;t do it, then I could try the trifle as others suggested. This is something that &#34;feels&#34; light after a meal.\n",
      "i made this key lime pie on st pattys day.i thought i would try making the gelatin with lime juice. it was a hit,i myself that it was too sour,but guests overruled me....\n",
      "This recipe is a keeper, it has a very nice flavor. Will make it again.\n",
      "omg!! so delicious. it tasted better than any restaurant dish i have had. did everything as directed. only change added salt and crushed red pepper flakes and some white wine. we added the cooked pasta at the end and mixed everything together and it was beyond anything i have ever made. wow!!\n",
      "I always add diced bell peppers to my meatloaf.  And several  slices of bread.  Crackers would add to much salt.\n",
      "A very simple and delicious recipe. Make this recipe once and you will never forget how quick, and easy it is ! From pan to the table in no time at all.  I cut a few corners by using store bought coleslaw. It worked just fine. I also had no rice noodles so I broke up a handful of thin spaghetti *  That also worked just fine.  Winner indeed!JanieTaste of Home Volunteer Food Editor\n",
      "This was soooo good and easy.  I took it to work and everyone loved it!  I followed the recipe except I did put 10 eggs.  Next time I think I will add green pepper and mushrooms.  You can&#39;t taste the cottage cheese but don&#39;t leave it out...I think it inhances the taste of the other cheeses.\n",
      "I didn&#39;t have veg oil so I used coconut oil same amount and 2 bananas instead of 3 it was a awesome recipe taste amazing!!!!\n",
      "One of the best recipes I&#39;ve tried. Bread was moist.  Kids and nephews ate it all up.   Will definitely be making this again.If you&#39;re going to be making mini loaves like I did you&#39;ll need to set your timer to 30 minutes instead of1 hour.\n",
      "The first two loaves I made were gone in less than two days. My kids were in love. Then I made two more and those were gone almost as fast. I have now made a total of 8 loaves and we stopped buying bread from the store. I cook it 30 mins, baste them with butter and then cook them 5 more minutes. Then I baste them again when I take them out. I didn&#39;t have canola oil so I just use vegetable and it&#39;s amazing!\n",
      "I use this recipe for my jalepeno cheese bread also I love this recipe\n",
      "Excellent Cake!  I am so glad for the reviews or I would not have made this cake and that would have been our loss!  Thanks for the recipes and the especially the reviews.  They so make a difference!\n",
      "This should be called &#34;Basic, but Delicious Banana Muffins&#34; because these come out great everytime.  Sometimes I add chocolate chips for an extra treat!\n",
      "I doubled ALL the veggies, used half and half instead of milk and added one cup of sharp cheddar.  Mmmm Mmmm Good!\n",
      "It was just okay.\n",
      "This is one of our very favorite recipes.  We like to double the sauce ingredients and serve fresh steamed broccoli on the side.\n",
      "Wow!  This was super creamy and tasty!  I, too, added some onion, carrot, and celery, as well as cut back drastically on the sour cream.  I also added more broth and used medium egg noodles, just because it was preference.  Even with those changes, the recipe as written would still be just as good.  I&#39;m pretty sure I&#39;ll keep this recipe instead of my previous one.  Give this one a try, you won&#39;t be disappointed.\n",
      "After I wrote my review I was reading all the others and quite a few was talking about it being watery. First, let it stand about 20-30 minutes then squeeze it out by handfuls, that really helps, but I found if I baked the crust about 30-35 minutes or longer before adding the sauce makes for a firmer crust. Love it!\n",
      "Made this for my coworkers and it was a humongous hit! Didn’t change a thing and will definitely be making it often!!\n",
      "Amazingly delicious\n",
      "Love this recipe!  I cook it in the crock pot!  I have substituted venison for the ground beef.\n",
      "I have made this cake several times and it gets raves galore.  Was told by an elderly gent&#39; that it was by far the best chocalate cake ever.  I have to agree, it is moist and no-one would ever guess it begins with a cake mix.  There is never any left overs.\n",
      "very good but too messy to be practical.  It does not set up well and must be refrigerated.  I made them for Valentine gifts but can not include them on a tray.  I will have to give them out separately- from my frige to theirs.  I will not make again!\n",
      "I was wary using pork sausage, but what a great flavor it added to this dish! This was a big hit with the family.\n",
      "I just love this recipe.  I don&#39;t ever make the glaze.  It&#39;s so yummy, who needs it?  My one change is that I use glazed pecans, like &#34;pecan pie&#34; glazed or honey glazed, that I chop rather than plain pecans.\n",
      "Great recipe.  I would defiantly make these again.\n",
      "Too much icing left over. Could I use the already made cream cheese frosting in the tub?\n",
      "Delicious soup! I skipped the basil and added chopped green chile. Now my hubby&#39;s favorite soup! Thanks for sharing the recipe!\n",
      "This is a good base to start from. I use broth in place of water in any meat based recipe - have used beef or mushroom in similar recipes. I don&#39;t like adding flavouring cubes, granules or liquids if they contain MSG and other chemicals I check for - I&#39;d rather get flavour from natural sources so my allergies don&#39;t act up, plus it&#39;s healthier. I have used corn and peas, also mixed frozen veggies and peas and carrots - whatever I have on hand - or am in the mood for. I have been known to make the meat and veggie mixture - in multiples of the amount in this recipe -  in a Dutch oven so I can freeze some for later use. Have also added mushrooms, fresh (preferably) or canned. I always grind a generous amount of pepper into the base - always taking samples for tasting before  calling it complete - the same with salt - which I go easy on. The sour cream is a nice twist and I have also used cream cheese in the base. Sooooo many possibilities! Thanks for sharing.\n",
      "Best strawberry cake ever!  I made this as a birthday cake with an additional lemon cake layer per the request of my 17-year-old daughter.  Moist, homemade flavor even though it&#39;s from a box and has flavored gelatin. I was skeptical, but now throughly impressed. It was a real hit! I use a good avocado oil for baking instead of canola or veg oil. I used a food chopper to chop  strawberries. They were perfect! Not too fine and not too big. I used the frosting recipe - ingredients only but with different measurements, plus added cream cheese to it and made it as a filling between the layers ( not nearly as sweet that way, as others had mentioned), and frosted with White icing.  I tripled  this recipe and baked it in a 12 x 12 x 2 pan.  Only used about 2 1/2 of the recipes  instead of the full tripled amount to fill the pan.  It came out perfect!   I used  nonstick spray on pan as well as the parchment paper and sprayed paper. Do not let cake cool completely in pan. Only cool cake about 10-15 min on a cooling rack.  Took a knife and wen along the edges of the pan to release any possibly stuck sides. I noticed that the gelatin with the sugar may stick a little bit, but it&#39;s not bad. Then placed another piece of parchment paper on the top of the cake, placed cooling rack on top of the cake and while holding both cooling rack and pan flipped cake over and let it sit for a moment. Shook gently. Removed pan. Nothing stuck!  Just a thought, but  usually can&#39;t go wrong when a cake recipe begins with Mamaw.\n",
      "These were very good and flavorful! They are easy to make and a crowd pleaser.\n",
      "The icing was the best part of these!!! The cupcakes themselves were quite delicious but the icing definitely topped these off.\n",
      "Made into mini loaves as gifts - baked the mini loaves at 350 for 35 minutes. Left out walnuts and raisins, but topped with powdered sugar. This bread is really delicious and tastes like Autumn.\n",
      "Very tasty, filling and makes you want more!\n",
      "Didn&#39;t try yet!  But will definitely try it this Thanksgiving!  Thanks for making it easier to make!\n",
      "I always make these ahead and freeze them when I&#39;m using up leftover chicken or turkey.I have one little trick I use, I buy two pre-made pie crusts and only one package of therefrigerated rolled out pie crust.  I can freeze the pies, ready-to-bake without having to do so in my pie plates.I fill the ready made crusts with the filling, then brush the edges with egg wash, top with pie crust sheets and press firmly with fork to adhere together.This makes the perfect, &#39;no clean up&#39; dinner for busy days, especially during the holidays.\n",
      "i used a can of Mexican stewed tomatoes instead of salsa and added a can of corn and some diced jalapenos.  It was delicious!   New favorite!\n",
      "I used coconut oil instead of canola oil. Super good. Everyone loved them\n",
      "Made this tonight and it was delicious.  Very simple to make.  Will be making again in the near future.\n",
      "I prepare a dessert bar for the Fire Dept&#39;s monthly fundraising dinners and I always include a diabetic-friendly dessert.  I will definitely try this recipe.  Key lime pies go over well with our guests, so I know this key-lime-like substitute will make our sugar-conscious guests very happy.  I can&#39;t wait to try it with other flavors, too.  This sounds like a winner. Thanks! (star rating for all things about it; add&#39;l star missing only because I haven&#39;t made it yet!)\n",
      "Love these cookies!!!  I will be making them every year for the Holidays!!\n",
      "I have substituted/exchanged sweet potato and pumpkin in many sweet recipes.  A quicker and just as tasty version of this recipe would be to use an equal amount of sweet potato and, instead of a cream cheese frosting, remove cupcakes about 3 minutes early place a large marshmallow on top and return to the oven for the remaining time or until the marshmallows are slightly melted but still fluffy.\n",
      "please post above comment about the pudding mix.  Is it added without milk or made up first and then added to whipping.  I am going to make it for Easter\n",
      "It has become my new best birthday cake.  Anyone that tastes it raves.  It has a texture a little like bread pudding.  It&#39;s great!\n",
      "Getting the jello to dissolve in the hot water was a bit difficult.The church ladies said it was delicious, and so did my husband.46041\n",
      "One of the best soups ever.  I didn’t use beef bullion but used 1 litre of beef broth and 2 cups of water. Also as others have said, added an onion, chopped celery, garlic, a tablespoon of Worcestershire sauce and a few dashes of hot sauce. If your kids don’t like diced tomatoes, omit them and add an extra can of tomato sauce.\n",
      "I didn&#39;t have canned chicken broth so I used granulated broth. Too Salty. Reduced salt liquid broth would have been preferable. Taste was excellant regardless.\n",
      "I am so happy that I picked this pumpkin recipe to try with my fiance. Very easy to make and I even took other&#39;s advice and added nutmeg and allspice. We even had to stop ourselves from eating all of the cream cheese frosting right out of the bowl. This pumpkin treat is the perfect compliment to any Fall Sunday.\n",
      "This was a great hit as treats my son&#39;s birthday party!\n",
      "Great.  My husband loved it and we will be making it again.\n",
      "loved this soup. I also chopped carrots instead of grating them\n",
      "These were amazing. It was such a great way to use my brown bananas instead of making banana bread. I will say it didn&#39;t feel like a &#34;bar&#34; to me, but more like a shallow banana cake. It was a little dry to me, but I may have over baked it. The frosting  was delicious &amp; the two combined were such a great treat. I will make these again (for sure!) &amp; try to make them a little better on my end, such as not over baking. Great recipe.\n",
      "I used all granny smiths, which weighed 2.97 lbs. The spices and sugar amounts were right on, actually perfecto!  Sliced apples real thin, about 1/16 inch or so. Increased flour to 5 tblsps. Consistency of cooked mixture was very nice. My supreme critic, Wifey, said she would have used a couple of Macs or Fujis, thought a couple of apple slices were a little hard - though she gobbled it down. First time for me with a two crust pie. Will add a Fuji or two in the next attempt with this wonderful recipe.Which will be soon. With ice cream maybe? Perfect on its own.  I used a &#34;1-2-3&#34; crust recipe listed on the net. Excellent and easy pie crust recipe.\n",
      "Been making this for years! Everyone loves it. A friend at work made it with raspberry jello and used the frozen mixed berries. That is my new favorite!\n",
      "The cake is great! One of the best chocolate cakes I&#39;ve ever had. However, I am surprised how many good reviews there are on the frosting. I didn&#39;t like the taste of it. Others I served it to liked it, but I could taste the sour cream. I think a homemade buttercream would be delicious on this cake!\n",
      "Hi. can I omit the sugar in the recipe. we don&#39;t like the bread to be sweet.\n",
      "My husband is very picky! He loved it!\n",
      "A LNG-time family favorite! I&#39;ve  made this many times, with and without the bacon. It&#39;s great both ways. Nothing better on a cold winter day. My husband says he&#39;d  pay for this soup!\n",
      "First time I&#39;ve made a white chili.  We loved it.  I used only one can of chilies and it was plenty of heat for us.  Next time I may add another can of beans, but it is thick enough with the just the two.\n",
      "One bite and my husband said &#39;this is amazing&#39;. I doubled the recipe and had leftovers. I said &#34;I&#39;m going to put the rest in the freezer for another night&#34; and he said NO you&#39;re not, I am eating this tomorrow!&#34;.  I did dice up some tomato and iceburg lettuce and garnish to soup with it when served. The cold lettuce and tomato were awesome with the hot soup. I must give credit to &#34;Diners, Drive Ins, and Dives&#34; for that idea.  We will be having this again.\n",
      "Did not care for I would much rather make mine in the oven .\n",
      "LOVE THIS!!!  I have 5 kids so I am always looking for recipe&#39;s that freeze well.  Both my husband and I could not tell AT ALL that this had been frozen!  It tasted as though I had just made it!  Very yummy and although I have only made it for company twice both have asked for the recipe.  Kids like it too :)\n",
      "Great taste.  Easy to make.cut the grape  in half was the hard part. LOL\n",
      "Excellent recipe!! Made as is except for using a bag of frozen bell peppers and onions.  Definite keeper!!\n",
      "This recipe was delish! I was a bit afraid of it being dry but boy was I wrong! I exchanged some ingredients. Egg whites vs. regular eggs. Stevia vs. real sugar. Coconut oil vs. canola oil. Sea salt vs. table salt. For the gluten free flour I used Bobs Red Mill &#34;sweet&#34; white sorghum flour....my man loved it and so did my little one!!!\n",
      "These are very good and I make them every Christmas as part of my candy cooking.  I use less salt and make one   one quarter of the filling recipe.\n",
      "My first rhubarb dessert for this season,  the crust and the filling were wonderful!  The topping was good but there was way too much of it. I only put half of it on and it was still over powering. One package of cream cheese would have been plenty.  Family suggested we just use cool whip next time so we could taste the rhubarb.   I will make again.  Thanks for the recipe.\n",
      "This is a good base for a taco soup recipe (a good starting point). I found this recipe alone to be far too bland. I added to the recipe cilantro, onion, another taco seasoning packet, sundried tomatoes, chipotle, chili powder, comino, crushed red pepper flakes, salt &amp; pepper. We topped with green onions, cheese &amp; avocado. I definitely would have added more rotel (diced tomatoes with green chilis) if I had the extra can. Also, I nixed the ranch- just because that is crazy to me....ranch does not pair well with tacos &amp; is a rule breaker in our home.\n",
      "Best ginger cookie I&#39;ve made. Love the soft, chewy texture!\n",
      "Pure yumminess\n",
      "I made this for my family one night for dinner. At first, I didn&#39;t think they would like it,because of the black beans. But they all tried it, and they all loved it. Great recipe!\n",
      "I didn&#39;t change anything.  My family loves this recipe and asks for it often.  Love the spices, better than packaged fajita seasoning.\n",
      "Would like to cook in crockpot. Any idea how long to cook ?\n",
      "Was very happy with the way this lasagna tasted.  This is a keeper.\n",
      "This pie filling is the best I have ever had....and I didn&#39;t use a regular pie crust...I used the pie crust from the Dutch Apple Pie recipe...to die for!!!!\n",
      "Terrific recipe!  Our family all loved it.  Toned it down just a bit for our first taste by halving the cayenne and the chilies, and got rave reviews all around! Will absolutely by having this again!\n",
      "This banana bread is very good and moist. I’ve made it several times with and without the nuts and everytime it’s tasty. The cook time might be a bit long bc mine comes out a little darker than I’d expect but the taste is still really good regardless.\n",
      "Has anyone ever tried making this recipe in a large baking dish and cutting into bars?  I&#39;ve got a crowd to feed and think that might be a better way to serve it.  Wondering if it would hold up the same way.\n",
      "I&#39;m not use to baking with zucchini so I have to ask, do you peel it before you shred it, or leave the peeling on?  Thank you for your time.\n",
      "Amazing\n",
      "I started making this recipe years ago when I was about 14 years old my grandmother gifted me a taste of home recipe book and I found this recipe. After I made it the first time it the first time for my parents and brother it was a hit. Now I make it for my husband and five daughters! Such a wonderful recipe and turns out delicious every time!\n",
      "This is the best coleslaw recipe - and so easy!  I have requests for it every time I make it and take it somewhere.\n",
      "I made it exactly as indicated and it was fantastic. I wanted to lick the bowl.  This recipe is a keeper!\n",
      "Can someone help me with this recipe?  I made this a few times and the coating on the chicken will not stay crunchy, it ends up all soggy.   Last year I didn&#39;t have this problem, but now I can&#39;t seem to get it right again.  Any ideas?  This is such an easy recipe I&#39;m embarrassed to be messing it up.  I bake with foil on for 20, without for 20, and then with the tomatoes only 2-3 minutes to warm them.  Any ideas??  Please??\n",
      "I added more pepper and used shredded cheese.  And I threw all in the crock pot.  Super easy and very good.  Would make again.\n",
      "My husband and I love this recipe.  Instead of loaves I make muffins and reduce the baking time to 30 minutes.  I also add a cup of Hersey&#39;s Cinnamon Chips.  Yum!\n",
      "I have made this soup for years - it&#39;s still a favorite of my kids - my son continues to request it when he comes over for a meal. I make a big batch so that we can have leftovers in the fridge for a couple of days afterward. Hearty and delicious!\n",
      "I have been making this for years, minus the water chestnuts.  I am often requested to bring my &#34;Funeral Salad&#34; to Church when a luncheon is being served following a Funeral.  It is so well liked.  I&#39;ll try adding the water chestnuts next time.\n",
      "I made this for my family. They did enjoy it. I however altered the recipe by adding garlic salt and garlic powder to taste. The sauce seemed to taste just like tomatoes to me, so it needed tweaking. I also don&#39;t buy beef broth, I made my own with beef base and water. Maybe that was the difference? Anyway, already had one request for this again! We love Mexican inspired dishes!\n",
      "I have made this chicken pot pie recipe several times, and it is a HUGE hit in my household!  Thick, creamy sauce and the thyme gives it just the perfect taste!  On occasion,  I have used Bisquick to make the crust, giving it more of a doughboy type of topping.  Whether you choose to make the filling and doughboys for a chicken stew, or follow the crust directions for a pot pie, both are absolutely delicious!\n",
      "This was very good.\n",
      "This was one of the best chicken pot pie recipes I&#39;ve ever used!  My daughter loves pot pies, and this one had a real chicken broth gravy and was seasoned just right and really brought the flavors out of the chicken and the vegetables.  I will definitely make this again.  Plus, it was nice to have an extra to freeze for a future dinner!\n",
      "The only thing I changed was I used shredded cheddar cheese instead of the Velveeta cheese.  Turned out great.\n",
      "Favorite  in our householdI use the 11x7\n",
      "My whole family LOVES this recipe!  I make it at least once a month.  I add either baby carrots or chunks of carrots to it...that&#39;s my favorite part!  I let the carrots cook the entire.  @popnmim...you can add potatoes, too, but I prefer to make creamed potatoes to go with it. : )\n",
      "Oh. My. Goodness! I absolutely love peanut butter fudge, and this recipe is AMAZING!! 10 out of 10 recommend!!!\n",
      "I made this for a crowd for my granddaughter&#39;s christening luncheon.  It is so much easier to put everything in a large bowl and mix it together and then put into baking dish.  Each and every morsel is coated and incredibly delicious.\n",
      "This soup is awesome. I made a few changes because my husband likes a heartier soup.  I doubled the burger, added bacon and used beef broth instead of chicken broth.  It came out amazing!  This is a keeper!!!\n",
      "Absolutely a wonderful recipe that I have searched for so many years.  The only alteration that we prefer in the mixture is the addition of 1-1 1/2 tsp. fresh ground horseradish.  Makes great even better!\n",
      "I made these and took them to the pharmacy where I work and everyone had one and wanted the recipes. I printed 12 copies and an additional 12 the following day.They were WONDERFUL!!!!!!Lilyorlola from Fl.\n",
      "A winner with everyone at my house.  Easy to make, nice bite without burning on the way down.\n",
      "I&#39;m going to try it with nectarines.  It looks like a really great recipe.  I would like eventually to swap out the sugar for stevia, but not sure of the ratio.  Anyone help me?  How much stevia and what else do I need to add instead of sugar.\n",
      "Loved the cake - made it without frosting and it was decadent and rich.  Just has a hint of malt flavor from the Guinness.  This cake is going to be a new addition to our yearly March menu for sure.  Twelve servings makes for a very large piece of very rich cake - I think you could get at least 18 servings.  I&#39;ve also seen this cake with a peanut butter cream cheese frosting - and that sounds yummy.\n",
      "I made this for a Christmas Eve family dinner.  It was a huge hit.\n",
      "This was very good, but I forgot to trim the fat off the chops.  The casserole was a little too greasy.  I&#39;m going to try this with boneless skinless chicken breasts -- has anyone tried this?\n",
      "Delicious, but note:  The video shows 12 rolls in a square pan, not a 13x9 inch pan.  The printed recipe says it makes 12 rolls, but it calls for an 18 oz package of rolls, an 18 ounce package of rolls has 18 rolls.  So, it looks like the video is showing a 12 oz package of rolls, with 12 rolls in a square pan, but the printed recipe calls for 18 rolls, but says it makes 12.  SO, wondering if this can be fixed.  I did make 18 rolls, and I did 1 1/2 times the other ingredients. Regardless, this is good!\n",
      "I&#39;ve made this recipe several times now and it is a hit at our church dinners.  Be sure to line the pan with foil and use a cookie sheet that has a lip all around the edges or you&#39;ll have a mess.  Well worth the trouble - I always get requests for the recipe.\n",
      "I omitted the mustard and used apple cider vinegar for tartness. I also used regular salt and added a little black pepper and diced green onion. This is pretty darn good dressing. The sour cream makes it really creamy and keeps it from being too sweet. I will absolutely make it again. Thanks for sharing it!\n",
      "I cut in squares and took to a Potluck, it was a hit! My changes were I used 1/2 ground turkey and 1/2  pork sausage. Had eggplant in garden so grated in with zucchini. Will make again.\n",
      "i made this cake for St. Paddy&#39;s day and everyone loved it! it was moist and so good.\n",
      "Great, easy recipe to make!  These tasted excellent and were not dry at all.\n",
      "This cake is fabulous!! And so easy to make. It&#39;s a new family favorite!\n",
      "Very good.  I also added cornstarch and water the last 30 minutes to thicken.\n",
      "Great recipe!  The buttermilk is what caught my eye, adds a great moistness.  Have made it several times, but make it into muffins.  Freeze them in packs of two, great to take to work for breakfast or mid-morning snack!  Hint--freeze &#34;too ripe&#34; bananas in their skins in a zipper freezer bag. Take out one or two for a recipe, thaw for a few seconds in the microwave, pinch off the stem end and squeeze the banana right out of the skin!!\n",
      "Good recipe. I substituted 1/4 cup brown sugar plus 1 1/4 cup white sugar. I also slightly toasted (and cooled) the walnuts prior to folding them into the batter. I buttered the pan and coated it with flour, as well. I like the buttermilk. The texture was outstanding. I will make this often.\n",
      "I really liked the flavor of this recipe! And the convenience of a slow cooker recipe. I made it with boneless skinless chicken breasts.\n",
      "I love this recipe!!!! The pie was delicious!! And it’s so easy!! I did use a ready made pie crust which worked out great!!!\n",
      "I recently found out that I am sensitive to gluten and wanted to make a banana bread. After reading the reviews, I decided to make this one and it was pretty good. The only changes I made to the recipe was I used 1/2 cup of brown sugar instead of 1 cup of white sugar and I used pecans instead of walnuts. It wasn&#39;t the best banana bread I&#39;ve had but it was pretty good. I&#39;m going to make it one more time following the recipe exactly and see if it comes out better.\n",
      "Delicious! Better than I expected!\n",
      "This soup is WONDERFUL.  I made it for several parties and everyone wanted the recipe.  It makes quite a bit.\n",
      "Very delicious and moist!\n",
      "I made the recipe as directed. The cake is moist as said in other reviews. I used a bundt pan for baking. My husband thought this cake was Devine. I love the fact this is an easy yummy cake!\n",
      "Wow! This recipe makes the best, just all-around classic-tasting chili! If you&#39;re craving a good, simple-tasting chili, this is it. The pumpkin gives the chili a nice thickness but doesn&#39;t impart any flavor. Its just good!\n",
      "Made this the other night and the family LOVED it. My husband and 2 sons worked outside all day (freezing out that day) so they were happy to come home to hot chowder. I did shred my own cheese like some recommended.  Made homemade dinner rolls to go with it.  The only thing I will change next time.....is to make a double batch. Thanks Jennifer for a great recipe.\n",
      "I like this recipe, but would substitute vanilla for the almond extract, as I think it would overpower the more earthy cinnamon and cloves.  Also, I would suggest adding chopped nuts to the batter--walnuts or pecans--maybe a 1/2 cup, depending on your preference.Also, for the frosting, I think you would run into problems adding the melted butter, brown sugar and milk with the confectioners sugar (as a preference, I would subsitute skim milk for the 2%).  I would do the icing a bit differently.  Warm the milk and brown sugar on the stove until the sugar dissolves.  Soften butter slightly in the microwave, then place in a stand mixer and mix until smooth.  Add confectioners sugar and mix.  Add cooled brown sugar/milk mixture to the above and mix until the frosting is combined.   Add additional confectioners sugar to achieve a spreadable consistency for frosting.\n",
      "This is a super recipe.  Since it&#39;s just the two of us I used just one roast.  I also omitted the ranch dressing mix because we despise the flavor.\n",
      "My family loved these! Easy to make too.CA\n",
      "What kind of potatoes\n",
      "It was just WONDERFUL!!!\n",
      "This recipe is awesome! Everyone that tried it wanted the recipe.  Very rich, have made it several time. I want to eat the whole pan myself and not share. LOL\n",
      "We don&#39;t like water chestnuts, but wanted that crunch factor, so we added a chopped up apple instead.  Try it!\n",
      "Its a great recipe. My Grandmothers was the same minus the icing and I know this because this recipe has been on the back of the Hershey&#39;s Cocoa Can for 3 Generations at least!  LOL\n",
      "This recipe was excellent! It was easy to make, too.  My husband even gave it 5 stars and he doesn&#39;t give many recipes that high a rating.  It would make a great dish for company.  Served it with brown rice,  Lemon Butter Green Beans and Strawberry Spinach Salad.\n",
      "This is a really great recipe.\n",
      "I think this is the exact recipe I have made for 15 years. I did change it though. I use 4 overripe bananas and no buttermilk and add a bag of chocolate chips.\n",
      "Made this for dinner tonight. Pretty tasty. I read other comments that it came out too think so I I used water and chicken broth, only added 1 can of soup and a 1/2 cup sour cream. Also added carrots and onion.\n",
      "made it for my daughters birthday.Could not justify 1lb of butter in the frosting so used 2 sticks and it turned out great.\n",
      "Love, love, LOVE this! I used a combo of types of mushrooms made a slurry of the mushroom mixture, flour and 2 cups of the chicken stock to cook out the flour taste.  Warmed the remaining stock and then added the slurry to the hot stock; stir often until thickened THEN add the cream and turn down to med/low and let simmer. A few extra steps but OH SO WORTH IT!\n",
      "These are wonderful.  Read the postings so sprayed with cookies spray incase of sticking.  But made a second batch and they didn&#39;t need it.  Really a nice sweet, crunchy, candy-like pretty cookie/bar for when you need to bake for a bake sale or holiday event!! A DEFINATE thumbs up!\n",
      "Try thickening soup with mashed potato flakes instead if flour.  Thats how I thicken my potato soup and cream of broccoli soup and this one! I always keep an extra pouch or box of mashed potatoes for this . Then there is no flour taste.\n",
      "Very simple to prep. Tasty! ??\n",
      "Sitting here munching on one, these are fantastic, so glad I didn&#39;t use the recipe with the condensed milk, these are perfect, not too sweet.\n",
      "This was a fantastic recipe!  Very simple and easy to make, and I got RAVE reviews when I took them to our family Christmas party!  I have requests to make these again for sure!\n",
      "These are wonderful.  My husband agrees. They will now be our go to meat loaf recipe. Just delicious. I wouldn&#39;t change a thing.\n",
      "Delicious! I made the cookies a little smaller than the recipe said and cooked them for about 9 mins. Made 48 cookies... smaller ones are perfect as a snack or to give with a thank you note. The smaller ones are a tad bit crunchier on the outside, but still have a soft center.\n",
      "Delicious and easy to make.  I used ground sirloin for less fat, Mexican stewed tomatoes and also used low-fat Mexican blend cheese.  Plenty of sauce too.  Loved it!\n",
      "Excellent recipe! I did sub nutmeg for cloves and baked in greased floured tiny cupcake pan...came out perfect at 12 minutes..350°....a keeper!!!\n",
      "I ended up using rotisserie chicken and cooked it in an instant pot with a little onion powder and 16 ounces of frozen mixed vegetables.  It turned out terrific and even my picky children liked the soup.  I will say that it needs to be cooked in a larger instant pot as it ran over in my 6 quart instant pot (14 minutes with instant release).  I put the sour cream in at the end before serving.  But I will make this again.\n",
      "Can you freeze both a cooked one (due to leftovers) and also an uncooked one?  I have made it in the past.  Followed the recipe and it was delicious.\n",
      "I made this cake for an auction.  The cake itself and rich and decadent.  The frosting seemed more like a mousse to me.  It wasn&#39;t too sweet but airy.  Nothing to add on the ganache and strawberries.  They are what they are.  The auctioneer saved this to be the last thing auctioned off because it looked so good.  It sold for $150.  Wow!!\n",
      "Question- There used to be a step where you dripped hard choc designs on the top with this recipe. What was the directions for that, please?\n",
      "I cheat like hell out of sheer laziness and cut the prep time in half, and this is still a hit with the whole family.  Rather than slicing and cooking chicken, peppers, and onions, I use Trader Joe’s 12oz grilled chicken strips from the refrigerated section and a bag of their frozen Fire Roasted Peppers &amp; Onions.  I just cut the chicken strips into smaller strips to make them fit better in the tortilla and marinate them exactly as in the recipe.  When the chicken is done marinating, I just heat up the peppers n onions for about 10 minutes and then dump in the chicken to get it warm and it’s done and delicious.  I also use Trader Joe’s whole wheat low-carb tortillas that work and taste great in this recipe while saving some calories.  Doing it this way, total prep and cook time is about 20 minutes, but if you don’t tell anyone they’ll think you actually worked hard making it.  I love cheating.\n",
      "My husband I liked this recipe it was a nice change of pace I did tweek it a little half the sour cream 7 slices of bacon 1 cup moss cheese and 2 cups chedder. thanks for sharing.\n",
      "Absolutely fabulous.  This has been in my recipe box for some time.  Finally, got to try it tonight.  It was enjoyed by all.  Thanks so much for sharing this fabulous recipe.\n",
      "These little gems are so tasty!   I keep a few without sauce because one of my kids prefers them that way.  I used ground bison and they are simply delicious!  I’m a Volunteer Field Editor and I love trying and reviewing recipes.  This one does not disappoint!\n",
      "I love Mexican style meals better than my wife but she gave these five stars also. I complimented these with refried beans (recipe compliments of Ree Drummond), arroz rojo aka red rice (recipe compliments of Marcela Valladolid) and quacamole. For the two of us this was to much to eat for one meal but it was excellent the next day. Two tips: the refried beans freeze well for use at a later date, if you have plenty of left over quacamole smooth it out on top and gently add a thin layer of water, the next day pour the water off and you have quacamole that didn&#39;t turn brown.\n",
      "My favorite cake and frosting. Perfect every time!\n",
      "I am from South Texas and this is the best fajita marinade I have ever made. I highly recommend it as is. We did dive the chicken and then cooked it on the stovetop in the marinade.\n",
      "tasty..\n",
      "Very tasty recipe.  We warmed up slices and had it for breakfast.  Very good with coffee or milk.\n",
      "I made this for Thanksgiving and it was a huge hit!  It’s not overly sweet, like a pecan pie sometimes is. I used Hershey’s caramel topping. It wasn’t fat free. Otherwise, followed directions with the exception of time.   I read another review that said to bake longer and I did, about 8-10 minutes. It was awesome!  It’s neat how the syrup moves to the bottom under the cheesecake. I love that magic!  Anyway, super easy with limited ingredients and great taste.... just add a little more time.  Like the other review said, jiggly on top in the middle should be fine!\n",
      "My suggestion to stop runny juice...sprinkle 2-3 tablespoons of instant tapioca. Put some on bottom crust, some inbetween , and finish with a little on top. When juices are bubbling thru slits in top crust, tapioca will thicken this as it cools. Delicious!\n",
      "I have been making this recipe for years and we LOVE it.   My kids have affectionately renamed it &#34;Eyeball Salad&#34; since, in a clear bowl that&#39;s what it kind of looks like. :)  I put the nuts and brown sugar on top several hours before serving and it starts to carmelize on top and makes it even better.  (I also increase the brown sugar on top)\n",
      "<p>Very tasty and good.  It didn&#39;t last long at my table</p>\n",
      "Delicious! My kids are picky eaters and loved them too. Made the recipe with no changes or substitutes. Will be making again!\n",
      "One variation of this is to mix one small box of orange jello according to the box directions.  Let the jello cool and pour over baked cake that you poked holes in (you can use a fork to do this).  Frosting the cake and chill in the frig overnight.  It&#39;s tasty and pretty when you cut it!\n",
      "We love to cook &amp; can be selective about spices....this combination was excellent. Per our preference, we used boneless/skinless chicken thighs. We warmed our flour tortillas on a cast iron pan until right before they toast too much to fold (adds another layer of yummy flavor). Good enough to make for company, goes together FAST. My only change will be to double the veggies &amp; onion.\n",
      "Very good. I wonder if it once had cream cheese and taste of home changed the recipe.  I prefer it with navy beans that are smaller. I also used canned chicken from Costco because that’s what I had. I used fat free cream cheese along with the whipping cream, and then I stirred the cheddar cheese in at the end.\n",
      "I made this tonight! I also chopped up an onion with the other veggies.. it just feels wrong to cook without onions. I sautéed the veggies A little bit with olive oil and Epicure rosemary garlic seasoning.  Then added in chicken broth instead of the water.  To finish I added in some buffalo hot sauce.... so good! I will be making this again.  Thanks for the recipe.\n",
      "I made these for a party at work, and they flew off the table! The creamy frosting adds just the right touch to a fabulous fall treat!\n",
      "This was a really great recipe.  I was short one can of green chilies and think it would have helped to have both of them.  Also, I didn&#39;t have whipping cream and substituted a small can of evaporated milk which work fine.  I also used the low sodium chicken broth because the sodium count is pretty high on this.  All in all a keeper.\n",
      "WOW!! This dish was the best ever!\n",
      "I have made this soup 6 or 7 times. It is so good!  I have also taught a couple of people how to make it since they loved it when they had it at my house. I also used beef broth rather than bouillon and water, and also added onion and garlic. We also use 2 green peppers and 1 red pepper. This is a recipe I’ll use for years to come!!\n",
      "Very good and easy to make.  I also reduced the sugar by 1/2 cup , added 1/2 tsp baking powder, and omitted the almond extract.  I have made these cherry bars in the past with powdered sugar sprinkled on top, but the hint of glaze was even better!\n",
      "This is delicious.  It is the best banana bread recipe I have found.The orange glaze on top makes it really special.\n",
      "I just made this amazing bread and it tastes great!  I only needed 5.5 cups of flour and it still came out quite dense.  I baked in the oven one level up from the bottom with a cookie sheet on the bottom level.  This keeps the bottom from getting too burnt.It came out looking exactly like the picture.  My kids love it too!  This is great cause I hate breadmakers since the belt eventually slips on them and they make more noise.  Now I can make bread with no preservatives!\n",
      "Followed the recipe - seeded the jalapeno and added 1 pickled (from the jar).  It was SO amazing!  My kids even ate it!  This will be a new monthly dinner!\n",
      "As a food blogger, my number one pet peeve is when somebody butchers my recipe by not following instructions and adding and substituting and then comes onto my blog and leaves a negative comment when it doesn&#39;t turn out.If you follow this recipe exactly as written, and don&#39;t beat the egg whites, and don&#39;t add nuts and substitute things, it comes out five stars- a perfect macaroon.I will say that I don&#39;t know in what alternate universe this makes 12 macaroons, because I doubled the recipe and still only got 10 out of it.A real winner though, and I will make again.\n",
      "Oh, my goodness.  Creamy and comforting!  Will make often this winter.\n",
      "What an absolutely delicious salad! I was pleasantly surprised to see that this salad is huge! Just the right amount of dressing for all the lovely ingredients... a definite 5-star recipe!\n",
      "<p>Great recipe.I used pork Italian sausage,frozen spinach and frozen tortellini because that is what I had on hand and it worked just as well.I definitely will  keep making this</p>\n",
      "I make this quite often and every time I do, even folks (like my mother) who swear they don&#39;t like chicken chili, love it.  I think it is absolutely perfect, the only change I make is using fresh garlic and toasting and grinding my own cumin seeds.  Love Love Love this.\n",
      "After they are cooled and frosted, did you refrigerate them, or only what you have left over?  I&#39;m making them for an event tomorrow and can&#39;t decide whether to frost them and refrigerate, or leave them out on the counter and frost tomorrow?\n",
      "Absolutely delicious. Instead of layering, I just laid all the potatoes in the dish and spread the sour cream over the potatoes, sprinkled onion and bacon, salted and peppered, then sprinkled cheeses on the top. Came out great! Definitely a new family favorite.\n",
      "This came out wonderful and everyone enjoyed it. Very simple to make but I could not find the frozen sliced strawberries at any of our markets, so used fresh that I sliced up and added a touch of sugar to bring out the juice and added that to the Jell-O. Was very fresh tasting and will definitely make again.\n",
      "This was really good... I did add extra seasoning (garlic powder, onion powder, salt and pepper).\n",
      "I&#39;ve been making this for 15 years, ever since I found it in my 1999 Taste of Home cookbook.  Over the years I&#39;ve tweaked a bit, for example, we love garlic so I use fresh garlic in the sauce as well as the meat mixture.  I use Rotel milder tomatoes instead of plain stewed tomatoes. Sometimes I add rice to the meat...I&#39;ve even added sweet corn &amp; black beans a few times.  I left out the sage for years, just because I never cooked with it.  But I started to add it about 5 years ago &amp; it does make a difference.  All around a great recipe that&#39;s easy to modify for your own personal tastes.\n",
      "Came out perfectly . A very delicious chocolate cake , however not too happy with frosting and may put some cream cheese or something to it the next time.\n",
      "This is our go-to chicken chili recipe and has been for years. We love it and it&#39;s so simple.\n",
      "Really yummy cupcakes. I would make these again. I liked the flavor of the frosting, but it didn&#39;t set up very well. Maybe it was soft because my butter wasn&#39;t cold enough? The cupcakes are delicious without frosting.\n",
      "Super easy and super fun to make... YummyMy first cake... Enjoyed the experienceIt was just perfect!!!!\n",
      "I didn&#39;t make any changes and found this recipe using one sliced onion would have been much better with less onion.\n",
      "This is a great recipe! Since my husband is vegetarian, I used &#34;bacon flavored&#34; olive oil to saute the onion and carrots. Then I used veggie bullion instead of chicken and replaced the ham with sliced Litelife Italian sausage. My entire family actually prefers the veggie version :)\n",
      "This is a fantastic recipe.  I make double batches of it and freeze in seal-a-meal bags for hunting/fishing trips.\n",
      "Came out pretty well instead of using water I use chicken broth for a substitute round 2 1/2cups  instead of half-and-half used heavy cream and fresh parsley and Thyme for my garden\n",
      "Really Yummy.  I cut the recipe in half and ended up using the full amount of liquid and it still was not very soupy so that is the only thing I would change about it in the future.\n",
      "I have been making this recipe for YEARS - it&#39;s our favorite soup, comes together in no time and is just wonderful!! I double the veggies and also add celery to it.  YUMMO.\n",
      "Bread tastes really good, and it was fairly simple to make, but it crumbles a bit and was hard to make into sliced bread. It didn&#39;t rise as well as I would have liked.\n",
      "I&#39;ve made this many times.  Used ham, bacon, &amp; hot sausage.  I always use fresh potatoes.  For the lady that said her potatoes were brown, all you need to do is soak them in water as soon as you take them out of food processor.  It is so much cheaper this way instead of buying the frozen ones and I always have potatoes on hand.\n",
      "Made this a few weeks ago and again tonight. It is very good. My husband loves this recipe. I have never heard of corn pudding before so I thought I would try it. I&#39;m glad I did!\n",
      "This is the best chicken ever.  Sometimes I add green peppers too.\n",
      "Wow, very tasty, fast and easly. I added little bit more onion. I served with rice (spooned the Meat Loaves` juice over the rice) and steamed vegetables! Soo Gooood!\n",
      "Thank you for the recipe, this was my first time baking bread and came out really good!\n",
      "So moist and flavorful!! 10 out of 10!\n",
      "Oh my.... This is an excellent recipe. Easy to make and no left overs! Thank you for sharing.\n",
      "YUM! The only changes I made was using 1 can of green chili&#39;s (all I had), light sour cream, and 2% milk. Also added cilantro. This was so good. Will definitely make over and over.\n",
      "Cooked exactly as in recipe and it was delish.  A really different take on traditional spaghetti, creamy and smooth taste.\n",
      "First time to make this soup and it was a big hit.  I will be making again.\n",
      "This is the first Applie Pie I have ever made, and I recieved many compliments from it.I did additional flour as the reviews had said.One family member actually said that it tasted just like Grandma&#39;s pies used to.... that is the best compliment anyone could give me! =)I will definatley make it again.\n",
      "Love this casserole. I add a layer of refried beans and jalapenos. Very good!!\n",
      "i thought this cake was very very good  i used egg beaters instead of the eggs\n",
      "This recipe is wonderful. I did omit the sugar as suggested. Delicious, rather simple and I&#39;ll definitely make this again. My family men said the recipe is a &#34;keeper.&#34;\n",
      "<p>I baked it for the first time. It is very easy and delicious. Made few changes 1. Substitute brown sugar with Jaggery 2. Could not get oats so substituted with crushed oats cookies. 3. Instead of water and sugar used canned apple juice. The recipe came out perfect. SO easy and so delicious!! </p>\n",
      "This was a hit at out campclub potluck.My husband has now chosen this cake to be his birthday cake.  I didn&#39;t really taste beer (I don&#39;t care for beer), just deep, dense chocolate cake.  The icing was perfect too.\n",
      "This is a wonderful recipe and simple to make! All the ingredients blend well together and it is a great alternative to regular chili. It is also super tasty the next day and reheats well. Thanks!\n",
      "This was a very good Soup.  My family really enjoyed it.  It was a very simple recipe to make.\n",
      "I made this exactly as called for by the recipe and it was excellent!  Passed the test even with my Granddaughter who doesn&#39;t like much of anything!!\n",
      "these  took me back to my childhood! Tasty and warm/cozy feeling to eat. Scary/fascinating to look at. Even though i  used marinara instead of homemade sauce they were great. also as leftovers.\n",
      "Wow, what great flavor and easy to make. I cut back on the sour and heavy cream to reduce some of the calories and it was still great tasting.\n",
      "This is a delicious cake but I have difficulty getting the layers out of pans intact and frosting it because it’s so delicate. What am I doing wrong?\n",
      "Very good.  The bottom layer of tortillas ended up hard though.\n",
      "This cauliflower soup is easy to make. It is delicious, light, filling, and for this family, a &#34;keeper&#34; recipe.\n",
      "Loved it and I even put on a few balls of fresh Mozzarealla, YUM!\n",
      "The soup was yummy and I paired it with garlic bread and a salad.I changed the recipe slightly. Added some garlic and extra cheese.\n",
      "All ages LOVED this recipe!!  I make lots of breakfast casserole&#39;s when we travel or when having company.  I have my 3 favorites that I have rotated for the last 20 plus years and occasionally try new ones.  Now I have 4 favorites because this one is a definite keeper! I did exactly as the recipe called for and it turned out perfect! The suggestion about green chili&#39;s sounds wonderful and I may try that next time, but honestly it doesn&#39;t need it for flavor, it seriously was perfect as is! Thank you for sharing!\n",
      "No, cose i love to eat it,and i can&#39;t eat!!\n",
      "This is great !!   I made it for our coffee group at church and the Friars want one for Easter.So, I&#39;m making two . Thanks. Betty Dyer\n",
      "I  didn&#39;t read views first  but knew that ratios were off. I halved the bacon, cheeses and sour cream to the 1 1/2 lbs of potatoes, used oval baker smaller than 9x13. Very yummy but maybe still less sour cream.\n",
      "This was sooo good! I made it using frozen shrimp and scallops, both defrosted. Wonderful taste. Rich and creamy. Will definitely make it again.\n",
      "This was super easy, flavorful and tender.\n",
      "Easy to fix. The sauce had good flavor.\n",
      "This is really good.  Only change I made was celery seed instead of celery salt....because I didn&#39;t have any.   I did add some more shredded carrots for color and was able to use 2 bags of slaw.  Added the second bag after salad sat overnight in the refrigerator and dressing had relaxed a little.  Yummy\n",
      "My go-to banana muffin recipe!  I throw uneaten, unpeeled bananas in the freezer, so when I am ready, I just thaw them and they are the perfect texture.  My only changes for this are that I use 1/2 brown and 1/2 white sugars.  Mix the brown in with the eggs/bananas/oil.  I do bake at 350.  Perfect muffins!\n",
      "Delish!\n",
      "This was amazing!!! Delicious! Great for a cold winters day. Highly recommend. I used little purple potatoes which gave it a little more color.\n",
      "These cupcakes are the best! My kids loved them which was the best part! But when I did the frosting it started to melt.....nest time Ill add more cofectioners suger!\n",
      "They are good, but even though there is zucchini in there, it&#39;s got too much sugar, fat, and white flour in them to be thinkin&#39; the veggies in there will make them &#34;good for you&#34;. It is a good excuse to make cupcakes though, when you have alot of zucchini, lol.\n",
      "I absolutely loved this recipe and so did my husband. It was especially tasty for leftovers the next day. I will definitely make this again!\n",
      "I&#39;m not a great cook and this was easy, fun and delicious. I could have drank the sauce with a straw!  I took it to work and let people sample it and ended up giving the recipe out multiple times\n",
      "I have made this recipe repeatly - have passed the recipe to lots.  Love it.\n",
      "I cut up the tortillas to layer in pan instead of leaving whole so it is easier to cut or spoon out of dish and I used plain Greek yogurt instead of sour cream to cut calories\n",
      "Fantastic soup - didn&#39;t use hot pepper but did add minced garlic and onion.  Instead of bouillon cube just added chicken broth.  Will definitely make again and again.\n",
      "Love this soup! Hearty and Delicious!I did tweak it a little. 1.5 cups beef, extra  2c. broth, 2c. gourmet blend of shredded cheese instead of velveeta.  1/2c extra sour cream.I basically increased the size of the recipe and used shredded cheese instead of velveeta. Yummy! My kids love it.\n",
      "I normally don’t leave reviews but this recipe was so good everyone ate it! My kids are picky but their plates were wiped clean and my husband doesn’t really care for chicken breast but said who ever created this recipe is genius!! Very good!\n",
      "This was great and easy to make!\n",
      "This recipe is really good, and a great summer dish for when zucchinis are in abundance.  I loved the zucchini crust.  It was such a nice change of pace to a heavy bread crust.  The only changes I made were based on using ingredients on hand - used an Italian cheese blend for the mozzarella and a colby-jack blend for the cheddar because I had both of those.  I love a dish that is versatile in that way so just use whatever cheese combo you like best on this dish and you should have a winner.  Also, I took the advice of others and cooked the bell pepper with the beef and onions because my family prefers that combo.  My skeptical pizza loving daughter ate this and said it was good.  I will definitely be making this dish again.\n",
      "Pretty good. Nothing fancy, but certainly tasty. I think next time I&#39;d go a little lighter on the cheese, add some extra zucchini/squash, and play around with some spices or a little more imaginative of a sauce. Also, I&#39;m having difficulty understanding where the similarity to Pizza is imagined to be.\n",
      "\n",
      "All that said, I liked it. Plus, as a concept (i.e. Squash/egg/cheese based) it&#39;s a great way to use up the tons of summer squash from the garden.\n",
      "This website is great can&#39;t wait to find more recipes\n",
      "Loved it. It is kid friendly and husband loved it. We are big meat eaters so we used a whole pound of ground beef though.\n",
      "I made this cake for Easter this year and it was a hit of the celebration.  It was super easy to make and very delicious.  I am doing Weight Watchers and for a cake, it is very low in points.  This will definitly go in my permanent rotation of baked goods to make.Paige C- Wisconsin\n",
      "This is such a great recipe! We did make a few adjustments.  For the sauce to put on the apples, we halved everything except the vanilla.  For the crust/crumb mixture, we only put in 2/3 cup of brown sugar.  Next time we will try 1/2 cup as it was still plenty sweet!  My husband made it and he loved how easy it was!\n",
      "These are so easy and came out great. I made them in my Wilton leaf/pumpkin pans and they are just so cute and taste wonderful. I think they are the best cupcakes Ive made yet!!! Knightstown, IN\n",
      "I actually had prepared these treats before and I prepared them again 12/6/14 since I had miniature marshmallows which I needed to use up!  I did line the 15x10x1&#34; baking pan with heavy-duty foil.  I didn&#39;t need to coat with cooking spray as I used the caramel mixture!I just used 1 cup chopped pecans/walnuts combined, rather than almonds this time around.I also baked the treats 15 minutes and the marshmallows puffed nut nice and brown!What I had done this time was melt the butter, then add the brown sugar and cinnamon and mixed together.  I then added the vanilla extract.  These are very festive cookie treats for any holiday, actually!  Thank you for sharing this recipe with Taste of Home!  delowenstein\n",
      "I love how it came out &amp; i didn&#39;t change anything, but the frosting. I only put 2 cups of confectioners sugar &amp; i added 2 Tablespoons of chocolate hazelnut spread.\n",
      "These are fabulous ! We love pumpkin, and these were easy and moist!\n",
      "easy and is very good\n",
      "I only wish that it wasn&#39;t so full of fat and calories--is there any way you can do a recipe make-over on this one?  I LOVE it but can&#39;t enjoy as often as I&#39;d like due to the high calorie/fat content.\n",
      "Love this receive. EZ!\n",
      "This is a great recipe! Bone in chicken thighs are always on sale and this is a great way to use them. My family loves this dish . I serve these with Mushroom Fried Rice recipe from the TOH site.\n",
      "This was so good and healthy and easy.  It was a little spicy so I left out the papper &amp; red pepper and used a little less turkey Italian sausage.  The flavor was intense and the parmesan was a nice added touch. I will surely make this again.\n",
      "Made this for Thanksgiving and it was a hit. Will be making for Christmas.\n",
      "This is the best rhubarb recipe I have ever made!! Love It!!!\n",
      "So moist and so good!!! Do to my son&#39;s severe milk allergies, I used Earth Balance in place of the butter and Rice milk.  I also used 3 mini loaf pans and baked for 45 minutes.  I did not make the glaze.  It did not need any, it was so good without it.  It was gone within the first couple of hours.\n",
      "This recipe is to simplistic and not detailed enough. By not letting the yeast sit I believe it caused the bread not to rise high enough. This resulted in 2 loafs that were shorter than they should&#39;ve been. I also reccomend a egg wash before cooking. The texture of the bread was sorta like cornbread and a little mushy but not to bad really not great or terrible. it was very crumbly and hard to cut thin slices.\n",
      "My family didn&#39;t care much for this recipe.\n",
      "Huge hit with the entire family!! We did cut the sugar back by 1/4 cup and will probably reduce it more next time.  Like others we also add ed some cinnamon and nutmeg to suit our family&#39;s taste.\n",
      "I&#39;ve made this a few times, and I always add diced tomatoes, mushrooms, and garlic.  And, I substitute the ground beef with seasoned ground  turkey.  I top it with more mozzarella and parmesan cheeses.  One jar of Ragu is enough for me.....but either way, it always comes out good, and beats standing over a stove for HOURS.\n",
      "This is by far one of the most delicious soups I have made.  I didn&#39;t have velvetta cheese so used cheese whiz.  The sour cream makes the soup. Adds a nice finish to the already great soup.  I will make this often.  More of a meal than just a soup.\n",
      "I made this to bring to my monthly book group meeting and it was delicious! My daughter and mom tried it before I brought it and raved. (I cut into bars on a plate before bringing it). Everyone enjoyed it.\n",
      "I made these bars also, and they are sooo delicious!\n",
      "I have been making this for years, but usually with lite sour cream instead of the real thing. Well, last time I tried it with real sour cream, and it makes a BIG difference! Instead of just being good, now it is so delicious you can hardly stop eating it. Num num num.\n",
      "I have made this a couple of times and the entire family loves it. I did take the advice of spreading some salsa on the bottom of the dish before the tortillas and it worked out much better!\n",
      "This is one of our favorites, and I make them all year, not just in the fall or Christmas. I love the deep crevices in the tops. Sometimes I sandwich marshmallow creme between two and make sandwiches!!\n",
      "This crust has no baking powder or baking soda and it results in being very flat.  There are better recipes than this one.\n",
      "Love it!!  Yummy and easy to put together. The tortillas are the first part of the layer, in aswering dvilands question.  What tortillas is your preference.  I myself dont care for corn tortillas at all and use flour, wheat tortillas are good to.\n",
      "Absolutely Awesome and fit perfectly into my keto diet!!  My entire family LOVED this recipe.  I used deer-burger vs hamburger as that is what I had on hand -- delicious!!\n",
      "Tastes like a grilled Cheeseburger. Different &amp; easy, good over egg noodles.  The potatoes seemed strange at first, but then they blended in &amp; reminded me of burger &amp; fries.  I tweaked it.  Tripled the beef &amp; added better than boullion beef flavor, a cup each of veggies, bumped up the spices, Campbells beef consomm? &amp; French onion soup plus two cans of water. Left the potato amount the same &amp; added more cheese.  Left out the sour cream since it tasted good as is.  All you need is crusty bread &amp; a pickle!\n",
      "Easy to make. One of my families favorites!\n",
      "I am an old man learning to cook for myself and wife. Don&#39;t know much and depend on Taste of Home to keep me straight.Can you add vegetables to this, when and how many?\n",
      "have not made this pie yet, but wanted to ask if anyone has made this with a top crust only. Thanks, Sukie\n",
      "you lost me at the flour tortillas!  those are burritos, not enchiladas.  enchiladas are only made with corn tortillas.  what you have there is a bunch of goop.  but it does look tastey.\n",
      "Family Favorite\n",
      "I have been making this since the first issues of Taste of Home. Its a great recipe.\n",
      "Absolutely delicious!  Made 2 loaves, froze one.  Used freshly picked blueberries.  Did not have any 2% milk so I used 1/3 c fat free milk and 2/3 low fat half and half (doubled recipe).  Worked fine!\n",
      "Wow, Hope! These are the kind of recipes I&#39;m always looking for! It&#39;s easy, but doesn&#39;t skimp on flavor. When my spouse was released from the hospital and needs to be on a &#34;bland diet&#34;, this was great! But there is nothing bland about it! It&#39;s just plain delicious!\n",
      "The whole family loves this bread as a breakfast item or a midnight snack. Sliced a half inch thick,  toasted with a little butter it&#39;s heaven on a plate.I would have given 5 stars but I think 1.5 cups sugar is too much. Cut back on the pure cane a bit and this bread is a winner.\n",
      "I have made this many times and had rave reviews.  Have even baked ahead and froze.  Still was excellent!  If you don&#39;t want to spend the money for scallops you can use more shrimp/imitationcrab.\n",
      "this was very good have a lot left over. going to freeze some of it. I used whole wheat tortillas and weight watchers Mexican cheese. This was really yummy.\n",
      "This was superb. I did saute all the ingredients (plus a clove of garlic) first in a little olive oil before adding the broth/water. Made it even more flavorful....\n",
      "I love this recipe. I marinated the chicken overnight though and it had a terrific kick to it. I also added lettuce to the add on choices. Thank you so much for sharing this.\n",
      "Quick &amp; Delicious! I used 1/2 cup of white sugar and 1/4 cup brown and they came out perfectly sweet enough. Even a little less would have been fine. I baked these in mini muffin tins for 11 min.\n",
      "I have made this several times. I use one larger roast instead of two smaller ones. I also put onions, green peppers, and mushrooms in.\n",
      "We loved these bars!  I saw the suggestion adding walnuts -- can&#39;t wait to try that. YUMMY!\n",
      "This is a great recipe and the only meat loaf recipe I use.  We like the use of sage and the flavor it gives. Makes a wonderful sandwich from leftovers.\n",
      "Loved this recipe!\n",
      "only made the muffins, without the icing as I don&#39;t like caramel... but nice and light and moist. A good recipe to exchange the zucchini for carrots, but my zucchini was ripe, the carrots aren&#39;t yet.  Next time!\n",
      "Awesome recipe!!!!\n",
      "Excellent! Easy and very flavorful. I cut back on lemon juice as I am not a fan. I used garlic flavored seasoned bread crumbs as I love garlic. I paired with brown rice made with chicken broth but I can see if you were using pasta you would need to double the sauce. Will definitely make again!\n",
      "It was good, particularly when I added some mini chocolate chips!\n",
      "Prepping takes a bit of time but the meal was good.  Only fixed four pork chops because there are only two of us.  Potatoes were better the second night warmed up with the remaining two chops.\n",
      "<p>Everyone in my family that tried it thought it was great.  For my taste, I thought it was a bit bland and added hot sauce to it for myself.</p>\n",
      "Excellent!  The best pumpkin bars I have ever made.  I added about one tablespoon of grated orange rind in the frosting which we liked very much.\n",
      "I made these cupcakes with my granddaughter and they were delicious. She carefully spooned the flour into the measuring cups without packing...and mixed together dry ingredients just until flour was blended. Her cupcakes were soooo tender.Quite by mistake we ended up making &#39;maple bar icing&#39; instead of frosting by adding two sticks butter, instead of one, and some additional confectioner sugar so icing could be swirled around on top of cupcakes. My oh my, was it ever delicious!!! Will try the frosting recipe next time, but will be keeping the &#39;Maple bar icing&#39; for this cupcake as well. Excellent treat for all ages.\n",
      "Taco Chilli is one of my favorites except I make mine with Black beans, ground turkey  and no stewing tomotoes....AWESOME!!!\n",
      "I used this recipe and me and my mom LOVED it, I used 1/4 sugar instead of 1/2 cup and I did 1/2 cup of sour cream instead of 1 cup. Came out perfectly!\n",
      "Easy recipe.  Great when fresh strawberries are available, ( or peaches or cherries)  Scrape bowl often when adding flour or milk mixture.  Added 1 teaspoon of grated lemon rind with vanilla, nice flavor.  Sister likes it with grated orange rind.  Use non-stick foil in pan. Grab foil and place on cutting board when done.  No need to clean a pan.\n",
      "MMMMGood!!! I did add an extra 1/2 lb. hamburger.  I didn&#39;t even try it with the sour cream, because it was so&#34; GOOD&#34; already.  Also, it just get&#39;s tastier as leftovers!  Thank you for a very tasty soup during this very long, very cold winter!\n",
      "This smells fantastic when it is in the oven, and it tastes as good as it smells.\n",
      "<p>My husband and son both agreed it was the best chicken they have ever had!!!!</p>\n",
      "I have made this over and over.  I absolutely love it and follow the recipe or double.  It&#39;s amazingly good !  I do use a Rotisserie Chicken a lot of the time, either way it is DELISH and always a hit.\n",
      "Very easy to put together.  I greased the cookie sheet and put parchment paper on top of it inside the cookie sheet.  It was a little tricky taking it out of the pan but I would do it the same way next time.  I had some leftover coconut pecan frosting which I used in place of the cream cheese frosting.  Delicious!!\n",
      "Very good dish!  I made 1/2 recipe, but  I did not cut the beef in half.  I replaced the green pepper with 1/2 can of green chiles, and I used sharp cheddar cheese.  I also used brown rice tortillas as one person does not eat wheat.  I may try corn tortillas next time.   This is a good recipe.  Thanks for sharing it.\n",
      "The very best lemon blueberry bread I have ever made.  Made it for the 4th of July, everyone loved it.  Making it again today.  I triple it each time and it turns out great.\n",
      "This is so delicious! It’s a perfect blend of sweet and tart! It was so easy to make and it was very light and moist. I did rolI the blueberries in flour and used 10-X sugar for the glaze. I served it with a scoop of lemon sherbet . What a great summer dessert!\n",
      "This was the first thing I have ever baked from scratch and it was incredibly delicious.  Six stars in my book.\n",
      "The first time I made this for my mom and she loved it. My brother had some and loved it too.  I just made some for myself and I added half a pack of banana cream pudding mix to make it even more moist and smooth.  I love my revised version.\n",
      "I didn&#39;t have Italian dressing so I used the Red Wine Vinaigrette that I had. Put a whole pack to taco seasoning. Substituted the black beans with corn. Hubby don&#39;t like sour cream so I added it to mine at the end. Very good. Will definitely make it again. \n",
      "This recipe has become a family favorite. I&#39;m making it today for my daughter&#39;s 22nd birthday. When I told her, she was overjoyed! This cake is absolutely delicious. No frosting at all. It&#39;s so quick to make that I can throw it into the oven after dinner, and have a delicious dessert in no time. I don&#39;t let it cool too much, because we think it tastes best when it is hot.\n",
      "These are perfect! Followed the recipe, I wouldn’t change a thing\n",
      "Easy to make and tastes great.\n",
      "which cake mix is good - Duncan hines devil food or Williams Sonoma degvil food or something else for this recipe alone?\n",
      "So tasty. Even my wife, who doesn&#39;t get excited about fajitas, thought they were good. I felt they could have used a lot more peppers and onions though. Next time I&#39;ll probably use twice as much. I also salted the peppers and onions while they sauteed.\n",
      "This is the perfect chocolate cake.  It&#39;s super moist.  It took 43 minutes to bake, not 30 which is no big deal.  Also, next time I make it I think I need a little more frosting, which was equally awesome. PS in the frosting, use all butter, it&#39;s tasty!\n",
      "I have made this 6 or 8 times and every time it has turned out fabulous.  Not sure why some people have had such bad luck making it.  It is the best cake I have ever made!\n",
      "This is amazingly good. Easy to make just put it together and forget it type recipe. Loved it!\n",
      "great recipe but i boil chicken and then shredded it use fresh jelopenos dried chipotles and carmelized onion used fresh garlic also this recipe is a great to my usaul extra hot chili which ispecialize in\n",
      "These are the best muffins we&#39;ve ever had! :)  They&#39;re very moist and delicious.  We especially enjoyed adding chocolate chips to ours...yummy!\n",
      "I thought this was going to be better than my Mom&#39;s, WRONG! I&#39;m sorry to say, don&#39;t try it, I wasted a lot of good peaches, sorry!\n",
      "This soup is so good!\n",
      "This gets 5 stars for pushing me in the right direction, although I also made very few changes based on earlier reviews. Doubled the recipe (meaning I doubled almost* every ingredient) because 1) hubby loves cream of mushroom soup, and 2) I had a lot of mushrooms I needed to use. *The only ingredient I didn&#39;t double was the flour. I also added cooking sherry (which works just fine).  I used 4 tbsp. butter, melted. Then added the onion and cooked for about 5 minutes. Then, the flour which I quickly stirred so it was almost a roux, but it was very dry, so that&#39;s when I tossed in about 1 tsp. or so of cooking sherry. Next I added 29 oz. of chicken broth (mixed of Swanson&#39;s organic and some homemade leftovers) and the mushrooms. I added some thyme because, in my world, pretty much every mushroom dish is a little bit better with thyme (for this I added about 1 tsp.) Then I let it simmer until the onions and mushrooms were soft. NOTE: I did NOT add salt.  When the onions and mushrooms were soft, I added a bit of the broth to a combo of 1/2 c. half\n",
      "Excellent! My husband is already asking to have this again. We added a splash of white wine when cooking the onions to deglaze the pan. The onions are the best part &amp; I will probably double them next time I make it...which will be soon!\n",
      "My adult son asked me to make this cake for his birthday.  It&#39;s easy to make &amp; it turned out fabulous.  Everyone loved it.  My husband says it&#39;s now his favorite cake too!\n",
      "This made a  large cake (3 big layers) and it was very good.  Very intensely chocolate.  The frosting was decadent.  I am going to use it on other cakes that call for chocolate frosting.  Recommend this recipe.\n",
      "Yummo. It&#39;s a keeper.\n",
      "It was wonderful!!! We loved it!! I chopped up jalapeno&#39;s and garlic and cooked with the turkey meat I used, made it really spicy! A keeper, will definately make again!\n",
      "Made this for our family dinner. the three of us gave it as a keeper.  I did substitute coleslaw mix for the cabbage, and the two large carrots were a bit too much, will cut those back a bit.  This goes in our file of keepers, I am on a somewhat restricted diet following heart surgery, left out the salt and used low sodium soy sauce.  Cargram, my mom used the sweet &amp; sour sauce, she was very pleased with all, but she did request fried wonton wrappers next time ??\n",
      "Easy to make, yet looks like you spent hours slaving in the kitchen.  Rich tasting, yet not too sweet.\n",
      "didnt like the taste was kinda blaw\n",
      "Because the cake mixes have reduced weights, make an addition to bring the mix up to the old weight. Mix 1 1/2 cups ap flour, 1 cup sugar, 2 tsps. baking powder and 1/4 tsp. baking soda. Place mixture into a ziplock or jar. When making a cake, add 6 T. of the mixture to the box mix and proceed as needed. Store the rest of the mixture until you make another cake.\n",
      "Never any leftover when I make it, everybody loves it!\n",
      "Delish!Will be making this often this winterI did add a handful of shrimp, too.\n",
      "This was great.  The only thing is you can not get lime yogurt here, so I mixed rapsberry yogurt with the lime jello and it was a great combo.\n",
      "Tasty but this recipe is too sweet so I add sugar to taste.\n",
      "How could you go wrong with ham AND bacon?! Sounds good to me! I added two sticks of chopped celery, grated my carrots and used red potatoes. I had one cup of heavy cream I wanted to use up so I made the difference with the whole milk. I also had pieces of frozen bacon ready to add. It was like a stew, thick and good and we liked it that way! Yummy!\n",
      "Absolutely delicious!\n",
      "Very good!  The only change I made was to cook the dumplings uncovered over low heat 10 minutes then cover and cook 10 minutes longer as instructions on my biscuit mix instructed.  This makes sure the dumplings are done and tender.  It also thickens the sauce a bit.\n",
      "The sweetness is what makes it such a treat as a side dish! It adds a surprise to the meal. People request me to make this dish for parties all the time, and it always goes fast!\n",
      "Absolutely delicious and easy to prepare\n",
      "Made a couple adjustments...used basmati rice as don&#39;t have access to rice noodles and I also used pork sausage instead of ground pork.  Used a bag of shredded cabbage rather than shredding it myself.  Did garnish with green onions.  Had a great flavor.\n",
      "One of my favorites as a kid!  My mother used tomato soup instead of tomato sauce to make it extra appealing to us kids.\n",
      "I make this every Christmas.  Everyone loves it!  I find that I use much less of the sauce because it comes out thicker and less soupy.  I all so use big scallops, big shrimp and real crabmeat. It truly is a special meal\n",
      "I doubled this recipe and only used 2 tsp of vinegar.  Used more salt and pepper.  Brought it to a large family gathering and everyone loved i!  Lots of compliments.\n",
      "I&#39;ve tried over a hundred Mac and Cheese recipes and this one is the best I&#39;ve ever had! Mac and Chs is my favorite dish ever, so this is the one...only thing I did different is used whole milk, a little extra for creaminess, and more cheese:) I&#39;m a cheese lover so I added some extra:) Excellent!!!\n",
      "I made this with ground beef instead of turkey, red beans instead of blacks, and added more salt and other seasonings (some southwest chipotle seasoning, additional cumin and chili powder) than the reciped indicated. Very hearty and filling - we liked it very much. Served with shredded cheddar on top. We will definately have this again!\n",
      "My daughter first made this recipe and it since has become a favorite of everyone! I make mine with boneless, skinless chicken thighs that my husband smokes with hickory...it makes this chili beyond incredible!!\n",
      "I used Miracle whip for the salad dressing and it was great.  This is my new favorite summertime salad.\n",
      "Fabulous!  Turns out perfectly every time.\n",
      "Great taste on this bread but I&#39;ve tried it a couple times and I&#39;m having the same issue as a previous reviewer .  The sides brown way to much, long before the loaf is done . I tried doubling the recipe and making 3 loaves to cut the cook time but still had the same problem ...maybe ill try muffins out of it next time .\n",
      "This is an AMAZING recipe! I’m gonna be the hero this Thanksgiving! So so perfect in every way! That little bit of ginger is genius!\n",
      "Love this chocolate cake! Normally a die hard yellow cake fan, however, my childrens bday coming up\n",
      "This is creamy and just like at the restaurant. I think I will cook the carrots, celery, and onion in some broth next time though. It seemed dry in the pan and when I served the soup the celery was still a little crisp. Otherwise fantastic. Easy to follow directions and very tasty!\n",
      "I absolutely LOVE this, it&#39;s wonderful!\n",
      "I made these following the directions exactly. They were very good.\n",
      "This recipe tasted great.  The flavors really come together and I believe kids would really like it.  I am only giving it four stars because between them chopping, browning and baking, this recipe takes at least 40 minutes to prepare.\n",
      "This recipe is a keeper, if my husband goes back for seconds. Very good.\n",
      "This is now &#34;my&#34; chili recipe.  It&#39;s a total knockout!  I use 1 can of northern beans, 1 can of garbanzo beans, and 1 can of sweet white corn.  My friends and family BEG for it.\n",
      "I have made this cake multiple times and my family loves it. I topped it with strawberries and some whip cream and it is an instant success.\n",
      "Excellent!  I doubled the recipe and made two loaves, so I could give away one. The name of the recipe is true. Very moist, very good.\n",
      "Made this with chicken tonight. It was a hit. Nice fresh lemony fresh flavor. Easy to fix on a rushed night. March 2016 - Made this again but with shrimp as it should be, still a delicious and a good quick meal. April 2017 - rave reviews from family again...\n",
      "Very tasty recipe - thank you for sharing!  It can be easily modified with a few ingredients to people&#39;s tastes, but I like it as is.   Not sure what &#34;Pam&#34; was doing to this recipe - but looks like she should have just thrown it out completely and added all her silly ingredients to plain chicken stock and wrote her own recipe; rather than destroying yours - lol!\n",
      "Very moist!  Everyone loved it and could not believe how moist it was.  It disappeared in one day!\n",
      "Made this for the first time....thought there would be leftovers....and not one drop left...big hit with my family..thank you for sharing.... next time I will double the recipe. :)\n",
      "Made this for a cookout.  My husband asked for it twice within the week after the cookout.  Great old tyme flavor.  Also makes a great dip for veggies and crackers.  I didn&#39;t have celery salt so I very finely minced a celery stalk and that was great.  A little extra crunch with a lot extra flavor!\n",
      "This recipe was quite easy.  Everything was mixed in one bowl so clean up was minimal.  It has a sweet and tangy flavor.  Very good.\n",
      "I found this recipe to be lacking something, so I threw in a few extra things and it turned out pretty well. I used only 1/4 tsp oregano, instead of 4 garlic cloves I used garlic powder, I also added a handful of spinach, and some wild rice. I added a little of a seasoning blend, and added fresh ground pepper.\n",
      "Taste like the real thing!\n",
      "Easy recipe but needs some help.  I will try using brown sugar and adding more ginger. Chicken was a bit dry.\n",
      "This recipe is a great Au Gratin base. We use a little extra cheese on top and add some fresh herbs. For the one star review, you have it backwards, scalloped potatoes do not have cheese, au gratin potatoes do.... Also, these are PLENTY tender if you follow the directions of cooking for 1 hour covered and then an additional 30-40 minutes uncovered, no need to precook unless you would like to avoid the first hour of covered cooking.\n",
      "This is a great side dish.  I would reduce the sugar, I found it sweet.  I would also add some cheese to the mixture next time.  Great Thanksgiving side.  Goes great with steak too.  Loved it.\n",
      "Hi Mgooch,That 1/4 c. brown sugar is divided evenly over the four chicken breasts.Sue StetzelTaste of Home Magazine\n",
      "Why does everything have to have a spicy kick? There are tons of people who cannot tolerate this. The same goes for the t.v. food channels.\n",
      "I&#39;ve never been able to master making lasagne. I&#39;ve made this several times, and it turns out great everytime. It&#39;s so much quicker and easier than the traditional method.\n",
      "Next time I will try only one cup sugar.  I didn&#39;t have any buttermilk so added 1/2 tsp of cream of tartar to the milk.  The only other change I made was using Saffola instead of canola.  My grandson suggests adding chocolate chips next time as he likes them in everything.  Really good and very moist.\n",
      "I made this yesterday for dessert at a pot luck dinner of 14 people.  EVERYONE loved it and commented that it was very satisfying and not too sweet.\n",
      "I LOVE these bars and so does everyone who has tried them.  One lady ate the whole pan over the course of a couple of days and then about died when she say the fat content in them.  My sis-in-law who swears she doesn&#39;t like rhubarb loves them as well.  I&#39;ve been making them ever since the recipe came out and will continue to make it.\n",
      "I made these into 4 mini loaves. I used cinnamon chips and less sugar instead of raisins and walnuts. Very easy to make.\n",
      "Fantastic recipe. I made it and the family loved it. It&#39;s a regular on the menu now.\n",
      "Amazing casserole.\n",
      "Every time I make this candy everyone asks me for the recipe. It is a real winner!!!\n",
      "When we moved to the south in 2012 this was the first recipe I had to have . Everyone loves it from kids to adults. It’s very refreshing.\n",
      "This is fabulous!  I used skim milk and otherwise made as directed!\n",
      "Always looking for good, relatively easy to prepare, and able bake ahead if needed chicken recipes; this one is a keeper!  We doubled the cheese, scallions, and sauce quantities.\n",
      "This recipe is SOOOO good!  I make it all the time for potluck breakfasts &amp; brunches!\n",
      "Absolutely delicious and so very easy to make.  The only change I made was to use two small arm roasts that I had on hand rather than chuck roast.  The gravy was delicious.  I will definitely be making this my go-to pot roast recipe from now on!\n",
      "Really great breakfast dish!  I like to add green chilies along with some salt and pepper.\n",
      "This was the first time I made clam chowder and I made this for supper tonight. My family and I really liked it! I doubled the recipe, more than doubled the potatoes and decreased the half and half to 3 cups, instead of 4 cups with the recipe doubled.Thank you for the recipe!\n",
      "This is the best banana bread recipe ever!  Very moist and great banana flavor.\n",
      "My sister passed this recipe on to me and it&#39;s delicious. I add much less water and reduce the s &amp; p. We like the thicker consistency. I serve it with a hearty bread. Umm, umm, good!\n",
      "Fantastic!!!  Next time I&#39;ll double all but the biscuits so that leftovers don&#39;t soak it all up.  Loved this!\n",
      "After having read most of the reviews, I put the sliced potatoes in cold water and boiled them for 10 minutes only. I then added  about half a cup of gruyere cheese and half a teaspoon of smoked paprika, to the sauce and poured it over the warm potatoes and baked it according to the recipe,it was amazing\n",
      "Was very easy to prepare but kind of lacked flavor.\n",
      "This was absolutely delectable!!! I made this for a group of my friends and they devoured it!!! I used just a normal loaf of white bread and that worked just fine. And the sauce is the cherry on top!! Be prepared for it to take a little bit longer to bake then the recipe states...it almost took me an hour and 15 for it to start to brown.\n",
      "I want to make this casserole for company. Has anyone tried making it and freezing it ahead of time?\n",
      "This was very yummy!!\n",
      "I have made this cake several times, and it is definitely one of my favorites.  It has been a big hit at family gatherings.  I use white cake rather than yellow and omit the cherries.\n",
      "Fabulous and easy recipe.  I cut them for lunches putting iced sides together before placing in wrappers.  Definitely a favorite to find in the lunch bag!\n",
      "I loved this recipe! I used ground Chicken instead of beef and went with mild salsa. A keeper. DH loved it too! \n",
      "Mace this last night,  the only thing I didn&#39;t add was ginger (I forgot to buy it), this stuff was amazing!! My teenage son AND husband went back for seconds.  This is going in my regular rotation!!!!\n",
      "Took these to work--received many compliments and requests for the recipe.  Definitely a keeper and so easy and quick!\n",
      "This Black bean and Pumpkin chili recipe is terrific! Very fast and simple preparation. However, I did add 1Tbsp. tomato paste, 1 can of pinto beans, cooked and crumbled bacon. I also used basil instead of parsley and oregano only because I ran out. Defiantly adding this recipe to my recipe book!\n",
      "I made this just as it reads. It was great. A lot of work, but really a good soup.\n",
      "Very easy recipe the kids made them and they are great! Will keep this recipe around. Thanks\n",
      "Excellent recipe! Easy enough for kids to help.\n",
      "will a 102g vanilla instant pudding mix be the right amount to use in this recipe\n",
      "I made this recipe last night for my family. We had an early Thanksgiving due to me having to work. I made the recipe just as directed and it turned out amazing. My entire family loved it.\n",
      "Delicious! I also forgot the salt (and I am a salt addict), as well as the flour, and it came out wonderful! I, too, will not be buying the store brands of the enchilada sauce any more.\n",
      "Made this for 4th of July bbq.  after cooking the macaroni I realized it didn&#39;t make very much so had to cook up 2 more cups. so if you&#39;re bringing this to a party make sure you double the recipe.I added cubed cheddar cheese and a few T. spoons of ranch dressing powder. We   thought it was very good.\n",
      "We love this recipe and I make it often.  It is also great left over.Dorothy also from Vernon\n",
      "I usually fail miserably at anything connected with yeast but I made 2 successful loaves with this recipe. I took the advice of previous reviewers and mixed the water, sugar and yeast and let it stand to proof it. I also looked up other tips online like &#34;How to tell when bread is risen enough (not just &#34;doubled&#34;)&#34; &#34;How to tell  when bread is ready to bake&#34; &#34;How to tell when bread is thoroughly baked&#34;. With those tips I produced 2 nice loaves. The only thing I would have liked is a finer texture. I&#39;ve only been able to produce that in the past using the sponge method. I will use this recipe again.\n",
      "This by far my family&#39;s favorite cake.  Adults and kids love it.  It is like a big &#34;woopie pie&#34;.  It is a nice light bbut moist cake.  Great\n",
      "The only change we will be making next time is to make more sauce!  Delicious recipe though.\n",
      "I never write reviews but these are AMAZING. In fact this is the first review I have ever written because I never think it’s worth it. But these cookies are worth writing a review for. If you are thinking about making them, DO IT.\n",
      "Great\n",
      "My entire family uses this recipe anytime that lasagna is craved! We all discovered this recipe several years ago and stopped looking for any other lasagna recipe. The only thing we look for now is to see which one of us is going to prepare the dish next. Love it!\n",
      "Excellent recipe! The ingredients are surprising but meld perfectly. The pumpkin adds to the flavor and texture but is not really detectable, which we liked. This recipe is easy, inexpensive and my family loved it. I will be making this regularly. I made it with leftover turkey as directed this time,  but will try with ground turkey at other times of the year. The only modifications I made were to use a red bell pepper because that is what I had, and I added a little black pepper.\n",
      "Made this for my grandson (age 22) and he loved it! Popped the remainder in the freezer just to see what would happen and it froze very well. Now I can have it on hand whenever he stops by and is craving some chocolate.\n",
      "This is great anyway but after making it at least 20 times now i have some suggestions. Add an extra can of great N. beans and thicken the soup with some cornstarch or flour. Use Tillamook brand sour cream there is a HUGE difference. Iv&#39;e tried both.\n",
      "How ridiculous. Your &#34;sponsored ingredient&#34; eggs put an ad you can&#39;t close over half the ingredients! So thanks for that, I would have loved to make these.\n",
      "We tried this recently as I have a surplus of zucchini. My boys loved them. I had no problem with the frosting as is, make sure you let it actually get down to lukewarm if you are having problems with the consistency. Setting it in a pan of cool water can speed the process. I baked mine for 20 min. for the first 12, then 18 the second as I found them a little dry.\n",
      "Awesome!!! I used 1 large green pepper and 1 red pepper.  The flavors were awesome.  Also, I used 1 lb. ground round, 1/4 lb. sweet Italian sausage and about 1/3 lb. of left over meatloaf and brown rice.  Definitely a make-again recipe.\n",
      "I started making this recipe when it was first published in TOH and my family LOVES it.  They will not let me make meatloaf with any other recipe!\n",
      "Very Very Good-- it was my first attempt and I had to substitute a few ingredients based on what was available and it still turned out amazing. I upped the ingredients I really like-- Onion, cheese, had to make due when I couldn&#39;t figure out where the hell my chili powder went and why I have so much Chinese 5 spice powder.  No I didn&#39;t add chinese 5 spice powder to the enchiladas.\n",
      "These are wonderful pancakes!! Very easy to make as a last minute meal any time of the day.  I double the batch and freeze them for my kids, they love how fluffy they are!! I will make these pancakes many more times. Thanks!\n",
      "I followed the directions and to me it was a waste of meat. The chops were horrible, very hard. Potatoes were good with the gravy.\n",
      "Made the recipe exactly as written but also added beef strips.  My family loved these fajitas and said they were the best I had ever made......a keeper!\n",
      "printed\n",
      "My husband &amp; I loved this recipe! I followed the advice in several of the comments and only used half of the brown sugar - the onions were awesome. Next time i may use pepper-jack cheese instead.\n",
      "Great recipe--it does a wonderful job of &#34;disguising&#34; the healthy ingredients.  However, it has WAY too much sugar in it for me.  I doubled the recipe to make it the same as my regular pancake recipe--meaning it now calls for 2/3 cup sugar!  My normal pancake recipe only has 2 tablespoons of sugar for the same amount of flour/oats.  Because we use syrup on our pancakes I don&#39;t feel like I need my pancakes to be sweet too--its just added sugar that is unnecessary.  So, next time I will reduce the amount of sugar to 2 tablespoons and add 1 teaspoon of vanilla.  Otherwise, it&#39;s a delicious recipe.   (also they brown quickly due to all the brown sugar in the recipe, just turn down the heat so they cook a little more slowly and you&#39;ll be fine)\n",
      "I have baked these bars for several years and there are never any left for the next day. My daughters and daughter-in-law and grandkids bring me very ripe bananas as a hint to make these. My only recommendation would be to make one half of the frosting as it really makes a lot.  Would give these 10 stars if I could.\n",
      "Excellent\n",
      "really good quick recipe . I used diced tomatoes instead of the stewed, and substituted salsa for the ranch seasoning. I served it with crispy tortilla strips and shredded cheese.\n",
      "This reciepe was okay I had to add lots of different ingedience to make it have good flavor.  It was easy and a good base to make my own.\n",
      "I made this on the stove and my friends and family loved it!  I made it 3 times in one week!!! Loved it!!\n",
      "Try Raspberry Jello with \n",
      "sliced Strawberries. 😋\n",
      "made these for years but use tomato soup intead of tomatoe sauce\n",
      "This is the easiest bread to make. Always have all ingredients on hand. I do not add the nuts. The butter is in the bread part NOT in the glaze. I can not understand how some people thought the butter was in the glaze. And, I agree, I have to cook about 10 minutes longer. Could be my oven. This never disappoints and could certainly be changed up using other berries and juice.\n",
      "This recipe was great. I reduced sugar to 1 cup and it was plenty sweet enough.\n",
      "Made for dinner tonight for my adult son and I!Omgosh, it&#39;s so delicious, thank you ,I didn&#39;t have mozzarella so I grated string cheeseI used two can tomato sauce and sprinkled with Italian seasoning and garlic powder! YumOh an a dash of sugar, yes sugar about a teaspoon! I omitted the green peppers didn&#39;t have any, but sprinkle chopped green onions (scallions) yumI wanted to get seconds, think I&#39;ll wait till tomorrow  CALORIES LOLGOOD LUCKMUCH ALOHACINDY WILSON\n",
      "Easy to make and a filling meal.  We serve with spanish rice and tortilla chips.\n",
      "This is a very good recipe for white chili. It is a little thin and more like soup when made exactly as written.  I substitute a cup of heavy whipping cream for one of the cups of chicken broth which gives it a very creamy and thicker sauce.  I&#39;ve used chicken I&#39;ve cooked myself, canned chicken and rotisserie chicken at different times and all of them work well in the recipe.\n",
      "I really use this recipe a lot, thanks\n",
      "Before I bake this...what size can of pumpkin\n",
      "Made this today for a group of cowboys, to go along with chili and cornmeal muffins. It was well received! This will be my go to salad recipe from now on! I may add cubed cheddar cheese for the next time and for a more summer type salad I&#39;ll try adding sliced grapes. Oh so yummy. Thank you!\n",
      "These bars are so good!  They are very moist and flavorful.  I brought them to work and my co-workers commented on how good they were.  I did cut the frosting recipe in half, and it turned out to be just enough.  I will surely make them again.\n",
      "This was really good.  I thought it tasted more like lasagna than pizza.  Maybe it was because I used a jar of spaghetti sauce in place of the tomato sauce.  I did follow the ret of the recipe.  I will make this again!!!!\n",
      "Someone asked &#39;Is there a complimentary ingredient you could add to this grape salad?&#39; My cousin adds one large diced apple. I&#39;ve eaten her version and the dressing compliments an apple of choice as well as the grapes. So delicious either way! :)\n",
      "I am sure that to someone that has never tasted real New England clam chowder this might taste good, but there is no way this tastes anything like the chowder that we make in Boston or anywhere else in New England.  You can call it Washington clam chowder or Northwest clam chowder or west coast clam chowder, but not Boston or New England clam chowder.  We would never put celery or garlic or thyme in our chowder!!!!!\n",
      "This isnt something I would normally make but I was wanting to branch out a little. My family loves this which was a shock. We have been making it on a regular basis for years now.\n",
      "Doubled, had fajitas, just had the perfect meat and peppers for lunch, made enchiladas from leftovers and all were excellent.\n",
      "These were really good! I love the combination of bananas and cream cheese, so I knew that I would like these and yes - I certainly did! I prefer a bit more texture, so I added some chopped walnuts to the bars and they turned out great that way.\n",
      "my husband loved this soup! he said it was a keeper for sure. I did use 2% velveeta instead of regular.\n",
      "Yummy recipe we all love!  I blend the salsa (no onion chunks for my kids) and sometimes omit the green chilis for a less spicy enchilada but it&#39;s all around one of my favorites.\n",
      "Made these into muffins. Used 3 very ripe bananas and just a little more walnuts.  We like walnuts. Cut back on the sugar to 1 cup. Wonderful flavor and very moist.  My husband really likes these.  Better then my old recipe.  This is a keeper.  Will be making these again.\n",
      "Yummy! Have been making for years. Very moist. Was great for feeding my son when he was a toddler and wanted to eat what we were eating. Also like the extra dairy in there. Great way to sneak into my son&#39;s diet as he&#39;s not a very good milk drinker. \n",
      "This is easy and my husband said it is very good.  I will definitely make it again.\n",
      "I made these for Thanksgiving a few years ago with great success! I used melted, unsalted butter in lieu of the oil in the cake. This recipe is perfect if you know how to follow simple instructions and use the right size pan. The frosting was just right and the cake was light, moist and fluffy. It was a huge hit! Thanks T.O.H!\n",
      "I have been making this recipe for almost 20 years. My daughters boyfriend loved them so much that he use to bring all the ingredients over so I would make a pan for him to take home with him. I keep getting asked to make these simple yet extremely yummy banana bars.\n",
      "Very good recipe!!   I, too, added a bit more seasoning to the meat (oregano and garlic) but otherwise made as written.    I tend to like my food a bit more spicy so thought maybe I&#39;d add some dried pepper flakes to the meat the next time.   Very good warmed up the next day, too!!    I can&#39;t wait for zucchini season to make this again and again!!!\n",
      "just finished eating it.  wonderful!  will definitely be making again\n",
      "Simply delicious! Everyone loved it!\n",
      "With very picky eaters in the family, I am often searching for something to please everyone.  I thought this recipe was a long shot, but everyone loved it.  Now I get requests for it all the time.  I actually cook the chicken on my Foreman grill and then shred it with a couple forks and it really soaks up the flavor.  Thanks for the great recipe!\n",
      "This is very yummy.  Family loved it.  Making it again but wanted to know if you can make ahead or will the tortellini get all mushy?\n",
      "Love these cake bars!  Have been making this recipe for years.  I usually half the frosting recipe.\n",
      "This was very good. Definitely make this again!  The only modification I made to the recipe was I used a small amount of ground beef.\n",
      "This soup is wonderful, full of flavor, and surprisingly simple.   I made a couple small adjustments to the original recipe, which are as follows:   I doubled the amount of mushrooms to 1 pound using a mixed variety of mushrooms and I used a large onion (chopped).   Otherwise, everything else was as written.   I like a lot of mushrooms in mushroom soup and 1/2 pound was not nearly enough.\n",
      "We are a garlic family, so this was a great recipe for us. My kids had seconds, so this momma was thrilled. The meat was fork tender and the sauce was a nice mix of sweet and savory (between the sugar and the soy sauce.) Would make again! Plenty for 2 meals this this family of 4.\n",
      "These are great! They have a nice, crispy surface and chewy inside. I&#39;ll be making these again but perhaps adding 1.5 c chips. I bet they&#39;re great with dark chips as well. Thanks for sharing!\n",
      "I have made this recipe for over 25 years.  I make it upside down.  I was tired of soggy pretzels on the bottom if the Cool Whip layer was not sealed precisely.  I also liked to take this to school pot lucks in a disposable pan (the sides of the aluminum pan are never smooth) .I put the jello/strawberry combo in the bottom of the pan and let that set up firm.  Then I spread the Cool Whip layer.  I put the pretzels on right before serving to ensure they  stay crunchy.  If you want, you can leave the pretzels on the side in case someone does not like pretzels.\n",
      "It is the best.  Used only 1 cup sugar.  That was enough.  Will try the oil and apple sause suggestion next time.\n",
      "This has become a family favorite!  Easy, quick and delicious!\n",
      "Great use of bananas &amp; blueberries.  Yummy!\n",
      "nan\n"
     ]
    },
    {
     "ename": "TypeError",
     "evalue": "The `text` argument passed to `__init__(text)` must be a string, not <class 'float'>",
     "output_type": "error",
     "traceback": [
      "\u001B[0;31m---------------------------------------------------------------------------\u001B[0m",
      "\u001B[0;31mTypeError\u001B[0m                                 Traceback (most recent call last)",
      "Cell \u001B[0;32mIn[16], line 4\u001B[0m\n\u001B[1;32m      2\u001B[0m \u001B[38;5;28;01mfor\u001B[39;00m i \u001B[38;5;129;01min\u001B[39;00m data[\u001B[38;5;124m'\u001B[39m\u001B[38;5;124mRecipe_Review\u001B[39m\u001B[38;5;124m'\u001B[39m]:\n\u001B[1;32m      3\u001B[0m     \u001B[38;5;28mprint\u001B[39m(i)\n\u001B[0;32m----> 4\u001B[0m     pol\u001B[38;5;241m.\u001B[39mappend(\u001B[43mTextBlob\u001B[49m\u001B[43m(\u001B[49m\u001B[43mi\u001B[49m\u001B[43m)\u001B[49m\u001B[38;5;241m.\u001B[39msentiment\u001B[38;5;241m.\u001B[39mpolarity)\n\u001B[1;32m      6\u001B[0m data[\u001B[38;5;124m'\u001B[39m\u001B[38;5;124mpolarity\u001B[39m\u001B[38;5;124m'\u001B[39m] \u001B[38;5;241m=\u001B[39m pol\n",
      "File \u001B[0;32m~/DataspellProjects/rating/venv/lib/python3.9/site-packages/textblob/blob.py:384\u001B[0m, in \u001B[0;36mBaseBlob.__init__\u001B[0;34m(self, text, tokenizer, pos_tagger, np_extractor, analyzer, parser, classifier, clean_html)\u001B[0m\n\u001B[1;32m    380\u001B[0m \u001B[38;5;28;01mdef\u001B[39;00m \u001B[38;5;21m__init__\u001B[39m(\u001B[38;5;28mself\u001B[39m, text, tokenizer\u001B[38;5;241m=\u001B[39m\u001B[38;5;28;01mNone\u001B[39;00m,\n\u001B[1;32m    381\u001B[0m             pos_tagger\u001B[38;5;241m=\u001B[39m\u001B[38;5;28;01mNone\u001B[39;00m, np_extractor\u001B[38;5;241m=\u001B[39m\u001B[38;5;28;01mNone\u001B[39;00m, analyzer\u001B[38;5;241m=\u001B[39m\u001B[38;5;28;01mNone\u001B[39;00m,\n\u001B[1;32m    382\u001B[0m             parser\u001B[38;5;241m=\u001B[39m\u001B[38;5;28;01mNone\u001B[39;00m, classifier\u001B[38;5;241m=\u001B[39m\u001B[38;5;28;01mNone\u001B[39;00m, clean_html\u001B[38;5;241m=\u001B[39m\u001B[38;5;28;01mFalse\u001B[39;00m):\n\u001B[1;32m    383\u001B[0m     \u001B[38;5;28;01mif\u001B[39;00m \u001B[38;5;129;01mnot\u001B[39;00m \u001B[38;5;28misinstance\u001B[39m(text, basestring):\n\u001B[0;32m--> 384\u001B[0m         \u001B[38;5;28;01mraise\u001B[39;00m \u001B[38;5;167;01mTypeError\u001B[39;00m(\u001B[38;5;124m'\u001B[39m\u001B[38;5;124mThe `text` argument passed to `__init__(text)` \u001B[39m\u001B[38;5;124m'\u001B[39m\n\u001B[1;32m    385\u001B[0m                         \u001B[38;5;124m'\u001B[39m\u001B[38;5;124mmust be a string, not \u001B[39m\u001B[38;5;132;01m{0}\u001B[39;00m\u001B[38;5;124m'\u001B[39m\u001B[38;5;241m.\u001B[39mformat(\u001B[38;5;28mtype\u001B[39m(text)))\n\u001B[1;32m    386\u001B[0m     \u001B[38;5;28;01mif\u001B[39;00m clean_html:\n\u001B[1;32m    387\u001B[0m         \u001B[38;5;28;01mraise\u001B[39;00m \u001B[38;5;167;01mNotImplementedError\u001B[39;00m(\u001B[38;5;124m\"\u001B[39m\u001B[38;5;124mclean_html has been deprecated. \u001B[39m\u001B[38;5;124m\"\u001B[39m\n\u001B[1;32m    388\u001B[0m                                 \u001B[38;5;124m\"\u001B[39m\u001B[38;5;124mTo remove HTML markup, use BeautifulSoup\u001B[39m\u001B[38;5;124m'\u001B[39m\u001B[38;5;124ms \u001B[39m\u001B[38;5;124m\"\u001B[39m\n\u001B[1;32m    389\u001B[0m                                 \u001B[38;5;124m\"\u001B[39m\u001B[38;5;124mget_text() function\u001B[39m\u001B[38;5;124m\"\u001B[39m)\n",
      "\u001B[0;31mTypeError\u001B[0m: The `text` argument passed to `__init__(text)` must be a string, not <class 'float'>"
     ]
    }
   ],
   "source": [
    "pol=[]\n",
    "for i in data['Recipe_Review']:\n",
    "    print(i)\n",
    "    pol.append(TextBlob(i).sentiment.polarity)\n",
    "    \n",
    "data['polarity'] = pol"
   ],
   "metadata": {
    "collapsed": false,
    "ExecuteTime": {
     "end_time": "2024-02-18T15:17:43.786702Z",
     "start_time": "2024-02-18T15:17:43.228856Z"
    }
   },
   "id": "aca9c1b7c7398da8",
   "execution_count": 16
  },
  {
   "cell_type": "code",
   "outputs": [],
   "source": [
    "data.dropna(inplace=True)"
   ],
   "metadata": {
    "collapsed": false,
    "ExecuteTime": {
     "end_time": "2024-02-18T15:17:46.732053Z",
     "start_time": "2024-02-18T15:17:46.726960Z"
    }
   },
   "id": "6e06e6410fec6a53",
   "execution_count": 17
  },
  {
   "cell_type": "code",
   "outputs": [
    {
     "name": "stdout",
     "output_type": "stream",
     "text": [
      "<class 'pandas.core.frame.DataFrame'>\n",
      "Index: 13634 entries, 0 to 13635\n",
      "Data columns (total 13 columns):\n",
      " #   Column             Non-Null Count  Dtype \n",
      "---  ------             --------------  ----- \n",
      " 0   ID                 13634 non-null  int64 \n",
      " 1   RecipeNumber       13634 non-null  int64 \n",
      " 2   RecipeCode         13634 non-null  int64 \n",
      " 3   RecipeName         13634 non-null  object\n",
      " 4   UserID             13634 non-null  int64 \n",
      " 5   UserReputation     13634 non-null  int64 \n",
      " 6   CreationTimestamp  13634 non-null  int64 \n",
      " 7   ReplyCount         13634 non-null  int64 \n",
      " 8   ThumbsUpCount      13634 non-null  int64 \n",
      " 9   ThumbsDownCount    13634 non-null  int64 \n",
      " 10  Rating             13634 non-null  int64 \n",
      " 11  BestScore          13634 non-null  int64 \n",
      " 12  Recipe_Review      13634 non-null  object\n",
      "dtypes: int64(11), object(2)\n",
      "memory usage: 1.5+ MB\n"
     ]
    }
   ],
   "source": [
    "data.info()"
   ],
   "metadata": {
    "collapsed": false,
    "ExecuteTime": {
     "end_time": "2024-02-18T15:17:47.802210Z",
     "start_time": "2024-02-18T15:17:47.795581Z"
    }
   },
   "id": "3446a99d96a81324",
   "execution_count": 18
  },
  {
   "cell_type": "code",
   "outputs": [],
   "source": [
    "data['polarity'] = data['Recipe_Review'].apply(lambda x: TextBlob(x).sentiment.polarity)"
   ],
   "metadata": {
    "collapsed": false,
    "ExecuteTime": {
     "end_time": "2024-02-18T15:17:51.851910Z",
     "start_time": "2024-02-18T15:17:49.367895Z"
    }
   },
   "id": "8440946f345bfb25",
   "execution_count": 19
  },
  {
   "cell_type": "code",
   "outputs": [
    {
     "data": {
      "text/plain": "    ID  RecipeNumber  RecipeCode                              RecipeName  \\\n0   70            71       12259  Banana Bars with Cream Cheese Frosting   \n1   72            88        8202                        Simple Taco Soup   \n2  458             3        2832                       Cheeseburger Soup   \n3    7            50      100276               Grilled Huli Huli Chicken   \n4   60            12       19731                        Cauliflower Soup   \n\n   UserID  UserReputation  CreationTimestamp  ReplyCount  ThumbsUpCount  \\\n0    8685              20         1622717078           0              0   \n1    3639               1         1622717852           0              0   \n2    7332               1         1622717357           0              0   \n3    6558               1         1622648899           0              0   \n4    4722               1         1622718260           0              0   \n\n   ThumbsDownCount  Rating  BestScore  \\\n0                0       5        100   \n1                1       5        100   \n2                0       3        100   \n3                0       5        100   \n4                0       4        100   \n\n                                       Recipe_Review  polarity  \n0  great recipe! I have made them just as written...  0.338333  \n1  This is an easy and quick recipe that is great...  0.285185  \n2  I think I was looking for something extra spec...  0.069048  \n3  This is our favorite grilled chicken recipe.  ...  0.300000  \n4  Great basic recipe. I added 2 teaspoons Tuscan...  0.485000  ",
      "text/html": "<div>\n<style scoped>\n    .dataframe tbody tr th:only-of-type {\n        vertical-align: middle;\n    }\n\n    .dataframe tbody tr th {\n        vertical-align: top;\n    }\n\n    .dataframe thead th {\n        text-align: right;\n    }\n</style>\n<table border=\"1\" class=\"dataframe\">\n  <thead>\n    <tr style=\"text-align: right;\">\n      <th></th>\n      <th>ID</th>\n      <th>RecipeNumber</th>\n      <th>RecipeCode</th>\n      <th>RecipeName</th>\n      <th>UserID</th>\n      <th>UserReputation</th>\n      <th>CreationTimestamp</th>\n      <th>ReplyCount</th>\n      <th>ThumbsUpCount</th>\n      <th>ThumbsDownCount</th>\n      <th>Rating</th>\n      <th>BestScore</th>\n      <th>Recipe_Review</th>\n      <th>polarity</th>\n    </tr>\n  </thead>\n  <tbody>\n    <tr>\n      <th>0</th>\n      <td>70</td>\n      <td>71</td>\n      <td>12259</td>\n      <td>Banana Bars with Cream Cheese Frosting</td>\n      <td>8685</td>\n      <td>20</td>\n      <td>1622717078</td>\n      <td>0</td>\n      <td>0</td>\n      <td>0</td>\n      <td>5</td>\n      <td>100</td>\n      <td>great recipe! I have made them just as written...</td>\n      <td>0.338333</td>\n    </tr>\n    <tr>\n      <th>1</th>\n      <td>72</td>\n      <td>88</td>\n      <td>8202</td>\n      <td>Simple Taco Soup</td>\n      <td>3639</td>\n      <td>1</td>\n      <td>1622717852</td>\n      <td>0</td>\n      <td>0</td>\n      <td>1</td>\n      <td>5</td>\n      <td>100</td>\n      <td>This is an easy and quick recipe that is great...</td>\n      <td>0.285185</td>\n    </tr>\n    <tr>\n      <th>2</th>\n      <td>458</td>\n      <td>3</td>\n      <td>2832</td>\n      <td>Cheeseburger Soup</td>\n      <td>7332</td>\n      <td>1</td>\n      <td>1622717357</td>\n      <td>0</td>\n      <td>0</td>\n      <td>0</td>\n      <td>3</td>\n      <td>100</td>\n      <td>I think I was looking for something extra spec...</td>\n      <td>0.069048</td>\n    </tr>\n    <tr>\n      <th>3</th>\n      <td>7</td>\n      <td>50</td>\n      <td>100276</td>\n      <td>Grilled Huli Huli Chicken</td>\n      <td>6558</td>\n      <td>1</td>\n      <td>1622648899</td>\n      <td>0</td>\n      <td>0</td>\n      <td>0</td>\n      <td>5</td>\n      <td>100</td>\n      <td>This is our favorite grilled chicken recipe.  ...</td>\n      <td>0.300000</td>\n    </tr>\n    <tr>\n      <th>4</th>\n      <td>60</td>\n      <td>12</td>\n      <td>19731</td>\n      <td>Cauliflower Soup</td>\n      <td>4722</td>\n      <td>1</td>\n      <td>1622718260</td>\n      <td>0</td>\n      <td>0</td>\n      <td>0</td>\n      <td>4</td>\n      <td>100</td>\n      <td>Great basic recipe. I added 2 teaspoons Tuscan...</td>\n      <td>0.485000</td>\n    </tr>\n  </tbody>\n</table>\n</div>"
     },
     "execution_count": 20,
     "metadata": {},
     "output_type": "execute_result"
    }
   ],
   "source": [
    "data.head()"
   ],
   "metadata": {
    "collapsed": false,
    "ExecuteTime": {
     "end_time": "2024-02-18T15:17:55.816502Z",
     "start_time": "2024-02-18T15:17:55.809444Z"
    }
   },
   "id": "6dc99f507f3389d4",
   "execution_count": 20
  },
  {
   "cell_type": "code",
   "outputs": [],
   "source": [
    "data.drop(['Recipe_Review'],axis=1,inplace=True)"
   ],
   "metadata": {
    "collapsed": false,
    "ExecuteTime": {
     "end_time": "2024-02-18T15:17:58.457626Z",
     "start_time": "2024-02-18T15:17:58.454646Z"
    }
   },
   "id": "7bf7a7d32616ab9e",
   "execution_count": 21
  },
  {
   "cell_type": "code",
   "outputs": [
    {
     "data": {
      "text/plain": "    ID  RecipeNumber  RecipeCode                              RecipeName  \\\n0   70            71       12259  Banana Bars with Cream Cheese Frosting   \n1   72            88        8202                        Simple Taco Soup   \n2  458             3        2832                       Cheeseburger Soup   \n3    7            50      100276               Grilled Huli Huli Chicken   \n4   60            12       19731                        Cauliflower Soup   \n\n   UserID  UserReputation  CreationTimestamp  ReplyCount  ThumbsUpCount  \\\n0    8685              20         1622717078           0              0   \n1    3639               1         1622717852           0              0   \n2    7332               1         1622717357           0              0   \n3    6558               1         1622648899           0              0   \n4    4722               1         1622718260           0              0   \n\n   ThumbsDownCount  Rating  BestScore  polarity  \n0                0       5        100  0.338333  \n1                1       5        100  0.285185  \n2                0       3        100  0.069048  \n3                0       5        100  0.300000  \n4                0       4        100  0.485000  ",
      "text/html": "<div>\n<style scoped>\n    .dataframe tbody tr th:only-of-type {\n        vertical-align: middle;\n    }\n\n    .dataframe tbody tr th {\n        vertical-align: top;\n    }\n\n    .dataframe thead th {\n        text-align: right;\n    }\n</style>\n<table border=\"1\" class=\"dataframe\">\n  <thead>\n    <tr style=\"text-align: right;\">\n      <th></th>\n      <th>ID</th>\n      <th>RecipeNumber</th>\n      <th>RecipeCode</th>\n      <th>RecipeName</th>\n      <th>UserID</th>\n      <th>UserReputation</th>\n      <th>CreationTimestamp</th>\n      <th>ReplyCount</th>\n      <th>ThumbsUpCount</th>\n      <th>ThumbsDownCount</th>\n      <th>Rating</th>\n      <th>BestScore</th>\n      <th>polarity</th>\n    </tr>\n  </thead>\n  <tbody>\n    <tr>\n      <th>0</th>\n      <td>70</td>\n      <td>71</td>\n      <td>12259</td>\n      <td>Banana Bars with Cream Cheese Frosting</td>\n      <td>8685</td>\n      <td>20</td>\n      <td>1622717078</td>\n      <td>0</td>\n      <td>0</td>\n      <td>0</td>\n      <td>5</td>\n      <td>100</td>\n      <td>0.338333</td>\n    </tr>\n    <tr>\n      <th>1</th>\n      <td>72</td>\n      <td>88</td>\n      <td>8202</td>\n      <td>Simple Taco Soup</td>\n      <td>3639</td>\n      <td>1</td>\n      <td>1622717852</td>\n      <td>0</td>\n      <td>0</td>\n      <td>1</td>\n      <td>5</td>\n      <td>100</td>\n      <td>0.285185</td>\n    </tr>\n    <tr>\n      <th>2</th>\n      <td>458</td>\n      <td>3</td>\n      <td>2832</td>\n      <td>Cheeseburger Soup</td>\n      <td>7332</td>\n      <td>1</td>\n      <td>1622717357</td>\n      <td>0</td>\n      <td>0</td>\n      <td>0</td>\n      <td>3</td>\n      <td>100</td>\n      <td>0.069048</td>\n    </tr>\n    <tr>\n      <th>3</th>\n      <td>7</td>\n      <td>50</td>\n      <td>100276</td>\n      <td>Grilled Huli Huli Chicken</td>\n      <td>6558</td>\n      <td>1</td>\n      <td>1622648899</td>\n      <td>0</td>\n      <td>0</td>\n      <td>0</td>\n      <td>5</td>\n      <td>100</td>\n      <td>0.300000</td>\n    </tr>\n    <tr>\n      <th>4</th>\n      <td>60</td>\n      <td>12</td>\n      <td>19731</td>\n      <td>Cauliflower Soup</td>\n      <td>4722</td>\n      <td>1</td>\n      <td>1622718260</td>\n      <td>0</td>\n      <td>0</td>\n      <td>0</td>\n      <td>4</td>\n      <td>100</td>\n      <td>0.485000</td>\n    </tr>\n  </tbody>\n</table>\n</div>"
     },
     "execution_count": 22,
     "metadata": {},
     "output_type": "execute_result"
    }
   ],
   "source": [
    "data.head()\n"
   ],
   "metadata": {
    "collapsed": false,
    "ExecuteTime": {
     "end_time": "2024-02-18T15:17:59.901235Z",
     "start_time": "2024-02-18T15:17:59.895341Z"
    }
   },
   "id": "638213c49026fbca",
   "execution_count": 22
  },
  {
   "cell_type": "code",
   "outputs": [
    {
     "data": {
      "text/plain": "RecipeName\nCheeseburger Soup             552\nCreamy White Chili            483\nBest Ever Banana Bread        372\nEnchilada Casser-Ole!         313\nBasic Homemade Bread          307\n                             ... \nCheeseburger Paradise Soup     68\nLime Chicken Tacos             65\nCaramel Heavenlies             64\nBlueberry French Toast         64\nVegetarian Linguine            19\nName: count, Length: 100, dtype: int64"
     },
     "execution_count": 112,
     "metadata": {},
     "output_type": "execute_result"
    }
   ],
   "source": [
    "data[('RecipeName')].value_counts()\n"
   ],
   "metadata": {
    "collapsed": false,
    "ExecuteTime": {
     "end_time": "2024-01-13T14:01:41.786635Z",
     "start_time": "2024-01-13T14:01:41.776206Z"
    }
   },
   "id": "f5dfd8c38200a8f7",
   "execution_count": 112
  },
  {
   "cell_type": "code",
   "outputs": [
    {
     "data": {
      "text/plain": "        ID  RecipeNumber  RecipeCode                              RecipeName  \\\n0       70            71       12259  Banana Bars with Cream Cheese Frosting   \n1       72            88        8202                        Simple Taco Soup   \n2      458             3        2832                       Cheeseburger Soup   \n3        7            50      100276               Grilled Huli Huli Chicken   \n4       60            12       19731                        Cauliflower Soup   \n...    ...           ...         ...                                     ...   \n13631  115            98       11767            Quick Cream of Mushroom Soup   \n13632  372             6       21444                 Favorite Chicken Potpie   \n13633   87            37       20170                            Taco Lasagna   \n13634   48            63       24886                   Chicken and Dumplings   \n13635  379             3        2832                       Cheeseburger Soup   \n\n       UserID  UserReputation  CreationTimestamp  ReplyCount  ThumbsUpCount  \\\n0        8685              20         1622717078           0              0   \n1        3639               1         1622717852           0              0   \n2        7332               1         1622717357           0              0   \n3        6558               1         1622648899           0              0   \n4        4722               1         1622718260           0              0   \n...       ...             ...                ...         ...            ...   \n13631    6652               1         1622716969           0              0   \n13632    4041               1         1622717329           0              0   \n13633     460               1         1622718089           0              0   \n13634    4400               1         1622717192           0              0   \n13635    8824               1         1622717703           0              0   \n\n       ThumbsDownCount  Rating  BestScore  polarity  \n0                    0       5        100  0.338333  \n1                    1       5        100  0.285185  \n2                    0       3        100  0.069048  \n3                    0       5        100  0.300000  \n4                    0       4        100  0.485000  \n...                ...     ...        ...       ...  \n13631                0       5        100  0.351042  \n13632                0       5        100  0.136111  \n13633                0       5        100  0.250000  \n13634                0       5        100  0.413889  \n13635                0       5        100  0.331667  \n\n[13634 rows x 13 columns]",
      "text/html": "<div>\n<style scoped>\n    .dataframe tbody tr th:only-of-type {\n        vertical-align: middle;\n    }\n\n    .dataframe tbody tr th {\n        vertical-align: top;\n    }\n\n    .dataframe thead th {\n        text-align: right;\n    }\n</style>\n<table border=\"1\" class=\"dataframe\">\n  <thead>\n    <tr style=\"text-align: right;\">\n      <th></th>\n      <th>ID</th>\n      <th>RecipeNumber</th>\n      <th>RecipeCode</th>\n      <th>RecipeName</th>\n      <th>UserID</th>\n      <th>UserReputation</th>\n      <th>CreationTimestamp</th>\n      <th>ReplyCount</th>\n      <th>ThumbsUpCount</th>\n      <th>ThumbsDownCount</th>\n      <th>Rating</th>\n      <th>BestScore</th>\n      <th>polarity</th>\n    </tr>\n  </thead>\n  <tbody>\n    <tr>\n      <th>0</th>\n      <td>70</td>\n      <td>71</td>\n      <td>12259</td>\n      <td>Banana Bars with Cream Cheese Frosting</td>\n      <td>8685</td>\n      <td>20</td>\n      <td>1622717078</td>\n      <td>0</td>\n      <td>0</td>\n      <td>0</td>\n      <td>5</td>\n      <td>100</td>\n      <td>0.338333</td>\n    </tr>\n    <tr>\n      <th>1</th>\n      <td>72</td>\n      <td>88</td>\n      <td>8202</td>\n      <td>Simple Taco Soup</td>\n      <td>3639</td>\n      <td>1</td>\n      <td>1622717852</td>\n      <td>0</td>\n      <td>0</td>\n      <td>1</td>\n      <td>5</td>\n      <td>100</td>\n      <td>0.285185</td>\n    </tr>\n    <tr>\n      <th>2</th>\n      <td>458</td>\n      <td>3</td>\n      <td>2832</td>\n      <td>Cheeseburger Soup</td>\n      <td>7332</td>\n      <td>1</td>\n      <td>1622717357</td>\n      <td>0</td>\n      <td>0</td>\n      <td>0</td>\n      <td>3</td>\n      <td>100</td>\n      <td>0.069048</td>\n    </tr>\n    <tr>\n      <th>3</th>\n      <td>7</td>\n      <td>50</td>\n      <td>100276</td>\n      <td>Grilled Huli Huli Chicken</td>\n      <td>6558</td>\n      <td>1</td>\n      <td>1622648899</td>\n      <td>0</td>\n      <td>0</td>\n      <td>0</td>\n      <td>5</td>\n      <td>100</td>\n      <td>0.300000</td>\n    </tr>\n    <tr>\n      <th>4</th>\n      <td>60</td>\n      <td>12</td>\n      <td>19731</td>\n      <td>Cauliflower Soup</td>\n      <td>4722</td>\n      <td>1</td>\n      <td>1622718260</td>\n      <td>0</td>\n      <td>0</td>\n      <td>0</td>\n      <td>4</td>\n      <td>100</td>\n      <td>0.485000</td>\n    </tr>\n    <tr>\n      <th>...</th>\n      <td>...</td>\n      <td>...</td>\n      <td>...</td>\n      <td>...</td>\n      <td>...</td>\n      <td>...</td>\n      <td>...</td>\n      <td>...</td>\n      <td>...</td>\n      <td>...</td>\n      <td>...</td>\n      <td>...</td>\n      <td>...</td>\n    </tr>\n    <tr>\n      <th>13631</th>\n      <td>115</td>\n      <td>98</td>\n      <td>11767</td>\n      <td>Quick Cream of Mushroom Soup</td>\n      <td>6652</td>\n      <td>1</td>\n      <td>1622716969</td>\n      <td>0</td>\n      <td>0</td>\n      <td>0</td>\n      <td>5</td>\n      <td>100</td>\n      <td>0.351042</td>\n    </tr>\n    <tr>\n      <th>13632</th>\n      <td>372</td>\n      <td>6</td>\n      <td>21444</td>\n      <td>Favorite Chicken Potpie</td>\n      <td>4041</td>\n      <td>1</td>\n      <td>1622717329</td>\n      <td>0</td>\n      <td>0</td>\n      <td>0</td>\n      <td>5</td>\n      <td>100</td>\n      <td>0.136111</td>\n    </tr>\n    <tr>\n      <th>13633</th>\n      <td>87</td>\n      <td>37</td>\n      <td>20170</td>\n      <td>Taco Lasagna</td>\n      <td>460</td>\n      <td>1</td>\n      <td>1622718089</td>\n      <td>0</td>\n      <td>0</td>\n      <td>0</td>\n      <td>5</td>\n      <td>100</td>\n      <td>0.250000</td>\n    </tr>\n    <tr>\n      <th>13634</th>\n      <td>48</td>\n      <td>63</td>\n      <td>24886</td>\n      <td>Chicken and Dumplings</td>\n      <td>4400</td>\n      <td>1</td>\n      <td>1622717192</td>\n      <td>0</td>\n      <td>0</td>\n      <td>0</td>\n      <td>5</td>\n      <td>100</td>\n      <td>0.413889</td>\n    </tr>\n    <tr>\n      <th>13635</th>\n      <td>379</td>\n      <td>3</td>\n      <td>2832</td>\n      <td>Cheeseburger Soup</td>\n      <td>8824</td>\n      <td>1</td>\n      <td>1622717703</td>\n      <td>0</td>\n      <td>0</td>\n      <td>0</td>\n      <td>5</td>\n      <td>100</td>\n      <td>0.331667</td>\n    </tr>\n  </tbody>\n</table>\n<p>13634 rows × 13 columns</p>\n</div>"
     },
     "execution_count": 23,
     "metadata": {},
     "output_type": "execute_result"
    }
   ],
   "source": [
    "data"
   ],
   "metadata": {
    "collapsed": false,
    "ExecuteTime": {
     "end_time": "2024-02-18T15:18:23.655750Z",
     "start_time": "2024-02-18T15:18:23.643460Z"
    }
   },
   "id": "22b14f2ace6617e1",
   "execution_count": 23
  },
  {
   "cell_type": "code",
   "outputs": [],
   "source": [
    "len(data['RecipeName'].unique())"
   ],
   "metadata": {
    "collapsed": false,
    "ExecuteTime": {
     "end_time": "2024-01-13T14:00:33.756811Z",
     "start_time": "2024-01-13T14:00:33.756678Z"
    }
   },
   "id": "a96bd7036653225b",
   "execution_count": null
  },
  {
   "cell_type": "code",
   "outputs": [],
   "source": [
    "data['RecipeName'] = le.fit_transform(data['RecipeName'])"
   ],
   "metadata": {
    "collapsed": false,
    "ExecuteTime": {
     "end_time": "2024-01-13T14:01:44.265094Z",
     "start_time": "2024-01-13T14:01:44.255037Z"
    }
   },
   "id": "cb084193df5619d1",
   "execution_count": 113
  },
  {
   "cell_type": "code",
   "outputs": [],
   "source": [
    "data.head()"
   ],
   "metadata": {
    "collapsed": false,
    "ExecuteTime": {
     "start_time": "2024-01-13T14:00:33.759422Z"
    }
   },
   "id": "a3b683990468c8f0",
   "execution_count": null
  },
  {
   "cell_type": "code",
   "outputs": [],
   "source": [
    "len(data['RecipeCode'].unique())"
   ],
   "metadata": {
    "collapsed": false,
    "ExecuteTime": {
     "start_time": "2024-01-13T14:00:33.760722Z"
    }
   },
   "id": "7edcd0489843b15d",
   "execution_count": null
  },
  {
   "cell_type": "code",
   "outputs": [],
   "source": [
    "data['RecipeCode'].value_counts()"
   ],
   "metadata": {
    "collapsed": false,
    "ExecuteTime": {
     "start_time": "2024-01-13T14:00:33.761676Z"
    }
   },
   "id": "a3d7899e8351bc67",
   "execution_count": null
  },
  {
   "cell_type": "code",
   "outputs": [],
   "source": [
    "data.drop(['RecipeName'],axis=1,inplace=True)"
   ],
   "metadata": {
    "collapsed": false,
    "ExecuteTime": {
     "end_time": "2024-01-13T14:01:51.650630Z",
     "start_time": "2024-01-13T14:01:51.638708Z"
    }
   },
   "id": "695e192244f8b7b4",
   "execution_count": 114
  },
  {
   "cell_type": "code",
   "outputs": [],
   "source": [
    "data.head()"
   ],
   "metadata": {
    "collapsed": false,
    "ExecuteTime": {
     "end_time": "2024-01-13T14:00:33.765214Z",
     "start_time": "2024-01-13T14:00:33.763742Z"
    }
   },
   "id": "abc01109e7a66619",
   "execution_count": null
  },
  {
   "cell_type": "code",
   "outputs": [
    {
     "data": {
      "text/plain": "RecipeNumber\n3     552\n1     483\n2     372\n9     313\n13    307\n     ... \n54     68\n97     65\n91     64\n72     64\n61     19\nName: count, Length: 100, dtype: int64"
     },
     "execution_count": 115,
     "metadata": {},
     "output_type": "execute_result"
    }
   ],
   "source": [
    "data['RecipeNumber'].value_counts()"
   ],
   "metadata": {
    "collapsed": false,
    "ExecuteTime": {
     "end_time": "2024-01-13T14:01:53.954634Z",
     "start_time": "2024-01-13T14:01:53.950221Z"
    }
   },
   "id": "b3864ac111101f5a",
   "execution_count": 115
  },
  {
   "cell_type": "code",
   "outputs": [],
   "source": [
    "data.drop([\"RecipeCode\"],axis=1,inplace=True)"
   ],
   "metadata": {
    "collapsed": false,
    "ExecuteTime": {
     "end_time": "2024-01-13T14:01:58.139716Z",
     "start_time": "2024-01-13T14:01:58.125571Z"
    }
   },
   "id": "f068dbf0e93646e",
   "execution_count": 116
  },
  {
   "cell_type": "code",
   "outputs": [],
   "source": [
    "data.head()"
   ],
   "metadata": {
    "collapsed": false,
    "ExecuteTime": {
     "start_time": "2024-01-13T14:00:33.766613Z"
    }
   },
   "id": "934e59f4efa198f8",
   "execution_count": null
  },
  {
   "cell_type": "code",
   "outputs": [],
   "source": [
    "from sklearn.preprocessing import *\n",
    "from sklearn.model_selection import *\n",
    "from sklearn.metrics import *\n",
    "\n"
   ],
   "metadata": {
    "collapsed": false,
    "ExecuteTime": {
     "end_time": "2024-02-18T15:16:33.987414Z",
     "start_time": "2024-02-18T15:16:30.050496Z"
    }
   },
   "id": "4a9f95f43ee9ae9b",
   "execution_count": 1
  },
  {
   "cell_type": "code",
   "outputs": [
    {
     "data": {
      "text/plain": "    ID  RecipeNumber  UserID  UserReputation  CreationTimestamp  ReplyCount  \\\n0   70            71    8685              20         1622717078           0   \n1   72            88    3639               1         1622717852           0   \n2  458             3    7332               1         1622717357           0   \n3    7            50    6558               1         1622648899           0   \n4   60            12    4722               1         1622718260           0   \n\n   ThumbsUpCount  ThumbsDownCount  Rating  BestScore  polarity  \n0              0                0       5        100  0.338333  \n1              0                1       5        100  0.285185  \n2              0                0       3        100  0.069048  \n3              0                0       5        100  0.300000  \n4              0                0       4        100  0.485000  ",
      "text/html": "<div>\n<style scoped>\n    .dataframe tbody tr th:only-of-type {\n        vertical-align: middle;\n    }\n\n    .dataframe tbody tr th {\n        vertical-align: top;\n    }\n\n    .dataframe thead th {\n        text-align: right;\n    }\n</style>\n<table border=\"1\" class=\"dataframe\">\n  <thead>\n    <tr style=\"text-align: right;\">\n      <th></th>\n      <th>ID</th>\n      <th>RecipeNumber</th>\n      <th>UserID</th>\n      <th>UserReputation</th>\n      <th>CreationTimestamp</th>\n      <th>ReplyCount</th>\n      <th>ThumbsUpCount</th>\n      <th>ThumbsDownCount</th>\n      <th>Rating</th>\n      <th>BestScore</th>\n      <th>polarity</th>\n    </tr>\n  </thead>\n  <tbody>\n    <tr>\n      <th>0</th>\n      <td>70</td>\n      <td>71</td>\n      <td>8685</td>\n      <td>20</td>\n      <td>1622717078</td>\n      <td>0</td>\n      <td>0</td>\n      <td>0</td>\n      <td>5</td>\n      <td>100</td>\n      <td>0.338333</td>\n    </tr>\n    <tr>\n      <th>1</th>\n      <td>72</td>\n      <td>88</td>\n      <td>3639</td>\n      <td>1</td>\n      <td>1622717852</td>\n      <td>0</td>\n      <td>0</td>\n      <td>1</td>\n      <td>5</td>\n      <td>100</td>\n      <td>0.285185</td>\n    </tr>\n    <tr>\n      <th>2</th>\n      <td>458</td>\n      <td>3</td>\n      <td>7332</td>\n      <td>1</td>\n      <td>1622717357</td>\n      <td>0</td>\n      <td>0</td>\n      <td>0</td>\n      <td>3</td>\n      <td>100</td>\n      <td>0.069048</td>\n    </tr>\n    <tr>\n      <th>3</th>\n      <td>7</td>\n      <td>50</td>\n      <td>6558</td>\n      <td>1</td>\n      <td>1622648899</td>\n      <td>0</td>\n      <td>0</td>\n      <td>0</td>\n      <td>5</td>\n      <td>100</td>\n      <td>0.300000</td>\n    </tr>\n    <tr>\n      <th>4</th>\n      <td>60</td>\n      <td>12</td>\n      <td>4722</td>\n      <td>1</td>\n      <td>1622718260</td>\n      <td>0</td>\n      <td>0</td>\n      <td>0</td>\n      <td>4</td>\n      <td>100</td>\n      <td>0.485000</td>\n    </tr>\n  </tbody>\n</table>\n</div>"
     },
     "execution_count": 118,
     "metadata": {},
     "output_type": "execute_result"
    }
   ],
   "source": [
    "data.head()"
   ],
   "metadata": {
    "collapsed": false,
    "ExecuteTime": {
     "end_time": "2024-01-13T14:02:02.701382Z",
     "start_time": "2024-01-13T14:02:02.684300Z"
    }
   },
   "id": "e33836423d0190ea",
   "execution_count": 118
  },
  {
   "cell_type": "code",
   "outputs": [
    {
     "data": {
      "text/plain": "                ID  RecipeNumber        UserID  UserReputation  \\\ncount  13634.00000  13634.000000  13634.000000    13634.000000   \nmean     121.05589     38.629382   5469.305853        2.160481   \nstd      116.97871     29.671643   3052.349112       10.087154   \nmin        0.00000      1.000000      0.000000        0.000000   \n25%       45.00000     12.000000   2861.250000        1.000000   \n50%       91.00000     33.000000   5607.500000        1.000000   \n75%      148.00000     63.000000   8098.750000        1.000000   \nmax      724.00000    100.000000  10619.000000      510.000000   \n\n       CreationTimestamp    ReplyCount  ThumbsUpCount  ThumbsDownCount  \\\ncount       1.363400e+04  13634.000000   13634.000000     13634.000000   \nmean        1.623714e+09      0.014523       1.098430         0.543788   \nstd         5.444406e+06      0.137333       4.166771         3.265893   \nmin         1.613035e+09      0.000000       0.000000         0.000000   \n25%         1.622717e+09      0.000000       0.000000         0.000000   \n50%         1.622718e+09      0.000000       0.000000         0.000000   \n75%         1.622718e+09      0.000000       0.000000         0.000000   \nmax         1.665756e+09      3.000000      80.000000       126.000000   \n\n             Rating    BestScore      polarity  \ncount  13634.000000  13634.00000  13634.000000  \nmean       4.288617    153.13569      0.359759  \nstd        1.544928    140.99578      0.286578  \nmin        0.000000      0.00000     -1.000000  \n25%        5.000000    100.00000      0.170283  \n50%        5.000000    100.00000      0.337500  \n75%        5.000000    100.00000      0.525000  \nmax        5.000000    946.00000      1.000000  ",
      "text/html": "<div>\n<style scoped>\n    .dataframe tbody tr th:only-of-type {\n        vertical-align: middle;\n    }\n\n    .dataframe tbody tr th {\n        vertical-align: top;\n    }\n\n    .dataframe thead th {\n        text-align: right;\n    }\n</style>\n<table border=\"1\" class=\"dataframe\">\n  <thead>\n    <tr style=\"text-align: right;\">\n      <th></th>\n      <th>ID</th>\n      <th>RecipeNumber</th>\n      <th>UserID</th>\n      <th>UserReputation</th>\n      <th>CreationTimestamp</th>\n      <th>ReplyCount</th>\n      <th>ThumbsUpCount</th>\n      <th>ThumbsDownCount</th>\n      <th>Rating</th>\n      <th>BestScore</th>\n      <th>polarity</th>\n    </tr>\n  </thead>\n  <tbody>\n    <tr>\n      <th>count</th>\n      <td>13634.00000</td>\n      <td>13634.000000</td>\n      <td>13634.000000</td>\n      <td>13634.000000</td>\n      <td>1.363400e+04</td>\n      <td>13634.000000</td>\n      <td>13634.000000</td>\n      <td>13634.000000</td>\n      <td>13634.000000</td>\n      <td>13634.00000</td>\n      <td>13634.000000</td>\n    </tr>\n    <tr>\n      <th>mean</th>\n      <td>121.05589</td>\n      <td>38.629382</td>\n      <td>5469.305853</td>\n      <td>2.160481</td>\n      <td>1.623714e+09</td>\n      <td>0.014523</td>\n      <td>1.098430</td>\n      <td>0.543788</td>\n      <td>4.288617</td>\n      <td>153.13569</td>\n      <td>0.359759</td>\n    </tr>\n    <tr>\n      <th>std</th>\n      <td>116.97871</td>\n      <td>29.671643</td>\n      <td>3052.349112</td>\n      <td>10.087154</td>\n      <td>5.444406e+06</td>\n      <td>0.137333</td>\n      <td>4.166771</td>\n      <td>3.265893</td>\n      <td>1.544928</td>\n      <td>140.99578</td>\n      <td>0.286578</td>\n    </tr>\n    <tr>\n      <th>min</th>\n      <td>0.00000</td>\n      <td>1.000000</td>\n      <td>0.000000</td>\n      <td>0.000000</td>\n      <td>1.613035e+09</td>\n      <td>0.000000</td>\n      <td>0.000000</td>\n      <td>0.000000</td>\n      <td>0.000000</td>\n      <td>0.00000</td>\n      <td>-1.000000</td>\n    </tr>\n    <tr>\n      <th>25%</th>\n      <td>45.00000</td>\n      <td>12.000000</td>\n      <td>2861.250000</td>\n      <td>1.000000</td>\n      <td>1.622717e+09</td>\n      <td>0.000000</td>\n      <td>0.000000</td>\n      <td>0.000000</td>\n      <td>5.000000</td>\n      <td>100.00000</td>\n      <td>0.170283</td>\n    </tr>\n    <tr>\n      <th>50%</th>\n      <td>91.00000</td>\n      <td>33.000000</td>\n      <td>5607.500000</td>\n      <td>1.000000</td>\n      <td>1.622718e+09</td>\n      <td>0.000000</td>\n      <td>0.000000</td>\n      <td>0.000000</td>\n      <td>5.000000</td>\n      <td>100.00000</td>\n      <td>0.337500</td>\n    </tr>\n    <tr>\n      <th>75%</th>\n      <td>148.00000</td>\n      <td>63.000000</td>\n      <td>8098.750000</td>\n      <td>1.000000</td>\n      <td>1.622718e+09</td>\n      <td>0.000000</td>\n      <td>0.000000</td>\n      <td>0.000000</td>\n      <td>5.000000</td>\n      <td>100.00000</td>\n      <td>0.525000</td>\n    </tr>\n    <tr>\n      <th>max</th>\n      <td>724.00000</td>\n      <td>100.000000</td>\n      <td>10619.000000</td>\n      <td>510.000000</td>\n      <td>1.665756e+09</td>\n      <td>3.000000</td>\n      <td>80.000000</td>\n      <td>126.000000</td>\n      <td>5.000000</td>\n      <td>946.00000</td>\n      <td>1.000000</td>\n    </tr>\n  </tbody>\n</table>\n</div>"
     },
     "execution_count": 119,
     "metadata": {},
     "output_type": "execute_result"
    }
   ],
   "source": [
    "data.describe()"
   ],
   "metadata": {
    "collapsed": false,
    "ExecuteTime": {
     "end_time": "2024-01-13T14:02:05.554673Z",
     "start_time": "2024-01-13T14:02:05.532252Z"
    }
   },
   "id": "d40261d476d7520a",
   "execution_count": 119
  },
  {
   "cell_type": "code",
   "outputs": [],
   "source": [
    "y=data['Rating']"
   ],
   "metadata": {
    "collapsed": false,
    "ExecuteTime": {
     "end_time": "2024-01-13T14:02:24.588724Z",
     "start_time": "2024-01-13T14:02:24.578840Z"
    }
   },
   "id": "644fd547949001c4",
   "execution_count": 120
  },
  {
   "cell_type": "code",
   "outputs": [],
   "source": [
    "X=data.drop(['Rating'],axis=1)"
   ],
   "metadata": {
    "collapsed": false,
    "ExecuteTime": {
     "end_time": "2024-01-13T14:02:34.510877Z",
     "start_time": "2024-01-13T14:02:34.503408Z"
    }
   },
   "id": "91826ba023cfd5eb",
   "execution_count": 121
  },
  {
   "cell_type": "code",
   "outputs": [],
   "source": [
    "X_train,X_test,y_train,y_test = train_test_split(X,y,test_size=0.2,random_state=42)"
   ],
   "metadata": {
    "collapsed": false,
    "ExecuteTime": {
     "end_time": "2024-01-13T14:02:47.120266Z",
     "start_time": "2024-01-13T14:02:47.114679Z"
    }
   },
   "id": "de2dd399886dfc69",
   "execution_count": 122
  },
  {
   "cell_type": "code",
   "outputs": [],
   "source": [
    "from sklearn.multiclass import *"
   ],
   "metadata": {
    "collapsed": false,
    "ExecuteTime": {
     "end_time": "2024-01-13T14:10:50.691415Z",
     "start_time": "2024-01-13T14:10:50.679849Z"
    }
   },
   "id": "5f0dc6159507a39f",
   "execution_count": 123
  },
  {
   "cell_type": "code",
   "outputs": [],
   "source": [
    "from sklearn.ensemble import *\n",
    "from sklearn.svm import *\n",
    "from sklearn.tree import *\n"
   ],
   "metadata": {
    "collapsed": false,
    "ExecuteTime": {
     "end_time": "2024-01-13T14:14:34.742740Z",
     "start_time": "2024-01-13T14:14:34.733468Z"
    }
   },
   "id": "6ce9b8ad604385f",
   "execution_count": 129
  },
  {
   "cell_type": "code",
   "outputs": [
    {
     "data": {
      "text/plain": "0.7634763476347635"
     },
     "execution_count": 126,
     "metadata": {},
     "output_type": "execute_result"
    }
   ],
   "source": [
    "clf = OneVsRestClassifier(SVC()).fit(X_train,y_train)\n",
    "clf.score(X_test,y_test)"
   ],
   "metadata": {
    "collapsed": false,
    "ExecuteTime": {
     "end_time": "2024-01-13T14:12:16.098464Z",
     "start_time": "2024-01-13T14:12:12.869973Z"
    }
   },
   "id": "24a3e0fce85f01c1",
   "execution_count": 126
  },
  {
   "cell_type": "code",
   "outputs": [
    {
     "data": {
      "text/plain": "0.7656765676567657"
     },
     "execution_count": 127,
     "metadata": {},
     "output_type": "execute_result"
    }
   ],
   "source": [
    "rlf = OneVsRestClassifier(RandomForestClassifier()).fit(X_train,y_train)\n",
    "rlf.score(X_test,y_test)"
   ],
   "metadata": {
    "collapsed": false,
    "ExecuteTime": {
     "end_time": "2024-01-13T14:14:01.496634Z",
     "start_time": "2024-01-13T14:13:55.545900Z"
    }
   },
   "id": "5ee23d19193c222f",
   "execution_count": 127
  },
  {
   "cell_type": "code",
   "outputs": [
    {
     "data": {
      "text/plain": "0.7271727172717272"
     },
     "execution_count": 130,
     "metadata": {},
     "output_type": "execute_result"
    }
   ],
   "source": [
    "dlf = OneVsRestClassifier(DecisionTreeClassifier()).fit(X_train,y_train)\n",
    "dlf.score(X_test,y_test)"
   ],
   "metadata": {
    "collapsed": false,
    "ExecuteTime": {
     "end_time": "2024-01-13T14:14:39.337370Z",
     "start_time": "2024-01-13T14:14:39.069980Z"
    }
   },
   "id": "aae6c834f0c46d06",
   "execution_count": 130
  },
  {
   "cell_type": "code",
   "outputs": [
    {
     "data": {
      "text/plain": "0.7576090942427576"
     },
     "execution_count": 131,
     "metadata": {},
     "output_type": "execute_result"
    }
   ],
   "source": [
    "balf = OneVsRestClassifier(BaggingClassifier()).fit(X_train,y_train)\n",
    "balf.score(X_test,y_test)"
   ],
   "metadata": {
    "collapsed": false,
    "ExecuteTime": {
     "end_time": "2024-01-13T14:14:56.343244Z",
     "start_time": "2024-01-13T14:14:54.767138Z"
    }
   },
   "id": "adedfe7fbc10c4eb",
   "execution_count": 131
  },
  {
   "cell_type": "code",
   "outputs": [
    {
     "data": {
      "text/plain": "0.7649431609827649"
     },
     "execution_count": 132,
     "metadata": {},
     "output_type": "execute_result"
    }
   ],
   "source": [
    "bglf = OneVsRestClassifier(GradientBoostingClassifier()).fit(X_train,y_train)\n",
    "bglf.score(X_test,y_test)"
   ],
   "metadata": {
    "collapsed": false,
    "ExecuteTime": {
     "end_time": "2024-01-13T14:15:12.823343Z",
     "start_time": "2024-01-13T14:15:06.910741Z"
    }
   },
   "id": "c83d6ce32aa83a24",
   "execution_count": 132
  },
  {
   "cell_type": "code",
   "outputs": [
    {
     "name": "stderr",
     "output_type": "stream",
     "text": [
      "/Users/amoghanshu/DataspellProjects/rating/venv/lib/python3.9/site-packages/sklearn/ensemble/_weight_boosting.py:519: FutureWarning: The SAMME.R algorithm (the default) is deprecated and will be removed in 1.6. Use the SAMME algorithm to circumvent this warning.\n",
      "  warnings.warn(\n",
      "/Users/amoghanshu/DataspellProjects/rating/venv/lib/python3.9/site-packages/sklearn/ensemble/_weight_boosting.py:519: FutureWarning: The SAMME.R algorithm (the default) is deprecated and will be removed in 1.6. Use the SAMME algorithm to circumvent this warning.\n",
      "  warnings.warn(\n",
      "/Users/amoghanshu/DataspellProjects/rating/venv/lib/python3.9/site-packages/sklearn/ensemble/_weight_boosting.py:519: FutureWarning: The SAMME.R algorithm (the default) is deprecated and will be removed in 1.6. Use the SAMME algorithm to circumvent this warning.\n",
      "  warnings.warn(\n",
      "/Users/amoghanshu/DataspellProjects/rating/venv/lib/python3.9/site-packages/sklearn/ensemble/_weight_boosting.py:519: FutureWarning: The SAMME.R algorithm (the default) is deprecated and will be removed in 1.6. Use the SAMME algorithm to circumvent this warning.\n",
      "  warnings.warn(\n",
      "/Users/amoghanshu/DataspellProjects/rating/venv/lib/python3.9/site-packages/sklearn/ensemble/_weight_boosting.py:519: FutureWarning: The SAMME.R algorithm (the default) is deprecated and will be removed in 1.6. Use the SAMME algorithm to circumvent this warning.\n",
      "  warnings.warn(\n",
      "/Users/amoghanshu/DataspellProjects/rating/venv/lib/python3.9/site-packages/sklearn/ensemble/_weight_boosting.py:519: FutureWarning: The SAMME.R algorithm (the default) is deprecated and will be removed in 1.6. Use the SAMME algorithm to circumvent this warning.\n",
      "  warnings.warn(\n"
     ]
    },
    {
     "data": {
      "text/plain": "0.766043270993766"
     },
     "execution_count": 133,
     "metadata": {},
     "output_type": "execute_result"
    }
   ],
   "source": [
    "baglf = OneVsRestClassifier(AdaBoostClassifier()).fit(X_train,y_train)\n",
    "baglf.score(X_test,y_test)"
   ],
   "metadata": {
    "collapsed": false,
    "ExecuteTime": {
     "end_time": "2024-01-13T14:15:29.343713Z",
     "start_time": "2024-01-13T14:15:27.855496Z"
    }
   },
   "id": "f5bd04fda2565924",
   "execution_count": 133
  },
  {
   "cell_type": "code",
   "outputs": [],
   "source": [
    "import xgboost as xgb\n",
    "from sklearn.neural_network import *"
   ],
   "metadata": {
    "collapsed": false,
    "ExecuteTime": {
     "end_time": "2024-01-13T14:34:28.313986Z",
     "start_time": "2024-01-13T14:34:28.305688Z"
    }
   },
   "id": "1232b2e732a0333c",
   "execution_count": 145
  },
  {
   "cell_type": "code",
   "outputs": [
    {
     "data": {
      "text/plain": "0.744041070773744"
     },
     "execution_count": 195,
     "metadata": {},
     "output_type": "execute_result"
    }
   ],
   "source": [
    "xlf = OneVsRestClassifier(xgb.XGBClassifier()).fit(X_train,y_train)\n",
    "xlf.score(X_test,y_test)"
   ],
   "metadata": {
    "collapsed": false,
    "ExecuteTime": {
     "end_time": "2024-01-14T06:01:07.317053Z",
     "start_time": "2024-01-14T06:01:06.860210Z"
    }
   },
   "id": "41753b27ba85cba0",
   "execution_count": 195
  },
  {
   "cell_type": "code",
   "outputs": [
    {
     "data": {
      "text/plain": "0.7634763476347635"
     },
     "execution_count": 138,
     "metadata": {},
     "output_type": "execute_result"
    }
   ],
   "source": [
    "mlcf = OneVsRestClassifier(MLPClassifier()).fit(X_train,y_train)\n",
    "mlcf.score(X_test,y_test)"
   ],
   "metadata": {
    "collapsed": false,
    "ExecuteTime": {
     "end_time": "2024-01-13T14:18:09.072053Z",
     "start_time": "2024-01-13T14:18:05.552186Z"
    }
   },
   "id": "f57f6949dbdc8e2c",
   "execution_count": 138
  },
  {
   "cell_type": "code",
   "outputs": [],
   "source": [
    "from sklearn.multioutput import *"
   ],
   "metadata": {
    "collapsed": false,
    "ExecuteTime": {
     "end_time": "2024-01-13T14:30:40.576295Z",
     "start_time": "2024-01-13T14:30:40.567770Z"
    }
   },
   "id": "67b27c236381dd2",
   "execution_count": 139
  },
  {
   "cell_type": "code",
   "outputs": [
    {
     "data": {
      "text/plain": "0.7480748074807481"
     },
     "execution_count": 207,
     "metadata": {},
     "output_type": "execute_result"
    }
   ],
   "source": [
    "rfc=RandomForestClassifier()\n",
    "rfc.fit(X_train,y_train)\n",
    "rfc.score(X_test,y_test)"
   ],
   "metadata": {
    "collapsed": false,
    "ExecuteTime": {
     "end_time": "2024-01-14T06:11:42.951868Z",
     "start_time": "2024-01-14T06:11:41.216744Z"
    }
   },
   "id": "637ae44ea7f4f2ee",
   "execution_count": 207
  },
  {
   "cell_type": "code",
   "outputs": [
    {
     "ename": "IndexError",
     "evalue": "tuple index out of range",
     "output_type": "error",
     "traceback": [
      "\u001B[0;31m---------------------------------------------------------------------------\u001B[0m",
      "\u001B[0;31mIndexError\u001B[0m                                Traceback (most recent call last)",
      "Cell \u001B[0;32mIn[141], line 1\u001B[0m\n\u001B[0;32m----> 1\u001B[0m mlpc \u001B[38;5;241m=\u001B[39m \u001B[43mClassifierChain\u001B[49m\u001B[43m(\u001B[49m\u001B[43mMLPClassifier\u001B[49m\u001B[43m(\u001B[49m\u001B[43m)\u001B[49m\u001B[43m)\u001B[49m\u001B[38;5;241;43m.\u001B[39;49m\u001B[43mfit\u001B[49m\u001B[43m(\u001B[49m\u001B[43mX_train\u001B[49m\u001B[43m,\u001B[49m\u001B[43my_train\u001B[49m\u001B[43m)\u001B[49m\n\u001B[1;32m      2\u001B[0m mlpc\u001B[38;5;241m.\u001B[39mscore(X_test,y_test)\n",
      "File \u001B[0;32m~/DataspellProjects/rating/venv/lib/python3.9/site-packages/sklearn/base.py:1194\u001B[0m, in \u001B[0;36m_fit_context.<locals>.decorator.<locals>.wrapper\u001B[0;34m(estimator, *args, **kwargs)\u001B[0m\n\u001B[1;32m   1187\u001B[0m     estimator\u001B[38;5;241m.\u001B[39m_validate_params()\n\u001B[1;32m   1189\u001B[0m \u001B[38;5;28;01mwith\u001B[39;00m config_context(\n\u001B[1;32m   1190\u001B[0m     skip_parameter_validation\u001B[38;5;241m=\u001B[39m(\n\u001B[1;32m   1191\u001B[0m         prefer_skip_nested_validation \u001B[38;5;129;01mor\u001B[39;00m global_skip_validation\n\u001B[1;32m   1192\u001B[0m     )\n\u001B[1;32m   1193\u001B[0m ):\n\u001B[0;32m-> 1194\u001B[0m     \u001B[38;5;28;01mreturn\u001B[39;00m \u001B[43mfit_method\u001B[49m\u001B[43m(\u001B[49m\u001B[43mestimator\u001B[49m\u001B[43m,\u001B[49m\u001B[43m \u001B[49m\u001B[38;5;241;43m*\u001B[39;49m\u001B[43margs\u001B[49m\u001B[43m,\u001B[49m\u001B[43m \u001B[49m\u001B[38;5;241;43m*\u001B[39;49m\u001B[38;5;241;43m*\u001B[39;49m\u001B[43mkwargs\u001B[49m\u001B[43m)\u001B[49m\n",
      "File \u001B[0;32m~/DataspellProjects/rating/venv/lib/python3.9/site-packages/sklearn/multioutput.py:924\u001B[0m, in \u001B[0;36mClassifierChain.fit\u001B[0;34m(self, X, Y, **fit_params)\u001B[0m\n\u001B[1;32m    899\u001B[0m \u001B[38;5;250m\u001B[39m\u001B[38;5;124;03m\"\"\"Fit the model to data matrix X and targets Y.\u001B[39;00m\n\u001B[1;32m    900\u001B[0m \n\u001B[1;32m    901\u001B[0m \u001B[38;5;124;03mParameters\u001B[39;00m\n\u001B[0;32m   (...)\u001B[0m\n\u001B[1;32m    920\u001B[0m \u001B[38;5;124;03m    Class instance.\u001B[39;00m\n\u001B[1;32m    921\u001B[0m \u001B[38;5;124;03m\"\"\"\u001B[39;00m\n\u001B[1;32m    922\u001B[0m _raise_for_params(fit_params, \u001B[38;5;28mself\u001B[39m, \u001B[38;5;124m\"\u001B[39m\u001B[38;5;124mfit\u001B[39m\u001B[38;5;124m\"\u001B[39m)\n\u001B[0;32m--> 924\u001B[0m \u001B[38;5;28;43msuper\u001B[39;49m\u001B[43m(\u001B[49m\u001B[43m)\u001B[49m\u001B[38;5;241;43m.\u001B[39;49m\u001B[43mfit\u001B[49m\u001B[43m(\u001B[49m\u001B[43mX\u001B[49m\u001B[43m,\u001B[49m\u001B[43m \u001B[49m\u001B[43mY\u001B[49m\u001B[43m,\u001B[49m\u001B[43m \u001B[49m\u001B[38;5;241;43m*\u001B[39;49m\u001B[38;5;241;43m*\u001B[39;49m\u001B[43mfit_params\u001B[49m\u001B[43m)\u001B[49m\n\u001B[1;32m    925\u001B[0m \u001B[38;5;28mself\u001B[39m\u001B[38;5;241m.\u001B[39mclasses_ \u001B[38;5;241m=\u001B[39m [estimator\u001B[38;5;241m.\u001B[39mclasses_ \u001B[38;5;28;01mfor\u001B[39;00m estimator \u001B[38;5;129;01min\u001B[39;00m \u001B[38;5;28mself\u001B[39m\u001B[38;5;241m.\u001B[39mestimators_]\n\u001B[1;32m    926\u001B[0m \u001B[38;5;28;01mreturn\u001B[39;00m \u001B[38;5;28mself\u001B[39m\n",
      "File \u001B[0;32m~/DataspellProjects/rating/venv/lib/python3.9/site-packages/sklearn/multioutput.py:681\u001B[0m, in \u001B[0;36m_BaseChain.fit\u001B[0;34m(self, X, Y, **fit_params)\u001B[0m\n\u001B[1;32m    678\u001B[0m     \u001B[38;5;28mself\u001B[39m\u001B[38;5;241m.\u001B[39morder_ \u001B[38;5;241m=\u001B[39m np\u001B[38;5;241m.\u001B[39marray(\u001B[38;5;28mself\u001B[39m\u001B[38;5;241m.\u001B[39morder_)\n\u001B[1;32m    680\u001B[0m \u001B[38;5;28;01mif\u001B[39;00m \u001B[38;5;28mself\u001B[39m\u001B[38;5;241m.\u001B[39morder_ \u001B[38;5;129;01mis\u001B[39;00m \u001B[38;5;28;01mNone\u001B[39;00m:\n\u001B[0;32m--> 681\u001B[0m     \u001B[38;5;28mself\u001B[39m\u001B[38;5;241m.\u001B[39morder_ \u001B[38;5;241m=\u001B[39m np\u001B[38;5;241m.\u001B[39marray(\u001B[38;5;28mrange\u001B[39m(\u001B[43mY\u001B[49m\u001B[38;5;241;43m.\u001B[39;49m\u001B[43mshape\u001B[49m\u001B[43m[\u001B[49m\u001B[38;5;241;43m1\u001B[39;49m\u001B[43m]\u001B[49m))\n\u001B[1;32m    682\u001B[0m \u001B[38;5;28;01melif\u001B[39;00m \u001B[38;5;28misinstance\u001B[39m(\u001B[38;5;28mself\u001B[39m\u001B[38;5;241m.\u001B[39morder_, \u001B[38;5;28mstr\u001B[39m):\n\u001B[1;32m    683\u001B[0m     \u001B[38;5;28;01mif\u001B[39;00m \u001B[38;5;28mself\u001B[39m\u001B[38;5;241m.\u001B[39morder_ \u001B[38;5;241m==\u001B[39m \u001B[38;5;124m\"\u001B[39m\u001B[38;5;124mrandom\u001B[39m\u001B[38;5;124m\"\u001B[39m:\n",
      "\u001B[0;31mIndexError\u001B[0m: tuple index out of range"
     ]
    }
   ],
   "source": [
    "mlpc = ClassifierChain(MLPClassifier()).fit(X_train,y_train)\n",
    "mlpc.score(X_test,y_test)"
   ],
   "metadata": {
    "collapsed": false,
    "ExecuteTime": {
     "end_time": "2024-01-13T14:31:45.095022Z",
     "start_time": "2024-01-13T14:31:45.057082Z"
    }
   },
   "id": "5cd862763fea8ef3",
   "execution_count": 141
  },
  {
   "cell_type": "code",
   "outputs": [],
   "source": [
    "ClassifierChain?"
   ],
   "metadata": {
    "collapsed": false,
    "ExecuteTime": {
     "end_time": "2024-01-13T14:32:01.700275Z",
     "start_time": "2024-01-13T14:32:01.668246Z"
    }
   },
   "id": "ef33ec5de0efa2e2",
   "execution_count": 142
  },
  {
   "cell_type": "code",
   "outputs": [],
   "source": [
    "MultiOutputClassifier?"
   ],
   "metadata": {
    "collapsed": false,
    "ExecuteTime": {
     "end_time": "2024-01-13T14:32:22.645710Z",
     "start_time": "2024-01-13T14:32:22.637805Z"
    }
   },
   "id": "7100f36a33699767",
   "execution_count": 143
  },
  {
   "cell_type": "code",
   "outputs": [
    {
     "data": {
      "text/plain": "0.7348734873487349"
     },
     "execution_count": 206,
     "metadata": {},
     "output_type": "execute_result"
    }
   ],
   "source": [
    "xgbc=xgb.XGBClassifier()\n",
    "xgbc.fit(X_train,y_train)\n",
    "xgbc.score(X_test,y_test)\n"
   ],
   "metadata": {
    "collapsed": false,
    "ExecuteTime": {
     "end_time": "2024-01-14T06:11:36.151478Z",
     "start_time": "2024-01-14T06:11:35.665865Z"
    }
   },
   "id": "1e0b20396ec887cb",
   "execution_count": 206
  },
  {
   "cell_type": "code",
   "outputs": [
    {
     "data": {
      "text/plain": "0.7634763476347635"
     },
     "execution_count": 205,
     "metadata": {},
     "output_type": "execute_result"
    }
   ],
   "source": [
    "mlp=MLPClassifier()\n",
    "mlp.fit(X_train,y_train)\n",
    "mlp.score(X_test,y_test)"
   ],
   "metadata": {
    "collapsed": false,
    "ExecuteTime": {
     "end_time": "2024-01-14T06:11:30.404669Z",
     "start_time": "2024-01-14T06:11:30.094722Z"
    }
   },
   "id": "fddb01a2746dfcb4",
   "execution_count": 205
  },
  {
   "cell_type": "code",
   "outputs": [
    {
     "ename": "ValueError",
     "evalue": "y should be a 1d array, got an array of shape (10907, 5) instead.",
     "output_type": "error",
     "traceback": [
      "\u001B[0;31m---------------------------------------------------------------------------\u001B[0m",
      "\u001B[0;31mValueError\u001B[0m                                Traceback (most recent call last)",
      "Cell \u001B[0;32mIn[174], line 2\u001B[0m\n\u001B[1;32m      1\u001B[0m bc\u001B[38;5;241m=\u001B[39mBaggingClassifier()\n\u001B[0;32m----> 2\u001B[0m \u001B[43mbc\u001B[49m\u001B[38;5;241;43m.\u001B[39;49m\u001B[43mfit\u001B[49m\u001B[43m(\u001B[49m\u001B[43mX_train\u001B[49m\u001B[43m,\u001B[49m\u001B[43my_train\u001B[49m\u001B[43m)\u001B[49m\n\u001B[1;32m      3\u001B[0m bc\u001B[38;5;241m.\u001B[39mscore(X_test,y_test)\n",
      "File \u001B[0;32m~/DataspellProjects/rating/venv/lib/python3.9/site-packages/sklearn/base.py:1194\u001B[0m, in \u001B[0;36m_fit_context.<locals>.decorator.<locals>.wrapper\u001B[0;34m(estimator, *args, **kwargs)\u001B[0m\n\u001B[1;32m   1187\u001B[0m     estimator\u001B[38;5;241m.\u001B[39m_validate_params()\n\u001B[1;32m   1189\u001B[0m \u001B[38;5;28;01mwith\u001B[39;00m config_context(\n\u001B[1;32m   1190\u001B[0m     skip_parameter_validation\u001B[38;5;241m=\u001B[39m(\n\u001B[1;32m   1191\u001B[0m         prefer_skip_nested_validation \u001B[38;5;129;01mor\u001B[39;00m global_skip_validation\n\u001B[1;32m   1192\u001B[0m     )\n\u001B[1;32m   1193\u001B[0m ):\n\u001B[0;32m-> 1194\u001B[0m     \u001B[38;5;28;01mreturn\u001B[39;00m \u001B[43mfit_method\u001B[49m\u001B[43m(\u001B[49m\u001B[43mestimator\u001B[49m\u001B[43m,\u001B[49m\u001B[43m \u001B[49m\u001B[38;5;241;43m*\u001B[39;49m\u001B[43margs\u001B[49m\u001B[43m,\u001B[49m\u001B[43m \u001B[49m\u001B[38;5;241;43m*\u001B[39;49m\u001B[38;5;241;43m*\u001B[39;49m\u001B[43mkwargs\u001B[49m\u001B[43m)\u001B[49m\n",
      "File \u001B[0;32m~/DataspellProjects/rating/venv/lib/python3.9/site-packages/sklearn/ensemble/_bagging.py:334\u001B[0m, in \u001B[0;36mBaseBagging.fit\u001B[0;34m(self, X, y, sample_weight)\u001B[0m\n\u001B[1;32m    325\u001B[0m \u001B[38;5;66;03m# Convert data (X is required to be 2d and indexable)\u001B[39;00m\n\u001B[1;32m    326\u001B[0m X, y \u001B[38;5;241m=\u001B[39m \u001B[38;5;28mself\u001B[39m\u001B[38;5;241m.\u001B[39m_validate_data(\n\u001B[1;32m    327\u001B[0m     X,\n\u001B[1;32m    328\u001B[0m     y,\n\u001B[0;32m   (...)\u001B[0m\n\u001B[1;32m    332\u001B[0m     multi_output\u001B[38;5;241m=\u001B[39m\u001B[38;5;28;01mTrue\u001B[39;00m,\n\u001B[1;32m    333\u001B[0m )\n\u001B[0;32m--> 334\u001B[0m \u001B[38;5;28;01mreturn\u001B[39;00m \u001B[38;5;28;43mself\u001B[39;49m\u001B[38;5;241;43m.\u001B[39;49m\u001B[43m_fit\u001B[49m\u001B[43m(\u001B[49m\u001B[43mX\u001B[49m\u001B[43m,\u001B[49m\u001B[43m \u001B[49m\u001B[43my\u001B[49m\u001B[43m,\u001B[49m\u001B[43m \u001B[49m\u001B[38;5;28;43mself\u001B[39;49m\u001B[38;5;241;43m.\u001B[39;49m\u001B[43mmax_samples\u001B[49m\u001B[43m,\u001B[49m\u001B[43m \u001B[49m\u001B[43msample_weight\u001B[49m\u001B[38;5;241;43m=\u001B[39;49m\u001B[43msample_weight\u001B[49m\u001B[43m)\u001B[49m\n",
      "File \u001B[0;32m~/DataspellProjects/rating/venv/lib/python3.9/site-packages/sklearn/ensemble/_bagging.py:390\u001B[0m, in \u001B[0;36mBaseBagging._fit\u001B[0;34m(self, X, y, max_samples, max_depth, sample_weight, check_input)\u001B[0m\n\u001B[1;32m    388\u001B[0m n_samples \u001B[38;5;241m=\u001B[39m X\u001B[38;5;241m.\u001B[39mshape[\u001B[38;5;241m0\u001B[39m]\n\u001B[1;32m    389\u001B[0m \u001B[38;5;28mself\u001B[39m\u001B[38;5;241m.\u001B[39m_n_samples \u001B[38;5;241m=\u001B[39m n_samples\n\u001B[0;32m--> 390\u001B[0m y \u001B[38;5;241m=\u001B[39m \u001B[38;5;28;43mself\u001B[39;49m\u001B[38;5;241;43m.\u001B[39;49m\u001B[43m_validate_y\u001B[49m\u001B[43m(\u001B[49m\u001B[43my\u001B[49m\u001B[43m)\u001B[49m\n\u001B[1;32m    392\u001B[0m \u001B[38;5;66;03m# Check parameters\u001B[39;00m\n\u001B[1;32m    393\u001B[0m \u001B[38;5;28mself\u001B[39m\u001B[38;5;241m.\u001B[39m_validate_estimator()\n",
      "File \u001B[0;32m~/DataspellProjects/rating/venv/lib/python3.9/site-packages/sklearn/ensemble/_bagging.py:782\u001B[0m, in \u001B[0;36mBaggingClassifier._validate_y\u001B[0;34m(self, y)\u001B[0m\n\u001B[1;32m    781\u001B[0m \u001B[38;5;28;01mdef\u001B[39;00m \u001B[38;5;21m_validate_y\u001B[39m(\u001B[38;5;28mself\u001B[39m, y):\n\u001B[0;32m--> 782\u001B[0m     y \u001B[38;5;241m=\u001B[39m \u001B[43mcolumn_or_1d\u001B[49m\u001B[43m(\u001B[49m\u001B[43my\u001B[49m\u001B[43m,\u001B[49m\u001B[43m \u001B[49m\u001B[43mwarn\u001B[49m\u001B[38;5;241;43m=\u001B[39;49m\u001B[38;5;28;43;01mTrue\u001B[39;49;00m\u001B[43m)\u001B[49m\n\u001B[1;32m    783\u001B[0m     check_classification_targets(y)\n\u001B[1;32m    784\u001B[0m     \u001B[38;5;28mself\u001B[39m\u001B[38;5;241m.\u001B[39mclasses_, y \u001B[38;5;241m=\u001B[39m np\u001B[38;5;241m.\u001B[39munique(y, return_inverse\u001B[38;5;241m=\u001B[39m\u001B[38;5;28;01mTrue\u001B[39;00m)\n",
      "File \u001B[0;32m~/DataspellProjects/rating/venv/lib/python3.9/site-packages/sklearn/utils/validation.py:1271\u001B[0m, in \u001B[0;36mcolumn_or_1d\u001B[0;34m(y, dtype, warn)\u001B[0m\n\u001B[1;32m   1260\u001B[0m         warnings\u001B[38;5;241m.\u001B[39mwarn(\n\u001B[1;32m   1261\u001B[0m             (\n\u001B[1;32m   1262\u001B[0m                 \u001B[38;5;124m\"\u001B[39m\u001B[38;5;124mA column-vector y was passed when a 1d array was\u001B[39m\u001B[38;5;124m\"\u001B[39m\n\u001B[0;32m   (...)\u001B[0m\n\u001B[1;32m   1267\u001B[0m             stacklevel\u001B[38;5;241m=\u001B[39m\u001B[38;5;241m2\u001B[39m,\n\u001B[1;32m   1268\u001B[0m         )\n\u001B[1;32m   1269\u001B[0m     \u001B[38;5;28;01mreturn\u001B[39;00m _asarray_with_order(xp\u001B[38;5;241m.\u001B[39mreshape(y, (\u001B[38;5;241m-\u001B[39m\u001B[38;5;241m1\u001B[39m,)), order\u001B[38;5;241m=\u001B[39m\u001B[38;5;124m\"\u001B[39m\u001B[38;5;124mC\u001B[39m\u001B[38;5;124m\"\u001B[39m, xp\u001B[38;5;241m=\u001B[39mxp)\n\u001B[0;32m-> 1271\u001B[0m \u001B[38;5;28;01mraise\u001B[39;00m \u001B[38;5;167;01mValueError\u001B[39;00m(\n\u001B[1;32m   1272\u001B[0m     \u001B[38;5;124m\"\u001B[39m\u001B[38;5;124my should be a 1d array, got an array of shape \u001B[39m\u001B[38;5;132;01m{}\u001B[39;00m\u001B[38;5;124m instead.\u001B[39m\u001B[38;5;124m\"\u001B[39m\u001B[38;5;241m.\u001B[39mformat(shape)\n\u001B[1;32m   1273\u001B[0m )\n",
      "\u001B[0;31mValueError\u001B[0m: y should be a 1d array, got an array of shape (10907, 5) instead."
     ]
    }
   ],
   "source": [
    "bc=BaggingClassifier()\n",
    "bc.fit(X_train,y_train)\n",
    "bc.score(X_test,y_test)"
   ],
   "metadata": {
    "collapsed": false,
    "ExecuteTime": {
     "end_time": "2024-01-13T14:48:54.271452Z",
     "start_time": "2024-01-13T14:48:54.193020Z"
    }
   },
   "id": "5a0657e40238f2cb",
   "execution_count": 174
  },
  {
   "cell_type": "code",
   "outputs": [
    {
     "data": {
      "text/plain": "0.7656765676567657"
     },
     "execution_count": 149,
     "metadata": {},
     "output_type": "execute_result"
    }
   ],
   "source": [
    "gbc=GradientBoostingClassifier()\n",
    "gbc.fit(X_train,y_train)\n",
    "gbc.score(X_test,y_test)\n"
   ],
   "metadata": {
    "collapsed": false,
    "ExecuteTime": {
     "end_time": "2024-01-13T14:35:33.943024Z",
     "start_time": "2024-01-13T14:35:28.075938Z"
    }
   },
   "id": "7f62204d8e520b52",
   "execution_count": 149
  },
  {
   "cell_type": "code",
   "outputs": [
    {
     "name": "stderr",
     "output_type": "stream",
     "text": [
      "/Users/amoghanshu/DataspellProjects/rating/venv/lib/python3.9/site-packages/sklearn/ensemble/_weight_boosting.py:519: FutureWarning: The SAMME.R algorithm (the default) is deprecated and will be removed in 1.6. Use the SAMME algorithm to circumvent this warning.\n",
      "  warnings.warn(\n"
     ]
    },
    {
     "data": {
      "text/plain": "0.7664099743307664"
     },
     "execution_count": 150,
     "metadata": {},
     "output_type": "execute_result"
    }
   ],
   "source": [
    "abc=AdaBoostClassifier()\n",
    "abc.fit(X_train,y_train)\n",
    "abc.score(X_test,y_test)\n"
   ],
   "metadata": {
    "collapsed": false,
    "ExecuteTime": {
     "end_time": "2024-01-13T14:35:45.191848Z",
     "start_time": "2024-01-13T14:35:44.900198Z"
    }
   },
   "id": "c5fa975ebf467d5a",
   "execution_count": 150
  },
  {
   "cell_type": "code",
   "outputs": [
    {
     "data": {
      "text/plain": "0.6358635863586358"
     },
     "execution_count": 199,
     "metadata": {},
     "output_type": "execute_result"
    }
   ],
   "source": [
    "dtc=DecisionTreeClassifier()\n",
    "dtc.fit(X_train,y_train)\n",
    "dtc.score(X_test,y_test)"
   ],
   "metadata": {
    "collapsed": false,
    "ExecuteTime": {
     "end_time": "2024-01-14T06:09:40.784369Z",
     "start_time": "2024-01-14T06:09:40.706930Z"
    }
   },
   "id": "15162f43ccd2d1f4",
   "execution_count": 199
  },
  {
   "cell_type": "code",
   "outputs": [],
   "source": [
    "from sklearn.naive_bayes import *"
   ],
   "metadata": {
    "collapsed": false,
    "ExecuteTime": {
     "end_time": "2024-01-13T14:36:26.230975Z",
     "start_time": "2024-01-13T14:36:26.212321Z"
    }
   },
   "id": "676dbcc5a9fd7d6e",
   "execution_count": 152
  },
  {
   "cell_type": "code",
   "outputs": [
    {
     "data": {
      "text/plain": "0.7447744774477447"
     },
     "execution_count": 153,
     "metadata": {},
     "output_type": "execute_result"
    }
   ],
   "source": [
    "gnb=GaussianNB()\n",
    "gnb.fit(X_train,y_train)\n",
    "gnb.score(X_test,y_test)"
   ],
   "metadata": {
    "collapsed": false,
    "ExecuteTime": {
     "end_time": "2024-01-13T14:36:33.114834Z",
     "start_time": "2024-01-13T14:36:33.094314Z"
    }
   },
   "id": "d0d19c31ae31a0e8",
   "execution_count": 153
  },
  {
   "cell_type": "code",
   "outputs": [
    {
     "ename": "ValueError",
     "evalue": "Negative values in data passed to MultinomialNB (input X)",
     "output_type": "error",
     "traceback": [
      "\u001B[0;31m---------------------------------------------------------------------------\u001B[0m",
      "\u001B[0;31mValueError\u001B[0m                                Traceback (most recent call last)",
      "Cell \u001B[0;32mIn[154], line 2\u001B[0m\n\u001B[1;32m      1\u001B[0m mnb\u001B[38;5;241m=\u001B[39mMultinomialNB()\n\u001B[0;32m----> 2\u001B[0m \u001B[43mmnb\u001B[49m\u001B[38;5;241;43m.\u001B[39;49m\u001B[43mfit\u001B[49m\u001B[43m(\u001B[49m\u001B[43mX_train\u001B[49m\u001B[43m,\u001B[49m\u001B[43my_train\u001B[49m\u001B[43m)\u001B[49m\n\u001B[1;32m      3\u001B[0m mnb\u001B[38;5;241m.\u001B[39mscore(X_test,y_test)\n",
      "File \u001B[0;32m~/DataspellProjects/rating/venv/lib/python3.9/site-packages/sklearn/base.py:1194\u001B[0m, in \u001B[0;36m_fit_context.<locals>.decorator.<locals>.wrapper\u001B[0;34m(estimator, *args, **kwargs)\u001B[0m\n\u001B[1;32m   1187\u001B[0m     estimator\u001B[38;5;241m.\u001B[39m_validate_params()\n\u001B[1;32m   1189\u001B[0m \u001B[38;5;28;01mwith\u001B[39;00m config_context(\n\u001B[1;32m   1190\u001B[0m     skip_parameter_validation\u001B[38;5;241m=\u001B[39m(\n\u001B[1;32m   1191\u001B[0m         prefer_skip_nested_validation \u001B[38;5;129;01mor\u001B[39;00m global_skip_validation\n\u001B[1;32m   1192\u001B[0m     )\n\u001B[1;32m   1193\u001B[0m ):\n\u001B[0;32m-> 1194\u001B[0m     \u001B[38;5;28;01mreturn\u001B[39;00m \u001B[43mfit_method\u001B[49m\u001B[43m(\u001B[49m\u001B[43mestimator\u001B[49m\u001B[43m,\u001B[49m\u001B[43m \u001B[49m\u001B[38;5;241;43m*\u001B[39;49m\u001B[43margs\u001B[49m\u001B[43m,\u001B[49m\u001B[43m \u001B[49m\u001B[38;5;241;43m*\u001B[39;49m\u001B[38;5;241;43m*\u001B[39;49m\u001B[43mkwargs\u001B[49m\u001B[43m)\u001B[49m\n",
      "File \u001B[0;32m~/DataspellProjects/rating/venv/lib/python3.9/site-packages/sklearn/naive_bayes.py:759\u001B[0m, in \u001B[0;36m_BaseDiscreteNB.fit\u001B[0;34m(self, X, y, sample_weight)\u001B[0m\n\u001B[1;32m    757\u001B[0m n_classes \u001B[38;5;241m=\u001B[39m Y\u001B[38;5;241m.\u001B[39mshape[\u001B[38;5;241m1\u001B[39m]\n\u001B[1;32m    758\u001B[0m \u001B[38;5;28mself\u001B[39m\u001B[38;5;241m.\u001B[39m_init_counters(n_classes, n_features)\n\u001B[0;32m--> 759\u001B[0m \u001B[38;5;28;43mself\u001B[39;49m\u001B[38;5;241;43m.\u001B[39;49m\u001B[43m_count\u001B[49m\u001B[43m(\u001B[49m\u001B[43mX\u001B[49m\u001B[43m,\u001B[49m\u001B[43m \u001B[49m\u001B[43mY\u001B[49m\u001B[43m)\u001B[49m\n\u001B[1;32m    760\u001B[0m alpha \u001B[38;5;241m=\u001B[39m \u001B[38;5;28mself\u001B[39m\u001B[38;5;241m.\u001B[39m_check_alpha()\n\u001B[1;32m    761\u001B[0m \u001B[38;5;28mself\u001B[39m\u001B[38;5;241m.\u001B[39m_update_feature_log_prob(alpha)\n",
      "File \u001B[0;32m~/DataspellProjects/rating/venv/lib/python3.9/site-packages/sklearn/naive_bayes.py:881\u001B[0m, in \u001B[0;36mMultinomialNB._count\u001B[0;34m(self, X, Y)\u001B[0m\n\u001B[1;32m    879\u001B[0m \u001B[38;5;28;01mdef\u001B[39;00m \u001B[38;5;21m_count\u001B[39m(\u001B[38;5;28mself\u001B[39m, X, Y):\n\u001B[1;32m    880\u001B[0m \u001B[38;5;250m    \u001B[39m\u001B[38;5;124;03m\"\"\"Count and smooth feature occurrences.\"\"\"\u001B[39;00m\n\u001B[0;32m--> 881\u001B[0m     \u001B[43mcheck_non_negative\u001B[49m\u001B[43m(\u001B[49m\u001B[43mX\u001B[49m\u001B[43m,\u001B[49m\u001B[43m \u001B[49m\u001B[38;5;124;43m\"\u001B[39;49m\u001B[38;5;124;43mMultinomialNB (input X)\u001B[39;49m\u001B[38;5;124;43m\"\u001B[39;49m\u001B[43m)\u001B[49m\n\u001B[1;32m    882\u001B[0m     \u001B[38;5;28mself\u001B[39m\u001B[38;5;241m.\u001B[39mfeature_count_ \u001B[38;5;241m+\u001B[39m\u001B[38;5;241m=\u001B[39m safe_sparse_dot(Y\u001B[38;5;241m.\u001B[39mT, X)\n\u001B[1;32m    883\u001B[0m     \u001B[38;5;28mself\u001B[39m\u001B[38;5;241m.\u001B[39mclass_count_ \u001B[38;5;241m+\u001B[39m\u001B[38;5;241m=\u001B[39m Y\u001B[38;5;241m.\u001B[39msum(axis\u001B[38;5;241m=\u001B[39m\u001B[38;5;241m0\u001B[39m)\n",
      "File \u001B[0;32m~/DataspellProjects/rating/venv/lib/python3.9/site-packages/sklearn/utils/validation.py:1518\u001B[0m, in \u001B[0;36mcheck_non_negative\u001B[0;34m(X, whom)\u001B[0m\n\u001B[1;32m   1515\u001B[0m     X_min \u001B[38;5;241m=\u001B[39m xp\u001B[38;5;241m.\u001B[39mmin(X)\n\u001B[1;32m   1517\u001B[0m \u001B[38;5;28;01mif\u001B[39;00m X_min \u001B[38;5;241m<\u001B[39m \u001B[38;5;241m0\u001B[39m:\n\u001B[0;32m-> 1518\u001B[0m     \u001B[38;5;28;01mraise\u001B[39;00m \u001B[38;5;167;01mValueError\u001B[39;00m(\u001B[38;5;124m\"\u001B[39m\u001B[38;5;124mNegative values in data passed to \u001B[39m\u001B[38;5;132;01m%s\u001B[39;00m\u001B[38;5;124m\"\u001B[39m \u001B[38;5;241m%\u001B[39m whom)\n",
      "\u001B[0;31mValueError\u001B[0m: Negative values in data passed to MultinomialNB (input X)"
     ]
    }
   ],
   "source": [
    "mnb=MultinomialNB()\n",
    "mnb.fit(X_train,y_train)\n",
    "mnb.score(X_test,y_test)"
   ],
   "metadata": {
    "collapsed": false,
    "ExecuteTime": {
     "end_time": "2024-01-13T14:36:47.305145Z",
     "start_time": "2024-01-13T14:36:47.243919Z"
    }
   },
   "id": "8467c5528bc79af3",
   "execution_count": 154
  },
  {
   "cell_type": "code",
   "outputs": [
    {
     "data": {
      "text/plain": "0.7609094242757609"
     },
     "execution_count": 155,
     "metadata": {},
     "output_type": "execute_result"
    }
   ],
   "source": [
    "bnb=BernoulliNB()\n",
    "bnb.fit(X_train,y_train)\n",
    "bnb.score(X_test,y_test)"
   ],
   "metadata": {
    "collapsed": false,
    "ExecuteTime": {
     "end_time": "2024-01-13T14:37:03.906065Z",
     "start_time": "2024-01-13T14:37:03.890079Z"
    }
   },
   "id": "a8468c28b9643f9d",
   "execution_count": 155
  },
  {
   "cell_type": "code",
   "outputs": [],
   "source": [
    "from sklearn.neighbors import *\n",
    "from sklearn.linear_model import *"
   ],
   "metadata": {
    "collapsed": false,
    "ExecuteTime": {
     "end_time": "2024-01-13T14:37:31.626491Z",
     "start_time": "2024-01-13T14:37:31.604699Z"
    }
   },
   "id": "c3aef3070fb1fc29",
   "execution_count": 156
  },
  {
   "cell_type": "code",
   "outputs": [
    {
     "data": {
      "text/plain": "0.7227722772277227"
     },
     "execution_count": 157,
     "metadata": {},
     "output_type": "execute_result"
    }
   ],
   "source": [
    "knn=KNeighborsClassifier()\n",
    "knn.fit(X_train,y_train)\n",
    "knn.score(X_test,y_test)"
   ],
   "metadata": {
    "collapsed": false,
    "ExecuteTime": {
     "end_time": "2024-01-13T14:37:36.780411Z",
     "start_time": "2024-01-13T14:37:36.724722Z"
    }
   },
   "id": "5147fb5e1fd05b39",
   "execution_count": 157
  },
  {
   "cell_type": "code",
   "outputs": [
    {
     "ename": "ValueError",
     "evalue": "y should be a 1d array, got an array of shape (10907, 5) instead.",
     "output_type": "error",
     "traceback": [
      "\u001B[0;31m---------------------------------------------------------------------------\u001B[0m",
      "\u001B[0;31mValueError\u001B[0m                                Traceback (most recent call last)",
      "Cell \u001B[0;32mIn[198], line 2\u001B[0m\n\u001B[1;32m      1\u001B[0m lr\u001B[38;5;241m=\u001B[39mLogisticRegression()\n\u001B[0;32m----> 2\u001B[0m \u001B[43mlr\u001B[49m\u001B[38;5;241;43m.\u001B[39;49m\u001B[43mfit\u001B[49m\u001B[43m(\u001B[49m\u001B[43mX_train\u001B[49m\u001B[43m,\u001B[49m\u001B[43my_train\u001B[49m\u001B[43m)\u001B[49m\n\u001B[1;32m      3\u001B[0m lr\u001B[38;5;241m.\u001B[39mscore(X_test,y_test)\n",
      "File \u001B[0;32m~/DataspellProjects/rating/venv/lib/python3.9/site-packages/sklearn/base.py:1194\u001B[0m, in \u001B[0;36m_fit_context.<locals>.decorator.<locals>.wrapper\u001B[0;34m(estimator, *args, **kwargs)\u001B[0m\n\u001B[1;32m   1187\u001B[0m     estimator\u001B[38;5;241m.\u001B[39m_validate_params()\n\u001B[1;32m   1189\u001B[0m \u001B[38;5;28;01mwith\u001B[39;00m config_context(\n\u001B[1;32m   1190\u001B[0m     skip_parameter_validation\u001B[38;5;241m=\u001B[39m(\n\u001B[1;32m   1191\u001B[0m         prefer_skip_nested_validation \u001B[38;5;129;01mor\u001B[39;00m global_skip_validation\n\u001B[1;32m   1192\u001B[0m     )\n\u001B[1;32m   1193\u001B[0m ):\n\u001B[0;32m-> 1194\u001B[0m     \u001B[38;5;28;01mreturn\u001B[39;00m \u001B[43mfit_method\u001B[49m\u001B[43m(\u001B[49m\u001B[43mestimator\u001B[49m\u001B[43m,\u001B[49m\u001B[43m \u001B[49m\u001B[38;5;241;43m*\u001B[39;49m\u001B[43margs\u001B[49m\u001B[43m,\u001B[49m\u001B[43m \u001B[49m\u001B[38;5;241;43m*\u001B[39;49m\u001B[38;5;241;43m*\u001B[39;49m\u001B[43mkwargs\u001B[49m\u001B[43m)\u001B[49m\n",
      "File \u001B[0;32m~/DataspellProjects/rating/venv/lib/python3.9/site-packages/sklearn/linear_model/_logistic.py:1201\u001B[0m, in \u001B[0;36mLogisticRegression.fit\u001B[0;34m(self, X, y, sample_weight)\u001B[0m\n\u001B[1;32m   1198\u001B[0m \u001B[38;5;28;01melse\u001B[39;00m:\n\u001B[1;32m   1199\u001B[0m     _dtype \u001B[38;5;241m=\u001B[39m [np\u001B[38;5;241m.\u001B[39mfloat64, np\u001B[38;5;241m.\u001B[39mfloat32]\n\u001B[0;32m-> 1201\u001B[0m X, y \u001B[38;5;241m=\u001B[39m \u001B[38;5;28;43mself\u001B[39;49m\u001B[38;5;241;43m.\u001B[39;49m\u001B[43m_validate_data\u001B[49m\u001B[43m(\u001B[49m\n\u001B[1;32m   1202\u001B[0m \u001B[43m    \u001B[49m\u001B[43mX\u001B[49m\u001B[43m,\u001B[49m\n\u001B[1;32m   1203\u001B[0m \u001B[43m    \u001B[49m\u001B[43my\u001B[49m\u001B[43m,\u001B[49m\n\u001B[1;32m   1204\u001B[0m \u001B[43m    \u001B[49m\u001B[43maccept_sparse\u001B[49m\u001B[38;5;241;43m=\u001B[39;49m\u001B[38;5;124;43m\"\u001B[39;49m\u001B[38;5;124;43mcsr\u001B[39;49m\u001B[38;5;124;43m\"\u001B[39;49m\u001B[43m,\u001B[49m\n\u001B[1;32m   1205\u001B[0m \u001B[43m    \u001B[49m\u001B[43mdtype\u001B[49m\u001B[38;5;241;43m=\u001B[39;49m\u001B[43m_dtype\u001B[49m\u001B[43m,\u001B[49m\n\u001B[1;32m   1206\u001B[0m \u001B[43m    \u001B[49m\u001B[43morder\u001B[49m\u001B[38;5;241;43m=\u001B[39;49m\u001B[38;5;124;43m\"\u001B[39;49m\u001B[38;5;124;43mC\u001B[39;49m\u001B[38;5;124;43m\"\u001B[39;49m\u001B[43m,\u001B[49m\n\u001B[1;32m   1207\u001B[0m \u001B[43m    \u001B[49m\u001B[43maccept_large_sparse\u001B[49m\u001B[38;5;241;43m=\u001B[39;49m\u001B[43msolver\u001B[49m\u001B[43m \u001B[49m\u001B[38;5;129;43;01mnot\u001B[39;49;00m\u001B[43m \u001B[49m\u001B[38;5;129;43;01min\u001B[39;49;00m\u001B[43m \u001B[49m\u001B[43m[\u001B[49m\u001B[38;5;124;43m\"\u001B[39;49m\u001B[38;5;124;43mliblinear\u001B[39;49m\u001B[38;5;124;43m\"\u001B[39;49m\u001B[43m,\u001B[49m\u001B[43m \u001B[49m\u001B[38;5;124;43m\"\u001B[39;49m\u001B[38;5;124;43msag\u001B[39;49m\u001B[38;5;124;43m\"\u001B[39;49m\u001B[43m,\u001B[49m\u001B[43m \u001B[49m\u001B[38;5;124;43m\"\u001B[39;49m\u001B[38;5;124;43msaga\u001B[39;49m\u001B[38;5;124;43m\"\u001B[39;49m\u001B[43m]\u001B[49m\u001B[43m,\u001B[49m\n\u001B[1;32m   1208\u001B[0m \u001B[43m\u001B[49m\u001B[43m)\u001B[49m\n\u001B[1;32m   1209\u001B[0m check_classification_targets(y)\n\u001B[1;32m   1210\u001B[0m \u001B[38;5;28mself\u001B[39m\u001B[38;5;241m.\u001B[39mclasses_ \u001B[38;5;241m=\u001B[39m np\u001B[38;5;241m.\u001B[39munique(y)\n",
      "File \u001B[0;32m~/DataspellProjects/rating/venv/lib/python3.9/site-packages/sklearn/base.py:601\u001B[0m, in \u001B[0;36mBaseEstimator._validate_data\u001B[0;34m(self, X, y, reset, validate_separately, cast_to_ndarray, **check_params)\u001B[0m\n\u001B[1;32m    599\u001B[0m         y \u001B[38;5;241m=\u001B[39m check_array(y, input_name\u001B[38;5;241m=\u001B[39m\u001B[38;5;124m\"\u001B[39m\u001B[38;5;124my\u001B[39m\u001B[38;5;124m\"\u001B[39m, \u001B[38;5;241m*\u001B[39m\u001B[38;5;241m*\u001B[39mcheck_y_params)\n\u001B[1;32m    600\u001B[0m     \u001B[38;5;28;01melse\u001B[39;00m:\n\u001B[0;32m--> 601\u001B[0m         X, y \u001B[38;5;241m=\u001B[39m \u001B[43mcheck_X_y\u001B[49m\u001B[43m(\u001B[49m\u001B[43mX\u001B[49m\u001B[43m,\u001B[49m\u001B[43m \u001B[49m\u001B[43my\u001B[49m\u001B[43m,\u001B[49m\u001B[43m \u001B[49m\u001B[38;5;241;43m*\u001B[39;49m\u001B[38;5;241;43m*\u001B[39;49m\u001B[43mcheck_params\u001B[49m\u001B[43m)\u001B[49m\n\u001B[1;32m    602\u001B[0m     out \u001B[38;5;241m=\u001B[39m X, y\n\u001B[1;32m    604\u001B[0m \u001B[38;5;28;01mif\u001B[39;00m \u001B[38;5;129;01mnot\u001B[39;00m no_val_X \u001B[38;5;129;01mand\u001B[39;00m check_params\u001B[38;5;241m.\u001B[39mget(\u001B[38;5;124m\"\u001B[39m\u001B[38;5;124mensure_2d\u001B[39m\u001B[38;5;124m\"\u001B[39m, \u001B[38;5;28;01mTrue\u001B[39;00m):\n",
      "File \u001B[0;32m~/DataspellProjects/rating/venv/lib/python3.9/site-packages/sklearn/utils/validation.py:1189\u001B[0m, in \u001B[0;36mcheck_X_y\u001B[0;34m(X, y, accept_sparse, accept_large_sparse, dtype, order, copy, force_all_finite, ensure_2d, allow_nd, multi_output, ensure_min_samples, ensure_min_features, y_numeric, estimator)\u001B[0m\n\u001B[1;32m   1169\u001B[0m     \u001B[38;5;28;01mraise\u001B[39;00m \u001B[38;5;167;01mValueError\u001B[39;00m(\n\u001B[1;32m   1170\u001B[0m         \u001B[38;5;124mf\u001B[39m\u001B[38;5;124m\"\u001B[39m\u001B[38;5;132;01m{\u001B[39;00mestimator_name\u001B[38;5;132;01m}\u001B[39;00m\u001B[38;5;124m requires y to be passed, but the target y is None\u001B[39m\u001B[38;5;124m\"\u001B[39m\n\u001B[1;32m   1171\u001B[0m     )\n\u001B[1;32m   1173\u001B[0m X \u001B[38;5;241m=\u001B[39m check_array(\n\u001B[1;32m   1174\u001B[0m     X,\n\u001B[1;32m   1175\u001B[0m     accept_sparse\u001B[38;5;241m=\u001B[39maccept_sparse,\n\u001B[0;32m   (...)\u001B[0m\n\u001B[1;32m   1186\u001B[0m     input_name\u001B[38;5;241m=\u001B[39m\u001B[38;5;124m\"\u001B[39m\u001B[38;5;124mX\u001B[39m\u001B[38;5;124m\"\u001B[39m,\n\u001B[1;32m   1187\u001B[0m )\n\u001B[0;32m-> 1189\u001B[0m y \u001B[38;5;241m=\u001B[39m \u001B[43m_check_y\u001B[49m\u001B[43m(\u001B[49m\u001B[43my\u001B[49m\u001B[43m,\u001B[49m\u001B[43m \u001B[49m\u001B[43mmulti_output\u001B[49m\u001B[38;5;241;43m=\u001B[39;49m\u001B[43mmulti_output\u001B[49m\u001B[43m,\u001B[49m\u001B[43m \u001B[49m\u001B[43my_numeric\u001B[49m\u001B[38;5;241;43m=\u001B[39;49m\u001B[43my_numeric\u001B[49m\u001B[43m,\u001B[49m\u001B[43m \u001B[49m\u001B[43mestimator\u001B[49m\u001B[38;5;241;43m=\u001B[39;49m\u001B[43mestimator\u001B[49m\u001B[43m)\u001B[49m\n\u001B[1;32m   1191\u001B[0m check_consistent_length(X, y)\n\u001B[1;32m   1193\u001B[0m \u001B[38;5;28;01mreturn\u001B[39;00m X, y\n",
      "File \u001B[0;32m~/DataspellProjects/rating/venv/lib/python3.9/site-packages/sklearn/utils/validation.py:1210\u001B[0m, in \u001B[0;36m_check_y\u001B[0;34m(y, multi_output, y_numeric, estimator)\u001B[0m\n\u001B[1;32m   1208\u001B[0m \u001B[38;5;28;01melse\u001B[39;00m:\n\u001B[1;32m   1209\u001B[0m     estimator_name \u001B[38;5;241m=\u001B[39m _check_estimator_name(estimator)\n\u001B[0;32m-> 1210\u001B[0m     y \u001B[38;5;241m=\u001B[39m \u001B[43mcolumn_or_1d\u001B[49m\u001B[43m(\u001B[49m\u001B[43my\u001B[49m\u001B[43m,\u001B[49m\u001B[43m \u001B[49m\u001B[43mwarn\u001B[49m\u001B[38;5;241;43m=\u001B[39;49m\u001B[38;5;28;43;01mTrue\u001B[39;49;00m\u001B[43m)\u001B[49m\n\u001B[1;32m   1211\u001B[0m     _assert_all_finite(y, input_name\u001B[38;5;241m=\u001B[39m\u001B[38;5;124m\"\u001B[39m\u001B[38;5;124my\u001B[39m\u001B[38;5;124m\"\u001B[39m, estimator_name\u001B[38;5;241m=\u001B[39mestimator_name)\n\u001B[1;32m   1212\u001B[0m     _ensure_no_complex_data(y)\n",
      "File \u001B[0;32m~/DataspellProjects/rating/venv/lib/python3.9/site-packages/sklearn/utils/validation.py:1271\u001B[0m, in \u001B[0;36mcolumn_or_1d\u001B[0;34m(y, dtype, warn)\u001B[0m\n\u001B[1;32m   1260\u001B[0m         warnings\u001B[38;5;241m.\u001B[39mwarn(\n\u001B[1;32m   1261\u001B[0m             (\n\u001B[1;32m   1262\u001B[0m                 \u001B[38;5;124m\"\u001B[39m\u001B[38;5;124mA column-vector y was passed when a 1d array was\u001B[39m\u001B[38;5;124m\"\u001B[39m\n\u001B[0;32m   (...)\u001B[0m\n\u001B[1;32m   1267\u001B[0m             stacklevel\u001B[38;5;241m=\u001B[39m\u001B[38;5;241m2\u001B[39m,\n\u001B[1;32m   1268\u001B[0m         )\n\u001B[1;32m   1269\u001B[0m     \u001B[38;5;28;01mreturn\u001B[39;00m _asarray_with_order(xp\u001B[38;5;241m.\u001B[39mreshape(y, (\u001B[38;5;241m-\u001B[39m\u001B[38;5;241m1\u001B[39m,)), order\u001B[38;5;241m=\u001B[39m\u001B[38;5;124m\"\u001B[39m\u001B[38;5;124mC\u001B[39m\u001B[38;5;124m\"\u001B[39m, xp\u001B[38;5;241m=\u001B[39mxp)\n\u001B[0;32m-> 1271\u001B[0m \u001B[38;5;28;01mraise\u001B[39;00m \u001B[38;5;167;01mValueError\u001B[39;00m(\n\u001B[1;32m   1272\u001B[0m     \u001B[38;5;124m\"\u001B[39m\u001B[38;5;124my should be a 1d array, got an array of shape \u001B[39m\u001B[38;5;132;01m{}\u001B[39;00m\u001B[38;5;124m instead.\u001B[39m\u001B[38;5;124m\"\u001B[39m\u001B[38;5;241m.\u001B[39mformat(shape)\n\u001B[1;32m   1273\u001B[0m )\n",
      "\u001B[0;31mValueError\u001B[0m: y should be a 1d array, got an array of shape (10907, 5) instead."
     ]
    }
   ],
   "source": [
    "lr=LogisticRegression()\n",
    "lr.fit(X_train,y_train)\n",
    "lr.score(X_test,y_test)"
   ],
   "metadata": {
    "collapsed": false,
    "ExecuteTime": {
     "end_time": "2024-01-14T06:09:36.824425Z",
     "start_time": "2024-01-14T06:09:36.724800Z"
    }
   },
   "id": "5fadfe3f96086c26",
   "execution_count": 198
  },
  {
   "cell_type": "code",
   "outputs": [],
   "source": [
    "from sklearn.svm import *\n"
   ],
   "metadata": {
    "collapsed": false,
    "ExecuteTime": {
     "end_time": "2024-01-13T14:37:54.429517Z",
     "start_time": "2024-01-13T14:37:54.413086Z"
    }
   },
   "id": "5e034318bb9869f0",
   "execution_count": 159
  },
  {
   "cell_type": "code",
   "outputs": [
    {
     "data": {
      "text/plain": "0.7634763476347635"
     },
     "execution_count": 160,
     "metadata": {},
     "output_type": "execute_result"
    }
   ],
   "source": [
    "svc=SVC()\n",
    "svc.fit(X_train,y_train)\n",
    "svc.score(X_test,y_test)"
   ],
   "metadata": {
    "collapsed": false,
    "ExecuteTime": {
     "end_time": "2024-01-13T14:37:59.954332Z",
     "start_time": "2024-01-13T14:37:58.363056Z"
    }
   },
   "id": "638c85fb70d59cae",
   "execution_count": 160
  },
  {
   "cell_type": "code",
   "outputs": [
    {
     "name": "stderr",
     "output_type": "stream",
     "text": [
      "/Users/amoghanshu/DataspellProjects/rating/venv/lib/python3.9/site-packages/sklearn/svm/_classes.py:31: FutureWarning: The default value of `dual` will change from `True` to `'auto'` in 1.5. Set the value of `dual` explicitly to suppress the warning.\n",
      "  warnings.warn(\n",
      "/Users/amoghanshu/DataspellProjects/rating/venv/lib/python3.9/site-packages/sklearn/svm/_base.py:1237: ConvergenceWarning: Liblinear failed to converge, increase the number of iterations.\n",
      "  warnings.warn(\n"
     ]
    },
    {
     "data": {
      "text/plain": "0.028602860286028604"
     },
     "execution_count": 161,
     "metadata": {},
     "output_type": "execute_result"
    }
   ],
   "source": [
    "lsvc=LinearSVC()\n",
    "lsvc.fit(X_train,y_train)\n",
    "lsvc.score(X_test,y_test)\n"
   ],
   "metadata": {
    "collapsed": false,
    "ExecuteTime": {
     "end_time": "2024-01-13T14:38:07.117738Z",
     "start_time": "2024-01-13T14:38:04.943985Z"
    }
   },
   "id": "f20e8aa589fd519d",
   "execution_count": 161
  },
  {
   "cell_type": "code",
   "outputs": [
    {
     "ename": "ValueError",
     "evalue": "No neighbors found for test samples array([   7,    8,   31,   44,   46,   48,   57,   66,   68,   74,   75,\n         81,   84,   87,   90,   97,   98,  100,  109,  111,  112,  115,\n        120,  128,  130,  148,  159,  174,  185,  186,  191,  199,  220,\n        222,  229,  230,  240,  247,  253,  267,  269,  273,  279,  289,\n        294,  297,  307,  308,  317,  318,  322,  337,  347,  348,  351,\n        355,  357,  361,  372,  382,  398,  407,  412,  424,  441,  460,\n        463,  464,  470,  474,  493,  502,  504,  505,  506,  508,  509,\n        510,  518,  524,  526,  535,  542,  553,  561,  582,  590,  595,\n        596,  598,  604,  605,  610,  611,  612,  615,  623,  632,  639,\n        662,  663,  665,  675,  679,  680,  681,  687,  697,  698,  699,\n        701,  705,  706,  708,  715,  723,  726,  727,  733,  780,  781,\n        791,  795,  802,  810,  817,  820,  836,  841,  844,  848,  849,\n        860,  871,  875,  878,  880,  883,  884,  890,  901,  906,  911,\n        926,  929,  933,  943,  944,  945,  947,  949,  959,  963,  964,\n        965,  970,  974,  983,  984,  989,  993,  994, 1006, 1015, 1056,\n       1104, 1105, 1112, 1121, 1125, 1128, 1134, 1141, 1149, 1151, 1152,\n       1154, 1161, 1176, 1179, 1182, 1185, 1194, 1206, 1229, 1237, 1241,\n       1252, 1255, 1259, 1261, 1265, 1266, 1267, 1270, 1281, 1306, 1311,\n       1317, 1323, 1330, 1332, 1340, 1343, 1353, 1358, 1367, 1382, 1384,\n       1387, 1397, 1398, 1412, 1421, 1427, 1431, 1434, 1437, 1459, 1463,\n       1464, 1474, 1479, 1480, 1482, 1483, 1490, 1495, 1497, 1499, 1505,\n       1536, 1542, 1550, 1553, 1568, 1572, 1574, 1600, 1616, 1636, 1643,\n       1649, 1653, 1660, 1662, 1665, 1674, 1675, 1677, 1685, 1686, 1694,\n       1695, 1697, 1703, 1704, 1716, 1720, 1721, 1736, 1740, 1749, 1762,\n       1769, 1770, 1772, 1776, 1782, 1785, 1786, 1793, 1796, 1798, 1800,\n       1801, 1802, 1804, 1807, 1840, 1851, 1871, 1872, 1876, 1878, 1891,\n       1894, 1895, 1907, 1926, 1927, 1928, 1929, 1934, 1938, 1949, 1953,\n       1954, 1960, 1964, 1971, 1976, 1981, 1987, 1989, 1994, 2010, 2019,\n       2020, 2023, 2024, 2025, 2026, 2039, 2040, 2044, 2060, 2061, 2062,\n       2068, 2100, 2109, 2112, 2113, 2114, 2127, 2130, 2132, 2139, 2146,\n       2147, 2168, 2172, 2183, 2184, 2198, 2199, 2202, 2213, 2228, 2239,\n       2256, 2260, 2265, 2268, 2272, 2278, 2284, 2289, 2292, 2294, 2305,\n       2306, 2307, 2311, 2319, 2325, 2329, 2334, 2342, 2348, 2357, 2358,\n       2359, 2364, 2373, 2381, 2382, 2384, 2388, 2390, 2391, 2394, 2395,\n       2398, 2412, 2419, 2429, 2431, 2434, 2445, 2450, 2460, 2465, 2471,\n       2472, 2488, 2497, 2505, 2514, 2523, 2528, 2531, 2553, 2554, 2569,\n       2572, 2584, 2588, 2589, 2592, 2594, 2595, 2601, 2613, 2624, 2632,\n       2637, 2638, 2646, 2661, 2663, 2674, 2683, 2686, 2688, 2692, 2697,\n       2699, 2707, 2708, 2711]), you can try using larger radius, giving a label for outliers, or considering removing them from your dataset.",
     "output_type": "error",
     "traceback": [
      "\u001B[0;31m---------------------------------------------------------------------------\u001B[0m",
      "\u001B[0;31mValueError\u001B[0m                                Traceback (most recent call last)",
      "Cell \u001B[0;32mIn[164], line 3\u001B[0m\n\u001B[1;32m      1\u001B[0m rnc\u001B[38;5;241m=\u001B[39mRadiusNeighborsClassifier(radius\u001B[38;5;241m=\u001B[39m\u001B[38;5;241m100\u001B[39m)\n\u001B[1;32m      2\u001B[0m rnc\u001B[38;5;241m.\u001B[39mfit(X_train,y_train)\n\u001B[0;32m----> 3\u001B[0m \u001B[43mrnc\u001B[49m\u001B[38;5;241;43m.\u001B[39;49m\u001B[43mscore\u001B[49m\u001B[43m(\u001B[49m\u001B[43mX_test\u001B[49m\u001B[43m,\u001B[49m\u001B[43my_test\u001B[49m\u001B[43m)\u001B[49m\n",
      "File \u001B[0;32m~/DataspellProjects/rating/venv/lib/python3.9/site-packages/sklearn/base.py:685\u001B[0m, in \u001B[0;36mClassifierMixin.score\u001B[0;34m(self, X, y, sample_weight)\u001B[0m\n\u001B[1;32m    660\u001B[0m \u001B[38;5;250m\u001B[39m\u001B[38;5;124;03m\"\"\"\u001B[39;00m\n\u001B[1;32m    661\u001B[0m \u001B[38;5;124;03mReturn the mean accuracy on the given test data and labels.\u001B[39;00m\n\u001B[1;32m    662\u001B[0m \n\u001B[0;32m   (...)\u001B[0m\n\u001B[1;32m    681\u001B[0m \u001B[38;5;124;03m    Mean accuracy of ``self.predict(X)`` w.r.t. `y`.\u001B[39;00m\n\u001B[1;32m    682\u001B[0m \u001B[38;5;124;03m\"\"\"\u001B[39;00m\n\u001B[1;32m    683\u001B[0m \u001B[38;5;28;01mfrom\u001B[39;00m \u001B[38;5;21;01m.\u001B[39;00m\u001B[38;5;21;01mmetrics\u001B[39;00m \u001B[38;5;28;01mimport\u001B[39;00m accuracy_score\n\u001B[0;32m--> 685\u001B[0m \u001B[38;5;28;01mreturn\u001B[39;00m accuracy_score(y, \u001B[38;5;28;43mself\u001B[39;49m\u001B[38;5;241;43m.\u001B[39;49m\u001B[43mpredict\u001B[49m\u001B[43m(\u001B[49m\u001B[43mX\u001B[49m\u001B[43m)\u001B[49m, sample_weight\u001B[38;5;241m=\u001B[39msample_weight)\n",
      "File \u001B[0;32m~/DataspellProjects/rating/venv/lib/python3.9/site-packages/sklearn/neighbors/_classification.py:681\u001B[0m, in \u001B[0;36mRadiusNeighborsClassifier.predict\u001B[0;34m(self, X)\u001B[0m\n\u001B[1;32m    666\u001B[0m \u001B[38;5;28;01mdef\u001B[39;00m \u001B[38;5;21mpredict\u001B[39m(\u001B[38;5;28mself\u001B[39m, X):\n\u001B[1;32m    667\u001B[0m \u001B[38;5;250m    \u001B[39m\u001B[38;5;124;03m\"\"\"Predict the class labels for the provided data.\u001B[39;00m\n\u001B[1;32m    668\u001B[0m \n\u001B[1;32m    669\u001B[0m \u001B[38;5;124;03m    Parameters\u001B[39;00m\n\u001B[0;32m   (...)\u001B[0m\n\u001B[1;32m    678\u001B[0m \u001B[38;5;124;03m        Class labels for each data sample.\u001B[39;00m\n\u001B[1;32m    679\u001B[0m \u001B[38;5;124;03m    \"\"\"\u001B[39;00m\n\u001B[0;32m--> 681\u001B[0m     probs \u001B[38;5;241m=\u001B[39m \u001B[38;5;28;43mself\u001B[39;49m\u001B[38;5;241;43m.\u001B[39;49m\u001B[43mpredict_proba\u001B[49m\u001B[43m(\u001B[49m\u001B[43mX\u001B[49m\u001B[43m)\u001B[49m\n\u001B[1;32m    682\u001B[0m     classes_ \u001B[38;5;241m=\u001B[39m \u001B[38;5;28mself\u001B[39m\u001B[38;5;241m.\u001B[39mclasses_\n\u001B[1;32m    684\u001B[0m     \u001B[38;5;28;01mif\u001B[39;00m \u001B[38;5;129;01mnot\u001B[39;00m \u001B[38;5;28mself\u001B[39m\u001B[38;5;241m.\u001B[39moutputs_2d_:\n",
      "File \u001B[0;32m~/DataspellProjects/rating/venv/lib/python3.9/site-packages/sklearn/neighbors/_classification.py:770\u001B[0m, in \u001B[0;36mRadiusNeighborsClassifier.predict_proba\u001B[0;34m(self, X)\u001B[0m\n\u001B[1;32m    767\u001B[0m     classes_ \u001B[38;5;241m=\u001B[39m [\u001B[38;5;28mself\u001B[39m\u001B[38;5;241m.\u001B[39mclasses_]\n\u001B[1;32m    769\u001B[0m \u001B[38;5;28;01mif\u001B[39;00m \u001B[38;5;28mself\u001B[39m\u001B[38;5;241m.\u001B[39moutlier_label_ \u001B[38;5;129;01mis\u001B[39;00m \u001B[38;5;28;01mNone\u001B[39;00m \u001B[38;5;129;01mand\u001B[39;00m outliers\u001B[38;5;241m.\u001B[39msize \u001B[38;5;241m>\u001B[39m \u001B[38;5;241m0\u001B[39m:\n\u001B[0;32m--> 770\u001B[0m     \u001B[38;5;28;01mraise\u001B[39;00m \u001B[38;5;167;01mValueError\u001B[39;00m(\n\u001B[1;32m    771\u001B[0m         \u001B[38;5;124m\"\u001B[39m\u001B[38;5;124mNo neighbors found for test samples \u001B[39m\u001B[38;5;132;01m%r\u001B[39;00m\u001B[38;5;124m, \u001B[39m\u001B[38;5;124m\"\u001B[39m\n\u001B[1;32m    772\u001B[0m         \u001B[38;5;124m\"\u001B[39m\u001B[38;5;124myou can try using larger radius, \u001B[39m\u001B[38;5;124m\"\u001B[39m\n\u001B[1;32m    773\u001B[0m         \u001B[38;5;124m\"\u001B[39m\u001B[38;5;124mgiving a label for outliers, \u001B[39m\u001B[38;5;124m\"\u001B[39m\n\u001B[1;32m    774\u001B[0m         \u001B[38;5;124m\"\u001B[39m\u001B[38;5;124mor considering removing them from your dataset.\u001B[39m\u001B[38;5;124m\"\u001B[39m \u001B[38;5;241m%\u001B[39m outliers\n\u001B[1;32m    775\u001B[0m     )\n\u001B[1;32m    777\u001B[0m weights \u001B[38;5;241m=\u001B[39m _get_weights(neigh_dist, \u001B[38;5;28mself\u001B[39m\u001B[38;5;241m.\u001B[39mweights)\n\u001B[1;32m    778\u001B[0m \u001B[38;5;28;01mif\u001B[39;00m weights \u001B[38;5;129;01mis\u001B[39;00m \u001B[38;5;129;01mnot\u001B[39;00m \u001B[38;5;28;01mNone\u001B[39;00m:\n",
      "\u001B[0;31mValueError\u001B[0m: No neighbors found for test samples array([   7,    8,   31,   44,   46,   48,   57,   66,   68,   74,   75,\n         81,   84,   87,   90,   97,   98,  100,  109,  111,  112,  115,\n        120,  128,  130,  148,  159,  174,  185,  186,  191,  199,  220,\n        222,  229,  230,  240,  247,  253,  267,  269,  273,  279,  289,\n        294,  297,  307,  308,  317,  318,  322,  337,  347,  348,  351,\n        355,  357,  361,  372,  382,  398,  407,  412,  424,  441,  460,\n        463,  464,  470,  474,  493,  502,  504,  505,  506,  508,  509,\n        510,  518,  524,  526,  535,  542,  553,  561,  582,  590,  595,\n        596,  598,  604,  605,  610,  611,  612,  615,  623,  632,  639,\n        662,  663,  665,  675,  679,  680,  681,  687,  697,  698,  699,\n        701,  705,  706,  708,  715,  723,  726,  727,  733,  780,  781,\n        791,  795,  802,  810,  817,  820,  836,  841,  844,  848,  849,\n        860,  871,  875,  878,  880,  883,  884,  890,  901,  906,  911,\n        926,  929,  933,  943,  944,  945,  947,  949,  959,  963,  964,\n        965,  970,  974,  983,  984,  989,  993,  994, 1006, 1015, 1056,\n       1104, 1105, 1112, 1121, 1125, 1128, 1134, 1141, 1149, 1151, 1152,\n       1154, 1161, 1176, 1179, 1182, 1185, 1194, 1206, 1229, 1237, 1241,\n       1252, 1255, 1259, 1261, 1265, 1266, 1267, 1270, 1281, 1306, 1311,\n       1317, 1323, 1330, 1332, 1340, 1343, 1353, 1358, 1367, 1382, 1384,\n       1387, 1397, 1398, 1412, 1421, 1427, 1431, 1434, 1437, 1459, 1463,\n       1464, 1474, 1479, 1480, 1482, 1483, 1490, 1495, 1497, 1499, 1505,\n       1536, 1542, 1550, 1553, 1568, 1572, 1574, 1600, 1616, 1636, 1643,\n       1649, 1653, 1660, 1662, 1665, 1674, 1675, 1677, 1685, 1686, 1694,\n       1695, 1697, 1703, 1704, 1716, 1720, 1721, 1736, 1740, 1749, 1762,\n       1769, 1770, 1772, 1776, 1782, 1785, 1786, 1793, 1796, 1798, 1800,\n       1801, 1802, 1804, 1807, 1840, 1851, 1871, 1872, 1876, 1878, 1891,\n       1894, 1895, 1907, 1926, 1927, 1928, 1929, 1934, 1938, 1949, 1953,\n       1954, 1960, 1964, 1971, 1976, 1981, 1987, 1989, 1994, 2010, 2019,\n       2020, 2023, 2024, 2025, 2026, 2039, 2040, 2044, 2060, 2061, 2062,\n       2068, 2100, 2109, 2112, 2113, 2114, 2127, 2130, 2132, 2139, 2146,\n       2147, 2168, 2172, 2183, 2184, 2198, 2199, 2202, 2213, 2228, 2239,\n       2256, 2260, 2265, 2268, 2272, 2278, 2284, 2289, 2292, 2294, 2305,\n       2306, 2307, 2311, 2319, 2325, 2329, 2334, 2342, 2348, 2357, 2358,\n       2359, 2364, 2373, 2381, 2382, 2384, 2388, 2390, 2391, 2394, 2395,\n       2398, 2412, 2419, 2429, 2431, 2434, 2445, 2450, 2460, 2465, 2471,\n       2472, 2488, 2497, 2505, 2514, 2523, 2528, 2531, 2553, 2554, 2569,\n       2572, 2584, 2588, 2589, 2592, 2594, 2595, 2601, 2613, 2624, 2632,\n       2637, 2638, 2646, 2661, 2663, 2674, 2683, 2686, 2688, 2692, 2697,\n       2699, 2707, 2708, 2711]), you can try using larger radius, giving a label for outliers, or considering removing them from your dataset."
     ]
    }
   ],
   "source": [
    "rnc=RadiusNeighborsClassifier(radius=100)\n",
    "rnc.fit(X_train,y_train)\n",
    "rnc.score(X_test,y_test)"
   ],
   "metadata": {
    "collapsed": false,
    "ExecuteTime": {
     "end_time": "2024-01-13T14:39:05.712886Z",
     "start_time": "2024-01-13T14:39:05.662602Z"
    }
   },
   "id": "d3dc95df1e30c395",
   "execution_count": 164
  },
  {
   "cell_type": "code",
   "outputs": [
    {
     "ename": "ValueError",
     "evalue": "y should be a 1d array, got an array of shape (10907, 5) instead.",
     "output_type": "error",
     "traceback": [
      "\u001B[0;31m---------------------------------------------------------------------------\u001B[0m",
      "\u001B[0;31mValueError\u001B[0m                                Traceback (most recent call last)",
      "Cell \u001B[0;32mIn[196], line 2\u001B[0m\n\u001B[1;32m      1\u001B[0m per\u001B[38;5;241m=\u001B[39mPerceptron()\n\u001B[0;32m----> 2\u001B[0m \u001B[43mper\u001B[49m\u001B[38;5;241;43m.\u001B[39;49m\u001B[43mfit\u001B[49m\u001B[43m(\u001B[49m\u001B[43mX_train\u001B[49m\u001B[43m,\u001B[49m\u001B[43my_train\u001B[49m\u001B[43m)\u001B[49m\n\u001B[1;32m      4\u001B[0m per\u001B[38;5;241m.\u001B[39mscore(X_test,y_test)\n",
      "File \u001B[0;32m~/DataspellProjects/rating/venv/lib/python3.9/site-packages/sklearn/base.py:1194\u001B[0m, in \u001B[0;36m_fit_context.<locals>.decorator.<locals>.wrapper\u001B[0;34m(estimator, *args, **kwargs)\u001B[0m\n\u001B[1;32m   1187\u001B[0m     estimator\u001B[38;5;241m.\u001B[39m_validate_params()\n\u001B[1;32m   1189\u001B[0m \u001B[38;5;28;01mwith\u001B[39;00m config_context(\n\u001B[1;32m   1190\u001B[0m     skip_parameter_validation\u001B[38;5;241m=\u001B[39m(\n\u001B[1;32m   1191\u001B[0m         prefer_skip_nested_validation \u001B[38;5;129;01mor\u001B[39;00m global_skip_validation\n\u001B[1;32m   1192\u001B[0m     )\n\u001B[1;32m   1193\u001B[0m ):\n\u001B[0;32m-> 1194\u001B[0m     \u001B[38;5;28;01mreturn\u001B[39;00m \u001B[43mfit_method\u001B[49m\u001B[43m(\u001B[49m\u001B[43mestimator\u001B[49m\u001B[43m,\u001B[49m\u001B[43m \u001B[49m\u001B[38;5;241;43m*\u001B[39;49m\u001B[43margs\u001B[49m\u001B[43m,\u001B[49m\u001B[43m \u001B[49m\u001B[38;5;241;43m*\u001B[39;49m\u001B[38;5;241;43m*\u001B[39;49m\u001B[43mkwargs\u001B[49m\u001B[43m)\u001B[49m\n",
      "File \u001B[0;32m~/DataspellProjects/rating/venv/lib/python3.9/site-packages/sklearn/linear_model/_stochastic_gradient.py:917\u001B[0m, in \u001B[0;36mBaseSGDClassifier.fit\u001B[0;34m(self, X, y, coef_init, intercept_init, sample_weight)\u001B[0m\n\u001B[1;32m    888\u001B[0m \u001B[38;5;250m\u001B[39m\u001B[38;5;124;03m\"\"\"Fit linear model with Stochastic Gradient Descent.\u001B[39;00m\n\u001B[1;32m    889\u001B[0m \n\u001B[1;32m    890\u001B[0m \u001B[38;5;124;03mParameters\u001B[39;00m\n\u001B[0;32m   (...)\u001B[0m\n\u001B[1;32m    913\u001B[0m \u001B[38;5;124;03m    Returns an instance of self.\u001B[39;00m\n\u001B[1;32m    914\u001B[0m \u001B[38;5;124;03m\"\"\"\u001B[39;00m\n\u001B[1;32m    915\u001B[0m \u001B[38;5;28mself\u001B[39m\u001B[38;5;241m.\u001B[39m_more_validate_params()\n\u001B[0;32m--> 917\u001B[0m \u001B[38;5;28;01mreturn\u001B[39;00m \u001B[38;5;28;43mself\u001B[39;49m\u001B[38;5;241;43m.\u001B[39;49m\u001B[43m_fit\u001B[49m\u001B[43m(\u001B[49m\n\u001B[1;32m    918\u001B[0m \u001B[43m    \u001B[49m\u001B[43mX\u001B[49m\u001B[43m,\u001B[49m\n\u001B[1;32m    919\u001B[0m \u001B[43m    \u001B[49m\u001B[43my\u001B[49m\u001B[43m,\u001B[49m\n\u001B[1;32m    920\u001B[0m \u001B[43m    \u001B[49m\u001B[43malpha\u001B[49m\u001B[38;5;241;43m=\u001B[39;49m\u001B[38;5;28;43mself\u001B[39;49m\u001B[38;5;241;43m.\u001B[39;49m\u001B[43malpha\u001B[49m\u001B[43m,\u001B[49m\n\u001B[1;32m    921\u001B[0m \u001B[43m    \u001B[49m\u001B[43mC\u001B[49m\u001B[38;5;241;43m=\u001B[39;49m\u001B[38;5;241;43m1.0\u001B[39;49m\u001B[43m,\u001B[49m\n\u001B[1;32m    922\u001B[0m \u001B[43m    \u001B[49m\u001B[43mloss\u001B[49m\u001B[38;5;241;43m=\u001B[39;49m\u001B[38;5;28;43mself\u001B[39;49m\u001B[38;5;241;43m.\u001B[39;49m\u001B[43mloss\u001B[49m\u001B[43m,\u001B[49m\n\u001B[1;32m    923\u001B[0m \u001B[43m    \u001B[49m\u001B[43mlearning_rate\u001B[49m\u001B[38;5;241;43m=\u001B[39;49m\u001B[38;5;28;43mself\u001B[39;49m\u001B[38;5;241;43m.\u001B[39;49m\u001B[43mlearning_rate\u001B[49m\u001B[43m,\u001B[49m\n\u001B[1;32m    924\u001B[0m \u001B[43m    \u001B[49m\u001B[43mcoef_init\u001B[49m\u001B[38;5;241;43m=\u001B[39;49m\u001B[43mcoef_init\u001B[49m\u001B[43m,\u001B[49m\n\u001B[1;32m    925\u001B[0m \u001B[43m    \u001B[49m\u001B[43mintercept_init\u001B[49m\u001B[38;5;241;43m=\u001B[39;49m\u001B[43mintercept_init\u001B[49m\u001B[43m,\u001B[49m\n\u001B[1;32m    926\u001B[0m \u001B[43m    \u001B[49m\u001B[43msample_weight\u001B[49m\u001B[38;5;241;43m=\u001B[39;49m\u001B[43msample_weight\u001B[49m\u001B[43m,\u001B[49m\n\u001B[1;32m    927\u001B[0m \u001B[43m\u001B[49m\u001B[43m)\u001B[49m\n",
      "File \u001B[0;32m~/DataspellProjects/rating/venv/lib/python3.9/site-packages/sklearn/linear_model/_stochastic_gradient.py:683\u001B[0m, in \u001B[0;36mBaseSGDClassifier._fit\u001B[0;34m(self, X, y, alpha, C, loss, learning_rate, coef_init, intercept_init, sample_weight)\u001B[0m\n\u001B[1;32m    679\u001B[0m     \u001B[38;5;28mdelattr\u001B[39m(\u001B[38;5;28mself\u001B[39m, \u001B[38;5;124m\"\u001B[39m\u001B[38;5;124mclasses_\u001B[39m\u001B[38;5;124m\"\u001B[39m)\n\u001B[1;32m    681\u001B[0m \u001B[38;5;66;03m# labels can be encoded as float, int, or string literals\u001B[39;00m\n\u001B[1;32m    682\u001B[0m \u001B[38;5;66;03m# np.unique sorts in asc order; largest class id is positive class\u001B[39;00m\n\u001B[0;32m--> 683\u001B[0m y \u001B[38;5;241m=\u001B[39m \u001B[38;5;28;43mself\u001B[39;49m\u001B[38;5;241;43m.\u001B[39;49m\u001B[43m_validate_data\u001B[49m\u001B[43m(\u001B[49m\u001B[43my\u001B[49m\u001B[38;5;241;43m=\u001B[39;49m\u001B[43my\u001B[49m\u001B[43m)\u001B[49m\n\u001B[1;32m    684\u001B[0m classes \u001B[38;5;241m=\u001B[39m np\u001B[38;5;241m.\u001B[39munique(y)\n\u001B[1;32m    686\u001B[0m \u001B[38;5;28;01mif\u001B[39;00m \u001B[38;5;28mself\u001B[39m\u001B[38;5;241m.\u001B[39mwarm_start \u001B[38;5;129;01mand\u001B[39;00m \u001B[38;5;28mhasattr\u001B[39m(\u001B[38;5;28mself\u001B[39m, \u001B[38;5;124m\"\u001B[39m\u001B[38;5;124mcoef_\u001B[39m\u001B[38;5;124m\"\u001B[39m):\n",
      "File \u001B[0;32m~/DataspellProjects/rating/venv/lib/python3.9/site-packages/sklearn/base.py:586\u001B[0m, in \u001B[0;36mBaseEstimator._validate_data\u001B[0;34m(self, X, y, reset, validate_separately, cast_to_ndarray, **check_params)\u001B[0m\n\u001B[1;32m    584\u001B[0m     out \u001B[38;5;241m=\u001B[39m check_array(X, input_name\u001B[38;5;241m=\u001B[39m\u001B[38;5;124m\"\u001B[39m\u001B[38;5;124mX\u001B[39m\u001B[38;5;124m\"\u001B[39m, \u001B[38;5;241m*\u001B[39m\u001B[38;5;241m*\u001B[39mcheck_params)\n\u001B[1;32m    585\u001B[0m \u001B[38;5;28;01melif\u001B[39;00m no_val_X \u001B[38;5;129;01mand\u001B[39;00m \u001B[38;5;129;01mnot\u001B[39;00m no_val_y:\n\u001B[0;32m--> 586\u001B[0m     out \u001B[38;5;241m=\u001B[39m \u001B[43m_check_y\u001B[49m\u001B[43m(\u001B[49m\u001B[43my\u001B[49m\u001B[43m,\u001B[49m\u001B[43m \u001B[49m\u001B[38;5;241;43m*\u001B[39;49m\u001B[38;5;241;43m*\u001B[39;49m\u001B[43mcheck_params\u001B[49m\u001B[43m)\u001B[49m\n\u001B[1;32m    587\u001B[0m \u001B[38;5;28;01melse\u001B[39;00m:\n\u001B[1;32m    588\u001B[0m     \u001B[38;5;28;01mif\u001B[39;00m validate_separately:\n\u001B[1;32m    589\u001B[0m         \u001B[38;5;66;03m# We need this because some estimators validate X and y\u001B[39;00m\n\u001B[1;32m    590\u001B[0m         \u001B[38;5;66;03m# separately, and in general, separately calling check_array()\u001B[39;00m\n\u001B[1;32m    591\u001B[0m         \u001B[38;5;66;03m# on X and y isn't equivalent to just calling check_X_y()\u001B[39;00m\n\u001B[1;32m    592\u001B[0m         \u001B[38;5;66;03m# :(\u001B[39;00m\n",
      "File \u001B[0;32m~/DataspellProjects/rating/venv/lib/python3.9/site-packages/sklearn/utils/validation.py:1210\u001B[0m, in \u001B[0;36m_check_y\u001B[0;34m(y, multi_output, y_numeric, estimator)\u001B[0m\n\u001B[1;32m   1208\u001B[0m \u001B[38;5;28;01melse\u001B[39;00m:\n\u001B[1;32m   1209\u001B[0m     estimator_name \u001B[38;5;241m=\u001B[39m _check_estimator_name(estimator)\n\u001B[0;32m-> 1210\u001B[0m     y \u001B[38;5;241m=\u001B[39m \u001B[43mcolumn_or_1d\u001B[49m\u001B[43m(\u001B[49m\u001B[43my\u001B[49m\u001B[43m,\u001B[49m\u001B[43m \u001B[49m\u001B[43mwarn\u001B[49m\u001B[38;5;241;43m=\u001B[39;49m\u001B[38;5;28;43;01mTrue\u001B[39;49;00m\u001B[43m)\u001B[49m\n\u001B[1;32m   1211\u001B[0m     _assert_all_finite(y, input_name\u001B[38;5;241m=\u001B[39m\u001B[38;5;124m\"\u001B[39m\u001B[38;5;124my\u001B[39m\u001B[38;5;124m\"\u001B[39m, estimator_name\u001B[38;5;241m=\u001B[39mestimator_name)\n\u001B[1;32m   1212\u001B[0m     _ensure_no_complex_data(y)\n",
      "File \u001B[0;32m~/DataspellProjects/rating/venv/lib/python3.9/site-packages/sklearn/utils/validation.py:1271\u001B[0m, in \u001B[0;36mcolumn_or_1d\u001B[0;34m(y, dtype, warn)\u001B[0m\n\u001B[1;32m   1260\u001B[0m         warnings\u001B[38;5;241m.\u001B[39mwarn(\n\u001B[1;32m   1261\u001B[0m             (\n\u001B[1;32m   1262\u001B[0m                 \u001B[38;5;124m\"\u001B[39m\u001B[38;5;124mA column-vector y was passed when a 1d array was\u001B[39m\u001B[38;5;124m\"\u001B[39m\n\u001B[0;32m   (...)\u001B[0m\n\u001B[1;32m   1267\u001B[0m             stacklevel\u001B[38;5;241m=\u001B[39m\u001B[38;5;241m2\u001B[39m,\n\u001B[1;32m   1268\u001B[0m         )\n\u001B[1;32m   1269\u001B[0m     \u001B[38;5;28;01mreturn\u001B[39;00m _asarray_with_order(xp\u001B[38;5;241m.\u001B[39mreshape(y, (\u001B[38;5;241m-\u001B[39m\u001B[38;5;241m1\u001B[39m,)), order\u001B[38;5;241m=\u001B[39m\u001B[38;5;124m\"\u001B[39m\u001B[38;5;124mC\u001B[39m\u001B[38;5;124m\"\u001B[39m, xp\u001B[38;5;241m=\u001B[39mxp)\n\u001B[0;32m-> 1271\u001B[0m \u001B[38;5;28;01mraise\u001B[39;00m \u001B[38;5;167;01mValueError\u001B[39;00m(\n\u001B[1;32m   1272\u001B[0m     \u001B[38;5;124m\"\u001B[39m\u001B[38;5;124my should be a 1d array, got an array of shape \u001B[39m\u001B[38;5;132;01m{}\u001B[39;00m\u001B[38;5;124m instead.\u001B[39m\u001B[38;5;124m\"\u001B[39m\u001B[38;5;241m.\u001B[39mformat(shape)\n\u001B[1;32m   1273\u001B[0m )\n",
      "\u001B[0;31mValueError\u001B[0m: y should be a 1d array, got an array of shape (10907, 5) instead."
     ]
    }
   ],
   "source": [
    "per=Perceptron()\n",
    "per.fit(X_train,y_train)\n",
    "\n",
    "per.score(X_test,y_test)"
   ],
   "metadata": {
    "collapsed": false,
    "ExecuteTime": {
     "end_time": "2024-01-14T06:09:23.189049Z",
     "start_time": "2024-01-14T06:09:23.079940Z"
    }
   },
   "id": "66b814dca3a18b84",
   "execution_count": 196
  },
  {
   "cell_type": "code",
   "outputs": [
    {
     "ename": "ValueError",
     "evalue": "y should be a 1d array, got an array of shape (10907, 5) instead.",
     "output_type": "error",
     "traceback": [
      "\u001B[0;31m---------------------------------------------------------------------------\u001B[0m",
      "\u001B[0;31mValueError\u001B[0m                                Traceback (most recent call last)",
      "Cell \u001B[0;32mIn[197], line 2\u001B[0m\n\u001B[1;32m      1\u001B[0m sgd\u001B[38;5;241m=\u001B[39mSGDClassifier()\n\u001B[0;32m----> 2\u001B[0m \u001B[43msgd\u001B[49m\u001B[38;5;241;43m.\u001B[39;49m\u001B[43mfit\u001B[49m\u001B[43m(\u001B[49m\u001B[43mX_train\u001B[49m\u001B[43m,\u001B[49m\u001B[43my_train\u001B[49m\u001B[43m)\u001B[49m\n\u001B[1;32m      3\u001B[0m sgd\u001B[38;5;241m.\u001B[39mscore(X_test,y_test)\n",
      "File \u001B[0;32m~/DataspellProjects/rating/venv/lib/python3.9/site-packages/sklearn/base.py:1194\u001B[0m, in \u001B[0;36m_fit_context.<locals>.decorator.<locals>.wrapper\u001B[0;34m(estimator, *args, **kwargs)\u001B[0m\n\u001B[1;32m   1187\u001B[0m     estimator\u001B[38;5;241m.\u001B[39m_validate_params()\n\u001B[1;32m   1189\u001B[0m \u001B[38;5;28;01mwith\u001B[39;00m config_context(\n\u001B[1;32m   1190\u001B[0m     skip_parameter_validation\u001B[38;5;241m=\u001B[39m(\n\u001B[1;32m   1191\u001B[0m         prefer_skip_nested_validation \u001B[38;5;129;01mor\u001B[39;00m global_skip_validation\n\u001B[1;32m   1192\u001B[0m     )\n\u001B[1;32m   1193\u001B[0m ):\n\u001B[0;32m-> 1194\u001B[0m     \u001B[38;5;28;01mreturn\u001B[39;00m \u001B[43mfit_method\u001B[49m\u001B[43m(\u001B[49m\u001B[43mestimator\u001B[49m\u001B[43m,\u001B[49m\u001B[43m \u001B[49m\u001B[38;5;241;43m*\u001B[39;49m\u001B[43margs\u001B[49m\u001B[43m,\u001B[49m\u001B[43m \u001B[49m\u001B[38;5;241;43m*\u001B[39;49m\u001B[38;5;241;43m*\u001B[39;49m\u001B[43mkwargs\u001B[49m\u001B[43m)\u001B[49m\n",
      "File \u001B[0;32m~/DataspellProjects/rating/venv/lib/python3.9/site-packages/sklearn/linear_model/_stochastic_gradient.py:917\u001B[0m, in \u001B[0;36mBaseSGDClassifier.fit\u001B[0;34m(self, X, y, coef_init, intercept_init, sample_weight)\u001B[0m\n\u001B[1;32m    888\u001B[0m \u001B[38;5;250m\u001B[39m\u001B[38;5;124;03m\"\"\"Fit linear model with Stochastic Gradient Descent.\u001B[39;00m\n\u001B[1;32m    889\u001B[0m \n\u001B[1;32m    890\u001B[0m \u001B[38;5;124;03mParameters\u001B[39;00m\n\u001B[0;32m   (...)\u001B[0m\n\u001B[1;32m    913\u001B[0m \u001B[38;5;124;03m    Returns an instance of self.\u001B[39;00m\n\u001B[1;32m    914\u001B[0m \u001B[38;5;124;03m\"\"\"\u001B[39;00m\n\u001B[1;32m    915\u001B[0m \u001B[38;5;28mself\u001B[39m\u001B[38;5;241m.\u001B[39m_more_validate_params()\n\u001B[0;32m--> 917\u001B[0m \u001B[38;5;28;01mreturn\u001B[39;00m \u001B[38;5;28;43mself\u001B[39;49m\u001B[38;5;241;43m.\u001B[39;49m\u001B[43m_fit\u001B[49m\u001B[43m(\u001B[49m\n\u001B[1;32m    918\u001B[0m \u001B[43m    \u001B[49m\u001B[43mX\u001B[49m\u001B[43m,\u001B[49m\n\u001B[1;32m    919\u001B[0m \u001B[43m    \u001B[49m\u001B[43my\u001B[49m\u001B[43m,\u001B[49m\n\u001B[1;32m    920\u001B[0m \u001B[43m    \u001B[49m\u001B[43malpha\u001B[49m\u001B[38;5;241;43m=\u001B[39;49m\u001B[38;5;28;43mself\u001B[39;49m\u001B[38;5;241;43m.\u001B[39;49m\u001B[43malpha\u001B[49m\u001B[43m,\u001B[49m\n\u001B[1;32m    921\u001B[0m \u001B[43m    \u001B[49m\u001B[43mC\u001B[49m\u001B[38;5;241;43m=\u001B[39;49m\u001B[38;5;241;43m1.0\u001B[39;49m\u001B[43m,\u001B[49m\n\u001B[1;32m    922\u001B[0m \u001B[43m    \u001B[49m\u001B[43mloss\u001B[49m\u001B[38;5;241;43m=\u001B[39;49m\u001B[38;5;28;43mself\u001B[39;49m\u001B[38;5;241;43m.\u001B[39;49m\u001B[43mloss\u001B[49m\u001B[43m,\u001B[49m\n\u001B[1;32m    923\u001B[0m \u001B[43m    \u001B[49m\u001B[43mlearning_rate\u001B[49m\u001B[38;5;241;43m=\u001B[39;49m\u001B[38;5;28;43mself\u001B[39;49m\u001B[38;5;241;43m.\u001B[39;49m\u001B[43mlearning_rate\u001B[49m\u001B[43m,\u001B[49m\n\u001B[1;32m    924\u001B[0m \u001B[43m    \u001B[49m\u001B[43mcoef_init\u001B[49m\u001B[38;5;241;43m=\u001B[39;49m\u001B[43mcoef_init\u001B[49m\u001B[43m,\u001B[49m\n\u001B[1;32m    925\u001B[0m \u001B[43m    \u001B[49m\u001B[43mintercept_init\u001B[49m\u001B[38;5;241;43m=\u001B[39;49m\u001B[43mintercept_init\u001B[49m\u001B[43m,\u001B[49m\n\u001B[1;32m    926\u001B[0m \u001B[43m    \u001B[49m\u001B[43msample_weight\u001B[49m\u001B[38;5;241;43m=\u001B[39;49m\u001B[43msample_weight\u001B[49m\u001B[43m,\u001B[49m\n\u001B[1;32m    927\u001B[0m \u001B[43m\u001B[49m\u001B[43m)\u001B[49m\n",
      "File \u001B[0;32m~/DataspellProjects/rating/venv/lib/python3.9/site-packages/sklearn/linear_model/_stochastic_gradient.py:683\u001B[0m, in \u001B[0;36mBaseSGDClassifier._fit\u001B[0;34m(self, X, y, alpha, C, loss, learning_rate, coef_init, intercept_init, sample_weight)\u001B[0m\n\u001B[1;32m    679\u001B[0m     \u001B[38;5;28mdelattr\u001B[39m(\u001B[38;5;28mself\u001B[39m, \u001B[38;5;124m\"\u001B[39m\u001B[38;5;124mclasses_\u001B[39m\u001B[38;5;124m\"\u001B[39m)\n\u001B[1;32m    681\u001B[0m \u001B[38;5;66;03m# labels can be encoded as float, int, or string literals\u001B[39;00m\n\u001B[1;32m    682\u001B[0m \u001B[38;5;66;03m# np.unique sorts in asc order; largest class id is positive class\u001B[39;00m\n\u001B[0;32m--> 683\u001B[0m y \u001B[38;5;241m=\u001B[39m \u001B[38;5;28;43mself\u001B[39;49m\u001B[38;5;241;43m.\u001B[39;49m\u001B[43m_validate_data\u001B[49m\u001B[43m(\u001B[49m\u001B[43my\u001B[49m\u001B[38;5;241;43m=\u001B[39;49m\u001B[43my\u001B[49m\u001B[43m)\u001B[49m\n\u001B[1;32m    684\u001B[0m classes \u001B[38;5;241m=\u001B[39m np\u001B[38;5;241m.\u001B[39munique(y)\n\u001B[1;32m    686\u001B[0m \u001B[38;5;28;01mif\u001B[39;00m \u001B[38;5;28mself\u001B[39m\u001B[38;5;241m.\u001B[39mwarm_start \u001B[38;5;129;01mand\u001B[39;00m \u001B[38;5;28mhasattr\u001B[39m(\u001B[38;5;28mself\u001B[39m, \u001B[38;5;124m\"\u001B[39m\u001B[38;5;124mcoef_\u001B[39m\u001B[38;5;124m\"\u001B[39m):\n",
      "File \u001B[0;32m~/DataspellProjects/rating/venv/lib/python3.9/site-packages/sklearn/base.py:586\u001B[0m, in \u001B[0;36mBaseEstimator._validate_data\u001B[0;34m(self, X, y, reset, validate_separately, cast_to_ndarray, **check_params)\u001B[0m\n\u001B[1;32m    584\u001B[0m     out \u001B[38;5;241m=\u001B[39m check_array(X, input_name\u001B[38;5;241m=\u001B[39m\u001B[38;5;124m\"\u001B[39m\u001B[38;5;124mX\u001B[39m\u001B[38;5;124m\"\u001B[39m, \u001B[38;5;241m*\u001B[39m\u001B[38;5;241m*\u001B[39mcheck_params)\n\u001B[1;32m    585\u001B[0m \u001B[38;5;28;01melif\u001B[39;00m no_val_X \u001B[38;5;129;01mand\u001B[39;00m \u001B[38;5;129;01mnot\u001B[39;00m no_val_y:\n\u001B[0;32m--> 586\u001B[0m     out \u001B[38;5;241m=\u001B[39m \u001B[43m_check_y\u001B[49m\u001B[43m(\u001B[49m\u001B[43my\u001B[49m\u001B[43m,\u001B[49m\u001B[43m \u001B[49m\u001B[38;5;241;43m*\u001B[39;49m\u001B[38;5;241;43m*\u001B[39;49m\u001B[43mcheck_params\u001B[49m\u001B[43m)\u001B[49m\n\u001B[1;32m    587\u001B[0m \u001B[38;5;28;01melse\u001B[39;00m:\n\u001B[1;32m    588\u001B[0m     \u001B[38;5;28;01mif\u001B[39;00m validate_separately:\n\u001B[1;32m    589\u001B[0m         \u001B[38;5;66;03m# We need this because some estimators validate X and y\u001B[39;00m\n\u001B[1;32m    590\u001B[0m         \u001B[38;5;66;03m# separately, and in general, separately calling check_array()\u001B[39;00m\n\u001B[1;32m    591\u001B[0m         \u001B[38;5;66;03m# on X and y isn't equivalent to just calling check_X_y()\u001B[39;00m\n\u001B[1;32m    592\u001B[0m         \u001B[38;5;66;03m# :(\u001B[39;00m\n",
      "File \u001B[0;32m~/DataspellProjects/rating/venv/lib/python3.9/site-packages/sklearn/utils/validation.py:1210\u001B[0m, in \u001B[0;36m_check_y\u001B[0;34m(y, multi_output, y_numeric, estimator)\u001B[0m\n\u001B[1;32m   1208\u001B[0m \u001B[38;5;28;01melse\u001B[39;00m:\n\u001B[1;32m   1209\u001B[0m     estimator_name \u001B[38;5;241m=\u001B[39m _check_estimator_name(estimator)\n\u001B[0;32m-> 1210\u001B[0m     y \u001B[38;5;241m=\u001B[39m \u001B[43mcolumn_or_1d\u001B[49m\u001B[43m(\u001B[49m\u001B[43my\u001B[49m\u001B[43m,\u001B[49m\u001B[43m \u001B[49m\u001B[43mwarn\u001B[49m\u001B[38;5;241;43m=\u001B[39;49m\u001B[38;5;28;43;01mTrue\u001B[39;49;00m\u001B[43m)\u001B[49m\n\u001B[1;32m   1211\u001B[0m     _assert_all_finite(y, input_name\u001B[38;5;241m=\u001B[39m\u001B[38;5;124m\"\u001B[39m\u001B[38;5;124my\u001B[39m\u001B[38;5;124m\"\u001B[39m, estimator_name\u001B[38;5;241m=\u001B[39mestimator_name)\n\u001B[1;32m   1212\u001B[0m     _ensure_no_complex_data(y)\n",
      "File \u001B[0;32m~/DataspellProjects/rating/venv/lib/python3.9/site-packages/sklearn/utils/validation.py:1271\u001B[0m, in \u001B[0;36mcolumn_or_1d\u001B[0;34m(y, dtype, warn)\u001B[0m\n\u001B[1;32m   1260\u001B[0m         warnings\u001B[38;5;241m.\u001B[39mwarn(\n\u001B[1;32m   1261\u001B[0m             (\n\u001B[1;32m   1262\u001B[0m                 \u001B[38;5;124m\"\u001B[39m\u001B[38;5;124mA column-vector y was passed when a 1d array was\u001B[39m\u001B[38;5;124m\"\u001B[39m\n\u001B[0;32m   (...)\u001B[0m\n\u001B[1;32m   1267\u001B[0m             stacklevel\u001B[38;5;241m=\u001B[39m\u001B[38;5;241m2\u001B[39m,\n\u001B[1;32m   1268\u001B[0m         )\n\u001B[1;32m   1269\u001B[0m     \u001B[38;5;28;01mreturn\u001B[39;00m _asarray_with_order(xp\u001B[38;5;241m.\u001B[39mreshape(y, (\u001B[38;5;241m-\u001B[39m\u001B[38;5;241m1\u001B[39m,)), order\u001B[38;5;241m=\u001B[39m\u001B[38;5;124m\"\u001B[39m\u001B[38;5;124mC\u001B[39m\u001B[38;5;124m\"\u001B[39m, xp\u001B[38;5;241m=\u001B[39mxp)\n\u001B[0;32m-> 1271\u001B[0m \u001B[38;5;28;01mraise\u001B[39;00m \u001B[38;5;167;01mValueError\u001B[39;00m(\n\u001B[1;32m   1272\u001B[0m     \u001B[38;5;124m\"\u001B[39m\u001B[38;5;124my should be a 1d array, got an array of shape \u001B[39m\u001B[38;5;132;01m{}\u001B[39;00m\u001B[38;5;124m instead.\u001B[39m\u001B[38;5;124m\"\u001B[39m\u001B[38;5;241m.\u001B[39mformat(shape)\n\u001B[1;32m   1273\u001B[0m )\n",
      "\u001B[0;31mValueError\u001B[0m: y should be a 1d array, got an array of shape (10907, 5) instead."
     ]
    }
   ],
   "source": [
    "sgd=SGDClassifier()\n",
    "sgd.fit(X_train,y_train)\n",
    "sgd.score(X_test,y_test)\n"
   ],
   "metadata": {
    "collapsed": false,
    "ExecuteTime": {
     "end_time": "2024-01-14T06:09:29.857646Z",
     "start_time": "2024-01-14T06:09:29.811966Z"
    }
   },
   "id": "c4aaf6f5a58ec2f3",
   "execution_count": 197
  },
  {
   "cell_type": "code",
   "outputs": [],
   "source": [
    "from sklearn.gaussian_process import *"
   ],
   "metadata": {
    "collapsed": false,
    "ExecuteTime": {
     "end_time": "2024-01-13T14:40:27.810422Z",
     "start_time": "2024-01-13T14:40:27.791401Z"
    }
   },
   "id": "f51c03e7088a9bdd",
   "execution_count": 168
  },
  {
   "cell_type": "code",
   "outputs": [
    {
     "data": {
      "text/plain": "0.7642097543087643"
     },
     "execution_count": 169,
     "metadata": {},
     "output_type": "execute_result"
    }
   ],
   "source": [
    "gpc=GaussianProcessClassifier()\n",
    "gpc.fit(X_train,y_train)\n",
    "gpc.score(X_test,y_test)"
   ],
   "metadata": {
    "collapsed": false,
    "ExecuteTime": {
     "end_time": "2024-01-13T14:45:54.909705Z",
     "start_time": "2024-01-13T14:40:28.402831Z"
    }
   },
   "id": "1c9be7ecd46c451b",
   "execution_count": 169
  },
  {
   "cell_type": "code",
   "outputs": [],
   "source": [
    "from sklearn.discriminant_analysis import *\n",
    "label_binarize?"
   ],
   "metadata": {
    "collapsed": false,
    "ExecuteTime": {
     "end_time": "2024-01-13T14:46:35.989473Z",
     "start_time": "2024-01-13T14:46:35.969722Z"
    }
   },
   "id": "2c96e8676013d746",
   "execution_count": 170
  },
  {
   "cell_type": "code",
   "outputs": [],
   "source": [
    "from sklearn.preprocessing import *"
   ],
   "metadata": {
    "collapsed": false,
    "ExecuteTime": {
     "end_time": "2024-01-13T14:47:01.933637Z",
     "start_time": "2024-01-13T14:47:01.910212Z"
    }
   },
   "id": "f978ff8b157d555a",
   "execution_count": 171
  },
  {
   "cell_type": "code",
   "outputs": [],
   "source": [
    "y_train = label_binarize(y_train,classes=[1,2,3,4,5])\n",
    "y_test = label_binarize(y_test,classes=[1,2,3,4,5])"
   ],
   "metadata": {
    "collapsed": false,
    "ExecuteTime": {
     "end_time": "2024-01-13T14:47:11.060822Z",
     "start_time": "2024-01-13T14:47:11.033867Z"
    }
   },
   "id": "286de754ed3eff4b",
   "execution_count": 172
  },
  {
   "cell_type": "code",
   "outputs": [
    {
     "data": {
      "text/plain": "0.7473414008067474"
     },
     "execution_count": 177,
     "metadata": {},
     "output_type": "execute_result"
    }
   ],
   "source": [
    "rfmo=MultiOutputClassifier(RandomForestClassifier()).fit(X_train,y_train)\n",
    "rfmo.score(X_test,y_test)"
   ],
   "metadata": {
    "collapsed": false,
    "ExecuteTime": {
     "end_time": "2024-01-13T14:53:04.742284Z",
     "start_time": "2024-01-13T14:53:00.237210Z"
    }
   },
   "id": "2ce07a5f2b060dc5",
   "execution_count": 177
  },
  {
   "cell_type": "code",
   "outputs": [
    {
     "data": {
      "text/plain": "0.7634763476347635"
     },
     "execution_count": 178,
     "metadata": {},
     "output_type": "execute_result"
    }
   ],
   "source": [
    "mlpmo=MultiOutputClassifier(MLPClassifier()).fit(X_train,y_train)\n",
    "mlpmo.score(X_test,y_test)"
   ],
   "metadata": {
    "collapsed": false,
    "ExecuteTime": {
     "end_time": "2024-01-13T14:53:23.626691Z",
     "start_time": "2024-01-13T14:53:16.711655Z"
    }
   },
   "id": "2c88927b7aa6b6ff",
   "execution_count": 178
  },
  {
   "cell_type": "code",
   "outputs": [
    {
     "data": {
      "text/plain": "0.7678767876787679"
     },
     "execution_count": 179,
     "metadata": {},
     "output_type": "execute_result"
    }
   ],
   "source": [
    "rfcc=ClassifierChain(RandomForestClassifier()).fit(X_train,y_train)\n",
    "rfcc.score(X_test,y_test)\n"
   ],
   "metadata": {
    "collapsed": false,
    "ExecuteTime": {
     "end_time": "2024-01-13T14:53:49.695254Z",
     "start_time": "2024-01-13T14:53:45.732448Z"
    }
   },
   "id": "bc86f3ca6e778800",
   "execution_count": 179
  },
  {
   "cell_type": "code",
   "outputs": [
    {
     "data": {
      "text/plain": "0.7634763476347635"
     },
     "execution_count": 180,
     "metadata": {},
     "output_type": "execute_result"
    }
   ],
   "source": [
    "mlpcc=ClassifierChain(MLPClassifier()).fit(X_train,y_train)\n",
    "mlpcc.score(X_test,y_test)"
   ],
   "metadata": {
    "collapsed": false,
    "ExecuteTime": {
     "end_time": "2024-01-13T14:54:17.239925Z",
     "start_time": "2024-01-13T14:53:59.891481Z"
    }
   },
   "id": "f8081469daa906e7",
   "execution_count": 180
  },
  {
   "cell_type": "code",
   "outputs": [
    {
     "data": {
      "text/plain": "0.7576090942427576"
     },
     "execution_count": 181,
     "metadata": {},
     "output_type": "execute_result"
    }
   ],
   "source": [
    "gbmo=MultiOutputClassifier(GradientBoostingClassifier()).fit(X_train,y_train)\n",
    "gbmo.score(X_test,y_test)\n"
   ],
   "metadata": {
    "collapsed": false,
    "ExecuteTime": {
     "end_time": "2024-01-13T14:58:06.035934Z",
     "start_time": "2024-01-13T14:58:01.100295Z"
    }
   },
   "id": "315214696100b9b0",
   "execution_count": 181
  },
  {
   "cell_type": "code",
   "outputs": [
    {
     "name": "stderr",
     "output_type": "stream",
     "text": [
      "/Users/amoghanshu/DataspellProjects/rating/venv/lib/python3.9/site-packages/sklearn/ensemble/_weight_boosting.py:519: FutureWarning: The SAMME.R algorithm (the default) is deprecated and will be removed in 1.6. Use the SAMME algorithm to circumvent this warning.\n",
      "  warnings.warn(\n",
      "/Users/amoghanshu/DataspellProjects/rating/venv/lib/python3.9/site-packages/sklearn/ensemble/_weight_boosting.py:519: FutureWarning: The SAMME.R algorithm (the default) is deprecated and will be removed in 1.6. Use the SAMME algorithm to circumvent this warning.\n",
      "  warnings.warn(\n",
      "/Users/amoghanshu/DataspellProjects/rating/venv/lib/python3.9/site-packages/sklearn/ensemble/_weight_boosting.py:519: FutureWarning: The SAMME.R algorithm (the default) is deprecated and will be removed in 1.6. Use the SAMME algorithm to circumvent this warning.\n",
      "  warnings.warn(\n",
      "/Users/amoghanshu/DataspellProjects/rating/venv/lib/python3.9/site-packages/sklearn/ensemble/_weight_boosting.py:519: FutureWarning: The SAMME.R algorithm (the default) is deprecated and will be removed in 1.6. Use the SAMME algorithm to circumvent this warning.\n",
      "  warnings.warn(\n",
      "/Users/amoghanshu/DataspellProjects/rating/venv/lib/python3.9/site-packages/sklearn/ensemble/_weight_boosting.py:519: FutureWarning: The SAMME.R algorithm (the default) is deprecated and will be removed in 1.6. Use the SAMME algorithm to circumvent this warning.\n",
      "  warnings.warn(\n"
     ]
    },
    {
     "data": {
      "text/plain": "0.7521085441877521"
     },
     "execution_count": 182,
     "metadata": {},
     "output_type": "execute_result"
    }
   ],
   "source": [
    "abmo=MultiOutputClassifier(AdaBoostClassifier()).fit(X_train,y_train)\n",
    "abmo.score(X_test,y_test)"
   ],
   "metadata": {
    "collapsed": false,
    "ExecuteTime": {
     "end_time": "2024-01-13T14:58:13.026434Z",
     "start_time": "2024-01-13T14:58:11.797129Z"
    }
   },
   "id": "82b75fbfeea992ea",
   "execution_count": 182
  },
  {
   "cell_type": "code",
   "outputs": [
    {
     "data": {
      "text/plain": "0.5610561056105611"
     },
     "execution_count": 183,
     "metadata": {},
     "output_type": "execute_result"
    }
   ],
   "source": [
    "dtmo=MultiOutputClassifier(DecisionTreeClassifier()).fit(X_train,y_train)\n",
    "dtmo.score(X_test,y_test)\n"
   ],
   "metadata": {
    "collapsed": false,
    "ExecuteTime": {
     "end_time": "2024-01-13T14:58:19.879679Z",
     "start_time": "2024-01-13T14:58:19.675676Z"
    }
   },
   "id": "f46db9db5b8a6fdb",
   "execution_count": 183
  },
  {
   "cell_type": "code",
   "outputs": [
    {
     "data": {
      "text/plain": "0.7007700770077008"
     },
     "execution_count": 184,
     "metadata": {},
     "output_type": "execute_result"
    }
   ],
   "source": [
    "bcmo=MultiOutputClassifier(BaggingClassifier()).fit(X_train,y_train)\n",
    "bcmo.score(X_test,y_test)"
   ],
   "metadata": {
    "collapsed": false,
    "ExecuteTime": {
     "end_time": "2024-01-13T14:58:25.597719Z",
     "start_time": "2024-01-13T14:58:24.327611Z"
    }
   },
   "id": "4aa0998ca0b8914",
   "execution_count": 184
  },
  {
   "cell_type": "code",
   "outputs": [
    {
     "data": {
      "text/plain": "0.744041070773744"
     },
     "execution_count": 185,
     "metadata": {},
     "output_type": "execute_result"
    }
   ],
   "source": [
    "xgbmo=MultiOutputClassifier(xgb.XGBClassifier()).fit(X_train,y_train)\n",
    "xgbmo.score(X_test,y_test)"
   ],
   "metadata": {
    "collapsed": false,
    "ExecuteTime": {
     "end_time": "2024-01-13T14:58:30.624326Z",
     "start_time": "2024-01-13T14:58:29.895835Z"
    }
   },
   "id": "65084b75c7a348a6",
   "execution_count": 185
  },
  {
   "cell_type": "code",
   "outputs": [
    {
     "data": {
      "text/plain": "0.7653098643197653"
     },
     "execution_count": 186,
     "metadata": {},
     "output_type": "execute_result"
    }
   ],
   "source": [
    "gbcc=ClassifierChain(GradientBoostingClassifier()).fit(X_train,y_train)\n",
    "gbcc.score(X_test,y_test)"
   ],
   "metadata": {
    "collapsed": false,
    "ExecuteTime": {
     "end_time": "2024-01-13T14:58:59.300499Z",
     "start_time": "2024-01-13T14:58:54.326561Z"
    }
   },
   "id": "3316ab6a4f1c2068",
   "execution_count": 186
  },
  {
   "cell_type": "code",
   "outputs": [
    {
     "name": "stderr",
     "output_type": "stream",
     "text": [
      "/Users/amoghanshu/DataspellProjects/rating/venv/lib/python3.9/site-packages/sklearn/ensemble/_weight_boosting.py:519: FutureWarning: The SAMME.R algorithm (the default) is deprecated and will be removed in 1.6. Use the SAMME algorithm to circumvent this warning.\n",
      "  warnings.warn(\n",
      "/Users/amoghanshu/DataspellProjects/rating/venv/lib/python3.9/site-packages/sklearn/ensemble/_weight_boosting.py:519: FutureWarning: The SAMME.R algorithm (the default) is deprecated and will be removed in 1.6. Use the SAMME algorithm to circumvent this warning.\n",
      "  warnings.warn(\n",
      "/Users/amoghanshu/DataspellProjects/rating/venv/lib/python3.9/site-packages/sklearn/ensemble/_weight_boosting.py:519: FutureWarning: The SAMME.R algorithm (the default) is deprecated and will be removed in 1.6. Use the SAMME algorithm to circumvent this warning.\n",
      "  warnings.warn(\n",
      "/Users/amoghanshu/DataspellProjects/rating/venv/lib/python3.9/site-packages/sklearn/ensemble/_weight_boosting.py:519: FutureWarning: The SAMME.R algorithm (the default) is deprecated and will be removed in 1.6. Use the SAMME algorithm to circumvent this warning.\n",
      "  warnings.warn(\n",
      "/Users/amoghanshu/DataspellProjects/rating/venv/lib/python3.9/site-packages/sklearn/ensemble/_weight_boosting.py:519: FutureWarning: The SAMME.R algorithm (the default) is deprecated and will be removed in 1.6. Use the SAMME algorithm to circumvent this warning.\n",
      "  warnings.warn(\n"
     ]
    },
    {
     "data": {
      "text/plain": "0.7653098643197653"
     },
     "execution_count": 187,
     "metadata": {},
     "output_type": "execute_result"
    }
   ],
   "source": [
    "abcc=ClassifierChain(AdaBoostClassifier()).fit(X_train,y_train)\n",
    "abcc.score(X_test,y_test)"
   ],
   "metadata": {
    "collapsed": false,
    "ExecuteTime": {
     "end_time": "2024-01-13T14:59:03.195048Z",
     "start_time": "2024-01-13T14:59:01.989312Z"
    }
   },
   "id": "375f92d3a6da006d",
   "execution_count": 187
  },
  {
   "cell_type": "code",
   "outputs": [
    {
     "data": {
      "text/plain": "0.6307297396406307"
     },
     "execution_count": 188,
     "metadata": {},
     "output_type": "execute_result"
    }
   ],
   "source": [
    "dtcc=ClassifierChain(DecisionTreeClassifier()).fit(X_train,y_train)\n",
    "dtcc.score(X_test,y_test)"
   ],
   "metadata": {
    "collapsed": false,
    "ExecuteTime": {
     "end_time": "2024-01-13T14:59:06.558446Z",
     "start_time": "2024-01-13T14:59:06.359021Z"
    }
   },
   "id": "bac60913c85532ec",
   "execution_count": 188
  },
  {
   "cell_type": "code",
   "outputs": [
    {
     "data": {
      "text/plain": "0.7517418408507518"
     },
     "execution_count": 189,
     "metadata": {},
     "output_type": "execute_result"
    }
   ],
   "source": [
    "bcc=ClassifierChain(BaggingClassifier()).fit(X_train,y_train)\n",
    "bcc.score(X_test,y_test)"
   ],
   "metadata": {
    "collapsed": false,
    "ExecuteTime": {
     "end_time": "2024-01-13T14:59:11.648764Z",
     "start_time": "2024-01-13T14:59:10.382308Z"
    }
   },
   "id": "a7a8ae237fdcc131",
   "execution_count": 189
  },
  {
   "cell_type": "code",
   "outputs": [
    {
     "data": {
      "text/plain": "0.766043270993766"
     },
     "execution_count": 190,
     "metadata": {},
     "output_type": "execute_result"
    }
   ],
   "source": [
    "xgbcc=ClassifierChain(xgb.XGBClassifier()).fit(X_train,y_train)\n",
    "xgbcc.score(X_test,y_test)"
   ],
   "metadata": {
    "collapsed": false,
    "ExecuteTime": {
     "end_time": "2024-01-13T14:59:15.024934Z",
     "start_time": "2024-01-13T14:59:14.517227Z"
    }
   },
   "id": "625ef1bad1b02ae6",
   "execution_count": 190
  },
  {
   "cell_type": "code",
   "outputs": [
    {
     "data": {
      "text/plain": "0.7634763476347635"
     },
     "execution_count": 191,
     "metadata": {},
     "output_type": "execute_result"
    }
   ],
   "source": [
    "lrmo=MultiOutputClassifier(LogisticRegression()).fit(X_train,y_train)\n",
    "lrmo.score(X_test,y_test)"
   ],
   "metadata": {
    "collapsed": false,
    "ExecuteTime": {
     "end_time": "2024-01-13T14:59:34.764005Z",
     "start_time": "2024-01-13T14:59:34.416060Z"
    }
   },
   "id": "16af80d15763899e",
   "execution_count": 191
  },
  {
   "cell_type": "code",
   "outputs": [
    {
     "data": {
      "text/plain": "0.7634763476347635"
     },
     "execution_count": 192,
     "metadata": {},
     "output_type": "execute_result"
    }
   ],
   "source": [
    "lrcc=ClassifierChain(LogisticRegression()).fit(X_train,y_train)\n",
    "lrcc.score(X_test,y_test)"
   ],
   "metadata": {
    "collapsed": false,
    "ExecuteTime": {
     "end_time": "2024-01-13T14:59:41.963134Z",
     "start_time": "2024-01-13T14:59:41.223487Z"
    }
   },
   "id": "4b0c8eefd9398ddc",
   "execution_count": 192
  },
  {
   "cell_type": "code",
   "outputs": [
    {
     "data": {
      "text/plain": "                ID  RecipeNumber     RecipeCode  UserReputation  \\\ncount  4546.000000   4546.000000    4546.000000     4546.000000   \nmean    122.605147     38.884294   21736.701936        2.157501   \nstd     116.006955     30.129333   24211.777711        9.797366   \nmin       0.000000      1.000000     386.000000        0.000000   \n25%      46.000000     11.000000    6086.000000        1.000000   \n50%      92.000000     32.000000   14600.000000        1.000000   \n75%     154.000000     64.000000   33121.000000        1.000000   \nmax     715.000000    100.000000  191775.000000      520.000000   \n\n       CreationTimestamp   ReplyCount  ThumbsUpCount  ThumbsDownCount  \\\ncount       4.546000e+03  4546.000000    4546.000000      4546.000000   \nmean        1.623702e+09     0.014958       1.062253         0.566212   \nstd         5.542652e+06     0.139922       4.303231         4.021903   \nmin         1.613035e+09     0.000000       0.000000         0.000000   \n25%         1.622717e+09     0.000000       0.000000         0.000000   \n50%         1.622718e+09     0.000000       0.000000         0.000000   \n75%         1.622718e+09     0.000000       0.000000         0.000000   \nmax         1.665669e+09     3.000000     106.000000       122.000000   \n\n         BestScore  \ncount  4546.000000  \nmean    153.264848  \nstd     141.355650  \nmin      12.000000  \n25%     100.000000  \n50%     100.000000  \n75%     100.000000  \nmax     931.000000  ",
      "text/html": "<div>\n<style scoped>\n    .dataframe tbody tr th:only-of-type {\n        vertical-align: middle;\n    }\n\n    .dataframe tbody tr th {\n        vertical-align: top;\n    }\n\n    .dataframe thead th {\n        text-align: right;\n    }\n</style>\n<table border=\"1\" class=\"dataframe\">\n  <thead>\n    <tr style=\"text-align: right;\">\n      <th></th>\n      <th>ID</th>\n      <th>RecipeNumber</th>\n      <th>RecipeCode</th>\n      <th>UserReputation</th>\n      <th>CreationTimestamp</th>\n      <th>ReplyCount</th>\n      <th>ThumbsUpCount</th>\n      <th>ThumbsDownCount</th>\n      <th>BestScore</th>\n    </tr>\n  </thead>\n  <tbody>\n    <tr>\n      <th>count</th>\n      <td>4546.000000</td>\n      <td>4546.000000</td>\n      <td>4546.000000</td>\n      <td>4546.000000</td>\n      <td>4.546000e+03</td>\n      <td>4546.000000</td>\n      <td>4546.000000</td>\n      <td>4546.000000</td>\n      <td>4546.000000</td>\n    </tr>\n    <tr>\n      <th>mean</th>\n      <td>122.605147</td>\n      <td>38.884294</td>\n      <td>21736.701936</td>\n      <td>2.157501</td>\n      <td>1.623702e+09</td>\n      <td>0.014958</td>\n      <td>1.062253</td>\n      <td>0.566212</td>\n      <td>153.264848</td>\n    </tr>\n    <tr>\n      <th>std</th>\n      <td>116.006955</td>\n      <td>30.129333</td>\n      <td>24211.777711</td>\n      <td>9.797366</td>\n      <td>5.542652e+06</td>\n      <td>0.139922</td>\n      <td>4.303231</td>\n      <td>4.021903</td>\n      <td>141.355650</td>\n    </tr>\n    <tr>\n      <th>min</th>\n      <td>0.000000</td>\n      <td>1.000000</td>\n      <td>386.000000</td>\n      <td>0.000000</td>\n      <td>1.613035e+09</td>\n      <td>0.000000</td>\n      <td>0.000000</td>\n      <td>0.000000</td>\n      <td>12.000000</td>\n    </tr>\n    <tr>\n      <th>25%</th>\n      <td>46.000000</td>\n      <td>11.000000</td>\n      <td>6086.000000</td>\n      <td>1.000000</td>\n      <td>1.622717e+09</td>\n      <td>0.000000</td>\n      <td>0.000000</td>\n      <td>0.000000</td>\n      <td>100.000000</td>\n    </tr>\n    <tr>\n      <th>50%</th>\n      <td>92.000000</td>\n      <td>32.000000</td>\n      <td>14600.000000</td>\n      <td>1.000000</td>\n      <td>1.622718e+09</td>\n      <td>0.000000</td>\n      <td>0.000000</td>\n      <td>0.000000</td>\n      <td>100.000000</td>\n    </tr>\n    <tr>\n      <th>75%</th>\n      <td>154.000000</td>\n      <td>64.000000</td>\n      <td>33121.000000</td>\n      <td>1.000000</td>\n      <td>1.622718e+09</td>\n      <td>0.000000</td>\n      <td>0.000000</td>\n      <td>0.000000</td>\n      <td>100.000000</td>\n    </tr>\n    <tr>\n      <th>max</th>\n      <td>715.000000</td>\n      <td>100.000000</td>\n      <td>191775.000000</td>\n      <td>520.000000</td>\n      <td>1.665669e+09</td>\n      <td>3.000000</td>\n      <td>106.000000</td>\n      <td>122.000000</td>\n      <td>931.000000</td>\n    </tr>\n  </tbody>\n</table>\n</div>"
     },
     "execution_count": 193,
     "metadata": {},
     "output_type": "execute_result"
    }
   ],
   "source": [
    "test.describe()"
   ],
   "metadata": {
    "collapsed": false,
    "ExecuteTime": {
     "end_time": "2024-01-13T15:00:44.961699Z",
     "start_time": "2024-01-13T15:00:44.939981Z"
    }
   },
   "id": "f0d7b2309d81d3e3",
   "execution_count": 193
  },
  {
   "cell_type": "code",
   "outputs": [
    {
     "data": {
      "text/plain": "ID                   0\nRecipeNumber         0\nRecipeCode           0\nRecipeName           0\nCommentID            0\nUserID               0\nUserName             0\nUserReputation       0\nCreationTimestamp    0\nReplyCount           0\nThumbsUpCount        0\nThumbsDownCount      0\nBestScore            0\nRecipe_Review        0\ndtype: int64"
     },
     "execution_count": 194,
     "metadata": {},
     "output_type": "execute_result"
    }
   ],
   "source": [
    "test.isnull().sum()"
   ],
   "metadata": {
    "collapsed": false,
    "ExecuteTime": {
     "end_time": "2024-01-13T15:01:09.588824Z",
     "start_time": "2024-01-13T15:01:09.561440Z"
    }
   },
   "id": "65a361727dc090f1",
   "execution_count": 194
  },
  {
   "cell_type": "code",
   "outputs": [
    {
     "data": {
      "text/plain": "array([[0, 0, 0, 0, 0],\n       [0, 0, 0, 0, 1],\n       [0, 0, 0, 0, 1],\n       ...,\n       [0, 0, 0, 0, 0],\n       [0, 0, 0, 0, 1],\n       [0, 0, 0, 0, 1]])"
     },
     "execution_count": 208,
     "metadata": {},
     "output_type": "execute_result"
    }
   ],
   "source": [
    "y_train"
   ],
   "metadata": {
    "collapsed": false,
    "ExecuteTime": {
     "end_time": "2024-01-14T06:13:18.887427Z",
     "start_time": "2024-01-14T06:13:18.864353Z"
    }
   },
   "id": "9b4f687d3bba6ad",
   "execution_count": 208
  },
  {
   "cell_type": "code",
   "outputs": [
    {
     "data": {
      "text/plain": "0.7495416208287495"
     },
     "execution_count": 210,
     "metadata": {},
     "output_type": "execute_result"
    }
   ],
   "source": [
    "rfcv = GridSearchCV(RandomForestClassifier(),param_grid={'n_estimators':[10,100,1000],'criterion':['gini','entropy','log_loss'],'max_features':['sqrt','log2',None] },cv=5)\n",
    "rfcv.fit(X_train,y_train)\n",
    "rfcv.score(X_test,y_test)"
   ],
   "metadata": {
    "collapsed": false,
    "ExecuteTime": {
     "end_time": "2024-01-14T07:22:47.081746Z",
     "start_time": "2024-01-14T07:01:29.935666Z"
    }
   },
   "id": "1aaf10d52bd01be",
   "execution_count": 210
  },
  {
   "cell_type": "code",
   "outputs": [],
   "source": [],
   "metadata": {
    "collapsed": false
   },
   "id": "f17f440db8b937d9"
  }
 ],
 "metadata": {
  "kernelspec": {
   "display_name": "Python 3",
   "language": "python",
   "name": "python3"
  },
  "language_info": {
   "codemirror_mode": {
    "name": "ipython",
    "version": 2
   },
   "file_extension": ".py",
   "mimetype": "text/x-python",
   "name": "python",
   "nbconvert_exporter": "python",
   "pygments_lexer": "ipython2",
   "version": "2.7.6"
  }
 },
 "nbformat": 4,
 "nbformat_minor": 5
}
